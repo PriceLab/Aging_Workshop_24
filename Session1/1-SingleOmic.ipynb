{
 "cells": [
  {
   "cell_type": "markdown",
   "id": "7e25be93-3783-4417-89db-9988e48caba0",
   "metadata": {},
   "source": [
    "# Notebook 1.1 for System Biology of Aging \n",
    "This notebook is part of the first session of the 2024 Systems Biology of Aging Workshop. But don't worry about setup, all of the files and R packages should be installed in the the Sagemaker environment.\n",
    "\n",
    "This Notebook will use the \"R\" kernel. Double check that this is correct by looking in the top right corner.\n",
    "\n",
    "> Outline\n",
    "> * Data exploration and cleaning\n",
    "> ** Dispersion of frailty measures\n",
    "> ** Create baseline proteins, metabolites and clinical\n",
    "> ** Dimensionality reduction\n",
    "> ** Scale and impute for PCA\n",
    "> * Single-Omic WGNCA\n",
    "> ** Correlate with frailty\n",
    "> ** Enrichment of select modules\n",
    "> * Single-Omics DE\n",
    "> ** DE of Proteins and Metabolites quintiles\n",
    "> ** Volcano plots\n",
    "> ** Enrichment"
   ]
  },
  {
   "cell_type": "markdown",
   "id": "b3fe0630-2a39-4551-b590-bc76192f5285",
   "metadata": {
    "tags": [],
    "toc-hr-collapsed": true
   },
   "source": [
    "## Setup\n",
    "The next couple blocks of code will load the R packages into our environment and set some options for nicer visualizaions."
   ]
  },
  {
   "cell_type": "code",
   "execution_count": null,
   "id": "b75ea494-6ec2-429b-968f-3d20934a44c1",
   "metadata": {
    "vscode": {
     "languageId": "r"
    }
   },
   "outputs": [],
   "source": [
    "# Load packages, one per line for clarity\n",
    "suppressMessages(library(\"tidyverse\", quietly = TRUE, warn.conflicts=FALSE))\n",
    "suppressMessages(library(\"ggplot2\", quietly = TRUE, warn.conflicts=FALSE))\n",
    "suppressMessages(library(\"WGCNA\", quietly = TRUE, warn.conflicts=FALSE))\n",
    "suppressMessages(library(\"org.Hs.eg.db\", quietly = TRUE, warn.conflicts=FALSE))\n",
    "suppressMessages(library(\"clusterProfiler\", quietly = TRUE, warn.conflicts=FALSE))\n",
    "suppressMessages(library(\"limma\", quietly = TRUE, warn.conflicts=FALSE))\n",
    "suppressMessages(library(\"DT\", quietly = TRUE, warn.conflicts=FALSE))\n",
    "suppressMessages(library(\"ggpubr\", quietly = TRUE, warn.conflicts=FALSE))\n",
    "# Other options\n",
    "source(\"Scripts/Workshop_scripts.R\") # Functions for plotting\n",
    "options(stringsAsFactors=FALSE)#Required for WGCNA\n",
    "#enableWGCNAThreads(nThreads=2) # \n",
    "options(repr.plot.width=7, repr.plot.height=10)#Default=7x7\n",
    "options(repr.matrix.max.rows=75, repr.matrix.max.cols=20)\n",
    "options(warn=-1)"
   ]
  },
  {
   "cell_type": "markdown",
   "id": "19e3972f-0bd5-47fc-ad0f-3a735f102b28",
   "metadata": {},
   "source": [
    "# Let's Get Started! -Frailty measures\n",
    "\n",
    "Now that our environment is ready, let's start digging into our data. In your Sagemaker environment, you should see a folders with tsv files for each of the omics and outcomes. We'll go over all of these during the anlaysis, but let's start by looking at our outcome- the frailty indices."
   ]
  },
  {
   "cell_type": "code",
   "execution_count": null,
   "id": "069c35f9-540d-41ee-a2f0-aa1ce7a850e1",
   "metadata": {
    "vscode": {
     "languageId": "r"
    }
   },
   "outputs": [],
   "source": [
    "fr_measures = read_delim(\"../data/frailty/combination_fi_040124.csv\")\n",
    "dim(fr_measures)\n",
    "head(fr_measures)\n",
    "colnames(fr_measures)"
   ]
  },
  {
   "cell_type": "code",
   "execution_count": null,
   "id": "494de0e1-0eeb-49b8-b0fe-1139f0f98555",
   "metadata": {
    "vscode": {
     "languageId": "r"
    }
   },
   "outputs": [],
   "source": [
    "fr_measures_key = read_delim(\"../Useful_Files/FI_Features.txt\", show_col_types = FALSE, delim=\"\\t\")\n",
    "fr_measures_key"
   ]
  },
  {
   "cell_type": "markdown",
   "id": "0f489cc8-374f-4e31-be9b-3a78435d0f98",
   "metadata": {},
   "source": [
    "When were the particpants assessed?"
   ]
  },
  {
   "cell_type": "code",
   "execution_count": null,
   "id": "010edaad-ca09-4764-bdab-1a69a415472a",
   "metadata": {
    "vscode": {
     "languageId": "r"
    }
   },
   "outputs": [],
   "source": [
    "hist(fr_measures$days_in_program, main = \"Histogram of days in program\",xlab = 'Number of Days')"
   ]
  },
  {
   "cell_type": "markdown",
   "id": "ca061bd6-58e3-4be8-ab3d-a3a1e13b0a09",
   "metadata": {},
   "source": [
    "Next, let's look at the distribution for each of the frailty measures: lab, self assessment and the merged."
   ]
  },
  {
   "cell_type": "code",
   "execution_count": null,
   "id": "aec9ef30-fe55-4dcf-97f1-16e168e7ed61",
   "metadata": {
    "tags": [],
    "vscode": {
     "languageId": "r"
    }
   },
   "outputs": [],
   "source": [
    "options(repr.plot.width=10, repr.plot.height=7)#Default=7x7\n",
    "hist(fr_measures$lab_fi,  xlim=c(0,.7), col=rgb(0,0,1,2/4), breaks=25, main = \"Histogram of Frailty Measures\",xlab = 'Index Value') # Blue\n",
    "hist(fr_measures$self_fi, add=T, xlim=c(0,.7), col=rgb(0,1,0,2/4), breaks=25) # Green\n",
    "hist(fr_measures$merge_fi, add=T, xlim=c(0,.7), col=rgb(1,0,0,2/4), breaks=25) # Red\n",
    "\n",
    "legend(\"topright\",  c(\"Lab_FI\", \"Self_FI\", \"Merged_FI\"), lwd=4, col=c(\"blue\",\"green\", \"red\"))"
   ]
  },
  {
   "cell_type": "markdown",
   "id": "31a66684-2210-4fb7-b0ad-98f401f300c3",
   "metadata": {},
   "source": [
    "Sanity check- Frailty, in general, should increase with age. Is this what we see?"
   ]
  },
  {
   "cell_type": "code",
   "execution_count": null,
   "id": "09c70cb1-e71d-4eea-a018-693354b17f10",
   "metadata": {
    "vscode": {
     "languageId": "r"
    }
   },
   "outputs": [],
   "source": [
    "p1 <- ggscatter(fr_measures, x = \"age\", y = \"merge_fi\",\n",
    "          add = \"reg.line\",                                 \n",
    "          conf.int = TRUE,                                \n",
    "          add.params = list(color = \"blue\",\n",
    "                            fill = \"dimgrey\")\n",
    "          )+\n",
    "  stat_cor(method = \"pearson\")\n",
    "facet(p1, facet.by = \"sex\")"
   ]
  },
  {
   "cell_type": "markdown",
   "id": "cdd52ad3-19e2-4fe9-803d-e792488d4f94",
   "metadata": {
    "tags": []
   },
   "source": [
    "# Data Cleaning"
   ]
  },
  {
   "cell_type": "code",
   "execution_count": null,
   "id": "f8e1223d-b4b6-4cf4-b45d-d46f5611728b",
   "metadata": {
    "vscode": {
     "languageId": "r"
    }
   },
   "outputs": [],
   "source": [
    "# Load the data\n",
    "# Proteins\n",
    "meta_protein = read_delim(\"../data/arivale_snapshot_ISB_2019-05-10_0053/proteomics_metadata.tsv\", skip=13, delim='\\t', show_col_types = FALSE)\n",
    "proteins = read_delim(\"../data/arivale_snapshot_ISB_2019-05-10_0053/proteomics_corrected.tsv\", skip=13, delim='\\t', show_col_types = FALSE)\n",
    "\n",
    "# Metabolites\n",
    "meta_metabolites = read_delim(\"../data/arivale_snapshot_ISB_2019-05-10_0053/metabolomics_metadata.tsv\", skip=13, delim='\\t', show_col_types = FALSE)\n",
    "metabolites = read_delim(\"../data/arivale_snapshot_ISB_2019-05-10_0053/metabolomics_corrected.tsv\", skip=13, delim='\\t', show_col_types = FALSE)\n",
    "\n",
    "# Clinical labs\n",
    "labs = read_delim(\"../data/arivale_snapshot_ISB_2019-05-10_0053/chemistries.tsv\", skip=13, delim='\\t', show_col_types = FALSE)\n",
    "\n",
    "\n",
    "#Add Biochemical name to metabolite dataframe\n",
    "new_names <- sapply(colnames(metabolites), function(x) {\n",
    "  if (x %in% meta_metabolites$CHEMICAL_ID) {newrow <- meta_metabolites[meta_metabolites$CHEMICAL_ID %in% x,] \n",
    "                                            paste0(x, \"(\", newrow[,'BIOCHEMICAL_NAME'], \")\")\n",
    "  } else {x}\n",
    "})\n",
    "colnames(metabolites) <- new_names\n",
    "#Add gene name to protein dataframe\n",
    "new_names <- sapply(colnames(proteins), function(x) {\n",
    "  if (x %in% meta_protein$name) {newrow <- meta_protein[meta_protein$name %in% x,] \n",
    "                                 paste0(x, \"(\", newrow[,'gene_name'], \")\")\n",
    "  } else {x}\n",
    "})\n",
    "colnames(proteins) <- new_names"
   ]
  },
  {
   "cell_type": "markdown",
   "id": "87736764-1356-43e4-b948-094d82cf5e66",
   "metadata": {},
   "source": [
    "## Metabolomics\n",
    "Lets look at the data!"
   ]
  },
  {
   "cell_type": "code",
   "execution_count": null,
   "id": "970ab4e4-535b-4195-8f52-200c4bc271e1",
   "metadata": {
    "vscode": {
     "languageId": "r"
    }
   },
   "outputs": [],
   "source": [
    "#Load the data\n",
    "print(\"Metabolite metadata\")\n",
    "head(meta_metabolites)\n",
    "print(\"Metabolites\")\n",
    "head(metabolites)\n",
    "tail(meta_metabolites)"
   ]
  },
  {
   "cell_type": "markdown",
   "id": "6ab238f7-54ed-410a-b72b-3c292da3ef9f",
   "metadata": {},
   "source": [
    "### Drop metabolites without annotations"
   ]
  },
  {
   "cell_type": "code",
   "execution_count": null,
   "id": "ae495c2f-fe2e-492d-b49f-9188e9b0ce06",
   "metadata": {
    "vscode": {
     "languageId": "r"
    }
   },
   "outputs": [],
   "source": [
    "print(\"Metabolites\")\n",
    "print(str_c(\"- columns: \", ncol(metabolites)))\n",
    "metabolites <- metabolites[,!grepl(\"X -\", colnames(metabolites))]\n",
    "print(\"Metabolites after filtering\")\n",
    "print(str_c(\"- columns: \", ncol(metabolites)))"
   ]
  },
  {
   "cell_type": "markdown",
   "id": "96285e7a-2386-42c1-8356-50b71b7eec6a",
   "metadata": {
    "tags": []
   },
   "source": [
    "### Get baseline metabolites"
   ]
  },
  {
   "cell_type": "markdown",
   "id": "adc69ab7-7f36-4c67-85b7-f50dd5150516",
   "metadata": {},
   "source": [
    "Considering these participants underwent wellness coaching, we will only look at the baseline analysis for looking at associations with frailty indices. "
   ]
  },
  {
   "cell_type": "code",
   "execution_count": null,
   "id": "0527df3a-6250-4313-801b-0842e98ec39b",
   "metadata": {
    "vscode": {
     "languageId": "r"
    }
   },
   "outputs": [],
   "source": [
    "barplot(table(table(metabolites$public_client_id)), main = \"Histogram of Participant\",xlab = 'Number of Occurrences')"
   ]
  },
  {
   "cell_type": "code",
   "execution_count": null,
   "id": "ba0f24eb-72b5-429f-86a0-663112aaf5dc",
   "metadata": {
    "vscode": {
     "languageId": "r"
    }
   },
   "outputs": [],
   "source": [
    "hist(metabolites$days_since_first_draw, main = \"Days Since Draw\",xlab = 'Day')"
   ]
  },
  {
   "cell_type": "code",
   "execution_count": null,
   "id": "37eddca5-09b7-435d-a191-66cf7b2cfcf5",
   "metadata": {
    "vscode": {
     "languageId": "r"
    }
   },
   "outputs": [],
   "source": [
    "print(\"Participants metabolite records\")\n",
    "print(str_c(\"- columns: \", nrow(metabolites)))\n",
    "metabolites <-metabolites %>% \n",
    "    group_by(public_client_id) %>%\n",
    "    arrange(days_since_first_draw) %>%\n",
    "    filter(row_number()==1) %>%\n",
    "    filter(days_since_first_draw < 75)\n",
    "\n",
    "print(\"Participants metabolite records after filtering\")\n",
    "print(str_c(\"- columns: \", nrow(metabolites)))"
   ]
  },
  {
   "cell_type": "markdown",
   "id": "a1d4997c-0d75-4e15-8452-a94930133f32",
   "metadata": {},
   "source": [
    "### Evaluate Missingness"
   ]
  },
  {
   "cell_type": "code",
   "execution_count": null,
   "id": "b7a4804d-61b3-480c-b0c2-c686f5c87319",
   "metadata": {
    "vscode": {
     "languageId": "r"
    }
   },
   "outputs": [],
   "source": [
    "mets_missing <- colSums(is.na(metabolites))/nrow(metabolites)\n",
    "hist(mets_missing, main = \"Histogram of Missingness\",xlab = '% NA')"
   ]
  },
  {
   "cell_type": "code",
   "execution_count": null,
   "id": "e69403f5-d702-4f78-9a1e-2ede703475d0",
   "metadata": {
    "vscode": {
     "languageId": "r"
    }
   },
   "outputs": [],
   "source": [
    "mets_missing[order(mets_missing, decreasing = TRUE)[1:10]]"
   ]
  },
  {
   "cell_type": "markdown",
   "id": "094c977d-12e8-4b6a-b0a2-4abc83fd5566",
   "metadata": {},
   "source": [
    "### Impute and Scale"
   ]
  },
  {
   "cell_type": "markdown",
   "id": "2146b10a-8d5e-4907-b046-96b20c2aec8a",
   "metadata": {},
   "source": [
    "When dealing with metabolites, its important to consider the method of imputation! For example, imputing with the mean or median may result in incorrect values for xenobiotics. More sophisticated imputation methods, such as random forest can be costly. "
   ]
  },
  {
   "cell_type": "code",
   "execution_count": null,
   "id": "4f5fca02-2218-4940-8762-5e1d3a00dfc6",
   "metadata": {
    "vscode": {
     "languageId": "r"
    }
   },
   "outputs": [],
   "source": [
    "metabolites_filter <- metabolites[,c(9:ncol(metabolites))] # Drop non metabolite values\n",
    "metabolites_filter <- metabolites_filter[, colMeans(is.na(metabolites_filter)) <= .5]\n",
    "metabolites_filter_impute <- as_tibble(impute::impute.knn(as.matrix(metabolites_filter))$data)\n",
    "head(metabolites_filter_impute)"
   ]
  },
  {
   "cell_type": "markdown",
   "id": "f3880be5-d8db-436d-8e10-a8013cd51be4",
   "metadata": {},
   "source": [
    "### PCA"
   ]
  },
  {
   "cell_type": "code",
   "execution_count": null,
   "id": "6a74a1e0-c5a8-4e79-a9d6-6ce94f8deccc",
   "metadata": {
    "vscode": {
     "languageId": "r"
    }
   },
   "outputs": [],
   "source": [
    "PCA_mets_all <- prcomp(metabolites_filter_impute, center=TRUE, scale=TRUE)\n",
    "PCA_mets <- cbind(metabolites[,c(1:8)], PCA_mets_all$x[,c(1:4)])\n",
    "PCA_mets <- merge(PCA_mets, fr_measures, by=\"public_client_id\")"
   ]
  },
  {
   "cell_type": "code",
   "execution_count": null,
   "id": "dd455615-edae-4b0b-adf8-c360aec874e2",
   "metadata": {
    "vscode": {
     "languageId": "r"
    }
   },
   "outputs": [],
   "source": [
    "percentVar <- PCA_mets_all$sdev^2 / sum(PCA_mets_all$sdev^2 )\n",
    "\n",
    "p1 <- ggplot(PCA_mets, aes(x=PC1, y=PC2, color=sex)) +\n",
    "    geom_point(size=3) + scale_color_brewer(palette=\"Set1\") +\n",
    "    xlab(paste0(\"PC1: \",round(percentVar[1] * 100),\"% variance\")) +\n",
    "    ylab(paste0(\"PC2: \",round(percentVar[2] * 100),\"% variance\")) +\n",
    "     theme_minimal() +\n",
    "    coord_fixed()\n",
    "p2 <- ggplot(PCA_mets, aes(x=PC3, y=PC4, color=sex)) +\n",
    "    geom_point(size=3) + scale_color_brewer(palette=\"Set1\") +\n",
    "    xlab(paste0(\"PC3: \",round(percentVar[3] * 100),\"% variance\")) +\n",
    "    ylab(paste0(\"PC4: \",round(percentVar[4] * 100),\"% variance\")) +\n",
    "     theme_minimal() +\n",
    "    coord_fixed()\n",
    "options(repr.plot.width=20, repr.plot.height=10)#Default=7x7\n",
    "ggarrange(p1, p2,  common.legend = TRUE)\n"
   ]
  },
  {
   "cell_type": "code",
   "execution_count": null,
   "id": "d3ab8fb2-38de-4d7d-84ff-b7b8e656237d",
   "metadata": {
    "vscode": {
     "languageId": "r"
    }
   },
   "outputs": [],
   "source": [
    "options(repr.plot.width=10, repr.plot.height=7)#Default=7x7\n",
    "ggplot(PCA_mets, aes(x=PC1, y=PC2, color=merge_fi)) +\n",
    "    geom_point(size=2) + scale_color_gradient(low = \"yellow\", high = \"darkblue\") +\n",
    "    xlab(paste0(\"PC1: \",round(percentVar[1] * 100),\"% variance\")) +\n",
    "    ylab(paste0(\"PC2: \",round(percentVar[2] * 100),\"% variance\")) +\n",
    "    theme_minimal() +\n",
    "    coord_fixed()\n",
    "\n"
   ]
  },
  {
   "cell_type": "markdown",
   "id": "ea2a326d-e0be-48f6-88b1-ac383a56f4ea",
   "metadata": {},
   "source": [
    " We'll leave it there for now, but will come back to PCA in session three."
   ]
  },
  {
   "cell_type": "markdown",
   "id": "d3757e0d-58c8-493d-8790-8729c281592a",
   "metadata": {},
   "source": [
    "## Proteins"
   ]
  },
  {
   "cell_type": "markdown",
   "id": "506b8645-ba00-4b43-9bde-284e763afab7",
   "metadata": {},
   "source": [
    "Proteins follow the same analysis pattern as metabolites. We'll skip going over in detail. "
   ]
  },
  {
   "cell_type": "code",
   "execution_count": null,
   "id": "4dacb5a7-27f2-4c5b-86f3-cebbe7619ba7",
   "metadata": {
    "vscode": {
     "languageId": "r"
    }
   },
   "outputs": [],
   "source": [
    "print(\"Participants protein records\")\n",
    "print(str_c(\"- columns: \", nrow(proteins)))\n",
    "proteins <-proteins %>% \n",
    "    group_by(public_client_id) %>%\n",
    "    arrange(days_since_first_draw) %>%\n",
    "    filter(row_number()==1) %>%\n",
    "    filter(days_since_first_draw < 75)\n",
    "\n",
    "print(\"Participants protein records\")\n",
    "print(str_c(\"- columns: \", nrow(proteins)))"
   ]
  },
  {
   "cell_type": "markdown",
   "id": "50b0e335-63c6-4c71-bf89-30363910e538",
   "metadata": {},
   "source": [
    "## *Exercise- Proteins PCA*\n",
    "What, if anything, needs to be considered when imputing and filtering proteins?\n",
    "Try 3 imputation methods, Zero, Mean and KNN. Does this change the PCA?"
   ]
  },
  {
   "cell_type": "markdown",
   "id": "bc007814-37f7-4370-a863-2b54012c9177",
   "metadata": {},
   "source": [
    "## Clinical Labs"
   ]
  },
  {
   "cell_type": "code",
   "execution_count": null,
   "id": "00355dd5-a595-4489-91dd-efdf67cd8927",
   "metadata": {
    "vscode": {
     "languageId": "r"
    }
   },
   "outputs": [],
   "source": [
    "print(\"Participants clinical labs records\")\n",
    "print(str_c(\"- columns: \", nrow(labs)))\n",
    "labs <-labs %>% \n",
    "    group_by(public_client_id) %>%\n",
    "    arrange(days_since_first_draw) %>%\n",
    "    filter(row_number()==1) %>%\n",
    "    filter(days_since_first_draw < 75)\n",
    "\n",
    "print(\"Participants clinical labs records\")\n",
    "print(str_c(\"- columns: \", nrow(labs)))"
   ]
  },
  {
   "cell_type": "code",
   "execution_count": null,
   "id": "b8756e84-6d47-4f84-94f6-8a661ad9d253",
   "metadata": {
    "vscode": {
     "languageId": "r"
    }
   },
   "outputs": [],
   "source": [
    "colnames(labs)"
   ]
  },
  {
   "cell_type": "code",
   "execution_count": null,
   "id": "ba6c6c29-6efc-44e7-a29e-0f1a0e58a35b",
   "metadata": {
    "vscode": {
     "languageId": "r"
    }
   },
   "outputs": [],
   "source": [
    "### Save these for later to re-run analysis below without having to run the code above. \n",
    "dir.create(\"./Session1_files/\", showWarnings = FALSE)\n",
    "write_delim(metabolites[,c(1,9:ncol(metabolites))], \"./Session1_files/metabolites_baseline.tsv\", delim=\"\\t\")\n",
    "write_delim(proteins[,c(1,22:ncol(proteins))], \"./Session1_files/proteins_baseline.tsv\", delim=\"\\t\")\n",
    "write_delim(labs[,c(1,13:ncol(labs))], \"./Session1_files/chemistries_baseline.tsv\", delim=\"\\t\")"
   ]
  },
  {
   "cell_type": "markdown",
   "id": "fae70cd1-1ecc-4097-a156-814a5ebb9232",
   "metadata": {},
   "source": [
    "# WGCNA Proteins"
   ]
  },
  {
   "cell_type": "markdown",
   "id": "7680e143-482d-4ea8-82cf-6c4493a39516",
   "metadata": {},
   "source": [
    "## Prepare data"
   ]
  },
  {
   "cell_type": "code",
   "execution_count": null,
   "id": "82565bc4-d3d7-451e-984b-d6f2b1e9d40d",
   "metadata": {
    "vscode": {
     "languageId": "r"
    }
   },
   "outputs": [],
   "source": [
    "dataset_label <- \"Proteomics\"#For label purpose; Fix throughout this notebook\n",
    "omics <- proteins[,c(1,22:ncol(proteins))]\n",
    "\n",
    "#Select the participants having both data\n",
    "##Analyte data\n",
    "data_df <- omics %>%\n",
    "    dplyr::filter(public_client_id %in% fr_measures$public_client_id) %>%\n",
    "    dplyr::arrange(public_client_id) %>%#Sort row order\n",
    "    #Transform tibble for easily applying to the WGCNA functions\n",
    "    column_to_rownames(var=\"public_client_id\")\n",
    "data_df <- data_df[, order(colnames(data_df))]#Sort column order\n",
    "print(\"Data\")\n",
    "print(str_c(\"- nrow: \", nrow(data_df)))\n",
    "head(data_df)\n",
    "##Sample metadata\n",
    "sample_tbl <- fr_measures %>%\n",
    "    dplyr::filter(public_client_id %in% omics$public_client_id) %>%\n",
    "    dplyr::arrange(public_client_id)#Sort row order\n",
    "print(\"Sample metadata\")\n",
    "print(str_c(\"- nrow: \", nrow(sample_tbl)))\n",
    "head(sample_tbl)\n",
    "\n",
    "# Prepare metadata\n",
    "analyte_tbl <- meta_protein %>%\n",
    "    #Prepare the same analyte IDs within the data table\n",
    "    dplyr::mutate(AnalyteID=str_c(name,\"(\",gene_name,\")\"), Dataset=dataset_label) %>%\n",
    "    #Clean\n",
    "    dplyr::rename(AnalyteID_original=name, PanelID=panel, UniProtID=uniprot, GeneSymbol=gene_name) %>%\n",
    "    dplyr::select(AnalyteID, Dataset, AnalyteID_original, PanelID, UniProtID, GeneSymbol)\n",
    "\n",
    "#Filter analytes within the data table\n",
    "analyte_tbl <- analyte_tbl %>%\n",
    "    dplyr::filter(AnalyteID %in% colnames(data_df)) %>%\n",
    "    dplyr::arrange(AnalyteID)#Sort row order\n",
    "print(\"Analyte metadata\")\n",
    "print(str_c(\"- nrow: \", nrow(analyte_tbl)))\n",
    "head(analyte_tbl)"
   ]
  },
  {
   "cell_type": "markdown",
   "id": "d31c7265-f788-4447-b182-bbb3b37ae6d8",
   "metadata": {},
   "source": [
    "## Missingness\n",
    "\n",
    "WGNCA provides a function to filter for missingness. This filter both columns (features) and rows (participants)."
   ]
  },
  {
   "cell_type": "code",
   "execution_count": null,
   "id": "85ee5734-1845-4c66-87bb-9d45ebe12a58",
   "metadata": {
    "vscode": {
     "languageId": "r"
    }
   },
   "outputs": [],
   "source": [
    "#Filter samples and features based on the default WGCNA NA criteria (50%)\n",
    "gsg = goodSamplesGenes(data_df, verbose = 3);\n",
    "gsg$allOK\n",
    "if (!gsg$allOK)\n",
    "{\n",
    "  # Optionally, print the gene and sample names that were removed:\n",
    "  if (sum(!gsg$goodGenes)>0) \n",
    "     printFlush(paste(\"Removing genes:\", paste(names(data_df)[!gsg$goodGenes], collapse = \", \")));\n",
    "  if (sum(!gsg$goodSamples)>0) \n",
    "     printFlush(paste(\"Removing samples:\", paste(rownames(data_df)[!gsg$goodSamples], collapse = \", \")));\n",
    "  # Remove the offending genes and samples from the data:\n",
    "  data_df = data_df[gsg$goodSamples, gsg$goodGenes]\n",
    "}\n",
    "\n",
    "print(\"After the filter:\")\n",
    "print(dim(data_df))\n",
    "\n",
    "#Filter metadata to match columns in filtered data frame\n",
    "sample_tbl <- sample_tbl %>%\n",
    "    dplyr::filter(public_client_id %in% rownames(data_df))\n",
    "print(\"Sample metadata after the filter\")\n",
    "print(str_c(\"- nrow: \", nrow(sample_tbl)))\n",
    "\n",
    "analyte_tbl <- analyte_tbl %>%\n",
    "    dplyr::filter(AnalyteID %in% colnames(data_df))\n",
    "print(\"Analyte metadata after the filter\")\n",
    "print(str_c(\"- nrow: \", nrow(analyte_tbl)))"
   ]
  },
  {
   "cell_type": "markdown",
   "id": "3c6c8a25-2f16-47de-bce3-5ffba4da67b6",
   "metadata": {},
   "source": [
    "Why are there so many protiens filtered? The majority of Arivale partipants were run with 3 Olink panels, however a small subset were run with a larger number of panels. Since we need to remove these proteins, we will update the metadata for easier handling. "
   ]
  },
  {
   "cell_type": "markdown",
   "id": "33fd91c6-4636-4ad9-979b-93594a6d4fb2",
   "metadata": {},
   "source": [
    "## Network construction"
   ]
  },
  {
   "cell_type": "markdown",
   "id": "5a1a6db7-6096-474e-ba08-99e4d19e7a63",
   "metadata": {},
   "source": [
    "### Choose the soft-thresholding power"
   ]
  },
  {
   "cell_type": "code",
   "execution_count": null,
   "id": "e60b079d-c7bf-4193-97cc-fb5379faf156",
   "metadata": {
    "vscode": {
     "languageId": "r"
    }
   },
   "outputs": [],
   "source": [
    "#Choose a set of soft-thresholding powers\n",
    "powers <- c(c(1:10), seq(from=11, to=15, by=1))\n",
    "cutoff <- 0.8\n",
    "\n",
    "#Call the network topology analysis function\n",
    "sft <- pickSoftThreshold(data_df, powerVector=powers, verbose=5,\n",
    "                         corOptions=c(use=\"p\", method=\"spearman\"), networkType=\"signed\")\n",
    "\n",
    "#Plot the results\n",
    "options(repr.plot.width=9, repr.plot.height=5)\n",
    "par(mfrow=c(1,2))\n",
    "cex1 <- 0.8\n",
    "##Scale-free topology fit index as a function of the soft-thresholding power\n",
    "plot(sft$fitIndices[,1], -sign(sft$fitIndices[,3])*sft$fitIndices[,2],\n",
    "     xlab=\"Soft Threshold (power)\", ylab=\"Scale Free Topology Model Fit, signed R^2\", type=\"n\",\n",
    "     main=paste(\"Scale independence\"))\n",
    "text(sft$fitIndices[,1], -sign(sft$fitIndices[,3])*sft$fitIndices[,2],\n",
    "     labels=powers, cex=cex1, col=\"black\")\n",
    "##Line corresponds to using an R^2 cut-off of h\n",
    "abline(h=cutoff, col=\"red\")\n",
    "##Mean connectivity as a function of the soft-thresholding power\n",
    "plot(sft$fitIndices[,1], sft$fitIndices[,5],\n",
    "     xlab=\"Soft Threshold (power)\", ylab=\"Mean Connectivity\", type=\"n\",\n",
    "     main=paste(\"Mean connectivity\"))\n",
    "text(sft$fitIndices[,1], sft$fitIndices[,5], labels=powers, cex=cex1, col=\"black\")\n",
    "\n",
    "print(str_c(\"Estimated soft-thresholding power: \", sft$powerEstimate))"
   ]
  },
  {
   "cell_type": "markdown",
   "id": "d83deba3-54e9-4c56-944d-a3128e420144",
   "metadata": {},
   "source": [
    "### Co-expression similarity and adjacency"
   ]
  },
  {
   "cell_type": "markdown",
   "id": "e200c8e4-d622-474b-8b79-b855be5f28c4",
   "metadata": {},
   "source": [
    "> Calculate correlation network adjacency.  "
   ]
  },
  {
   "cell_type": "code",
   "execution_count": null,
   "id": "fdc1ccd4-caad-4e5e-bb76-2a610b4e378c",
   "metadata": {
    "vscode": {
     "languageId": "r"
    }
   },
   "outputs": [],
   "source": [
    "#Choose the power that best approximates a scale free topology while still maintaining high level of connectivity in the network\n",
    "softPower <- sft$powerEstimate\n",
    "print(softPower)\n",
    "#Generate the adjacency matrix using the chosen soft-thresholding power\n",
    "adjacency <- adjacency(data_df, power=softPower,\n",
    "                       corOptions=list(use=\"p\", method=\"spearman\"), type=\"signed\")\n",
    "\n",
    "print(str_c(\"nrow: \", nrow(adjacency)))\n",
    "head(adjacency)"
   ]
  },
  {
   "cell_type": "markdown",
   "id": "2644b367-1838-4545-8e8d-1f458f5cb642",
   "metadata": {},
   "source": [
    "### Topological Overlap Matrix (TOM)"
   ]
  },
  {
   "cell_type": "markdown",
   "id": "bb98fb72-bd50-49da-aff3-5e20bc68cdf6",
   "metadata": {},
   "source": [
    "> To minimize effects of noise and spurious associations, the adjacency is transformed into the topological overlap measure, and the corresponding dissimilarity is calculated.  "
   ]
  },
  {
   "cell_type": "code",
   "execution_count": null,
   "id": "539ab2bc-b562-41d4-a7a4-77f3fce8199d",
   "metadata": {
    "vscode": {
     "languageId": "r"
    }
   },
   "outputs": [],
   "source": [
    "#Turn adjacency into topological overlap\n",
    "##You can input whatever matrix you want here!\n",
    "TOM <- TOMsimilarity(adjacency, TOMType=\"signed\")\n",
    "\n",
    "#Turn into distance matrix\n",
    "dissTOM <- 1 - TOM\n",
    "\n",
    "print(str_c(\"nrow: \", nrow(dissTOM)))\n",
    "head(dissTOM)"
   ]
  },
  {
   "cell_type": "markdown",
   "id": "4def9e1b-e2fc-48fb-9e03-8f810bfaa09e",
   "metadata": {},
   "source": [
    "## Module detection"
   ]
  },
  {
   "cell_type": "markdown",
   "id": "b696f8d1-8812-4a3c-a861-f8b85343ae7b",
   "metadata": {},
   "source": [
    "### Hierarchical clustering using TOM dissimilarity"
   ]
  },
  {
   "cell_type": "markdown",
   "id": "1fde207e-ac08-4760-813f-f6e119a7a86a",
   "metadata": {},
   "source": [
    "> Cluster the TOM distance matrix to find modules. You can call whatever clusting method you want here.  "
   ]
  },
  {
   "cell_type": "code",
   "execution_count": null,
   "id": "31f63325-e1ae-48e2-b124-c8da3b1a2752",
   "metadata": {
    "vscode": {
     "languageId": "r"
    }
   },
   "outputs": [],
   "source": [
    "#Call the hierarchical clustering function\n",
    "geneTree <- hclust(as.dist(dissTOM), method=\"average\")\n",
    "\n",
    "#Plot the resulting clustering tree (dendrogram)\n",
    "options(repr.plot.width=12, repr.plot.height=6)\n",
    "plot(geneTree, xlab=\"\", sub=\"\", main=\"Gene clustering on TOM-based dissimilarity\",\n",
    "     labels=FALSE, hang=0.04)"
   ]
  },
  {
   "cell_type": "markdown",
   "id": "ea19d073-bd9d-4426-858d-dec7979658db",
   "metadata": {},
   "source": [
    "> In the clustering tree (dendrogram), each leaf corresponds to a gene. Branches of the dendrogram group together densely interconnected, highly co-expressed genes. Module identification amounts to the identification of individual branches (”cutting the branches off the dendrogram”). There are several methods for branch cutting; the standard method of WGCNA package is Dynamic Tree Cut from the package dynamicTreeCut.  "
   ]
  },
  {
   "cell_type": "code",
   "execution_count": null,
   "id": "093ab1df-ab5f-4a53-bc1c-ad2940c01a12",
   "metadata": {
    "vscode": {
     "languageId": "r"
    }
   },
   "outputs": [],
   "source": [
    "#Larger modules can be easier to interpret, so we set the minimum module size relatively high\n",
    "minModuleSize <- max(c(15, round(ncol(data_df)/200, digits=0)))\n",
    "print(str_c(\"minClusterSize = \", minModuleSize))\n",
    "\n",
    "#Module identification using dynamic tree cut\n",
    "dynamicMods <- cutreeDynamic(dendro=geneTree, distM=dissTOM,\n",
    "                             deepSplit=4, pamStage=TRUE, pamRespectsDendro=FALSE,\n",
    "                             minClusterSize=minModuleSize)\n",
    "table(dynamicMods)"
   ]
  },
  {
   "cell_type": "markdown",
   "id": "766f5678-7ca8-49a9-97a6-322fdced4c3d",
   "metadata": {},
   "source": [
    "> The above list shows each module size. Label 0 is reserved for unassigned genes.  "
   ]
  },
  {
   "cell_type": "code",
   "execution_count": null,
   "id": "41bd6991-62c3-4cc7-8a50-e51f2a0dcb26",
   "metadata": {
    "vscode": {
     "languageId": "r"
    }
   },
   "outputs": [],
   "source": [
    "#Convert numeric lables into colors\n",
    "dynamicColors <- labels2colors(dynamicMods)\n",
    "table(dynamicColors)\n",
    "\n",
    "#Plot with TOM dissimilarity matrix\n",
    "options(repr.plot.width=7, repr.plot.height=7)\n",
    "TOMplot(dissTOM^softPower,#For better visualization\n",
    "        geneTree, as.character(dynamicColors), main=\"Network heatmap plot, all genes\")"
   ]
  },
  {
   "cell_type": "markdown",
   "id": "f5608c44-1569-4f96-a9ee-b8ccc094aeac",
   "metadata": {},
   "source": [
    "### Merge similar modules based on eigengenes"
   ]
  },
  {
   "cell_type": "markdown",
   "id": "bc472ac2-5071-4426-b107-e8cae1791235",
   "metadata": {},
   "source": [
    "> Dynamic Tree Cut may identify modules whose expression profiles are very similar. It would be prudent to merge such modules since their genes are highly co-expressed. To quantify co-expression similarity of entire modules, their eigengenes are calculated and clustered based on their correlation.  "
   ]
  },
  {
   "cell_type": "code",
   "execution_count": null,
   "id": "5ee94ff5-db9b-404c-8865-0c33bf9926d7",
   "metadata": {
    "vscode": {
     "languageId": "r"
    }
   },
   "outputs": [],
   "source": [
    "#Calculate eigengenes\n",
    "MEList <- moduleEigengenes(data_df, colors=dynamicColors, impute=TRUE, nPC=2)\n",
    "MEs <- MEList$eigengenes\n",
    "print(str_c(\"nrow: \", nrow(MEs)))\n",
    "head(MEs)\n",
    "\n",
    "#Calculate dissimilarity of module eigengenes\n",
    "MEDiss <- 1 - cor(MEs, use=\"pairwise.complete.obs\")\n",
    "\n",
    "#Cluster module eigengenes\n",
    "METree <- hclust(as.dist(MEDiss), method=\"average\")\n",
    "\n",
    "#Plot the result\n",
    "options(repr.plot.width=10, repr.plot.height=5)\n",
    "plot(METree, main=\"Clustering of module eigengenes\",\n",
    "     xlab=\"\", sub=\"\")\n",
    "MEDissThres <- 0.2\n",
    "abline(h=MEDissThres, col=\"red\")"
   ]
  },
  {
   "cell_type": "code",
   "execution_count": null,
   "id": "ce7c9dfc-2ad9-4c97-82da-6f967be14f37",
   "metadata": {
    "vscode": {
     "languageId": "r"
    }
   },
   "outputs": [],
   "source": [
    "#Call an automatic merging function\n",
    "merge <- mergeCloseModules(data_df, dynamicColors, cutHeight=MEDissThres, verbose=0)\n",
    "\n",
    "#Eigengenes of the new merged modules\n",
    "mergedMEs <- merge$newMEs\n",
    "\n",
    "#The merged module colors\n",
    "mergedColors <- merge$colors\n",
    "table(mergedColors)\n",
    "\n",
    "#Plot the dendrogram and module colors\n",
    "options(repr.plot.width=12, repr.plot.height=6)\n",
    "plotDendroAndColors(geneTree, cbind(dynamicColors, mergedColors),\n",
    "                    c(\"Dynamic Tree Cut\", \"Merged dynamic\"),\n",
    "                    dendroLabels=FALSE, hang=0.03,\n",
    "                    addGuide=TRUE, guideHang=0.05,\n",
    "                    main=\"Gene dendrogram and module colors\")"
   ]
  },
  {
   "cell_type": "code",
   "execution_count": null,
   "id": "3a40340e-040f-4272-b600-f4eb8a98f8fd",
   "metadata": {
    "vscode": {
     "languageId": "r"
    }
   },
   "outputs": [],
   "source": [
    "#Rename\n",
    "moduleColors <- mergedColors\n",
    "MEs <- mergedMEs\n",
    "\n",
    "#Prepare the module assignment table\n",
    "module_tbl <- tibble(AnalyteID=colnames(data_df),\n",
    "                     ModuleID=str_to_title(moduleColors)) %>%\n",
    "    dplyr::left_join(analyte_tbl, ., by=\"AnalyteID\")\n",
    "print(\"Module assignment table (temp)\")\n",
    "print(str_c(\"- nrow: \", nrow(module_tbl)))\n",
    "head(module_tbl)\n",
    "\n",
    "#Clean the module eigengene table\n",
    "eigengene_df <- MEs %>%\n",
    "    rownames_to_column(var=\"public_client_id\")\n",
    "names(eigengene_df)[2:ncol(eigengene_df)] <- names(eigengene_df)[2:ncol(eigengene_df)] %>%\n",
    "    str_replace(., \"^ME\", \"\") %>%\n",
    "    str_to_title(.)\n",
    "print(\"Module eigengene table\")\n",
    "print(str_c(\"- nrow: \", nrow(eigengene_df)))\n",
    "head(eigengene_df)"
   ]
  },
  {
   "cell_type": "markdown",
   "id": "43213679-355c-4558-9167-68695ed06fce",
   "metadata": {},
   "source": [
    "## Relationship between each phenotype and module"
   ]
  },
  {
   "cell_type": "markdown",
   "id": "57b20f98-3f7e-4a0a-9b7f-f499467d3312",
   "metadata": {},
   "source": [
    "### Clean phenotype data"
   ]
  },
  {
   "cell_type": "code",
   "execution_count": null,
   "id": "5570b4d6-f9c6-497b-b503-d45ccb58cfa5",
   "metadata": {
    "vscode": {
     "languageId": "r"
    }
   },
   "outputs": [],
   "source": [
    "#Check phenotypes\n",
    "print(\"Sample metadata\")\n",
    "print(str_c(\"- nrow: \", nrow(sample_tbl)))\n",
    "print(\"- Contingency of sex\")\n",
    "table(sample_tbl$sex)\n",
    "print(\"- Contingency of race\")\n",
    "table(sample_tbl$race)\n",
    "print(colnames(sample_tbl))"
   ]
  },
  {
   "cell_type": "code",
   "execution_count": null,
   "id": "7ae992c2-836f-4269-9728-b274ffffdd91",
   "metadata": {
    "vscode": {
     "languageId": "r"
    }
   },
   "outputs": [],
   "source": [
    "#Code sex and race\n",
    "phenotype_tbl <- sample_tbl %>%\n",
    "    dplyr::mutate(BinarySex=ifelse(sex==\"F\", 0, 1),\n",
    "                  BinaryRace=ifelse(race==\"white\", 0, 1)) %>%\n",
    "    dplyr::mutate(BinaryRace=tidyr::replace_na(.$BinaryRace, 1)) %>%#Due to the existence of NA\n",
    "    dplyr::select(public_client_id, BinarySex, BinaryRace, age, self_fi, lab_fi, merge_fi) %>%\n",
    "    #Transform tibble for easily applying to the WGCNA functions\n",
    "    column_to_rownames(var=\"public_client_id\")\n",
    "\n",
    "#Check phenotypes\n",
    "print(\"Sample metadata\")\n",
    "print(str_c(\"- nrow: \", nrow(phenotype_tbl)))\n",
    "print(\"- Contingency of BinarySex\")\n",
    "table(phenotype_tbl$BinarySex)\n",
    "print(\"- Contingency of BinaryRace\")\n",
    "table(phenotype_tbl$BinaryRace)"
   ]
  },
  {
   "cell_type": "markdown",
   "id": "7d5d93fd-96ed-4dd4-863f-e3fa361b3b01",
   "metadata": {},
   "source": [
    "### Module–trait relationship"
   ]
  },
  {
   "cell_type": "markdown",
   "id": "ab3c150d-4323-4878-8325-5c55ef60ddbe",
   "metadata": {},
   "source": [
    "> For each module and each phenotype, a quantitative measure of module–trait relationship (MTR) is defined as the correlation between the module eigengene and the phenotype profile.  "
   ]
  },
  {
   "cell_type": "code",
   "execution_count": null,
   "id": "c06ba20d-cf31-43cc-8df6-71769aad1443",
   "metadata": {
    "vscode": {
     "languageId": "r"
    }
   },
   "outputs": [],
   "source": [
    "#Calculate the numbers of modules and samples\n",
    "nSamples <- nrow(phenotype_tbl)\n",
    "modNames = substring(names(MEs), 3)\n",
    "\n",
    "##Check ID order before the cor() function\n",
    "print(str_c(\"Matched IDs?: \", all(rownames(MEs)==rownames(phenotype_tbl))))\n",
    "\n",
    "#Calculate module–trait relationship\n",
    "moduleTraitCor <- as.data.frame(cor(MEs, phenotype_tbl, use=\"p\")) #Pearson correlation\n",
    "rownames(moduleTraitCor) <- str_to_title(modNames)\n",
    "\n",
    "#Calculate statisitcal significance of module–trait relationship\n",
    "MTRpval <- as.data.frame(corPvalueStudent(as.matrix(moduleTraitCor), nSamples)) # Pvalue\n",
    "rownames(MTRpval) <- str_to_title(modNames)\n",
    "\n",
    "#Eliminate the dummy module (Grey)\n",
    "moduleTraitCor <- moduleTraitCor[rownames(moduleTraitCor)!=\"Grey\",]\n",
    "MTRpval <- MTRpval[rownames(MTRpval)!=\"Grey\",]\n",
    "\n",
    "#P-value adjustment across modules (per trait) using Benjamini–Hochberg method\n",
    "MTRpval_adj <- as.data.frame(apply(MTRpval, 2, function(x){p.adjust(x, length(x), method=\"BH\")}))\n",
    "\n",
    "#Prepare text labels as matrix\n",
    "textMatrix <- paste(\"r = \",signif(as.matrix(moduleTraitCor), 3),\"\\n(P = \",\n",
    "                    signif(as.matrix(MTRpval_adj), 2),\")\", sep=\"\")\n",
    "dim(textMatrix) <- dim(moduleTraitCor)\n",
    "#Revert module names back to apply color conversion\n",
    "temp_c <- rownames(moduleTraitCor) %>%\n",
    "    str_to_lower(.) %>%\n",
    "    str_c(\"ME\",.)\n",
    "\n",
    "#Visualize\n",
    "options(repr.plot.width=10, repr.plot.height=7)\n",
    "par(mar=c(5, 5, 3, 2))\n",
    "labeledHeatmap(Matrix=moduleTraitCor,\n",
    "               xLabels=colnames(moduleTraitCor),\n",
    "               yLabels=temp_c,\n",
    "               #ySymbols=rownames(moduleTraitCor),\n",
    "               colorLabels=FALSE,\n",
    "               colors=blueWhiteRed(50),\n",
    "               textMatrix=textMatrix,\n",
    "               setStdMargins=FALSE,\n",
    "               cex.text=1,\n",
    "               zlim=c(-1,1),\n",
    "               main=paste(\"Module–trait relationships\"))"
   ]
  },
  {
   "cell_type": "markdown",
   "id": "c2d0ebf8-b34c-4b50-a4e6-8f0af4b13612",
   "metadata": {},
   "source": [
    "> –> Because Grey is not a module but a remnant set, it should be removed during tests.  "
   ]
  },
  {
   "cell_type": "markdown",
   "id": "98db17ca-6e29-4768-9f1b-ecda47a9f97c",
   "metadata": {},
   "source": [
    "## *Exercise - WGCNA Race*\n",
    "Are any modules related to race? We hotcoded race for this example code. But, it is not ideal considering the huge differences in the non-white category. Try the analysis again with better racial categories. "
   ]
  },
  {
   "cell_type": "markdown",
   "id": "f3c49825-451c-48c7-80bb-f7abb297c268",
   "metadata": {},
   "source": [
    "### Regression analysis"
   ]
  },
  {
   "cell_type": "markdown",
   "id": "a09339f2-12a3-4639-9d24-5aa79a4595ec",
   "metadata": {},
   "source": [
    "The analysis above is looking at the correlation between the module eigenvector and our outcomes. What if we want to control for covariates? Lets look at a regression analysis and compare. "
   ]
  },
  {
   "cell_type": "code",
   "execution_count": null,
   "id": "bc057175-1a0e-4431-935a-2c1d5566554b",
   "metadata": {
    "vscode": {
     "languageId": "r"
    }
   },
   "outputs": [],
   "source": [
    "#Processing data\n",
    "temp_df <- phenotype_tbl %>%\n",
    "    #Standardize continuous variables\n",
    "    dplyr::mutate(age=c(scale(age, center=TRUE, scale=TRUE)),\n",
    "                  self_fi=c(scale(self_fi, center=TRUE, scale=TRUE)),\n",
    "                  lab_fi=c(scale(lab_fi, center=TRUE, scale=TRUE)),\n",
    "                  merge_fi=c(scale(merge_fi, center=TRUE, scale=TRUE))) %>%\n",
    "    #Encode categorical variables -> Already done\n",
    "    #Clean\n",
    "    rownames_to_column(var=\"public_client_id\")\n",
    "temp_df <- eigengene_df %>%\n",
    "    dplyr::select(-Grey) %>%#Remove the dummy module\n",
    "    dplyr::left_join(., temp_df, by=\"public_client_id\")\n",
    "\n",
    "head(temp_df)"
   ]
  },
  {
   "cell_type": "code",
   "execution_count": null,
   "id": "d658ceac-c941-40ac-8af6-57e6c4a41f09",
   "metadata": {
    "vscode": {
     "languageId": "r"
    }
   },
   "outputs": [],
   "source": [
    "#Regression analysis per module and per age/FI\n",
    "temp_c <- c(\"age\", \"BinarySex\", \"BinaryRace\")#Covariates\n",
    "module = 'Brown'\n",
    "xvar <- 'merge_fi'\n",
    "\n",
    "#OLS regression\n",
    "model <- lm(formula=str_c(module,\" ~ \",xvar,\" + \",str_flatten(temp_c, collapse=' + ')), data=temp_df)\n",
    "print(str_c(module,\" ~ \",xvar,\" + \",str_flatten(temp_c, collapse=' + ')))\n",
    "print(summary(model))\n",
    "#Visualize the result\n",
    "##Calculate the covariate-adjusted module eigengene\n",
    "model_covar <- lm(formula=str_c(module,\" ~ \",str_flatten(temp_c, collapse=' + ')), data=temp_df)\n",
    "plot_df <- temp_df %>%\n",
    "    dplyr::mutate(AdjME=mean(temp_df[[module]])+model_covar$residuals)\n",
    "##Prepare model result texts\n",
    "pval_text <- str_c(\"P = \",scales::scientific(summary(model)$coefficients[,4][xvar], digits=2))\n",
    "##Plot correlation\n",
    "p <- ggplot(data=plot_df) +\n",
    "    geom_point(aes(x=!!as.name(xvar), y=AdjME)) +\n",
    "    geom_smooth(aes(x=!!as.name(xvar), y=AdjME), method=\"lm\", formula=\"y~x\", se=TRUE) +\n",
    "    annotate(\"text\", x=Inf, y=Inf, hjust=1, vjust=1, label=pval_text) +\n",
    "    labs(x=str_c(xvar,\" (Z-score)\"),\n",
    "         y=\"Module eigengene (adjusted)\",\n",
    "         title=str_c(module,\" module vs. \",xvar)) +\n",
    "    theme_gray(base_size=16, base_family=\"Helvetica\")\n",
    "options(repr.plot.width=7, repr.plot.height=7)\n",
    "plot(p)"
   ]
  },
  {
   "cell_type": "markdown",
   "id": "8137ff9c-e419-4fe6-aa30-4bebf18ad54d",
   "metadata": {},
   "source": [
    "## Intramodule connectivity"
   ]
  },
  {
   "cell_type": "markdown",
   "id": "d9b7796f-d3c6-4145-a4e0-2661295cf77b",
   "metadata": {},
   "source": [
    "> Intramodular connectivity can be used to find \"hub\" analytes in each of the modules. This can be useful to understand potential drivers of each module. "
   ]
  },
  {
   "cell_type": "code",
   "execution_count": null,
   "id": "1f97ff3e-203a-4c42-9fb1-c78e27a73ee5",
   "metadata": {
    "vscode": {
     "languageId": "r"
    }
   },
   "outputs": [],
   "source": [
    "#Prepare target modules\n",
    "targets <- modNames[modNames!=\"grey\"]\n",
    "\n",
    "#Repeat for each module\n",
    "temp_tbl <- tibble()\n",
    "for (module in targets) {\n",
    "    #Select module probes\n",
    "    probes <- colnames(data_df)\n",
    "    inModule <- (dynamicColors==module)\n",
    "    modProbes <- probes[inModule]\n",
    "    \n",
    "    #Select the corresponding Topological Overlap\n",
    "    modTOM <- TOM[inModule, inModule]\n",
    "    dimnames(modTOM) <- list(modProbes, modProbes)\n",
    "    \n",
    "    #Calculate intramodular connectivity\n",
    "    IMConn <- intramodularConnectivity(adjacency[modProbes, modProbes], rep(module, length(modProbes)), scaleByMax=FALSE)$kWithin\n",
    "    \n",
    "    #Summary table\n",
    "    connectivity <- tibble(ModuleID=str_to_title(module),\n",
    "                           AnalyteID=modProbes,\n",
    "                           IntramodularConnectivity=IMConn,\n",
    "                           TOMsimilaritySum=rowSums(modTOM))\n",
    "    print(str_c(module,\" module: \", nrow(connectivity)))\n",
    "    #print(head(connectivity))#Explicitly print due to within for-loop\n",
    "    \n",
    "    #Add to the overall table\n",
    "    temp_tbl <- dplyr::bind_rows(temp_tbl, connectivity)\n",
    "}\n",
    "print(str_c(\"-> Total nrow: \", nrow(temp_tbl)))\n",
    "head(temp_tbl)\n",
    "\n",
    "#Update the module assignment table\n",
    "module_tbl <- dplyr::left_join(module_tbl, temp_tbl, by=c(\"AnalyteID\", \"ModuleID\"))\n",
    "print(\"Module assignment table (updated)\")\n",
    "print(str_c(\"- nrow: \", nrow(module_tbl)))\n",
    "head(module_tbl)"
   ]
  },
  {
   "cell_type": "markdown",
   "id": "3126240b-c2cf-4bed-b0e2-fdb890d75d97",
   "metadata": {},
   "source": [
    "## Enrichment analysis"
   ]
  },
  {
   "cell_type": "code",
   "execution_count": null,
   "id": "08b8ee26-ddfc-461b-9222-b814196aae16",
   "metadata": {
    "vscode": {
     "languageId": "r"
    }
   },
   "outputs": [],
   "source": [
    "brown_module <- module_tbl %>%\n",
    "    dplyr::filter(ModuleID %in% \"Brown\")\n",
    "blue_module <- module_tbl %>%\n",
    "    dplyr::filter(ModuleID %in% \"Blue\")\n",
    "turq_module <- module_tbl %>%\n",
    "    dplyr::filter(ModuleID %in% \"Turquoise\")"
   ]
  },
  {
   "cell_type": "code",
   "execution_count": null,
   "id": "40e95334-509b-40e9-af70-5c57be888f05",
   "metadata": {
    "vscode": {
     "languageId": "r"
    }
   },
   "outputs": [],
   "source": [
    "orBP_Brown <- enrichGO(gene          = brown_module$GeneSymbol,\n",
    "                universe      = module_tbl$GeneSymbol,\n",
    "                OrgDb         = org.Hs.eg.db,\n",
    "                ont           = \"BP\",\n",
    "                keyType       = \"SYMBOL\",\n",
    "                pAdjustMethod = \"BH\",\n",
    "                pvalueCutoff  = 1,\n",
    "                qvalueCutoff  = 1,\n",
    "        readable      = TRUE)\n"
   ]
  },
  {
   "cell_type": "code",
   "execution_count": null,
   "id": "83f9a8ff-2e01-49ec-8eb6-f79755f7cd43",
   "metadata": {
    "vscode": {
     "languageId": "r"
    }
   },
   "outputs": [],
   "source": [
    "barplot(orBP_Brown, showCategory=10) \n",
    "head(orBP_Brown[,1:8])"
   ]
  },
  {
   "cell_type": "markdown",
   "id": "eac9a5a3-aba6-4a1c-b6f9-2c3762d26262",
   "metadata": {},
   "source": [
    "### 7-1 Hub gene enrichment"
   ]
  },
  {
   "cell_type": "code",
   "execution_count": null,
   "id": "1115a78c-06af-4d17-912d-e4de73c90581",
   "metadata": {
    "vscode": {
     "languageId": "r"
    }
   },
   "outputs": [],
   "source": [
    "topQ <- 0.10 #Focus on the top hubs\n",
    "hubs_brown <- module_tbl %>%\n",
    "    dplyr::filter(ModuleID==\"Brown\") %>%\n",
    "    dplyr::filter(IntramodularConnectivity>=quantile(IntramodularConnectivity, 1-topQ))"
   ]
  },
  {
   "cell_type": "code",
   "execution_count": null,
   "id": "954ff2f2-db3b-44fc-8893-0848389a0004",
   "metadata": {
    "vscode": {
     "languageId": "r"
    }
   },
   "outputs": [],
   "source": [
    "quantile(module_tbl$IntramodularConnectivity, 1-topQ, na.rm=TRUE)\n",
    "hist(module_tbl$IntramodularConnectivity, main = \"Histogram of Intramodular Connectivity\",xlab = 'Connectivity')\n",
    "abline(v=quantile(module_tbl$IntramodularConnectivity, 1-topQ, na.rm=TRUE))"
   ]
  },
  {
   "cell_type": "code",
   "execution_count": null,
   "id": "2e7c082e-b91c-4cdc-902f-c9c109c36e52",
   "metadata": {
    "vscode": {
     "languageId": "r"
    }
   },
   "outputs": [],
   "source": [
    "orBP_Brown <- enrichGO(gene          = hubs_brown$GeneSymbol,\n",
    "                universe      = module_tbl$GeneSymbol,\n",
    "                OrgDb         = org.Hs.eg.db,\n",
    "                ont           = \"BP\",\n",
    "                keyType       = \"SYMBOL\",\n",
    "                pAdjustMethod = \"BH\",\n",
    "                pvalueCutoff  = 1,\n",
    "                qvalueCutoff  = 1,\n",
    "        readable      = TRUE)"
   ]
  },
  {
   "cell_type": "code",
   "execution_count": null,
   "id": "9d1d7d93-753d-4afb-8e62-c16440a7c226",
   "metadata": {
    "vscode": {
     "languageId": "r"
    }
   },
   "outputs": [],
   "source": [
    "barplot(orBP_Brown, showCategory=10) \n",
    "head(orBP_Brown[,1:8])"
   ]
  },
  {
   "cell_type": "markdown",
   "id": "011be217-c99e-4feb-95ba-0b74efd8d78f",
   "metadata": {},
   "source": [
    "## *Exercise Metabolites and clinical labs*\n",
    "\n",
    "We have only touched on proteins for the WGCNA. Perform WGCNA with metabolites and/or clinical labs. Do you find informative modules? How would you do enrichment analysis? "
   ]
  },
  {
   "cell_type": "markdown",
   "id": "02eb47bd-58c5-4886-b214-fabd2077f6a6",
   "metadata": {},
   "source": [
    "# Differential Quantification"
   ]
  },
  {
   "cell_type": "code",
   "execution_count": null,
   "id": "6b45b400-7f0c-4819-84a2-854e74832b56",
   "metadata": {
    "vscode": {
     "languageId": "r"
    }
   },
   "outputs": [],
   "source": [
    "# Split into quintiles to compare distribution extremes. \n",
    "num_df_med <- scale(data_df, scale = FALSE)\n",
    "meta_indices_quin <- sample_tbl %>%\n",
    "    dplyr::mutate(merge_quin = dplyr::ntile(merge_fi, 5)) %>%\n",
    "    dplyr::mutate(merge_quin = dplyr::case_when(merge_quin == 1 ~'1st', \n",
    "                                            merge_quin == 2 ~'2nd',\n",
    "                                            merge_quin == 3 ~'3rd',\n",
    "                                            merge_quin == 4 ~'4th',\n",
    "                                            merge_quin == 5 ~'5th')) %>%\n",
    "    dplyr::mutate_each_(funs(factor(.)),c(\"merge_quin\", \"age\", \"sex\"))\n",
    "\n",
    "num_df_med_t <- t(num_df_med)"
   ]
  },
  {
   "cell_type": "code",
   "execution_count": null,
   "id": "cabecc93-587d-4bb6-91cf-c18f4e01491c",
   "metadata": {
    "vscode": {
     "languageId": "r"
    }
   },
   "outputs": [],
   "source": [
    "# Create our groups, as factors (required by LIMMA)\n",
    "group <- as.factor(meta_indices_quin$merge_quin)\n",
    "age <- as.factor(meta_indices_quin$age)\n",
    "sex <- as.factor(meta_indices_quin$sex)\n",
    "# Set design comparing 5th to 1st quintile\n",
    "design = model.matrix(~0+group + sex + age)\n",
    "contrast <- makeContrasts(HighvsLow = group5th-group1st, levels=design)\n",
    "fit1 <- lmFit(num_df_med_t, design)\n",
    "fit2 <- contrasts.fit(fit1,contrasts = contrast)\n",
    "fit3 <- eBayes(fit2)\n",
    "res <- topTable(fit3, sort.by = \"P\", n = Inf)"
   ]
  },
  {
   "cell_type": "code",
   "execution_count": null,
   "id": "579434d1-65ee-460f-90f1-b178a519eaef",
   "metadata": {
    "vscode": {
     "languageId": "r"
    }
   },
   "outputs": [],
   "source": [
    "# Plot results\n",
    "colnames(res) <- c(\"log2FC\", \"AveExpr\", \"t\", \"pvalue\", \"padjust\", \"B\")\n",
    "res$Name <- rownames(res)\n",
    "\n",
    "x <- res\n",
    "x$id <- rownames(x)\n",
    "x$id[(x$padjust > 0.01 | abs(x$log2FC) < 1)] <- NA\n",
    "\n",
    "fc <- max(abs(x$log2FC), na.rm=TRUE) +.5\n",
    "clrs = \"RdBu\"\n",
    "clrs <- vc_palette(clrs, ramp=FALSE)\n",
    "#color_ramp <- c(rev(RColorBrewer::brewer.pal(7,\"Reds\")), \"White\", RColorBrewer::brewer.pal(7,\"Reds\"))\n",
    "\n",
    "p1 <- ggplot2::ggplot(data=x,\n",
    "              ggplot2::aes(x=log2FC, y= -log10(padjust), label = id)) +\n",
    "         ggplot2::geom_point(ggplot2::aes(fill = log2FC),\n",
    "             color=\"gray20\", shape = 21, size=3) +\n",
    "         ggplot2::xlim( -fc, fc) + ggplot2::theme_light() +\n",
    "         ggplot2::xlab(\"Log2 Fold Change\") +\n",
    "         ggplot2::ylab(\"-Log10 Adjusted P-value\") +\n",
    "         ggplot2::scale_fill_gradientn(colors=clrs, limits=c(-fc, fc),\n",
    "             guide=\"none\")\n",
    "options(repr.plot.width=7, repr.plot.height=7)\n",
    "p1 + geom_text(check_overlap = TRUE)"
   ]
  },
  {
   "cell_type": "code",
   "execution_count": null,
   "id": "59811b64-f747-4d92-ab51-c1b8b7e3070a",
   "metadata": {
    "vscode": {
     "languageId": "r"
    }
   },
   "outputs": [],
   "source": [
    "res$AnalyteID <- rownames(res)\n",
    "res_modules <- merge(res, module_tbl, by=\"AnalyteID\")\n",
    "print(\"Number of DEPs\")\n",
    "print(str_c(\"- nrow: \", nrow(res_modules %>% filter(padjust <= 0.05))))\n",
    "\n",
    "print(\"Number of DEPs overlapping Blue module\")\n",
    "print(str_c(\"- nrow: \", nrow(res_modules %>% filter(padjust <= 0.05 & ModuleID == 'Blue'))))\n",
    "\n",
    "print(\"Number of DEPs overlapping Brown module\")\n",
    "print(str_c(\"- nrow: \", nrow(res_modules %>% filter(padjust <= 0.05 & ModuleID == 'Brown'))))\n",
    "\n",
    "print(\"Number of DEPs overlapping Turquoise module\")\n",
    "print(str_c(\"- nrow: \", nrow(res_modules %>% filter(padjust <= 0.05 & ModuleID == 'Turquoise'))))\n"
   ]
  },
  {
   "cell_type": "code",
   "execution_count": null,
   "id": "ae849fc3-2416-4611-913e-1f0962348144",
   "metadata": {
    "vscode": {
     "languageId": "r"
    }
   },
   "outputs": [],
   "source": [
    "datatable(res_modules, options = list(searching = TRUE))"
   ]
  },
  {
   "cell_type": "code",
   "execution_count": null,
   "id": "d1a78fcd-538f-4b36-acb1-e17b654a5127",
   "metadata": {
    "vscode": {
     "languageId": "r"
    }
   },
   "outputs": [],
   "source": [
    "# Look at enrichment\n",
    "DE_Prots <- res_modules %>%\n",
    "    dplyr::filter(padjust>=0.05)\n",
    "\n",
    "orBP_DE <- enrichGO(gene          = DE_Prots$GeneSymbol,\n",
    "                universe      = module_tbl$GeneSymbol,\n",
    "                OrgDb         = org.Hs.eg.db,\n",
    "                ont           = \"BP\",\n",
    "                keyType       = \"SYMBOL\",\n",
    "                pAdjustMethod = \"BH\",\n",
    "                pvalueCutoff  = 1,\n",
    "                qvalueCutoff  = 1,\n",
    "        readable      = TRUE)\n"
   ]
  },
  {
   "cell_type": "code",
   "execution_count": null,
   "id": "e2270f2f-804b-4442-b201-202559bc11cb",
   "metadata": {
    "vscode": {
     "languageId": "r"
    }
   },
   "outputs": [],
   "source": [
    "barplot(orBP_DE, showCategory=10) \n",
    "head(orBP_DE[,1:8])"
   ]
  },
  {
   "cell_type": "code",
   "execution_count": null,
   "id": "3fe0bad1-0fe6-4c9c-a652-5fcfea21c73f",
   "metadata": {
    "vscode": {
     "languageId": "r"
    }
   },
   "outputs": [],
   "source": []
  }
 ],
 "metadata": {
  "kernelspec": {
   "display_name": "R",
   "language": "R",
   "name": "ir"
  },
  "language_info": {
   "codemirror_mode": "r",
   "file_extension": ".r",
   "mimetype": "text/x-r-source",
   "name": "R",
   "pygments_lexer": "r",
   "version": "4.3.3"
  },
  "toc-showmarkdowntxt": false
 },
 "nbformat": 4,
 "nbformat_minor": 5
}
