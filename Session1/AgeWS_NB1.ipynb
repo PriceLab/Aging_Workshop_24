{
 "cells": [
  {
   "cell_type": "markdown",
   "id": "7e25be93-3783-4417-89db-9988e48caba0",
   "metadata": {},
   "source": [
    "# Notebook 1 for System Biology of Aging \n",
    "This notebook is part of the first session of the 2024 Systems Biology of Aging Workshop. But don't worry about setup, all of the files and R packages should be installed in the the Sagemaker environment.\n",
    "\n",
    "This Notebook will use the \"custom-R\" kernel. Double check that this is correct by looking in the top right corner.\n",
    "\n",
    "\n",
    "Does this need to be copyied and saved? \n",
    "Do we want to link to anything? \n",
    "Any disclaimers?\n",
    "\n",
    "\n",
    "> Creating a final Notebook 1\n",
    "> TODO:\n",
    "> * Time cells and generate any output that needs to be loaded\n",
    "> * Update all links for Sagemaker directory\n",
    "\n",
    "> Outline\n",
    "> * Data exploration and cleaning\n",
    "> ** Dispersion of frailty measures\n",
    "> ** Create baseline proteins, metabolites and clinical\n",
    "> * Dimensionality reduction\n",
    "> ** Scale and impute for PCA\n",
    "> * Single-Omics DE\n",
    "> ** DE of Proteins and Metabolites quintiles\n",
    "> ** Volcano plots\n",
    "> ** Enrichment\n",
    "> * Single-Omic WGNCA\n",
    "> ** Correlate with frailty\n",
    "> ** Enrichment of select modules\n",
    "> * Multi-Omic WGCNA\n",
    "> ** Correlate with frailty\n",
    "> ** Multiomic ssgsea"
   ]
  },
  {
   "cell_type": "markdown",
   "id": "b3fe0630-2a39-4551-b590-bc76192f5285",
   "metadata": {
    "tags": [],
    "toc-hr-collapsed": true
   },
   "source": [
    "## Setup\n",
    "The next couple blocks of code will load the R packages into our notebook and set some options for prettier visualizaions."
   ]
  },
  {
   "cell_type": "code",
   "execution_count": null,
   "id": "b75ea494-6ec2-429b-968f-3d20934a44c1",
   "metadata": {},
   "outputs": [],
   "source": [
    "# Load packages, one per line for clarity\n",
    "suppressMessages(library(\"tidyverse\", quietly = TRUE, warn.conflicts=FALSE))\n",
    "suppressMessages(library(\"ggplot2\", quietly = TRUE, warn.conflicts=FALSE))\n",
    "suppressMessages(library(\"WGCNA\", quietly = TRUE, warn.conflicts=FALSE))\n",
    "suppressMessages(library(\"org.Hs.eg.db\", quietly = TRUE, warn.conflicts=FALSE))\n",
    "suppressMessages(library(\"GO.db\", quietly = TRUE, warn.conflicts=FALSE))\n",
    "suppressMessages(library(\"clusterProfiler\", quietly = TRUE, warn.conflicts=FALSE))\n",
    "suppressMessages(library( \"enrichplot\", quietly = TRUE, warn.conflicts=FALSE))\n",
    "suppressMessages(library(\"limma\", quietly = TRUE, warn.conflicts=FALSE))\n",
    "suppressMessages(library(\"DT\", quietly = TRUE, warn.conflicts=FALSE))\n",
    "suppressMessages(library(\"ggpubr\", quietly = TRUE, warn.conflicts=FALSE))\n",
    "suppressMessages(library(\"gplots\", quietly = TRUE, warn.conflicts=FALSE))\n",
    "suppressMessages(library(\"scales\", quietly = TRUE, warn.conflicts=FALSE))\n",
    "suppressMessages(library(\"Matrix\", quietly = TRUE, warn.conflicts=FALSE))\n",
    "suppressMessages(library(\"colorspace\", quietly = TRUE, warn.conflicts=FALSE))"
   ]
  },
  {
   "cell_type": "code",
   "execution_count": null,
   "id": "132f017a-df98-4a4e-a653-352669908687",
   "metadata": {},
   "outputs": [],
   "source": [
    "# Other options\n",
    "source(\"Scripts/Workshop_scripts.R\") # Functions for plotting\n",
    "options(stringsAsFactors=FALSE)#Required for WGCNA\n",
    "enableWGCNAThreads(nThreads=2) # \n",
    "options(repr.plot.width=7, repr.plot.height=7)#Default=7x7\n",
    "options(repr.matrix.max.rows=75, repr.matrix.max.cols=20)\n",
    "options(warn=-1)"
   ]
  },
  {
   "cell_type": "markdown",
   "id": "19e3972f-0bd5-47fc-ad0f-3a735f102b28",
   "metadata": {},
   "source": [
    "# Let's Get Started! -Frailty measures\n",
    "\n",
    "Now that our environment is ready, let's start digging into our data. In your Sagemaker environment, you should see a folders with tsv files for each of the omics and outcomes. We'll go over all of these during the anlaysis, but let's start by looking at our outcome- the frailty indices."
   ]
  },
  {
   "cell_type": "code",
   "execution_count": null,
   "id": "069c35f9-540d-41ee-a2f0-aa1ce7a850e1",
   "metadata": {},
   "outputs": [],
   "source": [
    "#fr_measures = read_delim(\"../data/frailty/combination_fi_040124.csv\")\n",
    "fr_measures = read_delim(\"/shared-libs/useful-files/frailty_measures_kanelab/FI_workshop_040124/combination_fi_040124.csv\", show_col_types = FALSE, delim=\",\")\n",
    "dim(fr_measures)\n",
    "head(fr_measures)\n",
    "colnames(fr_measures)"
   ]
  },
  {
   "cell_type": "code",
   "execution_count": null,
   "id": "494de0e1-0eeb-49b8-b0fe-1139f0f98555",
   "metadata": {},
   "outputs": [],
   "source": [
    "fr_measures_key = read_delim(\"FI_Features.txt\", show_col_types = FALSE, delim=\"\\t\")"
   ]
  },
  {
   "cell_type": "code",
   "execution_count": null,
   "id": "94499c34-01f2-491a-8f9b-d7cef90bc9ee",
   "metadata": {},
   "outputs": [],
   "source": [
    "fr_measures_key"
   ]
  },
  {
   "cell_type": "markdown",
   "id": "9dd16b9d-f2b6-4183-bcb7-24ca5adaf7a2",
   "metadata": {},
   "source": [
    "To see the number of timepoints of the frailty index, we look at the frequency tables of the participants."
   ]
  },
  {
   "cell_type": "code",
   "execution_count": null,
   "id": "65666cbf-969d-489d-a9e5-232b53e806ba",
   "metadata": {},
   "outputs": [],
   "source": [
    "barplot(table(table(fr_measures$public_client_id)))"
   ]
  },
  {
   "cell_type": "markdown",
   "id": "88e03460-b4e3-496b-914b-8d62f3974d8f",
   "metadata": {},
   "source": [
    "So its a boring plot- but we can see that frailty was only calculated at 1 timepoint for each participant. Looking a bit closer, we see that this was the closest timepoint to the blood draw for the omics samples."
   ]
  },
  {
   "cell_type": "code",
   "execution_count": null,
   "id": "010edaad-ca09-4764-bdab-1a69a415472a",
   "metadata": {},
   "outputs": [],
   "source": [
    "hist(fr_measures$days_in_program, main = \"Histogram of days in program\",xlab = 'Number of Days')"
   ]
  },
  {
   "cell_type": "markdown",
   "id": "ca061bd6-58e3-4be8-ab3d-a3a1e13b0a09",
   "metadata": {},
   "source": [
    "Next, let's look at the distribution for each of the frailty measures: lab, self assessment and the merged."
   ]
  },
  {
   "cell_type": "code",
   "execution_count": null,
   "id": "aec9ef30-fe55-4dcf-97f1-16e168e7ed61",
   "metadata": {
    "tags": []
   },
   "outputs": [],
   "source": [
    "options(repr.plot.width=10, repr.plot.height=7)#Default=7x7\n",
    "hist(fr_measures$lab_fi,  xlim=c(0,.7), col=rgb(0,0,1,2/4), breaks=25, main = \"Histogram of Frailty Measures\",xlab = 'Index Value') # Blue\n",
    "hist(fr_measures$self_fi, add=T, xlim=c(0,.7), col=rgb(0,1,0,2/4), breaks=25) # Green\n",
    "hist(fr_measures$merge_fi, add=T, xlim=c(0,.7), col=rgb(1,0,0,2/4), breaks=25) # Red\n",
    "\n",
    "legend(\"topright\",  c(\"Lab\", \"Self\", \"Merged\"), lwd=4, col=c(\"blue\",\"green\", \"red\"))"
   ]
  },
  {
   "cell_type": "markdown",
   "id": "31a66684-2210-4fb7-b0ad-98f401f300c3",
   "metadata": {},
   "source": [
    "Sanity check- Frailty, in general, should increase with age. Is this what we see?"
   ]
  },
  {
   "cell_type": "code",
   "execution_count": null,
   "id": "09c70cb1-e71d-4eea-a018-693354b17f10",
   "metadata": {},
   "outputs": [],
   "source": [
    "p1 <- ggscatter(fr_measures, x = \"age\", y = \"merge_fi\",\n",
    "          add = \"reg.line\",                                 \n",
    "          conf.int = TRUE,                                \n",
    "          add.params = list(color = \"blue\",\n",
    "                            fill = \"dimgrey\")\n",
    "          )+\n",
    "  stat_cor(method = \"pearson\")\n",
    "facet(p1, facet.by = \"sex\")"
   ]
  },
  {
   "cell_type": "markdown",
   "id": "cdd52ad3-19e2-4fe9-803d-e792488d4f94",
   "metadata": {
    "tags": []
   },
   "source": [
    "# Data Cleaning"
   ]
  },
  {
   "cell_type": "code",
   "execution_count": null,
   "id": "f8e1223d-b4b6-4cf4-b45d-d46f5611728b",
   "metadata": {},
   "outputs": [],
   "source": [
    "# Load the data\n",
    "# Proteins\n",
    "#meta_protein = read_delim(\"../data/arivale_snapshot_ISB_2019-05-10_0053/proteomics_metadata.tsv\", skip=13, delim='\\t', show_col_types = FALSE)\n",
    "#proteins = read_delim(\"../data/arivale_snapshot_ISB_2019-05-10_0053/proteomics_corrected.tsv\", skip=13, delim='\\t', show_col_types = FALSE)\n",
    "meta_protein <- read_delim(\"/shared-data/snapshots/arivale_snapshot_ISB_2020-03-16_2156/proteomics_metadata.tsv\", skip=13, delim='\\t', show_col_types = FALSE)\n",
    "proteins <- read_delim(\"/shared-data/snapshots/arivale_snapshot_ISB_2020-03-16_2156/proteomics_corrected.tsv\", skip=13, delim='\\t', show_col_types = FALSE)\n",
    "\n",
    "# Metabolites\n",
    "#meta_metabolites = read_delim(\"../data/arivale_snapshot_ISB_2019-05-10_0053/metabolomics_metadata.tsv\", skip=13, delim='\\t', show_col_types = FALSE)\n",
    "#metabolites = read_delim(\"../data/arivale_snapshot_ISB_2019-05-10_0053/metabolomics_corrected.tsv\", skip=13, delim='\\t', show_col_types = FALSE)\n",
    "meta_metabolites <- read_delim(\"/shared-data/snapshots/arivale_snapshot_ISB_2020-03-16_2156/metabolomics_metadata.tsv\", skip=13, delim='\\t', show_col_types = FALSE)\n",
    "metabolites <- read_delim(\"/shared-data/snapshots/arivale_snapshot_ISB_2020-03-16_2156/metabolomics_corrected.tsv\", skip=13, delim='\\t', show_col_types = FALSE)\n",
    "\n",
    "# Clinical chemistries\n",
    "#metabolites = read_delim(\"../data/arivale_snapshot_ISB_2019-05-10_0053/chemistries.tsv\", skip=13, delim='\\t', show_col_types = FALSE)\n",
    "chemistry <- read_delim(\"/shared-data/snapshots/arivale_snapshot_ISB_2020-03-16_2156/chemistries.tsv\", skip=13, delim='\\t', show_col_types = FALSE)\n"
   ]
  },
  {
   "cell_type": "markdown",
   "id": "87736764-1356-43e4-b948-094d82cf5e66",
   "metadata": {},
   "source": [
    "## Metabolomics\n",
    "Lets look at the data!"
   ]
  },
  {
   "cell_type": "code",
   "execution_count": null,
   "id": "970ab4e4-535b-4195-8f52-200c4bc271e1",
   "metadata": {},
   "outputs": [],
   "source": [
    "#Load the data\n",
    "head(metabolites)\n",
    "head(meta_metabolites)\n",
    "tail(meta_metabolites)"
   ]
  },
  {
   "cell_type": "markdown",
   "id": "6ab238f7-54ed-410a-b72b-3c292da3ef9f",
   "metadata": {},
   "source": [
    "### Drop metabolites without annotations"
   ]
  },
  {
   "cell_type": "code",
   "execution_count": null,
   "id": "e9b8d713-4113-409f-9118-06d497b8d444",
   "metadata": {},
   "outputs": [],
   "source": [
    "new_names <- sapply(colnames(metabolites), function(x) {\n",
    "  if (x %in% meta_metabolites$CHEMICAL_ID) {\n",
    "      newrow <- meta_metabolites[meta_metabolites$CHEMICAL_ID %in% x,]\n",
    "    paste0(x, \"(\", newrow[,'BIOCHEMICAL_NAME'], \")\")\n",
    "  } else {\n",
    "    x\n",
    "  }\n",
    "})\n",
    "\n",
    "colnames(metabolites) <- new_names"
   ]
  },
  {
   "cell_type": "code",
   "execution_count": null,
   "id": "ae495c2f-fe2e-492d-b49f-9188e9b0ce06",
   "metadata": {},
   "outputs": [],
   "source": [
    "print(\"Metabolites\")\n",
    "print(str_c(\"- columns: \", ncol(metabolites)))\n",
    "metabolites <- metabolites[,!grepl(\"X -\", colnames(metabolites))]\n",
    "print(\"Metabolites after filtering\")\n",
    "print(str_c(\"- columns: \", ncol(metabolites)))"
   ]
  },
  {
   "cell_type": "markdown",
   "id": "96285e7a-2386-42c1-8356-50b71b7eec6a",
   "metadata": {
    "tags": []
   },
   "source": [
    "### Get baseline metabolites"
   ]
  },
  {
   "cell_type": "markdown",
   "id": "adc69ab7-7f36-4c67-85b7-f50dd5150516",
   "metadata": {},
   "source": [
    "Considering these participants underwent wellness coaching, we will only look at the baseline analysis for looking at associations with frailty indices. "
   ]
  },
  {
   "cell_type": "code",
   "execution_count": null,
   "id": "0527df3a-6250-4313-801b-0842e98ec39b",
   "metadata": {},
   "outputs": [],
   "source": [
    "barplot(table(table(metabolites$public_client_id)), main = \"Histogram of Participant\",xlab = 'Number of Occurrences')"
   ]
  },
  {
   "cell_type": "code",
   "execution_count": null,
   "id": "ba0f24eb-72b5-429f-86a0-663112aaf5dc",
   "metadata": {},
   "outputs": [],
   "source": [
    "hist(metabolites$days_since_first_draw, main = \"Days Since Draw\",xlab = 'Day')"
   ]
  },
  {
   "cell_type": "code",
   "execution_count": null,
   "id": "37eddca5-09b7-435d-a191-66cf7b2cfcf5",
   "metadata": {},
   "outputs": [],
   "source": [
    "print(\"Participants metabolite records\")\n",
    "print(str_c(\"- columns: \", nrow(metabolites)))\n",
    "metabolites <-metabolites %>% \n",
    "    group_by(public_client_id) %>%\n",
    "    arrange(days_since_first_draw) %>%\n",
    "    filter(row_number()==1) %>%\n",
    "    filter(days_since_first_draw < 75)\n",
    "\n",
    "print(\"Participants metabolite records after filtering\")\n",
    "print(str_c(\"- columns: \", nrow(metabolites)))"
   ]
  },
  {
   "cell_type": "markdown",
   "id": "a1d4997c-0d75-4e15-8452-a94930133f32",
   "metadata": {},
   "source": [
    "### Evaluate Missingess"
   ]
  },
  {
   "cell_type": "code",
   "execution_count": null,
   "id": "b7a4804d-61b3-480c-b0c2-c686f5c87319",
   "metadata": {},
   "outputs": [],
   "source": [
    "mets_missing <- colSums(is.na(metabolites))/nrow(metabolites)\n",
    "hist(mets_missing, main = \"Histogram of Missingness\",xlab = '% NA')"
   ]
  },
  {
   "cell_type": "code",
   "execution_count": null,
   "id": "e69403f5-d702-4f78-9a1e-2ede703475d0",
   "metadata": {},
   "outputs": [],
   "source": [
    "mets_missing[order(mets_missing, decreasing = TRUE)[1:10]]"
   ]
  },
  {
   "cell_type": "markdown",
   "id": "094c977d-12e8-4b6a-b0a2-4abc83fd5566",
   "metadata": {},
   "source": [
    "### Impute and Scale"
   ]
  },
  {
   "cell_type": "markdown",
   "id": "2146b10a-8d5e-4907-b046-96b20c2aec8a",
   "metadata": {},
   "source": [
    "When dealing with metabolites, its important to consider the method of imputation! For example, imputing with the mean or median may result in incorrect values for xenobiotics. More sophisticated imputation methods, such as random forest can be costly. "
   ]
  },
  {
   "cell_type": "code",
   "execution_count": null,
   "id": "4f5fca02-2218-4940-8762-5e1d3a00dfc6",
   "metadata": {},
   "outputs": [],
   "source": [
    "metabolites_filter <- metabolites[,c(9:ncol(metabolites))] # Drop non metabolite values\n",
    "metabolites_filter <- metabolites_filter[, colMeans(is.na(metabolites_filter)) <= .5]\n",
    "metabolites_filter_impute <- as_tibble(impute::impute.knn(as.matrix(metabolites_filter))$data)\n",
    "head(metabolites_filter_impute)"
   ]
  },
  {
   "cell_type": "markdown",
   "id": "f3880be5-d8db-436d-8e10-a8013cd51be4",
   "metadata": {},
   "source": [
    "### PCA"
   ]
  },
  {
   "cell_type": "code",
   "execution_count": null,
   "id": "6a74a1e0-c5a8-4e79-a9d6-6ce94f8deccc",
   "metadata": {},
   "outputs": [],
   "source": [
    "PCA_mets_all <- prcomp(metabolites_filter_impute, center=TRUE, scale=TRUE)\n",
    "PCA_mets <- cbind(metabolites[,c(1:8)], PCA_mets_all$x[,c(1:4)])\n",
    "PCA_mets <- merge(PCA_mets, fr_measures, by=\"public_client_id\")"
   ]
  },
  {
   "cell_type": "code",
   "execution_count": null,
   "id": "dd455615-edae-4b0b-adf8-c360aec874e2",
   "metadata": {},
   "outputs": [],
   "source": [
    "percentVar <- PCA_mets_all$sdev^2 / sum(PCA_mets_all$sdev^2 )\n",
    "\n",
    "ggplot(PCA_mets, aes(x=PC1, y=PC2, color=sex)) +\n",
    "    geom_point(size=3) + scale_color_brewer(palette=\"Set1\") +\n",
    "    xlab(paste0(\"PC1: \",round(percentVar[1] * 100),\"% variance\")) +\n",
    "    ylab(paste0(\"PC2: \",round(percentVar[2] * 100),\"% variance\")) +\n",
    "     theme_minimal() +\n",
    "    coord_fixed()\n",
    "ggplot(PCA_mets, aes(x=PC3, y=PC4, color=sex)) +\n",
    "    geom_point(size=3) + scale_color_brewer(palette=\"Set1\") +\n",
    "    xlab(paste0(\"PC3: \",round(percentVar[3] * 100),\"% variance\")) +\n",
    "    ylab(paste0(\"PC4: \",round(percentVar[4] * 100),\"% variance\")) +\n",
    "     theme_minimal() +\n",
    "    coord_fixed()"
   ]
  },
  {
   "cell_type": "code",
   "execution_count": null,
   "id": "d3ab8fb2-38de-4d7d-84ff-b7b8e656237d",
   "metadata": {},
   "outputs": [],
   "source": [
    "ggplot(PCA_mets, aes(x=PC1, y=PC2, color=merge_fi)) +\n",
    "    geom_point(size=2) + scale_color_gradient(low = \"yellow\", high = \"darkblue\") +\n",
    "    xlab(paste0(\"PC1: \",round(percentVar[1] * 100),\"% variance\")) +\n",
    "    ylab(paste0(\"PC2: \",round(percentVar[2] * 100),\"% variance\")) +\n",
    "    theme_minimal() +\n",
    "    coord_fixed()"
   ]
  },
  {
   "cell_type": "markdown",
   "id": "ea2a326d-e0be-48f6-88b1-ac383a56f4ea",
   "metadata": {},
   "source": [
    " We'll leave it there for now, but will come back to PCA in session three."
   ]
  },
  {
   "cell_type": "markdown",
   "id": "d3757e0d-58c8-493d-8790-8729c281592a",
   "metadata": {},
   "source": [
    "## Proteins"
   ]
  },
  {
   "cell_type": "markdown",
   "id": "506b8645-ba00-4b43-9bde-284e763afab7",
   "metadata": {},
   "source": [
    "Proteins follow the same analysis pattern as metabolites. We'll skip going over in detail. "
   ]
  },
  {
   "cell_type": "code",
   "execution_count": null,
   "id": "4dacb5a7-27f2-4c5b-86f3-cebbe7619ba7",
   "metadata": {},
   "outputs": [],
   "source": [
    "new_names <- sapply(colnames(proteins), function(x) {\n",
    "  if (x %in% meta_protein$name) {\n",
    "      newrow <- meta_protein[meta_protein$name %in% x,]\n",
    "    paste0(x, \"(\", newrow[,'gene_name'], \")\")\n",
    "  } else {\n",
    "    x\n",
    "  }\n",
    "})\n",
    "\n",
    "colnames(proteins) <- new_names\n",
    "\n",
    "print(\"Participants protein records\")\n",
    "print(str_c(\"- columns: \", nrow(proteins)))\n",
    "proteins <-proteins %>% \n",
    "    group_by(public_client_id) %>%\n",
    "    arrange(days_since_first_draw) %>%\n",
    "    filter(row_number()==1) %>%\n",
    "    filter(days_since_first_draw < 75)\n",
    "\n",
    "print(\"Participants protein records\")\n",
    "print(str_c(\"- columns: \", nrow(proteins)))"
   ]
  },
  {
   "cell_type": "markdown",
   "id": "50b0e335-63c6-4c71-bf89-30363910e538",
   "metadata": {},
   "source": [
    "### Exercise 1\n",
    "\n",
    "What, if anything, needs to be considered when imputing and filtering proteins?\n",
    "Try 3 imputation methods, Zero, Mean and KNN. Does this change the PCA?"
   ]
  },
  {
   "cell_type": "markdown",
   "id": "bc007814-37f7-4370-a863-2b54012c9177",
   "metadata": {},
   "source": [
    "## Clinical Labs"
   ]
  },
  {
   "cell_type": "code",
   "execution_count": null,
   "id": "00355dd5-a595-4489-91dd-efdf67cd8927",
   "metadata": {},
   "outputs": [],
   "source": [
    "print(\"Participants chemisty records\")\n",
    "print(str_c(\"- columns: \", nrow(chemistry)))\n",
    "chemistry <-chemistry %>% \n",
    "    group_by(public_client_id) %>%\n",
    "    arrange(days_since_first_draw) %>%\n",
    "    filter(row_number()==1) %>%\n",
    "    filter(days_since_first_draw < 75)\n",
    "\n",
    "print(\"Participants chemistry records\")\n",
    "print(str_c(\"- columns: \", nrow(chemistry)))"
   ]
  },
  {
   "cell_type": "code",
   "execution_count": null,
   "id": "b8756e84-6d47-4f84-94f6-8a661ad9d253",
   "metadata": {},
   "outputs": [],
   "source": [
    "colnames(chemistry)"
   ]
  },
  {
   "cell_type": "code",
   "execution_count": null,
   "id": "ba6c6c29-6efc-44e7-a29e-0f1a0e58a35b",
   "metadata": {},
   "outputs": [],
   "source": [
    "### Save these for later to re-run analysis below without having to run the code above. \n",
    "dir.create(\"./Session1_files/\", showWarnings = FALSE)\n",
    "write_delim(metabolites[,c(1,9:ncol(metabolites))], \"./Session1_files/metabolites_baseline.tsv\", delim=\"\\t\")\n",
    "write_delim(proteins[,c(1,22:ncol(proteins))], \"./Session1_files/proteins_baseline.tsv\", delim=\"\\t\")\n",
    "write_delim(chemistry[,c(1,13:ncol(chemistry))], \"./Session1_files/chemistries_baseline.tsv\", delim=\"\\t\")"
   ]
  },
  {
   "cell_type": "markdown",
   "id": "fae70cd1-1ecc-4097-a156-814a5ebb9232",
   "metadata": {},
   "source": [
    "# WGCNA Proteins"
   ]
  },
  {
   "cell_type": "code",
   "execution_count": null,
   "id": "82565bc4-d3d7-451e-984b-d6f2b1e9d40d",
   "metadata": {},
   "outputs": [],
   "source": [
    "dataset_label <- \"Proteomics\"#For label purpose; Fix throughout this notebook\n",
    "omics <- proteins[,c(1,22:ncol(proteins))]\n",
    "\n",
    "#Select the participants having both data\n",
    "##Analyte data\n",
    "data_df <- omics %>%\n",
    "    dplyr::filter(public_client_id %in% fr_measures$public_client_id) %>%\n",
    "    dplyr::arrange(public_client_id) %>%#Sort row order\n",
    "    #Transform tibble for easily applying to the WGCNA functions\n",
    "    column_to_rownames(var=\"public_client_id\")\n",
    "data_df <- data_df[, order(colnames(data_df))]#Sort column order\n",
    "print(\"Data\")\n",
    "print(str_c(\"- nrow: \", nrow(data_df)))\n",
    "head(data_df)\n",
    "##Sample metadata\n",
    "sample_tbl <- fr_measures %>%\n",
    "    dplyr::filter(public_client_id %in% omics$public_client_id) %>%\n",
    "    dplyr::arrange(public_client_id)#Sort row order\n",
    "print(\"Sample metadata\")\n",
    "print(str_c(\"- nrow: \", nrow(sample_tbl)))\n",
    "head(sample_tbl)"
   ]
  },
  {
   "cell_type": "markdown",
   "id": "aac5aeb4-da97-40de-beca-555af4ebcd88",
   "metadata": {},
   "source": [
    "## 1. Prepare metadata"
   ]
  },
  {
   "cell_type": "code",
   "execution_count": null,
   "id": "2548320b-2679-4cd3-927d-1e0bf12ea458",
   "metadata": {},
   "outputs": [],
   "source": [
    "#\n",
    "analyte_tbl <- meta_protein %>%\n",
    "    #Prepare the same analyte IDs within the data table\n",
    "    dplyr::mutate(AnalyteID=str_c(name,\"(\",gene_name,\")\"), Dataset=dataset_label) %>%\n",
    "    #Clean\n",
    "    dplyr::rename(AnalyteID_original=name, PanelID=panel, UniProtID=uniprot, GeneSymbol=gene_name) %>%\n",
    "    dplyr::select(AnalyteID, Dataset, AnalyteID_original, PanelID, UniProtID, GeneSymbol)\n",
    "\n",
    "#Filter analytes within the data table\n",
    "analyte_tbl <- analyte_tbl %>%\n",
    "    dplyr::filter(AnalyteID %in% colnames(data_df)) %>%\n",
    "    dplyr::arrange(AnalyteID)#Sort row order\n",
    "print(\"Analyte metadata\")\n",
    "print(str_c(\"- nrow: \", nrow(analyte_tbl)))\n",
    "head(analyte_tbl)"
   ]
  },
  {
   "cell_type": "markdown",
   "id": "d31c7265-f788-4447-b182-bbb3b37ae6d8",
   "metadata": {},
   "source": [
    "## 2. Missingness filter\n",
    "\n",
    "WGNCA provides a function to filter for missingness. This filter both columns (features) and rows (participants)."
   ]
  },
  {
   "cell_type": "code",
   "execution_count": null,
   "id": "85ee5734-1845-4c66-87bb-9d45ebe12a58",
   "metadata": {},
   "outputs": [],
   "source": [
    "#Filter samples and features based on the default WGCNA NA criteria (50%)\n",
    "gsg = goodSamplesGenes(data_df, verbose = 3);\n",
    "gsg$allOK\n",
    "if (!gsg$allOK)\n",
    "{\n",
    "  # Optionally, print the gene and sample names that were removed:\n",
    "  if (sum(!gsg$goodGenes)>0) \n",
    "     printFlush(paste(\"Removing genes:\", paste(names(data_df)[!gsg$goodGenes], collapse = \", \")));\n",
    "  if (sum(!gsg$goodSamples)>0) \n",
    "     printFlush(paste(\"Removing samples:\", paste(rownames(data_df)[!gsg$goodSamples], collapse = \", \")));\n",
    "  # Remove the offending genes and samples from the data:\n",
    "  data_df = data_df[gsg$goodSamples, gsg$goodGenes]\n",
    "}\n",
    "\n",
    "print(\"After the filter:\")\n",
    "print(dim(data_df))"
   ]
  },
  {
   "cell_type": "markdown",
   "id": "3c6c8a25-2f16-47de-bce3-5ffba4da67b6",
   "metadata": {},
   "source": [
    "Why are there so many protiens filtered? The majority of Arivale partipants were run with 3 Olink panels, however a small subset were run with a larger number of panels. Since we need to remove these proteins, we will update the metadata for easier handling. "
   ]
  },
  {
   "cell_type": "code",
   "execution_count": null,
   "id": "e9fc0734-dfe7-4b63-9a5c-587c1b4d333a",
   "metadata": {},
   "outputs": [],
   "source": [
    "#Filter metadata to match columns in filtered data frame\n",
    "sample_tbl <- sample_tbl %>%\n",
    "    dplyr::filter(public_client_id %in% rownames(data_df))\n",
    "print(\"Sample metadata after the filter\")\n",
    "print(str_c(\"- nrow: \", nrow(sample_tbl)))\n",
    "\n",
    "analyte_tbl <- analyte_tbl %>%\n",
    "    dplyr::filter(AnalyteID %in% colnames(data_df))\n",
    "print(\"Analyte metadata after the filter\")\n",
    "print(str_c(\"- nrow: \", nrow(analyte_tbl)))"
   ]
  },
  {
   "cell_type": "markdown",
   "id": "33fd91c6-4636-4ad9-979b-93594a6d4fb2",
   "metadata": {},
   "source": [
    "## 3. Network construction"
   ]
  },
  {
   "cell_type": "markdown",
   "id": "5a1a6db7-6096-474e-ba08-99e4d19e7a63",
   "metadata": {},
   "source": [
    "### 3-1. Choose the soft-thresholding power"
   ]
  },
  {
   "cell_type": "code",
   "execution_count": null,
   "id": "e60b079d-c7bf-4193-97cc-fb5379faf156",
   "metadata": {},
   "outputs": [],
   "source": [
    "#Choose a set of soft-thresholding powers\n",
    "powers <- c(c(1:10), seq(from=11, to=15, by=1))\n",
    "cutoff <- 0.8\n",
    "\n",
    "#Call the network topology analysis function\n",
    "sft <- pickSoftThreshold(data_df, powerVector=powers, verbose=5,\n",
    "                         corOptions=c(use=\"p\", method=\"spearman\"), networkType=\"signed\")\n",
    "\n",
    "#Plot the results\n",
    "options(repr.plot.width=9, repr.plot.height=5)\n",
    "par(mfrow=c(1,2))\n",
    "cex1 <- 0.8\n",
    "##Scale-free topology fit index as a function of the soft-thresholding power\n",
    "plot(sft$fitIndices[,1], -sign(sft$fitIndices[,3])*sft$fitIndices[,2],\n",
    "     xlab=\"Soft Threshold (power)\", ylab=\"Scale Free Topology Model Fit, signed R^2\", type=\"n\",\n",
    "     main=paste(\"Scale independence\"))\n",
    "text(sft$fitIndices[,1], -sign(sft$fitIndices[,3])*sft$fitIndices[,2],\n",
    "     labels=powers, cex=cex1, col=\"black\")\n",
    "##Line corresponds to using an R^2 cut-off of h\n",
    "abline(h=cutoff, col=\"red\")\n",
    "##Mean connectivity as a function of the soft-thresholding power\n",
    "plot(sft$fitIndices[,1], sft$fitIndices[,5],\n",
    "     xlab=\"Soft Threshold (power)\", ylab=\"Mean Connectivity\", type=\"n\",\n",
    "     main=paste(\"Mean connectivity\"))\n",
    "text(sft$fitIndices[,1], sft$fitIndices[,5], labels=powers, cex=cex1, col=\"black\")\n",
    "\n",
    "print(str_c(\"Estimated soft-thresholding power: \", sft$powerEstimate))"
   ]
  },
  {
   "cell_type": "markdown",
   "id": "d83deba3-54e9-4c56-944d-a3128e420144",
   "metadata": {},
   "source": [
    "### 3-2. Co-expression similarity and adjacency"
   ]
  },
  {
   "cell_type": "markdown",
   "id": "e200c8e4-d622-474b-8b79-b855be5f28c4",
   "metadata": {},
   "source": [
    "> Calculate correlation network adjacency.  "
   ]
  },
  {
   "cell_type": "code",
   "execution_count": null,
   "id": "fdc1ccd4-caad-4e5e-bb76-2a610b4e378c",
   "metadata": {},
   "outputs": [],
   "source": [
    "#Choose the power that best approximates a scale free topology while still maintaining high level of connectivity in the network\n",
    "softPower <- sft$powerEstimate\n",
    "\n",
    "#Generate the adjacency matrix using the chosen soft-thresholding power\n",
    "adjacency <- adjacency(data_df, power=softPower,\n",
    "                       corOptions=list(use=\"p\", method=\"spearman\"), type=\"signed\")\n",
    "\n",
    "print(str_c(\"nrow: \", nrow(adjacency)))\n",
    "head(adjacency)"
   ]
  },
  {
   "cell_type": "markdown",
   "id": "14dcc265-0c11-4164-a9ef-c743da3fbb3c",
   "metadata": {},
   "source": [
    "## 4. Module detection"
   ]
  },
  {
   "cell_type": "markdown",
   "id": "2644b367-1838-4545-8e8d-1f458f5cb642",
   "metadata": {},
   "source": [
    "### 4-1. Topological Overlap Matrix (TOM)"
   ]
  },
  {
   "cell_type": "markdown",
   "id": "bb98fb72-bd50-49da-aff3-5e20bc68cdf6",
   "metadata": {},
   "source": [
    "> To minimize effects of noise and spurious associations, the adjacency is transformed into the topological overlap measure, and the corresponding dissimilarity is calculated.  "
   ]
  },
  {
   "cell_type": "code",
   "execution_count": null,
   "id": "539ab2bc-b562-41d4-a7a4-77f3fce8199d",
   "metadata": {},
   "outputs": [],
   "source": [
    "#Turn adjacency into topological overlap\n",
    "##You can input whatever matrix you want here!\n",
    "TOM <- TOMsimilarity(adjacency, TOMType=\"signed\")\n",
    "\n",
    "#Turn into distance matrix\n",
    "dissTOM <- 1 - TOM\n",
    "\n",
    "print(str_c(\"nrow: \", nrow(dissTOM)))\n",
    "head(dissTOM)"
   ]
  },
  {
   "cell_type": "markdown",
   "id": "b696f8d1-8812-4a3c-a861-f8b85343ae7b",
   "metadata": {},
   "source": [
    "### 4-2. Hierarchical clustering using TOM dissimilarity"
   ]
  },
  {
   "cell_type": "markdown",
   "id": "1fde207e-ac08-4760-813f-f6e119a7a86a",
   "metadata": {},
   "source": [
    "> Cluster the TOM distance matrix to find modules. You can call whatever clusting method you want here.  "
   ]
  },
  {
   "cell_type": "code",
   "execution_count": null,
   "id": "31f63325-e1ae-48e2-b124-c8da3b1a2752",
   "metadata": {},
   "outputs": [],
   "source": [
    "#Call the hierarchical clustering function\n",
    "geneTree <- hclust(as.dist(dissTOM), method=\"average\")\n",
    "\n",
    "#Plot the resulting clustering tree (dendrogram)\n",
    "options(repr.plot.width=12, repr.plot.height=6)\n",
    "plot(geneTree, xlab=\"\", sub=\"\", main=\"Gene clustering on TOM-based dissimilarity\",\n",
    "     labels=FALSE, hang=0.04)"
   ]
  },
  {
   "cell_type": "markdown",
   "id": "ea19d073-bd9d-4426-858d-dec7979658db",
   "metadata": {},
   "source": [
    "> In the clustering tree (dendrogram), each leaf corresponds to a gene. Branches of the dendrogram group together densely interconnected, highly co-expressed genes. Module identification amounts to the identification of individual branches (”cutting the branches off the dendrogram”). There are several methods for branch cutting; the standard method of WGCNA package is Dynamic Tree Cut from the package dynamicTreeCut.  "
   ]
  },
  {
   "cell_type": "code",
   "execution_count": null,
   "id": "093ab1df-ab5f-4a53-bc1c-ad2940c01a12",
   "metadata": {},
   "outputs": [],
   "source": [
    "#Larger modules can be easier to interpret, so we set the minimum module size relatively high\n",
    "minModuleSize <- max(c(20, round(ncol(data_df)/200, digits=0)))\n",
    "print(str_c(\"minClusterSize = \", minModuleSize))\n",
    "\n",
    "#Module identification using dynamic tree cut\n",
    "dynamicMods <- cutreeDynamic(dendro=geneTree, distM=dissTOM,\n",
    "                             deepSplit=4, pamStage=TRUE, pamRespectsDendro=FALSE,\n",
    "                             minClusterSize=minModuleSize)\n",
    "table(dynamicMods)"
   ]
  },
  {
   "cell_type": "markdown",
   "id": "766f5678-7ca8-49a9-97a6-322fdced4c3d",
   "metadata": {},
   "source": [
    "> The above list shows each module size. Label 0 is reserved for unassigned genes.  "
   ]
  },
  {
   "cell_type": "code",
   "execution_count": null,
   "id": "41bd6991-62c3-4cc7-8a50-e51f2a0dcb26",
   "metadata": {},
   "outputs": [],
   "source": [
    "#Convert numeric lables into colors\n",
    "dynamicColors <- labels2colors(dynamicMods)\n",
    "table(dynamicColors)\n",
    "\n",
    "#Plot the dendrogram and colors underneath\n",
    "options(repr.plot.width=12, repr.plot.height=6)\n",
    "plotDendroAndColors(geneTree, dynamicColors, \"Dynamic Tree Cut\",\n",
    "                    dendroLabels=FALSE, hang=0.03,\n",
    "                    addGuide=TRUE, guideHang=0.05,\n",
    "                    main=\"Gene dendrogram and module colors\")"
   ]
  },
  {
   "cell_type": "markdown",
   "id": "f5608c44-1569-4f96-a9ee-b8ccc094aeac",
   "metadata": {},
   "source": [
    "### 4-3. Merge similar modules based on eigengenes"
   ]
  },
  {
   "cell_type": "markdown",
   "id": "bc472ac2-5071-4426-b107-e8cae1791235",
   "metadata": {},
   "source": [
    "> Dynamic Tree Cut may identify modules whose expression profiles are very similar. It would be prudent to merge such modules since their genes are highly co-expressed. To quantify co-expression similarity of entire modules, their eigengenes are calculated and clustered based on their correlation.  "
   ]
  },
  {
   "cell_type": "code",
   "execution_count": null,
   "id": "5ee94ff5-db9b-404c-8865-0c33bf9926d7",
   "metadata": {},
   "outputs": [],
   "source": [
    "#Calculate eigengenes\n",
    "MEList <- moduleEigengenes(data_df, colors=dynamicColors, impute=TRUE, nPC=2)\n",
    "MEs <- MEList$eigengenes\n",
    "print(str_c(\"nrow: \", nrow(MEs)))\n",
    "head(MEs)\n",
    "\n",
    "#Check the explained variance\n",
    "temp_df <- MEList$varExplained\n",
    "rownames(temp_df) <- c(\"PC1\", \"PC2\")\n",
    "colnames(temp_df) <- str_replace(names(MEList$eigengenes), \"^ME\", \"\")\n",
    "t(temp_df)\n",
    "\n",
    "#Calculate dissimilarity of module eigengenes\n",
    "MEDiss <- 1 - cor(MEs, use=\"pairwise.complete.obs\")\n",
    "\n",
    "#Cluster module eigengenes\n",
    "METree <- hclust(as.dist(MEDiss), method=\"average\")\n",
    "\n",
    "#Plot the result\n",
    "options(repr.plot.width=10, repr.plot.height=5)\n",
    "plot(METree, main=\"Clustering of module eigengenes\",\n",
    "     xlab=\"\", sub=\"\")\n",
    "MEDissThres <- 0.2\n",
    "abline(h=MEDissThres, col=\"red\")"
   ]
  },
  {
   "cell_type": "code",
   "execution_count": null,
   "id": "5f9306d9-be24-4380-a208-0afcb4249b3f",
   "metadata": {},
   "outputs": [],
   "source": [
    "#Call an automatic merging function\n",
    "merge <- mergeCloseModules(data_df, dynamicColors, cutHeight=MEDissThres, verbose=3)\n",
    "\n",
    "#Eigengenes of the new merged modules\n",
    "mergedMEs <- merge$newMEs\n",
    "print(str_c(\"nrow: \", nrow(mergedMEs)))\n",
    "head(mergedMEs)\n",
    "\n",
    "#Update the exparained variance\n",
    "MEList <- moduleEigengenes(data_df, colors=merge$colors, impute=TRUE, nPC=2)\n",
    "temp_df <- MEList$varExplained\n",
    "rownames(temp_df) <- c(\"PC1\", \"PC2\")\n",
    "colnames(temp_df) <- str_replace(names(MEList$eigengenes), \"^ME\", \"\")\n",
    "t(temp_df)\n",
    "\n",
    "#Update the module eigengene clustering\n",
    "##Calculate dissimilarity of module eigengenes\n",
    "MEDiss <- 1 - cor(mergedMEs, use=\"pairwise.complete.obs\")\n",
    "##Cluster module eigengenes\n",
    "METree <- hclust(as.dist(MEDiss), method=\"average\")\n",
    "##Plot the result\n",
    "options(repr.plot.width=10, repr.plot.height=5)\n",
    "plot(METree, main=\"Clustering of module eigengenes\",\n",
    "     xlab=\"\", sub=\"\")"
   ]
  },
  {
   "cell_type": "code",
   "execution_count": null,
   "id": "ce7c9dfc-2ad9-4c97-82da-6f967be14f37",
   "metadata": {},
   "outputs": [],
   "source": [
    "#The merged module colors\n",
    "mergedColors <- merge$colors\n",
    "table(mergedColors)\n",
    "\n",
    "#Plot the dendrogram and module colors\n",
    "options(repr.plot.width=12, repr.plot.height=6)\n",
    "plotDendroAndColors(geneTree, cbind(dynamicColors, mergedColors),\n",
    "                    c(\"Dynamic Tree Cut\", \"Merged dynamic\"),\n",
    "                    dendroLabels=FALSE, hang=0.03,\n",
    "                    addGuide=TRUE, guideHang=0.05,\n",
    "                    main=\"Gene dendrogram and module colors\")\n",
    "\n",
    "#Plot with TOM dissimilarity matrix\n",
    "options(repr.plot.width=12, repr.plot.height=12)\n",
    "TOMplot(dissTOM^softPower,#For better visualization\n",
    "        geneTree, as.character(mergedColors), main=\"Network heatmap plot, all genes\")"
   ]
  },
  {
   "cell_type": "code",
   "execution_count": null,
   "id": "3a40340e-040f-4272-b600-f4eb8a98f8fd",
   "metadata": {},
   "outputs": [],
   "source": [
    "#Rename\n",
    "moduleColors <- mergedColors\n",
    "MEs <- mergedMEs\n",
    "\n",
    "#Prepare the module assignment table\n",
    "module_tbl <- tibble(AnalyteID=colnames(data_df),\n",
    "                     ModuleID=str_to_title(moduleColors)) %>%\n",
    "    dplyr::left_join(analyte_tbl, ., by=\"AnalyteID\")\n",
    "print(\"Module assignment table (temp)\")\n",
    "print(str_c(\"- nrow: \", nrow(module_tbl)))\n",
    "head(module_tbl)\n",
    "\n",
    "#Clean the module eigengene table\n",
    "eigengene_df <- MEs %>%\n",
    "    rownames_to_column(var=\"public_client_id\")\n",
    "names(eigengene_df)[2:ncol(eigengene_df)] <- names(eigengene_df)[2:ncol(eigengene_df)] %>%\n",
    "    str_replace(., \"^ME\", \"\") %>%\n",
    "    str_to_title(.)\n",
    "print(\"Module eigengene table\")\n",
    "print(str_c(\"- nrow: \", nrow(eigengene_df)))\n",
    "head(eigengene_df)"
   ]
  },
  {
   "cell_type": "markdown",
   "id": "43213679-355c-4558-9167-68695ed06fce",
   "metadata": {},
   "source": [
    "## 5. Relationship between each phenotype and module"
   ]
  },
  {
   "cell_type": "markdown",
   "id": "57b20f98-3f7e-4a0a-9b7f-f499467d3312",
   "metadata": {},
   "source": [
    "### 5-1. Clean phenotype data"
   ]
  },
  {
   "cell_type": "code",
   "execution_count": null,
   "id": "5570b4d6-f9c6-497b-b503-d45ccb58cfa5",
   "metadata": {},
   "outputs": [],
   "source": [
    "#Check phenotypes\n",
    "print(\"Sample metadata\")\n",
    "print(str_c(\"- nrow: \", nrow(sample_tbl)))\n",
    "print(\"- Contingency of sex\")\n",
    "table(sample_tbl$sex)\n",
    "print(\"- Contingency of race\")\n",
    "table(sample_tbl$race)\n",
    "print(colnames(sample_tbl))"
   ]
  },
  {
   "cell_type": "code",
   "execution_count": null,
   "id": "7ae992c2-836f-4269-9728-b274ffffdd91",
   "metadata": {},
   "outputs": [],
   "source": [
    "#Code sex and race\n",
    "phenotype_tbl <- sample_tbl %>%\n",
    "    dplyr::mutate(BinarySex=ifelse(sex==\"F\", 0, 1),\n",
    "                  BinaryRace=ifelse(race==\"white\", 0, 1)) %>%\n",
    "    dplyr::mutate(BinaryRace=tidyr::replace_na(.$BinaryRace, 1)) %>%#Due to the existence of NA\n",
    "    dplyr::select(public_client_id, BinarySex, BinaryRace, age, self_fi, lab_fi, merge_fi) %>%\n",
    "    #Transform tibble for easily applying to the WGCNA functions\n",
    "    column_to_rownames(var=\"public_client_id\")\n",
    "\n",
    "#Check phenotypes\n",
    "print(\"Sample metadata\")\n",
    "print(str_c(\"- nrow: \", nrow(phenotype_tbl)))\n",
    "print(\"- Contingency of BinarySex\")\n",
    "table(phenotype_tbl$BinarySex)\n",
    "print(\"- Contingency of BinaryRace\")\n",
    "table(phenotype_tbl$BinaryRace)"
   ]
  },
  {
   "cell_type": "markdown",
   "id": "7d5d93fd-96ed-4dd4-863f-e3fa361b3b01",
   "metadata": {},
   "source": [
    "### 5-2. Module–trait relationship"
   ]
  },
  {
   "cell_type": "markdown",
   "id": "ab3c150d-4323-4878-8325-5c55ef60ddbe",
   "metadata": {},
   "source": [
    "> For each module and each phenotype, a quantitative measure of module–trait relationship (MTR) is defined as the correlation between the module eigengene and the phenotype profile.  "
   ]
  },
  {
   "cell_type": "code",
   "execution_count": null,
   "id": "c06ba20d-cf31-43cc-8df6-71769aad1443",
   "metadata": {},
   "outputs": [],
   "source": [
    "#Calculate the numbers of modules and samples\n",
    "#nModules <- ncol(MEs)\n",
    "nSamples <- nrow(phenotype_tbl)\n",
    "\n",
    "#Names (colors) of the modules\n",
    "modNames = substring(names(MEs), 3)\n",
    "\n",
    "##Check ID order before the cor() function\n",
    "print(str_c(\"Matched IDs?: \", all(rownames(MEs)==rownames(phenotype_tbl))))\n",
    "\n",
    "#Calculate module–trait relationship\n",
    "moduleTraitCor <- as.data.frame(cor(MEs, phenotype_tbl, use=\"p\"))\n",
    "#rownames(moduleTraitCor) <- paste(\"MM\", modNames, sep=\"\")\n",
    "rownames(moduleTraitCor) <- str_to_title(modNames)\n",
    "print(\"Module–trait relationship table\")\n",
    "print(str_c(\"nrow: \", nrow(moduleTraitCor)))\n",
    "#head(moduleTraitCor)\n",
    "moduleTraitCor\n",
    "\n",
    "#Calculate statisitcal significance of module–trait relationship\n",
    "MTRpval <- as.data.frame(corPvalueStudent(as.matrix(moduleTraitCor), nSamples))\n",
    "#rownames(MTRpval) <- paste(\"p.MM\", modNames, sep=\"\")\n",
    "rownames(MTRpval) <- str_to_title(modNames)\n",
    "print(\"Module–trait relationship p-value table\")\n",
    "print(str_c(\"- nrow: \", nrow(MTRpval)))\n",
    "#head(MTRpval)\n",
    "MTRpval\n"
   ]
  },
  {
   "cell_type": "markdown",
   "id": "c2d0ebf8-b34c-4b50-a4e6-8f0af4b13612",
   "metadata": {},
   "source": [
    "> –> Because Grey is not a module but a remnant set, it should be removed during tests.  "
   ]
  },
  {
   "cell_type": "code",
   "execution_count": null,
   "id": "6dd76a0b-7647-4934-a95f-f8894dbbb27d",
   "metadata": {},
   "outputs": [],
   "source": [
    "#Eliminate the dummy module (Grey)\n",
    "moduleTraitCor <- moduleTraitCor[rownames(moduleTraitCor)!=\"Grey\",]\n",
    "MTRpval <- MTRpval[rownames(MTRpval)!=\"Grey\",]\n",
    "\n",
    "#P-value adjustment across modules (per trait) using Benjamini–Hochberg method\n",
    "MTRpval_adj <- as.data.frame(apply(MTRpval, 2, function(x){p.adjust(x, length(x), method=\"BH\")}))\n",
    "print(\"Module–trait relationship adjusted p-value table\")\n",
    "print(str_c(\"- nrow: \", nrow(MTRpval_adj)))\n",
    "#head(MTRpval_adj)\n",
    "MTRpval_adj"
   ]
  },
  {
   "cell_type": "code",
   "execution_count": null,
   "id": "10604b8a-675b-4a09-880f-d0acbde3465a",
   "metadata": {},
   "outputs": [],
   "source": [
    "#Prepare text labels as matrix\n",
    "textMatrix <- paste(\"r = \",signif(as.matrix(moduleTraitCor), 3),\"\\n(P = \",\n",
    "                    signif(as.matrix(MTRpval_adj), 2),\")\", sep=\"\")\n",
    "dim(textMatrix) <- dim(moduleTraitCor)\n",
    "#Revert module names back to apply color conversion\n",
    "temp_c <- rownames(moduleTraitCor) %>%\n",
    "    str_to_lower(.) %>%\n",
    "    str_c(\"ME\",.)\n",
    "\n",
    "#Visualize\n",
    "options(repr.plot.width=8, repr.plot.height=5)\n",
    "par(mar=c(5, 5, 3, 2))\n",
    "labeledHeatmap(Matrix=moduleTraitCor,\n",
    "               xLabels=colnames(moduleTraitCor),\n",
    "               yLabels=temp_c,\n",
    "               #ySymbols=rownames(moduleTraitCor),\n",
    "               colorLabels=FALSE,\n",
    "               colors=blueWhiteRed(50),\n",
    "               textMatrix=textMatrix,\n",
    "               setStdMargins=FALSE,\n",
    "               cex.text=1,\n",
    "               zlim=c(-1,1),\n",
    "               main=paste(\"Module–trait relationships\"))"
   ]
  },
  {
   "cell_type": "markdown",
   "id": "f3c49825-451c-48c7-80bb-f7abb297c268",
   "metadata": {},
   "source": [
    "### 5-3. Regression analysis"
   ]
  },
  {
   "cell_type": "markdown",
   "id": "a09339f2-12a3-4639-9d24-5aa79a4595ec",
   "metadata": {},
   "source": [
    "The analysis above is looking at the correlation between the module eigenvector and our outcomes. What if we want to control for covariates? Lets look at a regression analysis and compare. "
   ]
  },
  {
   "cell_type": "code",
   "execution_count": null,
   "id": "dbb982cb-6d0f-4e52-9fae-a74d8a3023fd",
   "metadata": {},
   "outputs": [],
   "source": [
    "#Processing data\n",
    "temp_df <- phenotype_tbl %>%\n",
    "    #Standardize continuous variables\n",
    "    dplyr::mutate(age=c(scale(age, center=TRUE, scale=TRUE)),\n",
    "                  self_fi=c(scale(self_fi, center=TRUE, scale=TRUE)),\n",
    "                  lab_fi=c(scale(lab_fi, center=TRUE, scale=TRUE)),\n",
    "                  merge_fi=c(scale(merge_fi, center=TRUE, scale=TRUE))) %>%\n",
    "    #Encode categorical variables -> Already done\n",
    "    #Clean\n",
    "    rownames_to_column(var=\"public_client_id\")\n",
    "temp_df <- eigengene_df %>%\n",
    "    dplyr::select(-Grey) %>%#Remove the dummy module\n",
    "    dplyr::left_join(., temp_df, by=\"public_client_id\")\n",
    "#summary(temp_df)\n",
    "\n",
    "#Regression analysis per module and per age/FI\n",
    "temp_c <- c(\"age\", \"BinarySex\", \"BinaryRace\")#Covariates\n",
    "targets <- modNames[modNames!=\"grey\"]\n",
    "xvar <- 'merge_fi'\n",
    "for (i in 1:length(targets)) {\n",
    "    module <- str_to_title(targets[i])#WGCNA module\n",
    "    #OLS regression\n",
    "    model <- lm(formula=str_c(module,\" ~ \",xvar,\" + \",str_flatten(temp_c, collapse=' + ')), data=temp_df)\n",
    "    print(str_c(module,\" ~ \",xvar,\" + \",str_flatten(temp_c, collapse=' + ')))\n",
    "    print(summary(model))\n",
    "    Sys.sleep(.02)\n",
    "    #Visualize the result\n",
    "    ##Calculate the covariate-adjusted module eigengene\n",
    "    model_covar <- lm(formula=str_c(module,\" ~ \",str_flatten(temp_c, collapse=' + ')), data=temp_df)\n",
    "    plot_df <- temp_df %>%\n",
    "        dplyr::mutate(AdjME=mean(temp_df[[module]])+model_covar$residuals)\n",
    "        #dplyr::mutate(AdjME=!!as.name(module)+model_covar$residuals)\n",
    "    ##Prepare model result texts\n",
    "    pval_text <- str_c(\"P = \",scales::scientific(summary(model)$coefficients[,4][xvar], digits=2))\n",
    "    ##Plot correlation\n",
    "    p <- ggplot(data=plot_df) +\n",
    "        geom_point(aes(x=!!as.name(xvar), y=AdjME)) +\n",
    "        geom_smooth(aes(x=!!as.name(xvar), y=AdjME), method=\"lm\", formula=\"y~x\", se=TRUE) +\n",
    "        annotate(\"text\", x=Inf, y=Inf, hjust=1, vjust=1, label=pval_text) +\n",
    "        labs(x=str_c(xvar,\" (Z-score)\"),\n",
    "             y=\"Module eigengene (adjusted)\",\n",
    "             title=str_c(module,\" module vs. \",xvar)) +\n",
    "        theme_gray(base_size=16, base_family=\"Helvetica\")\n",
    "    options(repr.plot.width=5, repr.plot.height=5)\n",
    "    plot(p)\n",
    "    Sys.sleep(.02)\n",
    "    print(\"\")\n",
    "}\n"
   ]
  },
  {
   "cell_type": "markdown",
   "id": "8137ff9c-e419-4fe6-aa30-4bebf18ad54d",
   "metadata": {},
   "source": [
    "## 6. Relathionship between each analyte and module"
   ]
  },
  {
   "cell_type": "markdown",
   "id": "0d264c18-b013-496a-8666-e7817f423256",
   "metadata": {},
   "source": [
    "### 6-1. Module membership"
   ]
  },
  {
   "cell_type": "markdown",
   "id": "3603bac6-d592-4e01-981d-54478fa569ee",
   "metadata": {},
   "source": [
    "> For each module and each gene, a quantitative measure of module membership (MM) is defined as the correlation between the module eigengene and the gene expression profile. This allows us to quantify the similarity of all input genes (irrespective of their original module membership) to every module.  "
   ]
  },
  {
   "cell_type": "code",
   "execution_count": null,
   "id": "d10f5c6d-62cd-4edb-9945-eead4df133bd",
   "metadata": {},
   "outputs": [],
   "source": [
    "#Calculate the numbers of genes and samples\n",
    "#nGenes <- ncol(data_df)\n",
    "nSamples <- nrow(data_df)\n",
    "\n",
    "#Names (colors) of the modules\n",
    "modNames = substring(names(MEs), 3)\n",
    "\n",
    "##Check ID order before the cor() function\n",
    "print(str_c(\"Matched IDs?: \", all(rownames(MEs)==rownames(data_df))))\n",
    "\n",
    "#Calculate module membership\n",
    "geneModuleMembership <- as.data.frame(cor(data_df, MEs, use=\"p\"))\n",
    "#names(geneModuleMembership) <- paste(\"MM\", modNames, sep=\"\")\n",
    "names(geneModuleMembership) <- str_to_title(modNames)\n",
    "print(\"Module membership table\")\n",
    "print(str_c(\"- nrow: \", nrow(geneModuleMembership)))\n",
    "head(geneModuleMembership)\n",
    "\n",
    "#Calculate statisitcal significance of module membership\n",
    "MMpval <- as.data.frame(corPvalueStudent(as.matrix(geneModuleMembership), nSamples))\n",
    "#names(MMpval) <- paste(\"p.MM\", modNames, sep=\"\")\n",
    "names(MMpval) <- str_to_title(modNames)\n",
    "print(\"Module membership p-value table\")\n",
    "print(str_c(\"- nrow: \", nrow(MMpval)))\n",
    "head(MMpval)"
   ]
  },
  {
   "cell_type": "code",
   "execution_count": null,
   "id": "7b1da33d-11d2-4310-a711-67b251f956c4",
   "metadata": {},
   "outputs": [],
   "source": [
    "head(geneModuleMembership[order(-geneModuleMembership$Blue),])"
   ]
  },
  {
   "cell_type": "markdown",
   "id": "851a5fd8-a4f4-4bbe-b24d-f341b16904cc",
   "metadata": {},
   "source": [
    "### 6-2. Intramodular connectivity"
   ]
  },
  {
   "cell_type": "markdown",
   "id": "d9b7796f-d3c6-4145-a4e0-2661295cf77b",
   "metadata": {},
   "source": [
    "> Intramodular connectivity can be used to find \"hub\" analytes in each of the modules. This can be useful to understand potential drivers of each module. "
   ]
  },
  {
   "cell_type": "code",
   "execution_count": null,
   "id": "1f97ff3e-203a-4c42-9fb1-c78e27a73ee5",
   "metadata": {},
   "outputs": [],
   "source": [
    "#Prepare target modules\n",
    "targets <- modNames[modNames!=\"grey\"]\n",
    "\n",
    "#Repeat for each module\n",
    "temp_tbl <- tibble()\n",
    "for (module in targets) {\n",
    "    #Select module probes\n",
    "    probes <- colnames(data_df)\n",
    "    inModule <- (moduleColors==module)\n",
    "    modProbes <- probes[inModule]\n",
    "    \n",
    "    #Select the corresponding Topological Overlap\n",
    "    modTOM <- TOM[inModule, inModule]\n",
    "    dimnames(modTOM) <- list(modProbes, modProbes)\n",
    "    \n",
    "    #Calculate intramodular connectivity\n",
    "    IMConn <- softConnectivity(data_df[, modProbes], power=softPower,\n",
    "                               corOptions=list(use=\"p\", method=\"spearman\"), type=\"signed\")\n",
    "    \n",
    "    #Summary table\n",
    "    connectivity <- tibble(ModuleID=str_to_title(module),\n",
    "                           AnalyteID=modProbes,\n",
    "                           IntramodularConnectivity=IMConn,\n",
    "                           TOMsimilaritySum=rowSums(modTOM))\n",
    "    print(str_c(module,\" module: \", nrow(connectivity)))\n",
    "    print(head(connectivity))#Explicitly print due to within for-loop\n",
    "    \n",
    "    #Add to the overall table\n",
    "    temp_tbl <- dplyr::bind_rows(temp_tbl, connectivity)\n",
    "}\n",
    "print(str_c(\"-> Total nrow: \", nrow(temp_tbl)))\n",
    "head(temp_tbl)\n",
    "#Update the module assignment table\n",
    "module_tbl <- dplyr::left_join(module_tbl, temp_tbl, by=c(\"AnalyteID\", \"ModuleID\"))\n",
    "print(\"Module assignment table (updated)\")\n",
    "print(str_c(\"- nrow: \", nrow(module_tbl)))\n",
    "head(module_tbl)"
   ]
  },
  {
   "cell_type": "markdown",
   "id": "3126240b-c2cf-4bed-b0e2-fdb890d75d97",
   "metadata": {},
   "source": [
    "## 7. Enrichment analysis"
   ]
  },
  {
   "cell_type": "code",
   "execution_count": null,
   "id": "08b8ee26-ddfc-461b-9222-b814196aae16",
   "metadata": {},
   "outputs": [],
   "source": [
    "brown_module <- module_tbl %>%\n",
    "    dplyr::filter(ModuleID %in% \"Brown\")\n",
    "blue_module <- module_tbl %>%\n",
    "    dplyr::filter(ModuleID %in% \"Blue\")\n",
    "turq_module <- module_tbl %>%\n",
    "    dplyr::filter(ModuleID %in% \"Turquoise\")"
   ]
  },
  {
   "cell_type": "code",
   "execution_count": null,
   "id": "40e95334-509b-40e9-af70-5c57be888f05",
   "metadata": {},
   "outputs": [],
   "source": [
    "orBP_Brown <- enrichGO(gene          = brown_module$GeneSymbol,\n",
    "                universe      = module_tbl$GeneSymbol,\n",
    "                OrgDb         = org.Hs.eg.db,\n",
    "                ont           = \"BP\",\n",
    "                keyType       = \"SYMBOL\",\n",
    "                pAdjustMethod = \"BH\",\n",
    "                pvalueCutoff  = 1,\n",
    "                qvalueCutoff  = 1,\n",
    "        readable      = TRUE)\n",
    "\n",
    "orBP_blue <- enrichGO(gene          = blue_module$GeneSymbol,\n",
    "                universe      = module_tbl$GeneSymbol,\n",
    "                OrgDb         = org.Hs.eg.db,\n",
    "                ont           = \"BP\",\n",
    "                keyType       = \"SYMBOL\",\n",
    "                pAdjustMethod = \"BH\",\n",
    "                pvalueCutoff  = 1,\n",
    "                qvalueCutoff  = 1,\n",
    "        readable      = TRUE)\n",
    "\n",
    "orBP_turq <- enrichGO(gene          = turq_module$GeneSymbol,\n",
    "                universe      = module_tbl$GeneSymbol,\n",
    "                OrgDb         = org.Hs.eg.db,\n",
    "                ont           = \"BP\",\n",
    "                keyType       = \"SYMBOL\",\n",
    "                pAdjustMethod = \"BH\",\n",
    "                pvalueCutoff  = 1,\n",
    "                qvalueCutoff  = 1,\n",
    "        readable      = TRUE)\n"
   ]
  },
  {
   "cell_type": "code",
   "execution_count": null,
   "id": "83f9a8ff-2e01-49ec-8eb6-f79755f7cd43",
   "metadata": {},
   "outputs": [],
   "source": [
    "barplot(orBP_Brown, showCategory=10) \n",
    "head(orBP_Brown[,1:8])"
   ]
  },
  {
   "cell_type": "code",
   "execution_count": null,
   "id": "578e2de3-6da4-48eb-a086-66e004f683f6",
   "metadata": {},
   "outputs": [],
   "source": [
    "barplot(orBP_blue, showCategory=10) \n",
    "head(orBP_blue[,1:8])"
   ]
  },
  {
   "cell_type": "code",
   "execution_count": null,
   "id": "72f2437c-91f2-49a3-aab2-b09fa19ea4f3",
   "metadata": {},
   "outputs": [],
   "source": [
    "barplot(orBP_turq, showCategory=10) \n",
    "head(orBP_turq[,1:8])"
   ]
  },
  {
   "cell_type": "markdown",
   "id": "eac9a5a3-aba6-4a1c-b6f9-2c3762d26262",
   "metadata": {},
   "source": [
    "### 7-1 Hub gene enrichment"
   ]
  },
  {
   "cell_type": "code",
   "execution_count": null,
   "id": "1115a78c-06af-4d17-912d-e4de73c90581",
   "metadata": {},
   "outputs": [],
   "source": [
    "topQ <- 0.1#Focus on the top hubs\n",
    "hubs_brown <- module_tbl %>%\n",
    "    dplyr::filter(ModuleID==\"Brown\") %>%\n",
    "    dplyr::filter(IntramodularConnectivity>=quantile(IntramodularConnectivity, 1-topQ))\n",
    "hubs_blue <- module_tbl %>%\n",
    "    dplyr::filter(ModuleID==\"Blue\") %>%\n",
    "    dplyr::filter(IntramodularConnectivity>=quantile(IntramodularConnectivity, 1-topQ))\n",
    "hubs_turq <- module_tbl %>%\n",
    "    dplyr::filter(ModuleID==\"Turquoise\") %>%\n",
    "    dplyr::filter(IntramodularConnectivity>=quantile(IntramodularConnectivity, 1-topQ))"
   ]
  },
  {
   "cell_type": "code",
   "execution_count": null,
   "id": "2e7c082e-b91c-4cdc-902f-c9c109c36e52",
   "metadata": {},
   "outputs": [],
   "source": [
    "orBP_Brown <- enrichGO(gene          = hubs_brown$GeneSymbol,\n",
    "                universe      = module_tbl$GeneSymbol,\n",
    "                OrgDb         = org.Hs.eg.db,\n",
    "                ont           = \"BP\",\n",
    "                keyType       = \"SYMBOL\",\n",
    "                pAdjustMethod = \"BH\",\n",
    "                pvalueCutoff  = 1,\n",
    "                qvalueCutoff  = 1,\n",
    "        readable      = TRUE)\n",
    "\n",
    "orBP_blue <- enrichGO(gene          = hubs_blue$GeneSymbol,\n",
    "                universe      = module_tbl$GeneSymbol,\n",
    "                OrgDb         = org.Hs.eg.db,\n",
    "                ont           = \"BP\",\n",
    "                keyType       = \"SYMBOL\",\n",
    "                pAdjustMethod = \"BH\",\n",
    "                pvalueCutoff  = 1,\n",
    "                qvalueCutoff  = 1,\n",
    "        readable      = TRUE)\n",
    "\n",
    "orBP_turq <- enrichGO(gene          = hubs_turq$GeneSymbol,\n",
    "                universe      = module_tbl$GeneSymbol,\n",
    "                OrgDb         = org.Hs.eg.db,\n",
    "                ont           = \"BP\",\n",
    "                keyType       = \"SYMBOL\",\n",
    "                pAdjustMethod = \"BH\",\n",
    "                pvalueCutoff  = 1,\n",
    "                qvalueCutoff  = 1,\n",
    "        readable      = TRUE)\n"
   ]
  },
  {
   "cell_type": "code",
   "execution_count": null,
   "id": "9d1d7d93-753d-4afb-8e62-c16440a7c226",
   "metadata": {},
   "outputs": [],
   "source": [
    "barplot(orBP_Brown, showCategory=10) \n",
    "head(orBP_Brown[,1:8])"
   ]
  },
  {
   "cell_type": "code",
   "execution_count": null,
   "id": "dab48c38-9a5f-4db0-b673-b30619edc3dc",
   "metadata": {},
   "outputs": [],
   "source": [
    "barplot(orBP_blue, showCategory=10) \n",
    "head(orBP_blue[,1:8])"
   ]
  },
  {
   "cell_type": "code",
   "execution_count": null,
   "id": "aa91aabb-cfc1-42e4-8c8e-e68bf8700be1",
   "metadata": {},
   "outputs": [],
   "source": [
    "barplot(orBP_turq, showCategory=10) \n",
    "head(orBP_turq[,1:8])"
   ]
  },
  {
   "cell_type": "markdown",
   "id": "02eb47bd-58c5-4886-b214-fabd2077f6a6",
   "metadata": {},
   "source": [
    "# Differential Quantification"
   ]
  },
  {
   "cell_type": "code",
   "execution_count": null,
   "id": "5d03b06c-746e-45f5-a1f4-4fcf8e9b57ce",
   "metadata": {},
   "outputs": [],
   "source": [
    "num_df_med <- scale(data_df, scale = FALSE)"
   ]
  },
  {
   "cell_type": "code",
   "execution_count": null,
   "id": "6b45b400-7f0c-4819-84a2-854e74832b56",
   "metadata": {},
   "outputs": [],
   "source": [
    "meta_indices_tert <- sample_tbl %>%\n",
    "  dplyr::mutate(merge_tert = dplyr::ntile(merge_fi, 5)) %>%\n",
    "  dplyr::mutate(merge_tert = dplyr::case_when(merge_tert == 1 ~'1st', \n",
    "                                            merge_tert == 2 ~'2nd',\n",
    "                                            merge_tert == 3 ~'3rd',\n",
    "                                            merge_tert == 4 ~'4th',\n",
    "                                            merge_tert == 5 ~'5th'))"
   ]
  },
  {
   "cell_type": "code",
   "execution_count": null,
   "id": "e03762df-9473-4ec4-a9b3-b512b4281302",
   "metadata": {},
   "outputs": [],
   "source": [
    "num_df_med_t <- t(num_df_med)"
   ]
  },
  {
   "cell_type": "code",
   "execution_count": null,
   "id": "cabecc93-587d-4bb6-91cf-c18f4e01491c",
   "metadata": {},
   "outputs": [],
   "source": [
    "group <- as.factor(meta_indices_tert$merge_tert)\n",
    "age <- as.factor(meta_indices_tert$age)\n",
    "sex <- as.factor(meta_indices_tert$sex)\n",
    "\n",
    "design = model.matrix(~0+group + sex + age)\n",
    "contrast <- makeContrasts(HighvsLow = group5th-group1st, levels=design)"
   ]
  },
  {
   "cell_type": "code",
   "execution_count": null,
   "id": "4a4269f3-9b92-490f-b679-d5aeace663e7",
   "metadata": {},
   "outputs": [],
   "source": [
    "fit1 <- lmFit(num_df_med_t, design)\n",
    "fit2 <- contrasts.fit(fit1,contrasts = contrast)\n",
    "fit3 <- eBayes(fit2)\n",
    "res <- topTable(fit3, sort.by = \"P\", n = Inf)"
   ]
  },
  {
   "cell_type": "code",
   "execution_count": null,
   "id": "579434d1-65ee-460f-90f1-b178a519eaef",
   "metadata": {},
   "outputs": [],
   "source": [
    "colnames(res) <- c(\"log2FC\", \"AveExpr\", \"t\", \"pvalue\", \"padjust\", \"B\")\n",
    "res$Name <- rownames(res)\n",
    "\n",
    "x <- res\n",
    "x$id <- rownames(x)\n",
    "x$id[(x$padjust > 0.01 | abs(x$log2FC) < 1)] <- NA\n",
    "\n",
    "fc <- max(abs(x$log2FC), na.rm=TRUE) +.5\n",
    "clrs = \"RdBu\"\n",
    "clrs <- vc_palette(clrs, ramp=FALSE)\n",
    "#color_ramp <- c(rev(RColorBrewer::brewer.pal(7,\"Reds\")), \"White\", RColorBrewer::brewer.pal(7,\"Reds\"))\n",
    "\n",
    "p1 <- ggplot2::ggplot(data=x,\n",
    "              ggplot2::aes(x=log2FC, y= -log10(padjust), label = id)) +\n",
    "         ggplot2::geom_point(ggplot2::aes(fill = log2FC),\n",
    "             color=\"gray20\", shape = 21, size=3) +\n",
    "         ggplot2::xlim( -fc, fc) + ggplot2::theme_light() +\n",
    "         ggplot2::xlab(\"Log2 Fold Change\") +\n",
    "         ggplot2::ylab(\"-Log10 Adjusted P-value\") +\n",
    "         ggplot2::scale_fill_gradientn(colors=clrs, limits=c(-fc, fc),\n",
    "             guide=\"none\")"
   ]
  },
  {
   "cell_type": "code",
   "execution_count": null,
   "id": "98f9d8ab-79ac-414f-8e80-01ae5d23d1b7",
   "metadata": {},
   "outputs": [],
   "source": [
    "p1 + geom_text(check_overlap = TRUE)"
   ]
  },
  {
   "cell_type": "code",
   "execution_count": null,
   "id": "86d8fb5e-043d-4e97-9b1b-a75a16bcf195",
   "metadata": {},
   "outputs": [],
   "source": [
    "res$AnalyteID <- rownames(res)\n",
    "res_modules <- merge(res, module_tbl, by=\"AnalyteID\")"
   ]
  },
  {
   "cell_type": "code",
   "execution_count": null,
   "id": "59811b64-f747-4d92-ab51-c1b8b7e3070a",
   "metadata": {},
   "outputs": [],
   "source": [
    "print(\"Number of DEPs\")\n",
    "print(str_c(\"- nrow: \", nrow(res_modules %>% filter(padjust <= 0.05))))\n",
    "\n",
    "print(\"Number of DEPs overlapping Blue module\")\n",
    "print(str_c(\"- nrow: \", nrow(res_modules %>% filter(padjust <= 0.05 & ModuleID == 'Blue'))))\n",
    "\n",
    "print(\"Number of DEPs overlapping Brown module\")\n",
    "print(str_c(\"- nrow: \", nrow(res_modules %>% filter(padjust <= 0.05 & ModuleID == 'Brown'))))\n",
    "\n",
    "print(\"Number of DEPs overlapping Turquoise module\")\n",
    "print(str_c(\"- nrow: \", nrow(res_modules %>% filter(padjust <= 0.05 & ModuleID == 'Turquoise'))))"
   ]
  },
  {
   "cell_type": "code",
   "execution_count": null,
   "id": "d1a78fcd-538f-4b36-acb1-e17b654a5127",
   "metadata": {},
   "outputs": [],
   "source": [
    "DE_Prots <- res_modules %>%\n",
    "    dplyr::filter(padjust>=0.05)\n",
    "\n",
    "orBP_DE <- enrichGO(gene          = DE_Prots$GeneSymbol,\n",
    "                universe      = module_tbl$GeneSymbol,\n",
    "                OrgDb         = org.Hs.eg.db,\n",
    "                ont           = \"BP\",\n",
    "                keyType       = \"SYMBOL\",\n",
    "                pAdjustMethod = \"BH\",\n",
    "                pvalueCutoff  = 1,\n",
    "                qvalueCutoff  = 1,\n",
    "        readable      = TRUE)\n"
   ]
  },
  {
   "cell_type": "code",
   "execution_count": null,
   "id": "e2270f2f-804b-4442-b201-202559bc11cb",
   "metadata": {},
   "outputs": [],
   "source": [
    "barplot(orBP_turq, showCategory=10) \n",
    "head(orBP_turq[,1:8])"
   ]
  },
  {
   "cell_type": "markdown",
   "id": "bdaf8da4-3e91-4911-91f7-83caee8f5f1e",
   "metadata": {},
   "source": [
    "# Clustering combined 'omics data\n",
    "\n",
    "The abundance of two arbitrarily chosen proteins in proteomics data is typically positively correlated, as are arbitrarily chosen genes in transcriptome data. We can therefore choose to use the power functions typically used in WGCNA analyses, or the more general sigmoid functions, to convert correlations into adjacencies (or distances) for clustering proteins in WGCNA."
   ]
  },
  {
   "cell_type": "code",
   "execution_count": null,
   "id": "bf3c37cf-f44a-49a7-9f9c-b214441a4696",
   "metadata": {},
   "outputs": [],
   "source": [
    "mets <- read_delim(\"./Session1_files/metabolites_baseline.tsv\", show_col_types = FALSE)\n",
    "prots <- read_delim(\"./Session1_files/proteins_baseline.tsv\", show_col_types = FALSE)\n",
    "clin <- read_delim(\"./Session1_files/chemistries_baseline.tsv\", show_col_types = FALSE)"
   ]
  },
  {
   "cell_type": "code",
   "execution_count": null,
   "id": "6797eafd-8e37-430c-a3f1-efa857780112",
   "metadata": {},
   "outputs": [],
   "source": [
    "clin_no_frail <- clin[!colnames(clin) %in% fr_measures_key$Feature]"
   ]
  },
  {
   "cell_type": "code",
   "execution_count": null,
   "id": "71f7d4ff-f230-4164-8856-f2692ce67abf",
   "metadata": {},
   "outputs": [],
   "source": [
    "cm_df <- merge(clin, mets, by=\"public_client_id\")\n",
    "pf_df <- merge(prots, frailty, by=\"public_client_id\")\n",
    "in_df <- merge(cm_df, pf_df, by=\"public_client_id\")"
   ]
  },
  {
   "cell_type": "code",
   "execution_count": null,
   "id": "5b1489bf-4388-4059-b5f9-60a7194c89b9",
   "metadata": {},
   "outputs": [],
   "source": [
    "dim(clin)\n",
    "dim(mets)\n",
    "dim(prots)\n",
    "dim(fr_measures)\n",
    "dim(in_df)\n",
    "# the wide protein combined 'omics contains just 63 samples; 124 samples have wide protein data"
   ]
  },
  {
   "cell_type": "code",
   "execution_count": null,
   "id": "0f11ac39-b573-44b5-813f-a882e7978d1f",
   "metadata": {},
   "outputs": [],
   "source": [
    "# Drop id column and get features\n",
    "num.analytes <- setdiff(unique(c(colnames(clin),colnames(mets),colnames(prots))),'public_client_id')\n",
    "num_df <- in_df[,colnames(in_df) %in% num.analytes]\n",
    "num_df <- as.matrix(num_df)\n",
    "rownames(num_df) <- in_df$public_client_id\n",
    "meta <- in_df[,colnames(in_df) %in% colnames(fr_measures)]"
   ]
  },
  {
   "cell_type": "code",
   "execution_count": null,
   "id": "e4725857-9654-47ae-857e-2a0602c0e2a1",
   "metadata": {},
   "outputs": [],
   "source": [
    "dim(num_df)\n",
    "head(num_df)"
   ]
  },
  {
   "cell_type": "markdown",
   "id": "1ff4e0e8-0185-4dbc-947d-a62348fa2dc2",
   "metadata": {},
   "source": [
    "## Data cleaning"
   ]
  },
  {
   "cell_type": "code",
   "execution_count": null,
   "id": "f8e55271-358c-43fe-8dd0-88c6ca8c3512",
   "metadata": {},
   "outputs": [],
   "source": [
    "## Filter samples and features based on WGCNA NA criteria (50%)\n",
    "\n",
    "gsg = goodSamplesGenes(num_df, verbose = 3);\n",
    "gsg$allOK\n",
    "if (!gsg$allOK)\n",
    "{\n",
    "  # Optionally, print the gene and sample names that were removed:\n",
    "  if (sum(!gsg$goodGenes)>0) \n",
    "     printFlush(paste(\"Removing genes:\", paste(names(num_df)[!gsg$goodGenes], collapse = \", \")));\n",
    "  if (sum(!gsg$goodSamples)>0) \n",
    "     printFlush(paste(\"Removing samples:\", paste(rownames(num_df)[!gsg$goodSamples], collapse = \", \")));\n",
    "  # Remove the offending genes and samples from the data:\n",
    "  num_df = num_df[gsg$goodSamples, gsg$goodGenes]\n",
    "}\n",
    "\n",
    "dim(num_df)"
   ]
  },
  {
   "cell_type": "code",
   "execution_count": null,
   "id": "c0341837-2814-4bfa-87b4-957740c050bf",
   "metadata": {},
   "outputs": [],
   "source": [
    "# Get the names of remaining analytes overall (all.analytes) by category\n",
    "cat.prots <- intersect(colnames(prots),colnames(num_df))\n",
    "cat.mets  <- intersect(colnames(mets),colnames(num_df))\n",
    "cat.clin  <- intersect(colnames(clin),colnames(num_df))\n",
    "all.analytes <- c(cat.prots,cat.mets,cat.clin)\n",
    "print(paste(length(cat.prots),length(cat.mets),length(cat.clin),length(all.analytes)))"
   ]
  },
  {
   "cell_type": "markdown",
   "id": "be5d4b26-2a0f-4bcc-b233-87867c65d886",
   "metadata": {},
   "source": [
    "## Correlations\n",
    "\n",
    "Our strategy is to start with correlations separately by category ('omics). Each category tends to have a different distribution of correlations; for example, randomly selected analytes from a proteomics assay tends to be positively correlated (also true for transcriptomics), but randomly selected metabolites are typically closer to uncorrelated. This is not an issue when computing adjacencies for any of the single 'omics, because the transformation from correlations to adjacencies would (in WGCNA) be fit to each of these separate distributions separately. When we combine correlations across different 'omics, or between analytes measured in different 'omics experiments, WGCNA would attempt to find one power $k$ to fit them all, and that would result in very different distributions of adjacency for analyte pairs from different source experiments. One particular source of differences in distribution is sample size. If we compute correlations between metabolites from 1,000 individuals, we should expect much more accurate correlation values than if we compute them from only 10; sampling variation alone will result in a sqrt(1000/10) = 10-fold difference in variance! \n",
    "\n",
    "We will therefore make a smooth model of the distribution of correlations of each type, and then transform the correlation values to a single, shared smooth model. While the resulting values are no longer interpretable as correlations, this will standardize the significance of correlations from different sources onto a single, shared significance scale. When WGCNA fits the values on this scale, it will be applying the same significance standards to all the correlations, regardless of their original source.\n",
    "\n",
    "Note that this is very similar to, but different from, \"quantile normalization\". Quantile normalization uses the observed (empirical) distribution of correlations as it's model, and typically a standard normal distribution as the shared distribution. Suppose there actually\n",
    "is significant correlation structure in the data; then there will be sets of analytes with a common level of correlation to each other, and this common level is not the result of the category of analytes being measured or the number of samples in the dataset; it is due to the underlying biology that we are trying to capture. Such a set of analytes will contribute a \"bump\" of correlations that may even be visible in a histogram, depending on how strong the correlations are. The bump will be a feature of the empirical distribution, and quantile normalization will erase this figure from the normalized distribution, destroying some of the information we are trying to capture. But by constructing smooth models of the data, we can only capture the bulk properties of the distribution, and these localized differences will not be captured by the model. Thus, the \"bumps\" that are visible in the original distribution will appear also in the standardized normalization, retaining valuable information. \n",
    "\n",
    "Since correlations are bounded to the interval [-1, 1], a Gaussian distribution is not appropriate and we rely instead on the Beta distribution for both fitting models to the observed correlations and the shared target distribution. We look for agreement of the bulk distribution with the model, particularly near the mode, and agreement on the bulk variance."
   ]
  },
  {
   "cell_type": "code",
   "execution_count": null,
   "id": "799462d6-8772-41d7-94b1-4f7ee47133af",
   "metadata": {},
   "outputs": [],
   "source": [
    "# We will construct a correlation matrix Z in parts corresponding to each category of analyte pairs.\n",
    "n.analytes <- length(all.analytes)\n"
   ]
  },
  {
   "cell_type": "code",
   "execution_count": null,
   "id": "c7e9bfac-0fe9-4fb8-a647-703de957056b",
   "metadata": {},
   "outputs": [],
   "source": [
    "#\n",
    "# All and only the analytes of interest. To compute correlations, they must be numeric. We will use Spearman\n",
    "# correlation, as it is more robust to data that may contain outliers.\n",
    "#\n",
    "all_df <- num_df[,all.analytes]\n",
    "dim(all_df) # 845 samples, 1,273 analytes (276 protein, 917 metabolites, 80 clinical chemistries)"
   ]
  },
  {
   "cell_type": "code",
   "execution_count": null,
   "id": "e0d2849b-cb27-422d-a5ca-a693e24d6c89",
   "metadata": {},
   "outputs": [],
   "source": [
    "# Within-category correlations\n",
    "Z.pp <- cor(all_df[,cat.prots], method = \"s\", use = 'pairwise.complete.obs')\n",
    "dim(Z.pp)\n",
    "Z.mm <- cor(all_df[,cat.mets], method = \"s\", use = 'pairwise.complete.obs')\n",
    "dim(Z.mm)\n",
    "Z.cc <- cor(all_df[,cat.clin], method = \"s\", use = 'pairwise.complete.obs')\n",
    "dim(Z.cc)"
   ]
  },
  {
   "cell_type": "code",
   "execution_count": null,
   "id": "e4e487df-0e0d-45ee-9185-40b70c27055c",
   "metadata": {},
   "outputs": [],
   "source": [
    "# Cross-category correlations\n",
    "Z.pm <- cor(all_df[,cat.prots], all_df[,cat.mets], method = \"s\", use = 'pairwise.complete.obs')\n",
    "dim(Z.pm)\n",
    "Z.pc <- cor(all_df[,cat.prots], all_df[,cat.clin], method = \"s\", use = 'pairwise.complete.obs')\n",
    "dim(Z.pc)\n",
    "Z.mc <- cor(all_df[,cat.mets], all_df[,cat.clin], method = \"s\", use = 'pairwise.complete.obs')\n",
    "dim(Z.mc)\n"
   ]
  },
  {
   "cell_type": "code",
   "execution_count": null,
   "id": "ccf4c1e8-228d-4dbc-9ccf-235b3ae82a3e",
   "metadata": {},
   "outputs": [],
   "source": [
    "# The error message indicates that at least one analyte pair did not have at least 2 samples\n",
    "# with values for both analytes, resulting in an NA correlation. We replace this NA with a 0.\n",
    "length(which(is.na(Z.pm)))\n",
    "length(which(is.na(Z.pc)))"
   ]
  },
  {
   "cell_type": "code",
   "execution_count": null,
   "id": "0e377a83-2087-4f24-a15c-16d59b0c8a25",
   "metadata": {},
   "outputs": [],
   "source": [
    "length(which(is.na(Z.mc)))\n",
    "Z.mc[is.na(Z.mc)] <- 0\n",
    "length(which(is.na(Z.mc)))"
   ]
  },
  {
   "cell_type": "markdown",
   "id": "53262bba-047e-4386-899c-5d33b6019829",
   "metadata": {},
   "source": [
    "### Modeling protein-protein correlations\n"
   ]
  },
  {
   "cell_type": "code",
   "execution_count": null,
   "id": "8edc51bf-2474-4fde-b234-c382bff75520",
   "metadata": {},
   "outputs": [],
   "source": [
    "# Estimate coefficients for a Beta distribution by the method of moments\n",
    "# i.e. by computing parameters that match the mean and variance of the \"background\" model (initially: all observed correlations)\n",
    "Z.unique <- Z.pp[row(Z.pp) < col(Z.pp)] # unique, non-self correlations\n",
    "x <- (1+Z.unique)/2\n",
    "mZ <- mean(x)\n",
    "s2Z <- var(x)\n",
    "v.pp <- mZ*(mZ*(1-mZ)/s2Z - 1)\n",
    "w.pp <- (1-mZ)*(mZ*(1-mZ)/s2Z - 1)\n",
    "print(paste(\"Protein-protein: rho_ij ~ Beta(v =\",round(v.pp,3),\",w =\",round(w.pp,3),\")\"))"
   ]
  },
  {
   "cell_type": "code",
   "execution_count": null,
   "id": "373277c2-7a00-439d-8b62-7aa637d8fdd2",
   "metadata": {},
   "outputs": [],
   "source": [
    "# Evaluate how well the model fits the background distribution\n",
    "fine <- 40\n",
    "Bs <- (c(-fine:(1+fine))-0.5)/fine\n",
    "hist(Z.unique, breaks=Bs, xlab=\"Correlation\", ylab=\"Density\",\n",
    "     main=\"Pairwise protein correlations\", prob=TRUE)\n",
    "box()\n",
    "abline(v=c(-1:1),lty=3)\n",
    "r <- c(-fine:fine)/fine\n",
    "lines(r, dbeta((1+r)/2, v.pp, w.pp)/2, lwd=3, col=\"MediumBlue\")"
   ]
  },
  {
   "cell_type": "markdown",
   "id": "8986fb1d-97ee-469e-a9a4-04f2149d3b18",
   "metadata": {},
   "source": [
    "The model doesn't fit the background distribution well enough (by eye). We will adjust the parameters until the model fits."
   ]
  },
  {
   "cell_type": "code",
   "execution_count": null,
   "id": "a91f550f-e79b-4856-905e-3f0a8cbbe5aa",
   "metadata": {},
   "outputs": [],
   "source": [
    "v.pp <- 37\n",
    "w.pp <- 30\n",
    "print(paste(\"Protein pairs: rho_ij ~ Beta(v =\",round(v.pp,3),\",w =\",round(w.pp,3),\")\"))\n",
    "\n",
    "fine <- 40\n",
    "Bs <- (c(-fine:(1+fine))-0.5)/fine\n",
    "hist(Z.unique, breaks=Bs, xlab=\"Correlation\", ylab=\"Density\", ylim=c(0,3.5),\n",
    "     main=\"Pairwise protein correlations\", prob=TRUE)\n",
    "box()\n",
    "abline(v=c(-1:1),lty=3)\n",
    "\n",
    "r <- c(-fine:fine)/fine\n",
    "lines(r, dbeta((1+r)/2, v.pp, w.pp)/2, lwd=3, col=\"MediumBlue\")"
   ]
  },
  {
   "cell_type": "markdown",
   "id": "d7c32111-864a-4ea8-878b-20b32de01a2b",
   "metadata": {},
   "source": [
    "### Modeling by category: metabolite-metabolite"
   ]
  },
  {
   "cell_type": "code",
   "execution_count": null,
   "id": "0fa3445a-9148-4564-aea4-aec3c87766e3",
   "metadata": {},
   "outputs": [],
   "source": [
    "Z.unique <- as.vector(Z.mm[row(Z.mm) < col(Z.mm)]) # unique, non-self correlations\n",
    "\n",
    "v.mm <- 59.31\n",
    "w.mm <- 56.38\n",
    "print(paste(\"Metabolite pairs: rho_ij ~ Beta(v =\",round(v.mm,3),\",w =\",round(w.mm,3),\")\"))"
   ]
  },
  {
   "cell_type": "markdown",
   "id": "fb579a25-fa53-4938-9f5a-38b6bc708f30",
   "metadata": {},
   "source": [
    "### Modeling by category: chemistry-chemistry"
   ]
  },
  {
   "cell_type": "code",
   "execution_count": null,
   "id": "c2e2f4dc-b54f-4592-a247-825f8d19126a",
   "metadata": {},
   "outputs": [],
   "source": [
    "\n",
    "\n",
    "Z.unique <- as.vector(Z.cc[row(Z.cc) < col(Z.cc)]) # unique, non-self correlations\n",
    "\n",
    "v.cc <- 33\n",
    "w.cc <- 32\n",
    "print(paste(\"Metabolite pairs: rho_ij ~ Beta(v =\",round(v.cc,3),\",w =\",round(w.cc,3),\")\"))\n",
    "\n",
    "fine <- 20\n",
    "Bs <- (c(-fine:(1+fine))-0.5)/fine\n",
    "hist(Z.unique, breaks=Bs, xlab=\"Correlation\", ylab=\"Density\", ylim=c(0,4),\n",
    "     main=\"Pairwise clinical chemistry correlations\", prob=TRUE)\n",
    "box()\n",
    "abline(v=c(-1:1),lty=3)\n",
    "\n",
    "r <- c(-fine:fine)/fine\n",
    "lines(r, dbeta((1+r)/2, v.cc, w.cc)/2, lwd=3, col=\"MediumBlue\")"
   ]
  },
  {
   "cell_type": "markdown",
   "id": "70fd1966-eb20-4564-b951-62b8be9a5f21",
   "metadata": {},
   "source": [
    "## Modeling cross-category correlations\n",
    "\n",
    "It is difficult to follow the same process with cross-category correlations, because any cross-category dataset must include both within-category\n",
    "and cross-category correlations and we assume (and observe) that these correlations have different distributions, corresponding to the combined\n",
    "effective dimensionality when two different kinds of data are considered. In hindsight, it is reasonable that cross-category correlations will\n",
    "tend to have a higher effective dimensionality than within-category correlations.\n",
    "\n",
    "We therefore will adjust the estimated mean and variation parameters to remedy poor fit of the estimated background model directly, \"by eye\",\n",
    "until the fit appears to be appropriate. We are plotting the probability density of the full set of unique, non-self correlations, which we assume is primarily composed of correlations we want to consider \"background\", i.e. insignificant. We therefore will try to match the location and scale of\n",
    "the bulk density of the histogram, allowing for discrepancies at the rare levels at the edges of the distribution. This is most difficult, and our\n",
    "assumption of bulk insignificance is most at risk, for categories with only a small set of analytes to consider."
   ]
  },
  {
   "cell_type": "markdown",
   "id": "994cdb0b-1906-41e5-8f4e-8298b80804ad",
   "metadata": {},
   "source": [
    "### Modeling cross-category correlations: protein-metabolite"
   ]
  },
  {
   "cell_type": "code",
   "execution_count": null,
   "id": "3224b4fd-b6b0-4fc4-8698-ba46536f174d",
   "metadata": {},
   "outputs": [],
   "source": [
    "# Construct a background model by:\n",
    "# 1. Find the mean and variance of the observed correlations\n",
    "# 2. Estimate parameters and compare the background model to the histogram of observed correlations\n",
    "# 3. Revise the mean and variance, recompute parameters, and compare again until satisfied with the fit to the background\n",
    "#\n",
    "dim(Z.pm)\n",
    "Z.unique <- as.vector(Z.pm) # there are no self-comparisons, nor are there repeats due to symmetry\n",
    "v.pm <- 88\n",
    "w.pm <- 85 \n",
    "print(paste(\"Protein-metabolite: rho_ij ~ Beta(v =\",round(v.pm,3),\",w =\",round(w.pm,3),\")\"))\n",
    "\n",
    "# The distribution of these cross-correlations is\n",
    "# markedly narrower than either of the contributing 'omics\n",
    "\n",
    "fine <- 40\n",
    "Bs <- (c(-fine:(1+fine))-0.5)/fine\n",
    "hist(Z.unique, breaks=Bs, xlab=\"Correlation\", ylab=\"Density\", ylim=c(0,6),\n",
    "     main=\"Protein-metabolite correlations\", prob=TRUE)\n",
    "box()\n",
    "abline(v=c(-1:1),lty=3)\n",
    "\n",
    "r <- c(-fine:fine)/fine\n",
    "lines(r, dbeta((1+r)/2, v.pm, w.pm)/2, lwd=3, col=\"MediumBlue\")\n"
   ]
  },
  {
   "cell_type": "markdown",
   "id": "6c754b33-012f-4314-b01e-8a9c6cd403a1",
   "metadata": {},
   "source": [
    "### Modeling cross-category correlations: protein-clinical"
   ]
  },
  {
   "cell_type": "code",
   "execution_count": null,
   "id": "25058ef5-6fa4-4b95-8acb-b728869bface",
   "metadata": {},
   "outputs": [],
   "source": [
    "Z.unique <- as.vector(Z.pc) # unique, non-self correlations\n",
    "\n",
    "v.pc <- 59\n",
    "w.pc <- 57 \n",
    "print(paste(\"Protein-clinical: rho_ij ~ Beta(v =\",round(v.pc,3),\",w =\",round(w.pc,3),\")\"))\n",
    "\n",
    "fine <- 30\n",
    "\n",
    "Bs <- (c(-fine:(1+fine))-0.5)/fine\n",
    "hist(Z.unique, breaks=Bs, xlab=\"Correlation\", ylab=\"Density\", ylim=c(0,5),\n",
    "     main=\"Protein-clinical chemistry correlations\", prob=TRUE)\n",
    "box()\n",
    "abline(v=c(-1:1),lty=3)\n",
    "\n",
    "r <- c(-fine:fine)/fine\n",
    "lines(r, dbeta((1+r)/2, v.pc, w.pc)/2, lwd=3, col=\"MediumBlue\")"
   ]
  },
  {
   "cell_type": "markdown",
   "id": "4365dec2-24bb-49bb-b167-22111282da1c",
   "metadata": {},
   "source": [
    "### Modeling cross-category correlations: metabolite-clinical"
   ]
  },
  {
   "cell_type": "code",
   "execution_count": null,
   "id": "32b5218e-bc84-4eb7-a897-2f052e0f39de",
   "metadata": {},
   "outputs": [],
   "source": [
    "Z.unique <- as.vector(Z.mc) # unique, non-self correlations\n",
    "\n",
    "v.mc <- 62\n",
    "w.mc <- 61\n",
    "print(paste(\"Signed: rho_ij ~ Beta(v =\",round(v.mc,3),\",w =\",round(w.mc,3),\")\"))\n",
    "\n",
    "fine <- 30\n",
    "Bs <- (c(-fine:(1+fine))-0.5)/fine\n",
    "hist(Z.unique, breaks=Bs, xlab=\"Correlation\", ylab=\"Density\", ylim=c(0,5),\n",
    "     main=\"Protein-clinical chemistry correlations\", prob=TRUE)\n",
    "box()\n",
    "abline(v=c(-1:1),lty=3)\n",
    "\n",
    "r <- c(-fine:fine)/fine\n",
    "lines(r, dbeta((1+r)/2, v.mc, w.mc)/2, lwd=3, col=\"MediumBlue\")\n"
   ]
  },
  {
   "cell_type": "markdown",
   "id": "9d5ca46b-051b-4f26-9350-c2772e8e05ad",
   "metadata": {},
   "source": [
    "## Merging correlations from disparate data subsets\n",
    "\n",
    "This centering process is similar to, but not the same as \"quantile normalization\". In quantile normalization,\n",
    "each value $x_i$ in the observed data has a cumulative probability $p_i = \\Pr{\\{x < x_i\\} }$ among the observed data $\\{ x \\}$\n",
    "which, accounting for the possibility of ties in a finite dataset, is the average rank of all observed values equal\n",
    "to $x_i$ divided by the total number of observed values. The value $x_i$ is then transformed to the value $q_i$\n",
    "with cumulative probability $p_i$ according to a normalizing probability distribution $D$ (i.e. $\\Pr{ \\{ d < q_i | D \\} } = p_i$).\n",
    "\n",
    "In this centering process, rather than using the rank of $x_i$ in the observed data, we use a null model of the\n",
    "observed data; $p_i$ is therefore a **p-value** for $x_i$ under the null model, and the transformed value $q_i$\n",
    "has the same significance under the normalized probability distribution $D$ as $x_i$ had in the original null\n",
    "distribution. This allows us to merge datasets while retaining the significance they had in their original cohort.\n",
    "Only when the empirical distribution is used as the null model are these two processes the same.\n",
    "\n",
    "Here, we use a beta distribution as a null model precisely because the appropriate null model for correlations\n",
    "of arbitrary independent vectors is, under some reasonable assumptions, indistinguishable from a Beta distribution.\n",
    "We believe this is a more appropriate null model of correlations, and suggest that the primary effect of this\n",
    "null model is to account for the effective number of dimensions in the observed data, prior to using a 2D\n",
    "geometric model to compute correlations between the observations."
   ]
  },
  {
   "cell_type": "code",
   "execution_count": null,
   "id": "17cd4fec-9464-41d4-a3db-83c796de1ed5",
   "metadata": {},
   "outputs": [],
   "source": [
    "# Centering the protein, metabolite, and clinical chemistry correlations\n",
    "#\n",
    "# The null distribution model is r ~ 2 Beta(v,w) - 1\n",
    "# The centering (target) distribution is r_centered ~ 2 Beta(nu, nu) - 1\n",
    "#\n",
    "center.beta <- function(r, v, w, nu) {\n",
    "    return(2*qbeta(pbeta((1 + r)/2, v, w), nu, nu) - 1)\n",
    "}"
   ]
  },
  {
   "cell_type": "code",
   "execution_count": null,
   "id": "a9446dbb-13f0-48a2-a5f8-f2b76054e198",
   "metadata": {},
   "outputs": [],
   "source": [
    "nu.std <- 32 # A little wider than the actual distributions, and centered at 0\n",
    "\n",
    "Zc.pp <- center.beta(Z.pp, v.pp, w.pp, nu.std)\n",
    "Zc.mm <- center.beta(Z.mm, v.mm, w.mm, nu.std)\n",
    "Zc.cc <- center.beta(Z.cc, v.cc, w.cc, nu.std)\n",
    "Zc.pm <- center.beta(Z.pm, v.pm, w.pm, nu.std)\n",
    "Zc.pc <- center.beta(Z.pc, v.pc, w.pc, nu.std)\n",
    "Zc.mc <- center.beta(Z.mc, v.mc, w.mc, nu.std)"
   ]
  },
  {
   "cell_type": "code",
   "execution_count": null,
   "id": "fdbe1f80-d0ca-4632-989c-766ac721765a",
   "metadata": {},
   "outputs": [],
   "source": [
    "## Construct a complete, centered correlation matrix"
   ]
  },
  {
   "cell_type": "code",
   "execution_count": null,
   "id": "6618ad58-eec6-410d-8574-7996dc5ecda4",
   "metadata": {},
   "outputs": [],
   "source": [
    "# Combined, centered correlations\n",
    "\n",
    "all.analytes <- c(cat.prots,cat.mets,cat.clin)\n",
    "Zc <- matrix(0, nrow = length(all.analytes),\n",
    "                ncol = length(all.analytes))\n",
    "rownames(Zc) <- all.analytes\n",
    "colnames(Zc) <- all.analytes\n",
    "\n",
    "###\n",
    "# Block-structured correlation matrix\n",
    "# Zc = [ PP     PM   PC |\n",
    "#      | PM^T   MM   MC |\n",
    "#      | PC^T  MC^T  CC ]\n",
    "###\n",
    "Zc[cat.prots, cat.prots] <- Zc.pp\n",
    "Zc[cat.mets,  cat.mets]  <- Zc.mm\n",
    "Zc[cat.clin,  cat.clin]  <- Zc.cc\n",
    "\n",
    "Zc[cat.prots, cat.mets]  <- Zc.pm\n",
    "Zc[cat.mets, cat.prots]  <- t(Zc.pm)\n",
    "\n",
    "Zc[cat.prots, cat.clin]  <- Zc.pc\n",
    "Zc[cat.clin, cat.prots]  <- t(Zc.pc)\n",
    "\n",
    "Zc[cat.mets, cat.clin]  <- Zc.mc\n",
    "Zc[cat.clin, cat.mets]  <- t(Zc.mc)"
   ]
  },
  {
   "cell_type": "code",
   "execution_count": null,
   "id": "d6300f0f-a0a2-40e4-b7a3-3b21ffe89d6d",
   "metadata": {},
   "outputs": [],
   "source": [
    "Z.unique <- Zc[row(Zc) < col(Zc)]\n",
    "print(paste(\"Target: rho_ij ~ Beta(v =\",round(nu.std,3),\",w =\",round(nu.std,3),\")\"))\n",
    "\n",
    "x <- (1+Z.unique)/2\n",
    "mZ <- mean(x)\n",
    "s2Z <- var(x)\n",
    "v.c <- mZ*(mZ*(1-mZ)/s2Z - 1)\n",
    "w.c <- (1-mZ)*(mZ*(1-mZ)/s2Z - 1)\n",
    "print(paste(\"Method of moments: rho_ij ~ Beta(v =\",round(v.c,3),\",w =\",round(w.c,3),\")\"))\n",
    "\n",
    "#nu.c <- 36\n",
    "#print(paste(\"Standardized: rho_ij ~ Beta(v =\",round(nu.c,3),\",w =\",round(nu.c,3),\")\"))\n",
    "\n",
    "\n",
    "fine <- 100\n",
    "Zc.unique <- as.vector(Zc[row(Zc) < col(Zc)])\n",
    "Bs <- (c(-fine:(1+fine))-0.5)/fine\n",
    "hist(Zc.unique, breaks=Bs, xlab=\"Correlation\", ylab=\"Density\", ylim=c(0,5),\n",
    "     main=\"All pairwise correlations, centered\", prob=TRUE)\n",
    "box()\n",
    "abline(v=c(-1:1),lty=3)\n",
    "\n",
    "r <- c(-fine:fine)/fine\n",
    "lines(r, dbeta((1+r)/2, nu.std, nu.std)/2, lwd=3, col=\"orangered\")\n",
    "lines(r, dbeta((1+r)/2, v.c, w.c)/2, lwd=3, col=\"MediumBlue\")\n",
    "#lines(r, dbeta((1+r)/2, nu.c, nu.c)/2, lwd=3, col=\"ForestGreen\")"
   ]
  },
  {
   "cell_type": "markdown",
   "id": "d4c02a84-7ebe-4bb9-9811-cfcc620788b8",
   "metadata": {},
   "source": [
    "These are now standardized correlations. The mean and variance of this distribution suggest a model (shown in blue) that fits less well than the standardizing model (in orange); this is a consequence of the differences between the models we fitted and the empirical distributions, and indicates that the enrichment of high correlations we observed in the individual 'omics distributions has been preserved. If we had used quantile normalization, the overabundance of high correlations would have been shifted to lower correlation values, and the fitted blue model would be identical to the standardizing model."
   ]
  },
  {
   "cell_type": "markdown",
   "id": "60eb7b6d-6027-48ac-a565-9dc889044405",
   "metadata": {},
   "source": [
    "## Standard Signed WGCNA analysis (via a power function indicative of a scale-free network)"
   ]
  },
  {
   "cell_type": "code",
   "execution_count": null,
   "id": "f0a35092-1caf-46b5-9515-bee72b497fb4",
   "metadata": {},
   "outputs": [],
   "source": [
    "# Choose a set of soft-thresholding powers\n",
    "powers = c(1:15)\n",
    "# Call the network topology analysis function\n",
    "sft = sink(pickSoftThreshold.fromSimilarity(Zc, powerVector = powers, blockSize=NULL, verbose=0))\n"
   ]
  },
  {
   "cell_type": "code",
   "execution_count": null,
   "id": "42a3f1ff-9da7-4dfa-a59f-a34867099b79",
   "metadata": {},
   "outputs": [],
   "source": [
    "#sizeGrWindow(9, 5)\n",
    "par(mfrow = c(1,2));\n",
    "cex1 = 0.8;\n",
    "# Scale-free topology fit index as a function of the soft-thresholding power\n",
    "plot(sft$fitIndices[,1], -sign(sft$fitIndices[,3])*sft$fitIndices[,2],\n",
    "     xlab=\"Soft Threshold (power)\",ylab=\"Scale Free Topology Model Fit,signed R^2\",type=\"n\",\n",
    "    main = paste(\"Scale independence\"));\n",
    "text(sft$fitIndices[,1], -sign(sft$fitIndices[,3])*sft$fitIndices[,2],\n",
    "    labels=powers,cex=cex1,col=\"red\");\n",
    "# this line corresponds to using an R^2 cut-off of h\n",
    "abline(h=0.80,col=\"red\")\n",
    "\n",
    "# Mean connectivity as a function of the soft-thresholding power\n",
    "plot(sft$fitIndices[,1], sft$fitIndices[,5],\n",
    "    xlab=\"Soft Threshold (power)\",ylab=\"Mean Connectivity\", type=\"n\",\n",
    "    main = paste(\"Mean connectivity\"))\n",
    "text(sft$fitIndices[,1], sft$fitIndices[,5], labels=powers, cex=cex1,col=\"red\")"
   ]
  },
  {
   "cell_type": "code",
   "execution_count": null,
   "id": "6e87e569-abc7-49e6-8057-e40d0488ad8c",
   "metadata": {},
   "outputs": [],
   "source": [
    "#based on the prior threshold search, we choose the one that best approximates a scale free topology while still maintaining high level of connectivity\n",
    "#in the network\n",
    "softPower = 4;\n"
   ]
  },
  {
   "cell_type": "code",
   "execution_count": null,
   "id": "ab833a2b-7bfe-4cdd-800b-bd9b644024cc",
   "metadata": {},
   "outputs": [],
   "source": [
    "#Generate the adjacency matrix using the chosen soft-thresholding power\n",
    "adjacency <- adjacency.fromSimilarity(similarity = Zc, type = \"signed\", power = softPower)\n",
    "\n",
    "print(str_c(\"nrow: \", nrow(adjacency)))"
   ]
  },
  {
   "cell_type": "code",
   "execution_count": null,
   "id": "72c31116-48d0-49c2-b1b3-ce44207443a0",
   "metadata": {},
   "outputs": [],
   "source": [
    "#Turn adjacency into topological overlap\n",
    "##You can input whatever matrix you want here!\n",
    "TOM <- TOMsimilarity(adjacency, TOMType=\"signed\")\n",
    "\n",
    "#Turn into distance matrix\n",
    "dissTOM <- 1 - TOM\n",
    "\n",
    "print(str_c(\"nrow: \", nrow(dissTOM)))\n",
    "head(dissTOM)"
   ]
  },
  {
   "cell_type": "code",
   "execution_count": null,
   "id": "0186bcf9-5d87-4e89-bd63-f26be7dda325",
   "metadata": {},
   "outputs": [],
   "source": [
    "#Call the hierarchical clustering function\n",
    "geneTree <- hclust(as.dist(dissTOM), method=\"average\")\n",
    "\n",
    "#Plot the resulting clustering tree (dendrogram)\n",
    "options(repr.plot.width=12, repr.plot.height=6)\n",
    "plot(geneTree, xlab=\"\", sub=\"\", main=\"Gene clustering on TOM-based dissimilarity\",\n",
    "     labels=FALSE, hang=0.04)"
   ]
  },
  {
   "cell_type": "code",
   "execution_count": null,
   "id": "2ad4656e-539e-4b72-b762-d13fdac01b04",
   "metadata": {},
   "outputs": [],
   "source": [
    "#Larger modules can be easier to interpret, so we set the minimum module size relatively high\n",
    "minModuleSize <- max(c(10, round(ncol(data_df)/200, digits=0)))\n",
    "print(str_c(\"minClusterSize = \", minModuleSize))\n",
    "\n",
    "#Module identification using dynamic tree cut\n",
    "dynamicMods <- cutreeDynamic(dendro=geneTree, distM=dissTOM,\n",
    "                             deepSplit=4, pamStage=TRUE, pamRespectsDendro=FALSE,\n",
    "                             minClusterSize=minModuleSize)\n",
    "table(dynamicMods)"
   ]
  },
  {
   "cell_type": "code",
   "execution_count": null,
   "id": "61b28c24-c086-4976-b65c-a67c838a110a",
   "metadata": {},
   "outputs": [],
   "source": [
    "#Convert numeric lables into colors\n",
    "dynamicColors <- labels2colors(dynamicMods)\n",
    "table(dynamicColors)\n",
    "\n",
    "#Plot the dendrogram and colors underneath\n",
    "options(repr.plot.width=12, repr.plot.height=6)\n",
    "plotDendroAndColors(geneTree, dynamicColors, \"Dynamic Tree Cut\",\n",
    "                    dendroLabels=FALSE, hang=0.03,\n",
    "                    addGuide=TRUE, guideHang=0.05,\n",
    "                    main=\"Gene dendrogram and module colors\")"
   ]
  },
  {
   "cell_type": "code",
   "execution_count": null,
   "id": "dd5bc22e-47a9-4179-8684-a1e8789edb49",
   "metadata": {},
   "outputs": [],
   "source": [
    "#Calculate eigengenes\n",
    "MEList <- moduleEigengenes(all_df, colors=dynamicColors, impute=TRUE, nPC=2)\n",
    "MEs <- MEList$eigengenes\n",
    "print(str_c(\"nrow: \", nrow(MEs)))\n",
    "head(MEs)\n",
    "\n",
    "#Check the explained variance\n",
    "temp_df <- MEList$varExplained\n",
    "rownames(temp_df) <- c(\"PC1\", \"PC2\")\n",
    "colnames(temp_df) <- str_replace(names(MEList$eigengenes), \"^ME\", \"\")\n",
    "t(temp_df)\n",
    "\n",
    "#Calculate dissimilarity of module eigengenes\n",
    "MEDiss <- 1 - cor(MEs, use=\"pairwise.complete.obs\")\n",
    "\n",
    "#Cluster module eigengenes\n",
    "METree <- hclust(as.dist(MEDiss), method=\"average\")\n",
    "\n",
    "#Plot the result\n",
    "options(repr.plot.width=10, repr.plot.height=5)\n",
    "plot(METree, main=\"Clustering of module eigengenes\",\n",
    "     xlab=\"\", sub=\"\")\n",
    "MEDissThres <- 0.3\n",
    "abline(h=MEDissThres, col=\"red\")"
   ]
  },
  {
   "cell_type": "code",
   "execution_count": null,
   "id": "0be18d38-6beb-4982-93c5-d3ab23631045",
   "metadata": {},
   "outputs": [],
   "source": [
    "#Call an automatic merging function\n",
    "merge <- mergeCloseModules(all_df, dynamicColors, cutHeight=MEDissThres, verbose=0)\n",
    "\n",
    "#Eigengenes of the new merged modules\n",
    "mergedMEs <- merge$newMEs\n",
    "print(str_c(\"nrow: \", nrow(mergedMEs)))\n",
    "head(mergedMEs)\n",
    "\n",
    "#Update the exparained variance\n",
    "MEList <- moduleEigengenes(all_df, colors=merge$colors, impute=TRUE, nPC=1)\n",
    "temp_df <- MEList$varExplained\n",
    "rownames(temp_df) <- c(\"PC1\")\n",
    "colnames(temp_df) <- str_replace(names(MEList$eigengenes), \"^ME\", \"\")\n",
    "t(temp_df)\n",
    "\n",
    "#Update the module eigengene clustering\n",
    "##Calculate dissimilarity of module eigengenes\n",
    "MEDiss <- 1 - cor(mergedMEs, use=\"pairwise.complete.obs\")\n",
    "##Cluster module eigengenes\n",
    "METree <- hclust(as.dist(MEDiss), method=\"average\")\n",
    "##Plot the result\n",
    "options(repr.plot.width=10, repr.plot.height=5)\n",
    "plot(METree, main=\"Clustering of module eigengenes\",\n",
    "     xlab=\"\", sub=\"\")"
   ]
  },
  {
   "cell_type": "code",
   "execution_count": null,
   "id": "06e15bd9-9b44-4010-8efe-24762f86fc4d",
   "metadata": {},
   "outputs": [],
   "source": [
    "#The merged module colors\n",
    "mergedColors <- merge$colors\n",
    "table(mergedColors)\n",
    "\n",
    "#Plot the dendrogram and module colors\n",
    "options(repr.plot.width=12, repr.plot.height=6)\n",
    "plotDendroAndColors(geneTree, cbind(dynamicColors, mergedColors),\n",
    "                    c(\"Dynamic Tree Cut\", \"Merged dynamic\"),\n",
    "                    dendroLabels=FALSE, hang=0.03,\n",
    "                    addGuide=TRUE, guideHang=0.05,\n",
    "                    main=\"Gene dendrogram and module colors\")\n",
    "\n",
    "#Plot with TOM dissimilarity matrix\n",
    "options(repr.plot.width=12, repr.plot.height=12)\n",
    "TOMplot(dissTOM^softPower,#For better visualization\n",
    "        geneTree, as.character(mergedColors), main=\"Network heatmap plot, all genes\")"
   ]
  },
  {
   "cell_type": "code",
   "execution_count": null,
   "id": "246412d2-c206-4f54-b6b4-de777ffa2ece",
   "metadata": {},
   "outputs": [],
   "source": [
    "#Rename\n",
    "moduleColors <- mergedColors\n",
    "MEs <- mergedMEs\n",
    "\n",
    "\n",
    "#Clean the module eigengene table\n",
    "eigengene_df <- MEs %>%\n",
    "    rownames_to_column(var=\"public_client_id\")\n",
    "names(eigengene_df)[2:ncol(eigengene_df)] <- names(eigengene_df)[2:ncol(eigengene_df)] %>%\n",
    "    str_replace(., \"^ME\", \"\") %>%\n",
    "    str_to_title(.)\n",
    "print(\"Module eigengene table\")\n",
    "print(str_c(\"- nrow: \", nrow(eigengene_df)))\n",
    "head(eigengene_df)"
   ]
  },
  {
   "cell_type": "code",
   "execution_count": null,
   "id": "a884a597-8709-49c5-8b77-a68f72e100d2",
   "metadata": {},
   "outputs": [],
   "source": [
    "##Sample metadata\n",
    "sample_tbl <- fr_measures %>%\n",
    "    dplyr::filter(public_client_id %in% rownames(MEs)) %>%\n",
    "    dplyr::arrange(public_client_id)#Sort row order\n",
    "print(\"Sample metadata\")\n",
    "print(str_c(\"- nrow: \", nrow(sample_tbl)))\n",
    "\n",
    "#Filter metadata to match columns in filtered data frame\n",
    "sample_tbl <- sample_tbl %>%\n",
    "    dplyr::filter(public_client_id %in% rownames(MEs))\n",
    "print(\"Sample metadata after the filter\")\n",
    "print(str_c(\"- nrow: \", nrow(sample_tbl)))\n",
    "\n",
    "#Code sex and race\n",
    "phenotype_tbl <- sample_tbl %>%\n",
    "    dplyr::mutate(BinarySex=ifelse(sex==\"F\", 0, 1),\n",
    "                  BinaryRace=ifelse(race==\"white\", 0, 1)) %>%\n",
    "    dplyr::mutate(BinaryRace=tidyr::replace_na(.$BinaryRace, 1)) %>%#Due to the existence of NA\n",
    "    dplyr::select(public_client_id, BinarySex, BinaryRace, age, self_fi, lab_fi, merge_fi) %>%\n",
    "    #Transform tibble for easily applying to the WGCNA functions\n",
    "    column_to_rownames(var=\"public_client_id\")\n",
    "\n",
    "#Check phenotypes\n",
    "print(\"Sample metadata\")\n",
    "print(str_c(\"- nrow: \", nrow(phenotype_tbl)))\n",
    "print(\"- Contingency of BinarySex\")\n",
    "table(phenotype_tbl$BinarySex)\n",
    "print(\"- Contingency of BinaryRace\")\n",
    "table(phenotype_tbl$BinaryRace)"
   ]
  },
  {
   "cell_type": "code",
   "execution_count": null,
   "id": "325c0504-5e86-41ab-8a3d-2bb0f8d4b909",
   "metadata": {},
   "outputs": [],
   "source": [
    "#Calculate the numbers of modules and samples\n",
    "#nModules <- ncol(MEs)\n",
    "nSamples <- nrow(phenotype_tbl)\n",
    "\n",
    "#Names (colors) of the modules\n",
    "modNames = substring(names(MEs), 3)\n",
    "\n",
    "##Check ID order before the cor() function\n",
    "print(str_c(\"Matched IDs?: \", all(rownames(MEs)==rownames(phenotype_tbl))))\n",
    "\n",
    "#Calculate module–trait relationship\n",
    "moduleTraitCor <- as.data.frame(cor(MEs, phenotype_tbl, use=\"p\"))\n",
    "#rownames(moduleTraitCor) <- paste(\"MM\", modNames, sep=\"\")\n",
    "rownames(moduleTraitCor) <- str_to_title(modNames)\n",
    "print(\"Module–trait relationship table\")\n",
    "print(str_c(\"nrow: \", nrow(moduleTraitCor)))\n",
    "#head(moduleTraitCor)\n",
    "moduleTraitCor\n",
    "\n",
    "#Calculate statisitcal significance of module–trait relationship\n",
    "MTRpval <- as.data.frame(corPvalueStudent(as.matrix(moduleTraitCor), nSamples))\n",
    "#rownames(MTRpval) <- paste(\"p.MM\", modNames, sep=\"\")\n",
    "rownames(MTRpval) <- str_to_title(modNames)\n",
    "print(\"Module–trait relationship p-value table\")\n",
    "print(str_c(\"- nrow: \", nrow(MTRpval)))\n",
    "#head(MTRpval)\n",
    "MTRpval\n"
   ]
  },
  {
   "cell_type": "code",
   "execution_count": null,
   "id": "e07c8045-29b6-4b0d-a335-d4a43e3f0cf3",
   "metadata": {},
   "outputs": [],
   "source": [
    "#Eliminate the dummy module (Grey)\n",
    "moduleTraitCor <- moduleTraitCor[rownames(moduleTraitCor)!=\"Grey\",]\n",
    "MTRpval <- MTRpval[rownames(MTRpval)!=\"Grey\",]\n",
    "\n",
    "#P-value adjustment across modules (per trait) using Benjamini–Hochberg method\n",
    "MTRpval_adj <- as.data.frame(apply(MTRpval, 2, function(x){p.adjust(x, length(x), method=\"BH\")}))\n",
    "print(\"Module–trait relationship adjusted p-value table\")\n",
    "print(str_c(\"- nrow: \", nrow(MTRpval_adj)))\n",
    "#head(MTRpval_adj)\n",
    "MTRpval_adj"
   ]
  },
  {
   "cell_type": "code",
   "execution_count": null,
   "id": "3ca1b7c7-78d4-486b-b560-83d8ad04c46c",
   "metadata": {},
   "outputs": [],
   "source": [
    "#Prepare text labels as matrix\n",
    "textMatrix <- paste(\"r = \",signif(as.matrix(moduleTraitCor), 3),\"\\n(P = \",\n",
    "                    signif(as.matrix(MTRpval_adj), 2),\")\", sep=\"\")\n",
    "dim(textMatrix) <- dim(moduleTraitCor)\n",
    "#Revert module names back to apply color conversion\n",
    "temp_c <- rownames(moduleTraitCor) %>%\n",
    "    str_to_lower(.) %>%\n",
    "    str_c(\"ME\",.)\n",
    "\n",
    "#Visualize\n",
    "options(repr.plot.width=8, repr.plot.height=20)\n",
    "par(mar=c(5, 5, 3, 2))\n",
    "labeledHeatmap(Matrix=moduleTraitCor,\n",
    "               xLabels=colnames(moduleTraitCor),\n",
    "               yLabels=temp_c,\n",
    "               #ySymbols=rownames(moduleTraitCor),\n",
    "               colorLabels=FALSE,\n",
    "               colors=blueWhiteRed(50),\n",
    "               textMatrix=textMatrix,\n",
    "               setStdMargins=FALSE,\n",
    "               cex.text=1,\n",
    "               zlim=c(-1,1),\n",
    "               main=paste(\"Module–trait relationships\"))"
   ]
  },
  {
   "cell_type": "code",
   "execution_count": null,
   "id": "3573f7a4-33d9-45e9-ae2d-8d6f546161e0",
   "metadata": {},
   "outputs": [],
   "source": [
    "analyte_tbl_prot <- meta_protein %>%\n",
    "    #Prepare the same analyte IDs within the data table\n",
    "    dplyr::mutate(AnalyteID=str_c(name,\"(\",gene_name,\")\"), Dataset=\"Protein\") %>%\n",
    "    #Clean\n",
    "    dplyr::rename(AnalyteID_original=name, UniProtID=uniprot, GeneSymbol=gene_name) %>%\n",
    "    dplyr::select(AnalyteID, Dataset, AnalyteID_original, UniProtID, GeneSymbol)"
   ]
  },
  {
   "cell_type": "code",
   "execution_count": null,
   "id": "cde2beb8-3d14-4048-a449-a904cff59fee",
   "metadata": {},
   "outputs": [],
   "source": [
    "analyte_tbl_met <- meta_metabolites %>%\n",
    "    #Prepare the same analyte IDs within the data table\n",
    "    dplyr::mutate(AnalyteID=str_c(CHEMICAL_ID,\"(\",BIOCHEMICAL_NAME,\")\"), Dataset=\"Metabolite\") %>%\n",
    "    #Clean\n",
    "    dplyr::rename(ChemID=CHEMICAL_ID, ChemName=BIOCHEMICAL_NAME) %>%\n",
    "    dplyr::select(AnalyteID, Dataset, ChemID, ChemName, KEGG, HMDB)"
   ]
  },
  {
   "cell_type": "code",
   "execution_count": null,
   "id": "ba5983b1-2c75-485e-8a9e-4b7cf2073199",
   "metadata": {},
   "outputs": [],
   "source": [
    "analyte_tbl_chem <- tibble(AnalyteID = cat.clin, Dataset=\"Chemistry\")"
   ]
  },
  {
   "cell_type": "code",
   "execution_count": null,
   "id": "8ba4b6a8-7fb1-46b6-b97e-0ac0146fe04b",
   "metadata": {},
   "outputs": [],
   "source": [
    "analyte_tbl_multi <- dplyr::bind_rows(analyte_tbl_prot, analyte_tbl_met)"
   ]
  },
  {
   "cell_type": "code",
   "execution_count": null,
   "id": "748bca3f-0e70-48f3-938c-985daa483ad9",
   "metadata": {},
   "outputs": [],
   "source": []
  },
  {
   "cell_type": "code",
   "execution_count": null,
   "id": "1e004425-88d5-4ad0-922f-bdc54abbc393",
   "metadata": {},
   "outputs": [],
   "source": []
  },
  {
   "cell_type": "code",
   "execution_count": null,
   "id": "a684e4c7-c220-40e8-9dda-5aba80c1396b",
   "metadata": {},
   "outputs": [],
   "source": []
  }
 ],
 "metadata": {
  "kernelspec": {
   "display_name": "R",
   "language": "R",
   "name": "ir"
  },
  "language_info": {
   "codemirror_mode": "r",
   "file_extension": ".r",
   "mimetype": "text/x-r-source",
   "name": "R",
   "pygments_lexer": "r",
   "version": "4.3.3"
  }
 },
 "nbformat": 4,
 "nbformat_minor": 5
}
