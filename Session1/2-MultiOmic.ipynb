{
 "cells": [
  {
   "cell_type": "markdown",
   "id": "7e25be93-3783-4417-89db-9988e48caba0",
   "metadata": {},
   "source": [
    "# Notebook 1 for System Biology of Aging \n",
    "This notebook is part of the first session of the 2024 Systems Biology of Aging Workshop. But don't worry about setup, all of the files and R packages should be installed in the the Sagemaker environment.\n",
    "\n",
    "This Notebook will use the \"custom-R\" kernel. Double check that this is correct by looking in the top right corner.\n",
    "\n",
    "\n",
    "Does this need to be copyied and saved? \n",
    "Do we want to link to anything? \n",
    "Any disclaimers?\n",
    "\n",
    "\n",
    "> Creating a final Notebook 1\n",
    "> TODO:\n",
    "> * Time cells and generate any output that needs to be loaded\n",
    "> * Update all links for Sagemaker directory\n",
    "\n",
    "> Outline\n",
    "> * Data exploration and cleaning\n",
    "> ** Dispersion of frailty measures\n",
    "> ** Create baseline proteins, metabolites and clinical\n",
    "> * Dimensionality reduction\n",
    "> ** Scale and impute for PCA\n",
    "> * Single-Omics DE\n",
    "> ** DE of Proteins and Metabolites quintiles\n",
    "> ** Volcano plots\n",
    "> ** Enrichment\n",
    "> * Single-Omic WGNCA\n",
    "> ** Correlate with frailty\n",
    "> ** Enrichment of select modules\n",
    "> * Multi-Omic WGCNA\n",
    "> ** Correlate with frailty\n",
    "> ** Multiomic ssgsea"
   ]
  },
  {
   "cell_type": "markdown",
   "id": "b3fe0630-2a39-4551-b590-bc76192f5285",
   "metadata": {
    "tags": [],
    "toc-hr-collapsed": true
   },
   "source": [
    "## Setup\n",
    "The next couple blocks of code will load the R packages into our notebook and set some options for prettier visualizaions."
   ]
  },
  {
   "cell_type": "code",
   "execution_count": null,
   "id": "b75ea494-6ec2-429b-968f-3d20934a44c1",
   "metadata": {
    "vscode": {
     "languageId": "r"
    }
   },
   "outputs": [],
   "source": [
    "# Load packages, one per line for clarity\n",
    "suppressMessages(library(\"tidyverse\", quietly = TRUE, warn.conflicts=FALSE))\n",
    "suppressMessages(library(\"ggplot2\", quietly = TRUE, warn.conflicts=FALSE))\n",
    "suppressMessages(library(\"WGCNA\", quietly = TRUE, warn.conflicts=FALSE))\n",
    "suppressMessages(library(\"org.Hs.eg.db\", quietly = TRUE, warn.conflicts=FALSE))\n",
    "suppressMessages(library(\"GO.db\", quietly = TRUE, warn.conflicts=FALSE))\n",
    "suppressMessages(library(\"clusterProfiler\", quietly = TRUE, warn.conflicts=FALSE))\n",
    "suppressMessages(library( \"enrichplot\", quietly = TRUE, warn.conflicts=FALSE))\n",
    "suppressMessages(library(\"limma\", quietly = TRUE, warn.conflicts=FALSE))\n",
    "suppressMessages(library(\"DT\", quietly = TRUE, warn.conflicts=FALSE))\n",
    "suppressMessages(library(\"ggpubr\", quietly = TRUE, warn.conflicts=FALSE))\n",
    "suppressMessages(library(\"gplots\", quietly = TRUE, warn.conflicts=FALSE))\n",
    "suppressMessages(library(\"scales\", quietly = TRUE, warn.conflicts=FALSE))\n",
    "suppressMessages(library(\"Matrix\", quietly = TRUE, warn.conflicts=FALSE))\n",
    "suppressMessages(library(\"colorspace\", quietly = TRUE, warn.conflicts=FALSE))"
   ]
  },
  {
   "cell_type": "code",
   "execution_count": null,
   "id": "132f017a-df98-4a4e-a653-352669908687",
   "metadata": {
    "vscode": {
     "languageId": "r"
    }
   },
   "outputs": [],
   "source": [
    "# Other options\n",
    "source(\"Scripts/Workshop_scripts.R\") # Functions for plotting\n",
    "options(stringsAsFactors=FALSE)#Required for WGCNA\n",
    "enableWGCNAThreads(nThreads=2) # \n",
    "options(repr.plot.width=7, repr.plot.height=7)#Default=7x7\n",
    "options(repr.matrix.max.rows=75, repr.matrix.max.cols=20)\n",
    "options(warn=-1)"
   ]
  },
  {
   "cell_type": "markdown",
   "id": "19e3972f-0bd5-47fc-ad0f-3a735f102b28",
   "metadata": {},
   "source": [
    "# Let's Get Started! -Frailty measures\n",
    "\n",
    "Now that our environment is ready, let's start digging into our data. In your Sagemaker environment, you should see a folders with tsv files for each of the omics and outcomes. We'll go over all of these during the anlaysis, but let's start by looking at our outcome- the frailty indices."
   ]
  },
  {
   "cell_type": "code",
   "execution_count": null,
   "id": "069c35f9-540d-41ee-a2f0-aa1ce7a850e1",
   "metadata": {
    "vscode": {
     "languageId": "r"
    }
   },
   "outputs": [],
   "source": [
    "fr_measures = read_delim(\"../data/frailty/combination_fi_040124.csv\", show_col_types = FALSE)\n",
    "dim(fr_measures)\n",
    "head(fr_measures)\n",
    "colnames(fr_measures)"
   ]
  },
  {
   "cell_type": "markdown",
   "id": "bdaf8da4-3e91-4911-91f7-83caee8f5f1e",
   "metadata": {},
   "source": [
    "# Clustering combined 'omics data\n",
    "\n",
    "The abundance of two arbitrarily chosen proteins in proteomics data is typically positively correlated, as are arbitrarily chosen genes in transcriptome data. We can therefore choose to use the power functions typically used in WGCNA analyses, or the more general sigmoid functions, to convert correlations into adjacencies (or distances) for clustering proteins in WGCNA."
   ]
  },
  {
   "cell_type": "code",
   "execution_count": null,
   "id": "bf3c37cf-f44a-49a7-9f9c-b214441a4696",
   "metadata": {
    "vscode": {
     "languageId": "r"
    }
   },
   "outputs": [],
   "source": [
    "mets <- read_delim(\"./Session1_files/metabolites_baseline.tsv\", show_col_types = FALSE)\n",
    "prots <- read_delim(\"./Session1_files/proteins_baseline.tsv\", show_col_types = FALSE)\n",
    "clin <- read_delim(\"./Session1_files/chemistries_baseline.tsv\", show_col_types = FALSE)\n",
    "\n",
    "# Load meta data\n",
    "meta_protein = read_delim(\"../data/arivale_snapshot_ISB_2019-05-10_0053/proteomics_metadata.tsv\", skip=13, delim='\\t', show_col_types = FALSE)\n",
    "# Metabolites\n",
    "meta_metabolites = read_delim(\"../data/arivale_snapshot_ISB_2019-05-10_0053/metabolomics_metadata.tsv\", skip=13, delim='\\t', show_col_types = FALSE)\n"
   ]
  },
  {
   "cell_type": "code",
   "execution_count": null,
   "id": "6797eafd-8e37-430c-a3f1-efa857780112",
   "metadata": {
    "vscode": {
     "languageId": "r"
    }
   },
   "outputs": [],
   "source": [
    "clin_no_frail <- clin[!colnames(clin) %in% fr_measures_key$Feature]"
   ]
  },
  {
   "cell_type": "code",
   "execution_count": null,
   "id": "71f7d4ff-f230-4164-8856-f2692ce67abf",
   "metadata": {
    "vscode": {
     "languageId": "r"
    }
   },
   "outputs": [],
   "source": [
    "cm_df <- merge(clin, mets, by=\"public_client_id\")\n",
    "pf_df <- merge(prots, fr_measures, by=\"public_client_id\")\n",
    "in_df <- merge(cm_df, pf_df, by=\"public_client_id\")"
   ]
  },
  {
   "cell_type": "code",
   "execution_count": null,
   "id": "5b1489bf-4388-4059-b5f9-60a7194c89b9",
   "metadata": {
    "vscode": {
     "languageId": "r"
    }
   },
   "outputs": [],
   "source": [
    "dim(clin)\n",
    "dim(mets)\n",
    "dim(prots)\n",
    "dim(fr_measures)\n",
    "dim(in_df)\n",
    "# the wide protein combined 'omics contains just 63 samples; 124 samples have wide protein data"
   ]
  },
  {
   "cell_type": "code",
   "execution_count": null,
   "id": "0f11ac39-b573-44b5-813f-a882e7978d1f",
   "metadata": {
    "vscode": {
     "languageId": "r"
    }
   },
   "outputs": [],
   "source": [
    "# Drop id column and get features\n",
    "num.analytes <- setdiff(unique(c(colnames(clin),colnames(mets),colnames(prots))),'public_client_id')\n",
    "num_df <- in_df[,colnames(in_df) %in% num.analytes]\n",
    "num_df <- as.matrix(num_df)\n",
    "rownames(num_df) <- in_df$public_client_id\n",
    "meta <- in_df[,colnames(in_df) %in% colnames(fr_measures)]"
   ]
  },
  {
   "cell_type": "code",
   "execution_count": null,
   "id": "e4725857-9654-47ae-857e-2a0602c0e2a1",
   "metadata": {
    "vscode": {
     "languageId": "r"
    }
   },
   "outputs": [],
   "source": [
    "dim(num_df)\n",
    "head(num_df)"
   ]
  },
  {
   "cell_type": "markdown",
   "id": "1ff4e0e8-0185-4dbc-947d-a62348fa2dc2",
   "metadata": {},
   "source": [
    "## Data cleaning"
   ]
  },
  {
   "cell_type": "code",
   "execution_count": null,
   "id": "f8e55271-358c-43fe-8dd0-88c6ca8c3512",
   "metadata": {
    "vscode": {
     "languageId": "r"
    }
   },
   "outputs": [],
   "source": [
    "## Filter samples and features based on WGCNA NA criteria (50%)\n",
    "\n",
    "gsg = goodSamplesGenes(num_df, verbose = 3);\n",
    "gsg$allOK\n",
    "if (!gsg$allOK)\n",
    "{\n",
    "  # Optionally, print the gene and sample names that were removed:\n",
    "  if (sum(!gsg$goodGenes)>0) \n",
    "     printFlush(paste(\"Removing genes:\", paste(names(num_df)[!gsg$goodGenes], collapse = \", \")));\n",
    "  if (sum(!gsg$goodSamples)>0) \n",
    "     printFlush(paste(\"Removing samples:\", paste(rownames(num_df)[!gsg$goodSamples], collapse = \", \")));\n",
    "  # Remove the offending genes and samples from the data:\n",
    "  num_df = num_df[gsg$goodSamples, gsg$goodGenes]\n",
    "}\n",
    "\n",
    "dim(num_df)"
   ]
  },
  {
   "cell_type": "code",
   "execution_count": null,
   "id": "c0341837-2814-4bfa-87b4-957740c050bf",
   "metadata": {
    "vscode": {
     "languageId": "r"
    }
   },
   "outputs": [],
   "source": [
    "# Get the names of remaining analytes overall (all.analytes) by category\n",
    "cat.prots <- intersect(colnames(prots),colnames(num_df))\n",
    "cat.mets  <- intersect(colnames(mets),colnames(num_df))\n",
    "cat.clin  <- intersect(colnames(clin),colnames(num_df))\n",
    "all.analytes <- c(cat.prots,cat.mets,cat.clin)\n",
    "print(paste(length(cat.prots),length(cat.mets),length(cat.clin),length(all.analytes)))"
   ]
  },
  {
   "cell_type": "markdown",
   "id": "be5d4b26-2a0f-4bcc-b233-87867c65d886",
   "metadata": {},
   "source": [
    "## Correlations\n",
    "\n",
    "Our strategy is to start with correlations separately by category ('omics). Each category tends to have a different distribution of correlations; for example, randomly selected analytes from a proteomics assay tends to be positively correlated (also true for transcriptomics), but randomly selected metabolites are typically closer to uncorrelated. This is not an issue when computing adjacencies for any of the single 'omics, because the transformation from correlations to adjacencies would (in WGCNA) be fit to each of these separate distributions separately. When we combine correlations across different 'omics, or between analytes measured in different 'omics experiments, WGCNA would attempt to find one power $k$ to fit them all, and that would result in very different distributions of adjacency for analyte pairs from different source experiments. One particular source of differences in distribution is sample size. If we compute correlations between metabolites from 1,000 individuals, we should expect much more accurate correlation values than if we compute them from only 10; sampling variation alone will result in a sqrt(1000/10) = 10-fold difference in variance! \n",
    "\n",
    "We will therefore make a smooth model of the distribution of correlations of each type, and then transform the correlation values to a single, shared smooth model. While the resulting values are no longer interpretable as correlations, this will standardize the significance of correlations from different sources onto a single, shared significance scale. When WGCNA fits the values on this scale, it will be applying the same significance standards to all the correlations, regardless of their original source.\n",
    "\n",
    "Note that this is very similar to, but different from, \"quantile normalization\". Quantile normalization uses the observed (empirical) distribution of correlations as it's model, and typically a standard normal distribution as the shared distribution. Suppose there actually\n",
    "is significant correlation structure in the data; then there will be sets of analytes with a common level of correlation to each other, and this common level is not the result of the category of analytes being measured or the number of samples in the dataset; it is due to the underlying biology that we are trying to capture. Such a set of analytes will contribute a \"bump\" of correlations that may even be visible in a histogram, depending on how strong the correlations are. The bump will be a feature of the empirical distribution, and quantile normalization will erase this figure from the normalized distribution, destroying some of the information we are trying to capture. But by constructing smooth models of the data, we can only capture the bulk properties of the distribution, and these localized differences will not be captured by the model. Thus, the \"bumps\" that are visible in the original distribution will appear also in the standardized normalization, retaining valuable information. \n",
    "\n",
    "Since correlations are bounded to the interval [-1, 1], a Gaussian distribution is not appropriate and we rely instead on the Beta distribution for both fitting models to the observed correlations and the shared target distribution. We look for agreement of the bulk distribution with the model, particularly near the mode, and agreement on the bulk variance."
   ]
  },
  {
   "cell_type": "code",
   "execution_count": null,
   "id": "799462d6-8772-41d7-94b1-4f7ee47133af",
   "metadata": {
    "vscode": {
     "languageId": "r"
    }
   },
   "outputs": [],
   "source": [
    "# We will construct a correlation matrix Z in parts corresponding to each category of analyte pairs.\n",
    "n.analytes <- length(all.analytes)\n"
   ]
  },
  {
   "cell_type": "code",
   "execution_count": null,
   "id": "c7e9bfac-0fe9-4fb8-a647-703de957056b",
   "metadata": {
    "vscode": {
     "languageId": "r"
    }
   },
   "outputs": [],
   "source": [
    "#\n",
    "# All and only the analytes of interest. To compute correlations, they must be numeric. We will use Spearman\n",
    "# correlation, as it is more robust to data that may contain outliers.\n",
    "#\n",
    "all_df <- num_df[,all.analytes]\n",
    "dim(all_df) # 845 samples, 1,273 analytes (276 protein, 917 metabolites, 80 clinical chemistries)"
   ]
  },
  {
   "cell_type": "code",
   "execution_count": null,
   "id": "e0d2849b-cb27-422d-a5ca-a693e24d6c89",
   "metadata": {
    "vscode": {
     "languageId": "r"
    }
   },
   "outputs": [],
   "source": [
    "# Within-category correlations\n",
    "Z.pp <- cor(all_df[,cat.prots], method = \"s\", use = 'pairwise.complete.obs')\n",
    "dim(Z.pp)\n",
    "Z.mm <- cor(all_df[,cat.mets], method = \"s\", use = 'pairwise.complete.obs')\n",
    "dim(Z.mm)\n",
    "Z.cc <- cor(all_df[,cat.clin], method = \"s\", use = 'pairwise.complete.obs')\n",
    "dim(Z.cc)"
   ]
  },
  {
   "cell_type": "code",
   "execution_count": null,
   "id": "e4e487df-0e0d-45ee-9185-40b70c27055c",
   "metadata": {
    "vscode": {
     "languageId": "r"
    }
   },
   "outputs": [],
   "source": [
    "# Cross-category correlations\n",
    "Z.pm <- cor(all_df[,cat.prots], all_df[,cat.mets], method = \"s\", use = 'pairwise.complete.obs')\n",
    "dim(Z.pm)\n",
    "Z.pc <- cor(all_df[,cat.prots], all_df[,cat.clin], method = \"s\", use = 'pairwise.complete.obs')\n",
    "dim(Z.pc)\n",
    "Z.mc <- cor(all_df[,cat.mets], all_df[,cat.clin], method = \"s\", use = 'pairwise.complete.obs')\n",
    "dim(Z.mc)\n"
   ]
  },
  {
   "cell_type": "code",
   "execution_count": null,
   "id": "ccf4c1e8-228d-4dbc-9ccf-235b3ae82a3e",
   "metadata": {
    "vscode": {
     "languageId": "r"
    }
   },
   "outputs": [],
   "source": [
    "# The error message indicates that at least one analyte pair did not have at least 2 samples\n",
    "# with values for both analytes, resulting in an NA correlation. We replace this NA with a 0.\n",
    "length(which(is.na(Z.pm)))\n",
    "length(which(is.na(Z.pc)))"
   ]
  },
  {
   "cell_type": "code",
   "execution_count": null,
   "id": "0e377a83-2087-4f24-a15c-16d59b0c8a25",
   "metadata": {
    "vscode": {
     "languageId": "r"
    }
   },
   "outputs": [],
   "source": [
    "length(which(is.na(Z.mc)))\n",
    "Z.mc[is.na(Z.mc)] <- 0\n",
    "length(which(is.na(Z.mc)))"
   ]
  },
  {
   "cell_type": "markdown",
   "id": "53262bba-047e-4386-899c-5d33b6019829",
   "metadata": {},
   "source": [
    "### Modeling protein-protein correlations\n"
   ]
  },
  {
   "cell_type": "code",
   "execution_count": null,
   "id": "8edc51bf-2474-4fde-b234-c382bff75520",
   "metadata": {
    "vscode": {
     "languageId": "r"
    }
   },
   "outputs": [],
   "source": [
    "# Estimate coefficients for a Beta distribution by the method of moments\n",
    "# i.e. by computing parameters that match the mean and variance of the \"background\" model (initially: all observed correlations)\n",
    "Z.unique <- Z.pp[row(Z.pp) < col(Z.pp)] # unique, non-self correlations\n",
    "x <- (1+Z.unique)/2\n",
    "mZ <- mean(x)\n",
    "s2Z <- var(x)\n",
    "v.pp <- mZ*(mZ*(1-mZ)/s2Z - 1)\n",
    "w.pp <- (1-mZ)*(mZ*(1-mZ)/s2Z - 1)\n",
    "print(paste(\"Protein-protein: rho_ij ~ Beta(v =\",round(v.pp,3),\",w =\",round(w.pp,3),\")\"))"
   ]
  },
  {
   "cell_type": "code",
   "execution_count": null,
   "id": "373277c2-7a00-439d-8b62-7aa637d8fdd2",
   "metadata": {
    "vscode": {
     "languageId": "r"
    }
   },
   "outputs": [],
   "source": [
    "# Evaluate how well the model fits the background distribution\n",
    "fine <- 40\n",
    "Bs <- (c(-fine:(1+fine))-0.5)/fine\n",
    "hist(Z.unique, breaks=Bs, xlab=\"Correlation\", ylab=\"Density\",\n",
    "     main=\"Pairwise protein correlations\", prob=TRUE)\n",
    "box()\n",
    "abline(v=c(-1:1),lty=3)\n",
    "r <- c(-fine:fine)/fine\n",
    "lines(r, dbeta((1+r)/2, v.pp, w.pp)/2, lwd=3, col=\"MediumBlue\")"
   ]
  },
  {
   "cell_type": "markdown",
   "id": "8986fb1d-97ee-469e-a9a4-04f2149d3b18",
   "metadata": {},
   "source": [
    "The model doesn't fit the background distribution well enough (by eye). We will adjust the parameters until the model fits."
   ]
  },
  {
   "cell_type": "code",
   "execution_count": null,
   "id": "a91f550f-e79b-4856-905e-3f0a8cbbe5aa",
   "metadata": {
    "vscode": {
     "languageId": "r"
    }
   },
   "outputs": [],
   "source": [
    "v.pp <- 37\n",
    "w.pp <- 30\n",
    "print(paste(\"Protein pairs: rho_ij ~ Beta(v =\",round(v.pp,3),\",w =\",round(w.pp,3),\")\"))\n",
    "\n",
    "fine <- 40\n",
    "Bs <- (c(-fine:(1+fine))-0.5)/fine\n",
    "hist(Z.unique, breaks=Bs, xlab=\"Correlation\", ylab=\"Density\", ylim=c(0,3.5),\n",
    "     main=\"Pairwise protein correlations\", prob=TRUE)\n",
    "box()\n",
    "abline(v=c(-1:1),lty=3)\n",
    "\n",
    "r <- c(-fine:fine)/fine\n",
    "lines(r, dbeta((1+r)/2, v.pp, w.pp)/2, lwd=3, col=\"MediumBlue\")"
   ]
  },
  {
   "cell_type": "markdown",
   "id": "d7c32111-864a-4ea8-878b-20b32de01a2b",
   "metadata": {},
   "source": [
    "### Modeling by category: metabolite-metabolite"
   ]
  },
  {
   "cell_type": "code",
   "execution_count": null,
   "id": "0fa3445a-9148-4564-aea4-aec3c87766e3",
   "metadata": {
    "vscode": {
     "languageId": "r"
    }
   },
   "outputs": [],
   "source": [
    "Z.unique <- as.vector(Z.mm[row(Z.mm) < col(Z.mm)]) # unique, non-self correlations\n",
    "\n",
    "v.mm <- 59.31\n",
    "w.mm <- 56.38\n",
    "print(paste(\"Metabolite pairs: rho_ij ~ Beta(v =\",round(v.mm,3),\",w =\",round(w.mm,3),\")\"))"
   ]
  },
  {
   "cell_type": "markdown",
   "id": "fb579a25-fa53-4938-9f5a-38b6bc708f30",
   "metadata": {},
   "source": [
    "### Modeling by category: chemistry-chemistry"
   ]
  },
  {
   "cell_type": "code",
   "execution_count": null,
   "id": "c2e2f4dc-b54f-4592-a247-825f8d19126a",
   "metadata": {
    "vscode": {
     "languageId": "r"
    }
   },
   "outputs": [],
   "source": [
    "\n",
    "\n",
    "Z.unique <- as.vector(Z.cc[row(Z.cc) < col(Z.cc)]) # unique, non-self correlations\n",
    "\n",
    "v.cc <- 33\n",
    "w.cc <- 32\n",
    "print(paste(\"Metabolite pairs: rho_ij ~ Beta(v =\",round(v.cc,3),\",w =\",round(w.cc,3),\")\"))\n",
    "\n",
    "fine <- 20\n",
    "Bs <- (c(-fine:(1+fine))-0.5)/fine\n",
    "hist(Z.unique, breaks=Bs, xlab=\"Correlation\", ylab=\"Density\", ylim=c(0,4),\n",
    "     main=\"Pairwise clinical chemistry correlations\", prob=TRUE)\n",
    "box()\n",
    "abline(v=c(-1:1),lty=3)\n",
    "\n",
    "r <- c(-fine:fine)/fine\n",
    "lines(r, dbeta((1+r)/2, v.cc, w.cc)/2, lwd=3, col=\"MediumBlue\")"
   ]
  },
  {
   "cell_type": "markdown",
   "id": "70fd1966-eb20-4564-b951-62b8be9a5f21",
   "metadata": {},
   "source": [
    "## Modeling cross-category correlations\n",
    "\n",
    "It is difficult to follow the same process with cross-category correlations, because any cross-category dataset must include both within-category\n",
    "and cross-category correlations and we assume (and observe) that these correlations have different distributions, corresponding to the combined\n",
    "effective dimensionality when two different kinds of data are considered. In hindsight, it is reasonable that cross-category correlations will\n",
    "tend to have a higher effective dimensionality than within-category correlations.\n",
    "\n",
    "We therefore will adjust the estimated mean and variation parameters to remedy poor fit of the estimated background model directly, \"by eye\",\n",
    "until the fit appears to be appropriate. We are plotting the probability density of the full set of unique, non-self correlations, which we assume is primarily composed of correlations we want to consider \"background\", i.e. insignificant. We therefore will try to match the location and scale of\n",
    "the bulk density of the histogram, allowing for discrepancies at the rare levels at the edges of the distribution. This is most difficult, and our\n",
    "assumption of bulk insignificance is most at risk, for categories with only a small set of analytes to consider."
   ]
  },
  {
   "cell_type": "markdown",
   "id": "994cdb0b-1906-41e5-8f4e-8298b80804ad",
   "metadata": {},
   "source": [
    "### Modeling cross-category correlations: protein-metabolite"
   ]
  },
  {
   "cell_type": "code",
   "execution_count": null,
   "id": "3224b4fd-b6b0-4fc4-8698-ba46536f174d",
   "metadata": {
    "vscode": {
     "languageId": "r"
    }
   },
   "outputs": [],
   "source": [
    "# Construct a background model by:\n",
    "# 1. Find the mean and variance of the observed correlations\n",
    "# 2. Estimate parameters and compare the background model to the histogram of observed correlations\n",
    "# 3. Revise the mean and variance, recompute parameters, and compare again until satisfied with the fit to the background\n",
    "#\n",
    "dim(Z.pm)\n",
    "Z.unique <- as.vector(Z.pm) # there are no self-comparisons, nor are there repeats due to symmetry\n",
    "v.pm <- 88\n",
    "w.pm <- 85 \n",
    "print(paste(\"Protein-metabolite: rho_ij ~ Beta(v =\",round(v.pm,3),\",w =\",round(w.pm,3),\")\"))\n",
    "\n",
    "# The distribution of these cross-correlations is\n",
    "# markedly narrower than either of the contributing 'omics\n",
    "\n",
    "fine <- 40\n",
    "Bs <- (c(-fine:(1+fine))-0.5)/fine\n",
    "hist(Z.unique, breaks=Bs, xlab=\"Correlation\", ylab=\"Density\", ylim=c(0,6),\n",
    "     main=\"Protein-metabolite correlations\", prob=TRUE)\n",
    "box()\n",
    "abline(v=c(-1:1),lty=3)\n",
    "\n",
    "r <- c(-fine:fine)/fine\n",
    "lines(r, dbeta((1+r)/2, v.pm, w.pm)/2, lwd=3, col=\"MediumBlue\")\n"
   ]
  },
  {
   "cell_type": "markdown",
   "id": "6c754b33-012f-4314-b01e-8a9c6cd403a1",
   "metadata": {},
   "source": [
    "### Modeling cross-category correlations: protein-clinical"
   ]
  },
  {
   "cell_type": "code",
   "execution_count": null,
   "id": "25058ef5-6fa4-4b95-8acb-b728869bface",
   "metadata": {
    "vscode": {
     "languageId": "r"
    }
   },
   "outputs": [],
   "source": [
    "Z.unique <- as.vector(Z.pc) # unique, non-self correlations\n",
    "\n",
    "v.pc <- 59\n",
    "w.pc <- 57 \n",
    "print(paste(\"Protein-clinical: rho_ij ~ Beta(v =\",round(v.pc,3),\",w =\",round(w.pc,3),\")\"))\n",
    "\n",
    "fine <- 30\n",
    "\n",
    "Bs <- (c(-fine:(1+fine))-0.5)/fine\n",
    "hist(Z.unique, breaks=Bs, xlab=\"Correlation\", ylab=\"Density\", ylim=c(0,5),\n",
    "     main=\"Protein-clinical chemistry correlations\", prob=TRUE)\n",
    "box()\n",
    "abline(v=c(-1:1),lty=3)\n",
    "\n",
    "r <- c(-fine:fine)/fine\n",
    "lines(r, dbeta((1+r)/2, v.pc, w.pc)/2, lwd=3, col=\"MediumBlue\")"
   ]
  },
  {
   "cell_type": "markdown",
   "id": "4365dec2-24bb-49bb-b167-22111282da1c",
   "metadata": {},
   "source": [
    "### Modeling cross-category correlations: metabolite-clinical"
   ]
  },
  {
   "cell_type": "code",
   "execution_count": null,
   "id": "32b5218e-bc84-4eb7-a897-2f052e0f39de",
   "metadata": {
    "vscode": {
     "languageId": "r"
    }
   },
   "outputs": [],
   "source": [
    "Z.unique <- as.vector(Z.mc) # unique, non-self correlations\n",
    "\n",
    "v.mc <- 62\n",
    "w.mc <- 61\n",
    "print(paste(\"Signed: rho_ij ~ Beta(v =\",round(v.mc,3),\",w =\",round(w.mc,3),\")\"))\n",
    "\n",
    "fine <- 30\n",
    "Bs <- (c(-fine:(1+fine))-0.5)/fine\n",
    "hist(Z.unique, breaks=Bs, xlab=\"Correlation\", ylab=\"Density\", ylim=c(0,5),\n",
    "     main=\"Protein-clinical chemistry correlations\", prob=TRUE)\n",
    "box()\n",
    "abline(v=c(-1:1),lty=3)\n",
    "\n",
    "r <- c(-fine:fine)/fine\n",
    "lines(r, dbeta((1+r)/2, v.mc, w.mc)/2, lwd=3, col=\"MediumBlue\")\n"
   ]
  },
  {
   "cell_type": "markdown",
   "id": "9d5ca46b-051b-4f26-9350-c2772e8e05ad",
   "metadata": {},
   "source": [
    "## Merging correlations from disparate data subsets\n",
    "\n",
    "This centering process is similar to, but not the same as \"quantile normalization\". In quantile normalization,\n",
    "each value $x_i$ in the observed data has a cumulative probability $p_i = \\Pr{\\{x < x_i\\} }$ among the observed data $\\{ x \\}$\n",
    "which, accounting for the possibility of ties in a finite dataset, is the average rank of all observed values equal\n",
    "to $x_i$ divided by the total number of observed values. The value $x_i$ is then transformed to the value $q_i$\n",
    "with cumulative probability $p_i$ according to a normalizing probability distribution $D$ (i.e. $\\Pr{ \\{ d < q_i | D \\} } = p_i$).\n",
    "\n",
    "In this centering process, rather than using the rank of $x_i$ in the observed data, we use a null model of the\n",
    "observed data; $p_i$ is therefore a **p-value** for $x_i$ under the null model, and the transformed value $q_i$\n",
    "has the same significance under the normalized probability distribution $D$ as $x_i$ had in the original null\n",
    "distribution. This allows us to merge datasets while retaining the significance they had in their original cohort.\n",
    "Only when the empirical distribution is used as the null model are these two processes the same.\n",
    "\n",
    "Here, we use a beta distribution as a null model precisely because the appropriate null model for correlations\n",
    "of arbitrary independent vectors is, under some reasonable assumptions, indistinguishable from a Beta distribution.\n",
    "We believe this is a more appropriate null model of correlations, and suggest that the primary effect of this\n",
    "null model is to account for the effective number of dimensions in the observed data, prior to using a 2D\n",
    "geometric model to compute correlations between the observations."
   ]
  },
  {
   "cell_type": "code",
   "execution_count": null,
   "id": "17cd4fec-9464-41d4-a3db-83c796de1ed5",
   "metadata": {
    "vscode": {
     "languageId": "r"
    }
   },
   "outputs": [],
   "source": [
    "# Centering the protein, metabolite, and clinical chemistry correlations\n",
    "#\n",
    "# The null distribution model is r ~ 2 Beta(v,w) - 1\n",
    "# The centering (target) distribution is r_centered ~ 2 Beta(nu, nu) - 1\n",
    "#\n",
    "center.beta <- function(r, v, w, nu) {\n",
    "    return(2*qbeta(pbeta((1 + r)/2, v, w), nu, nu) - 1)\n",
    "}"
   ]
  },
  {
   "cell_type": "code",
   "execution_count": null,
   "id": "a9446dbb-13f0-48a2-a5f8-f2b76054e198",
   "metadata": {
    "vscode": {
     "languageId": "r"
    }
   },
   "outputs": [],
   "source": [
    "nu.std <- 32 # A little wider than the actual distributions, and centered at 0\n",
    "\n",
    "Zc.pp <- center.beta(Z.pp, v.pp, w.pp, nu.std)\n",
    "Zc.mm <- center.beta(Z.mm, v.mm, w.mm, nu.std)\n",
    "Zc.cc <- center.beta(Z.cc, v.cc, w.cc, nu.std)\n",
    "Zc.pm <- center.beta(Z.pm, v.pm, w.pm, nu.std)\n",
    "Zc.pc <- center.beta(Z.pc, v.pc, w.pc, nu.std)\n",
    "Zc.mc <- center.beta(Z.mc, v.mc, w.mc, nu.std)"
   ]
  },
  {
   "cell_type": "code",
   "execution_count": null,
   "id": "fdbe1f80-d0ca-4632-989c-766ac721765a",
   "metadata": {
    "vscode": {
     "languageId": "r"
    }
   },
   "outputs": [],
   "source": [
    "## Construct a complete, centered correlation matrix"
   ]
  },
  {
   "cell_type": "code",
   "execution_count": null,
   "id": "6618ad58-eec6-410d-8574-7996dc5ecda4",
   "metadata": {
    "vscode": {
     "languageId": "r"
    }
   },
   "outputs": [],
   "source": [
    "# Combined, centered correlations\n",
    "\n",
    "all.analytes <- c(cat.prots,cat.mets,cat.clin)\n",
    "Zc <- matrix(0, nrow = length(all.analytes),\n",
    "                ncol = length(all.analytes))\n",
    "rownames(Zc) <- all.analytes\n",
    "colnames(Zc) <- all.analytes\n",
    "\n",
    "###\n",
    "# Block-structured correlation matrix\n",
    "# Zc = [ PP     PM   PC |\n",
    "#      | PM^T   MM   MC |\n",
    "#      | PC^T  MC^T  CC ]\n",
    "###\n",
    "Zc[cat.prots, cat.prots] <- Zc.pp\n",
    "Zc[cat.mets,  cat.mets]  <- Zc.mm\n",
    "Zc[cat.clin,  cat.clin]  <- Zc.cc\n",
    "\n",
    "Zc[cat.prots, cat.mets]  <- Zc.pm\n",
    "Zc[cat.mets, cat.prots]  <- t(Zc.pm)\n",
    "\n",
    "Zc[cat.prots, cat.clin]  <- Zc.pc\n",
    "Zc[cat.clin, cat.prots]  <- t(Zc.pc)\n",
    "\n",
    "Zc[cat.mets, cat.clin]  <- Zc.mc\n",
    "Zc[cat.clin, cat.mets]  <- t(Zc.mc)"
   ]
  },
  {
   "cell_type": "code",
   "execution_count": null,
   "id": "d6300f0f-a0a2-40e4-b7a3-3b21ffe89d6d",
   "metadata": {
    "vscode": {
     "languageId": "r"
    }
   },
   "outputs": [],
   "source": [
    "Z.unique <- Zc[row(Zc) < col(Zc)]\n",
    "print(paste(\"Target: rho_ij ~ Beta(v =\",round(nu.std,3),\",w =\",round(nu.std,3),\")\"))\n",
    "\n",
    "x <- (1+Z.unique)/2\n",
    "mZ <- mean(x)\n",
    "s2Z <- var(x)\n",
    "v.c <- mZ*(mZ*(1-mZ)/s2Z - 1)\n",
    "w.c <- (1-mZ)*(mZ*(1-mZ)/s2Z - 1)\n",
    "print(paste(\"Method of moments: rho_ij ~ Beta(v =\",round(v.c,3),\",w =\",round(w.c,3),\")\"))\n",
    "\n",
    "#nu.c <- 36\n",
    "#print(paste(\"Standardized: rho_ij ~ Beta(v =\",round(nu.c,3),\",w =\",round(nu.c,3),\")\"))\n",
    "\n",
    "\n",
    "fine <- 100\n",
    "Zc.unique <- as.vector(Zc[row(Zc) < col(Zc)])\n",
    "Bs <- (c(-fine:(1+fine))-0.5)/fine\n",
    "hist(Zc.unique, breaks=Bs, xlab=\"Correlation\", ylab=\"Density\", ylim=c(0,5),\n",
    "     main=\"All pairwise correlations, centered\", prob=TRUE)\n",
    "box()\n",
    "abline(v=c(-1:1),lty=3)\n",
    "\n",
    "r <- c(-fine:fine)/fine\n",
    "lines(r, dbeta((1+r)/2, nu.std, nu.std)/2, lwd=3, col=\"orangered\")\n",
    "lines(r, dbeta((1+r)/2, v.c, w.c)/2, lwd=3, col=\"MediumBlue\")\n",
    "#lines(r, dbeta((1+r)/2, nu.c, nu.c)/2, lwd=3, col=\"ForestGreen\")"
   ]
  },
  {
   "cell_type": "markdown",
   "id": "d4c02a84-7ebe-4bb9-9811-cfcc620788b8",
   "metadata": {},
   "source": [
    "These are now standardized correlations. The mean and variance of this distribution suggest a model (shown in blue) that fits less well than the standardizing model (in orange); this is a consequence of the differences between the models we fitted and the empirical distributions, and indicates that the enrichment of high correlations we observed in the individual 'omics distributions has been preserved. If we had used quantile normalization, the overabundance of high correlations would have been shifted to lower correlation values, and the fitted blue model would be identical to the standardizing model."
   ]
  },
  {
   "cell_type": "markdown",
   "id": "60eb7b6d-6027-48ac-a565-9dc889044405",
   "metadata": {},
   "source": [
    "## Standard Signed WGCNA analysis (via a power function indicative of a scale-free network)"
   ]
  },
  {
   "cell_type": "code",
   "execution_count": null,
   "id": "f0a35092-1caf-46b5-9515-bee72b497fb4",
   "metadata": {
    "vscode": {
     "languageId": "r"
    }
   },
   "outputs": [],
   "source": [
    "# Choose a set of soft-thresholding powers\n",
    "powers = c(1:15)\n",
    "# Call the network topology analysis function\n",
    "sft = pickSoftThreshold.fromSimilarity(Zc, powerVector = powers, blockSize=NULL, verbose=0)\n"
   ]
  },
  {
   "cell_type": "code",
   "execution_count": null,
   "id": "42a3f1ff-9da7-4dfa-a59f-a34867099b79",
   "metadata": {
    "vscode": {
     "languageId": "r"
    }
   },
   "outputs": [],
   "source": [
    "#sizeGrWindow(9, 5)\n",
    "par(mfrow = c(1,2));\n",
    "cex1 = 0.8;\n",
    "# Scale-free topology fit index as a function of the soft-thresholding power\n",
    "plot(sft$fitIndices[,1], -sign(sft$fitIndices[,3])*sft$fitIndices[,2],\n",
    "     xlab=\"Soft Threshold (power)\",ylab=\"Scale Free Topology Model Fit,signed R^2\",type=\"n\",\n",
    "    main = paste(\"Scale independence\"));\n",
    "text(sft$fitIndices[,1], -sign(sft$fitIndices[,3])*sft$fitIndices[,2],\n",
    "    labels=powers,cex=cex1,col=\"red\");\n",
    "# this line corresponds to using an R^2 cut-off of h\n",
    "abline(h=0.80,col=\"red\")\n",
    "\n",
    "# Mean connectivity as a function of the soft-thresholding power\n",
    "plot(sft$fitIndices[,1], sft$fitIndices[,5],\n",
    "    xlab=\"Soft Threshold (power)\",ylab=\"Mean Connectivity\", type=\"n\",\n",
    "    main = paste(\"Mean connectivity\"))\n",
    "text(sft$fitIndices[,1], sft$fitIndices[,5], labels=powers, cex=cex1,col=\"red\")"
   ]
  },
  {
   "cell_type": "code",
   "execution_count": null,
   "id": "6e87e569-abc7-49e6-8057-e40d0488ad8c",
   "metadata": {
    "vscode": {
     "languageId": "r"
    }
   },
   "outputs": [],
   "source": [
    "#based on the prior threshold search, we choose the one that best approximates a scale free topology while still maintaining high level of connectivity\n",
    "#in the network\n",
    "softPower = 5;\n"
   ]
  },
  {
   "cell_type": "code",
   "execution_count": null,
   "id": "ab833a2b-7bfe-4cdd-800b-bd9b644024cc",
   "metadata": {
    "vscode": {
     "languageId": "r"
    }
   },
   "outputs": [],
   "source": [
    "#Generate the adjacency matrix using the chosen soft-thresholding power\n",
    "adjacency <- adjacency.fromSimilarity(similarity = Zc, type = \"signed\", power = softPower)\n",
    "\n",
    "print(str_c(\"nrow: \", nrow(adjacency)))"
   ]
  },
  {
   "cell_type": "code",
   "execution_count": null,
   "id": "72c31116-48d0-49c2-b1b3-ce44207443a0",
   "metadata": {
    "vscode": {
     "languageId": "r"
    }
   },
   "outputs": [],
   "source": [
    "#Turn adjacency into topological overlap\n",
    "##You can input whatever matrix you want here!\n",
    "TOM <- TOMsimilarity(adjacency, TOMType=\"signed\")\n",
    "\n",
    "#Turn into distance matrix\n",
    "dissTOM <- 1 - TOM\n",
    "\n",
    "print(str_c(\"nrow: \", nrow(dissTOM)))\n",
    "head(dissTOM)"
   ]
  },
  {
   "cell_type": "code",
   "execution_count": null,
   "id": "0186bcf9-5d87-4e89-bd63-f26be7dda325",
   "metadata": {
    "vscode": {
     "languageId": "r"
    }
   },
   "outputs": [],
   "source": [
    "#Call the hierarchical clustering function\n",
    "geneTree <- hclust(as.dist(dissTOM), method=\"average\")\n",
    "\n",
    "#Plot the resulting clustering tree (dendrogram)\n",
    "options(repr.plot.width=12, repr.plot.height=6)\n",
    "plot(geneTree, xlab=\"\", sub=\"\", main=\"Gene clustering on TOM-based dissimilarity\",\n",
    "     labels=FALSE, hang=0.04)"
   ]
  },
  {
   "cell_type": "code",
   "execution_count": null,
   "id": "2ad4656e-539e-4b72-b762-d13fdac01b04",
   "metadata": {
    "vscode": {
     "languageId": "r"
    }
   },
   "outputs": [],
   "source": [
    "#Larger modules can be easier to interpret, so we set the minimum module size relatively high\n",
    "minModuleSize <- max(c(10, round(ncol(all_df)/200, digits=0)))\n",
    "print(str_c(\"minClusterSize = \", minModuleSize))\n",
    "\n",
    "#Module identification using dynamic tree cut\n",
    "dynamicMods <- cutreeDynamic(dendro=geneTree, distM=dissTOM,\n",
    "                             deepSplit=4, pamStage=TRUE, pamRespectsDendro=FALSE,\n",
    "                             minClusterSize=minModuleSize)\n",
    "table(dynamicMods)"
   ]
  },
  {
   "cell_type": "code",
   "execution_count": null,
   "id": "61b28c24-c086-4976-b65c-a67c838a110a",
   "metadata": {
    "vscode": {
     "languageId": "r"
    }
   },
   "outputs": [],
   "source": [
    "#Convert numeric lables into colors\n",
    "dynamicColors <- labels2colors(dynamicMods)\n",
    "table(dynamicColors)\n",
    "\n",
    "#Plot the dendrogram and colors underneath\n",
    "options(repr.plot.width=12, repr.plot.height=6)\n",
    "plotDendroAndColors(geneTree, dynamicColors, \"Dynamic Tree Cut\",\n",
    "                    dendroLabels=FALSE, hang=0.03,\n",
    "                    addGuide=TRUE, guideHang=0.05,\n",
    "                    main=\"Gene dendrogram and module colors\")"
   ]
  },
  {
   "cell_type": "code",
   "execution_count": null,
   "id": "dd5bc22e-47a9-4179-8684-a1e8789edb49",
   "metadata": {
    "vscode": {
     "languageId": "r"
    }
   },
   "outputs": [],
   "source": [
    "#Calculate eigengenes\n",
    "MEList <- moduleEigengenes(all_df, colors=dynamicColors, impute=TRUE, nPC=2)\n",
    "MEs <- MEList$eigengenes\n",
    "print(str_c(\"nrow: \", nrow(MEs)))\n",
    "head(MEs)\n",
    "\n",
    "#Check the explained variance\n",
    "temp_df <- MEList$varExplained\n",
    "rownames(temp_df) <- c(\"PC1\", \"PC2\")\n",
    "colnames(temp_df) <- str_replace(names(MEList$eigengenes), \"^ME\", \"\")\n",
    "t(temp_df)\n",
    "\n",
    "#Calculate dissimilarity of module eigengenes\n",
    "MEDiss <- 1 - cor(MEs, use=\"pairwise.complete.obs\")\n",
    "\n",
    "#Cluster module eigengenes\n",
    "METree <- hclust(as.dist(MEDiss), method=\"average\")\n",
    "\n",
    "#Plot the result\n",
    "options(repr.plot.width=10, repr.plot.height=5)\n",
    "plot(METree, main=\"Clustering of module eigengenes\",\n",
    "     xlab=\"\", sub=\"\")\n",
    "MEDissThres <- 0.3\n",
    "abline(h=MEDissThres, col=\"red\")"
   ]
  },
  {
   "cell_type": "code",
   "execution_count": null,
   "id": "0be18d38-6beb-4982-93c5-d3ab23631045",
   "metadata": {
    "vscode": {
     "languageId": "r"
    }
   },
   "outputs": [],
   "source": [
    "#Call an automatic merging function\n",
    "merge <- mergeCloseModules(all_df, dynamicColors, cutHeight=MEDissThres, verbose=0)\n",
    "\n",
    "#Eigengenes of the new merged modules\n",
    "mergedMEs <- merge$newMEs\n",
    "print(str_c(\"nrow: \", nrow(mergedMEs)))\n",
    "head(mergedMEs)\n",
    "\n",
    "#Update the exparained variance\n",
    "MEList <- moduleEigengenes(all_df, colors=merge$colors, impute=TRUE, nPC=1)\n",
    "temp_df <- MEList$varExplained\n",
    "rownames(temp_df) <- c(\"PC1\")\n",
    "colnames(temp_df) <- str_replace(names(MEList$eigengenes), \"^ME\", \"\")\n",
    "t(temp_df)\n",
    "\n",
    "#Update the module eigengene clustering\n",
    "##Calculate dissimilarity of module eigengenes\n",
    "MEDiss <- 1 - cor(mergedMEs, use=\"pairwise.complete.obs\")\n",
    "##Cluster module eigengenes\n",
    "METree <- hclust(as.dist(MEDiss), method=\"average\")\n",
    "##Plot the result\n",
    "options(repr.plot.width=10, repr.plot.height=5)\n",
    "plot(METree, main=\"Clustering of module eigengenes\",\n",
    "     xlab=\"\", sub=\"\")"
   ]
  },
  {
   "cell_type": "code",
   "execution_count": null,
   "id": "06e15bd9-9b44-4010-8efe-24762f86fc4d",
   "metadata": {
    "vscode": {
     "languageId": "r"
    }
   },
   "outputs": [],
   "source": [
    "#The merged module colors\n",
    "mergedColors <- merge$colors\n",
    "table(mergedColors)\n",
    "\n",
    "#Plot the dendrogram and module colors\n",
    "options(repr.plot.width=12, repr.plot.height=6)\n",
    "plotDendroAndColors(geneTree, cbind(dynamicColors, mergedColors),\n",
    "                    c(\"Dynamic Tree Cut\", \"Merged dynamic\"),\n",
    "                    dendroLabels=FALSE, hang=0.03,\n",
    "                    addGuide=TRUE, guideHang=0.05,\n",
    "                    main=\"Gene dendrogram and module colors\")\n"
   ]
  },
  {
   "cell_type": "code",
   "execution_count": null,
   "id": "246412d2-c206-4f54-b6b4-de777ffa2ece",
   "metadata": {
    "vscode": {
     "languageId": "r"
    }
   },
   "outputs": [],
   "source": [
    "#Rename\n",
    "moduleColors <- mergedColors\n",
    "MEs <- mergedMEs\n",
    "\n",
    "\n",
    "#Clean the module eigengene table\n",
    "eigengene_df <- MEs %>%\n",
    "    rownames_to_column(var=\"public_client_id\")\n",
    "names(eigengene_df)[2:ncol(eigengene_df)] <- names(eigengene_df)[2:ncol(eigengene_df)] %>%\n",
    "    str_replace(., \"^ME\", \"\") %>%\n",
    "    str_to_title(.)\n",
    "print(\"Module eigengene table\")\n",
    "print(str_c(\"- nrow: \", nrow(eigengene_df)))\n",
    "head(eigengene_df)"
   ]
  },
  {
   "cell_type": "code",
   "execution_count": null,
   "id": "a884a597-8709-49c5-8b77-a68f72e100d2",
   "metadata": {
    "vscode": {
     "languageId": "r"
    }
   },
   "outputs": [],
   "source": [
    "##Sample metadata\n",
    "sample_tbl <- fr_measures %>%\n",
    "    dplyr::filter(public_client_id %in% rownames(MEs)) %>%\n",
    "    dplyr::arrange(public_client_id)#Sort row order\n",
    "print(\"Sample metadata\")\n",
    "print(str_c(\"- nrow: \", nrow(sample_tbl)))\n",
    "\n",
    "#Filter metadata to match columns in filtered data frame\n",
    "sample_tbl <- sample_tbl %>%\n",
    "    dplyr::filter(public_client_id %in% rownames(MEs))\n",
    "print(\"Sample metadata after the filter\")\n",
    "print(str_c(\"- nrow: \", nrow(sample_tbl)))\n",
    "\n",
    "#Code sex and race\n",
    "phenotype_tbl <- sample_tbl %>%\n",
    "    dplyr::mutate(BinarySex=ifelse(sex==\"F\", 0, 1),\n",
    "                  BinaryRace=ifelse(race==\"white\", 0, 1)) %>%\n",
    "    dplyr::mutate(BinaryRace=tidyr::replace_na(.$BinaryRace, 1)) %>%#Due to the existence of NA\n",
    "    dplyr::select(public_client_id, BinarySex, BinaryRace, age, self_fi, lab_fi, merge_fi) %>%\n",
    "    #Transform tibble for easily applying to the WGCNA functions\n",
    "    column_to_rownames(var=\"public_client_id\")\n",
    "\n",
    "#Check phenotypes\n",
    "print(\"Sample metadata\")\n",
    "print(str_c(\"- nrow: \", nrow(phenotype_tbl)))\n",
    "print(\"- Contingency of BinarySex\")\n",
    "table(phenotype_tbl$BinarySex)\n",
    "print(\"- Contingency of BinaryRace\")\n",
    "table(phenotype_tbl$BinaryRace)"
   ]
  },
  {
   "cell_type": "code",
   "execution_count": null,
   "id": "325c0504-5e86-41ab-8a3d-2bb0f8d4b909",
   "metadata": {
    "vscode": {
     "languageId": "r"
    }
   },
   "outputs": [],
   "source": [
    "#Calculate the numbers of modules and samples\n",
    "#nModules <- ncol(MEs)\n",
    "nSamples <- nrow(phenotype_tbl)\n",
    "\n",
    "#Names (colors) of the modules\n",
    "modNames = substring(names(MEs), 3)\n",
    "\n",
    "##Check ID order before the cor() function\n",
    "print(str_c(\"Matched IDs?: \", all(rownames(MEs)==rownames(phenotype_tbl))))\n",
    "\n",
    "#Calculate module–trait relationship\n",
    "moduleTraitCor <- as.data.frame(cor(MEs, phenotype_tbl, use=\"p\"))\n",
    "#rownames(moduleTraitCor) <- paste(\"MM\", modNames, sep=\"\")\n",
    "rownames(moduleTraitCor) <- str_to_title(modNames)\n",
    "print(\"Module–trait relationship table\")\n",
    "print(str_c(\"nrow: \", nrow(moduleTraitCor)))\n",
    "#head(moduleTraitCor)\n",
    "moduleTraitCor\n",
    "\n",
    "#Calculate statisitcal significance of module–trait relationship\n",
    "MTRpval <- as.data.frame(corPvalueStudent(as.matrix(moduleTraitCor), nSamples))\n",
    "#rownames(MTRpval) <- paste(\"p.MM\", modNames, sep=\"\")\n",
    "rownames(MTRpval) <- str_to_title(modNames)\n",
    "print(\"Module–trait relationship p-value table\")\n",
    "print(str_c(\"- nrow: \", nrow(MTRpval)))\n",
    "#head(MTRpval)\n",
    "MTRpval\n"
   ]
  },
  {
   "cell_type": "code",
   "execution_count": null,
   "id": "e07c8045-29b6-4b0d-a335-d4a43e3f0cf3",
   "metadata": {
    "vscode": {
     "languageId": "r"
    }
   },
   "outputs": [],
   "source": [
    "#Eliminate the dummy module (Grey)\n",
    "moduleTraitCor <- moduleTraitCor[rownames(moduleTraitCor)!=\"Grey\",]\n",
    "MTRpval <- MTRpval[rownames(MTRpval)!=\"Grey\",]\n",
    "\n",
    "#P-value adjustment across modules (per trait) using Benjamini–Hochberg method\n",
    "MTRpval_adj <- as.data.frame(apply(MTRpval, 2, function(x){p.adjust(x, length(x), method=\"BH\")}))\n",
    "print(\"Module–trait relationship adjusted p-value table\")\n",
    "print(str_c(\"- nrow: \", nrow(MTRpval_adj)))\n",
    "#head(MTRpval_adj)\n",
    "MTRpval_adj"
   ]
  },
  {
   "cell_type": "code",
   "execution_count": null,
   "id": "3ca1b7c7-78d4-486b-b560-83d8ad04c46c",
   "metadata": {
    "vscode": {
     "languageId": "r"
    }
   },
   "outputs": [],
   "source": [
    "#Prepare text labels as matrix\n",
    "textMatrix <- paste(\"r = \",signif(as.matrix(moduleTraitCor), 3),\"\\n(P = \",\n",
    "                    signif(as.matrix(MTRpval_adj), 2),\")\", sep=\"\")\n",
    "dim(textMatrix) <- dim(moduleTraitCor)\n",
    "#Revert module names back to apply color conversion\n",
    "temp_c <- rownames(moduleTraitCor) %>%\n",
    "    str_to_lower(.) %>%\n",
    "    str_c(\"ME\",.)\n",
    "\n",
    "#Visualize\n",
    "options(repr.plot.width=8, repr.plot.height=20)\n",
    "par(mar=c(5, 5, 3, 2))\n",
    "labeledHeatmap(Matrix=moduleTraitCor,\n",
    "               xLabels=colnames(moduleTraitCor),\n",
    "               yLabels=temp_c,\n",
    "               #ySymbols=rownames(moduleTraitCor),\n",
    "               colorLabels=FALSE,\n",
    "               colors=blueWhiteRed(50),\n",
    "               textMatrix=textMatrix,\n",
    "               setStdMargins=FALSE,\n",
    "               cex.text=1,\n",
    "               zlim=c(-1,1),\n",
    "               main=paste(\"Module–trait relationships\"))"
   ]
  },
  {
   "cell_type": "code",
   "execution_count": null,
   "id": "3573f7a4-33d9-45e9-ae2d-8d6f546161e0",
   "metadata": {
    "vscode": {
     "languageId": "r"
    }
   },
   "outputs": [],
   "source": [
    "analyte_tbl_prot <- meta_protein %>%\n",
    "    #Prepare the same analyte IDs within the data table\n",
    "    dplyr::mutate(AnalyteID=str_c(name,\"(\",gene_name,\")\"), Dataset=\"Protein\") %>%\n",
    "    #Clean\n",
    "    dplyr::rename(AnalyteID_original=name, UniProtID=uniprot, GeneSymbol=gene_name) %>%\n",
    "    dplyr::select(AnalyteID, Dataset, AnalyteID_original, UniProtID, GeneSymbol)"
   ]
  },
  {
   "cell_type": "code",
   "execution_count": null,
   "id": "cde2beb8-3d14-4048-a449-a904cff59fee",
   "metadata": {
    "vscode": {
     "languageId": "r"
    }
   },
   "outputs": [],
   "source": [
    "analyte_tbl_met <- meta_metabolites %>%\n",
    "    #Prepare the same analyte IDs within the data table\n",
    "    dplyr::mutate(AnalyteID=str_c(CHEMICAL_ID,\"(\",BIOCHEMICAL_NAME,\")\"), Dataset=\"Metabolite\") %>%\n",
    "    #Clean\n",
    "    dplyr::rename(ChemID=CHEMICAL_ID, ChemName=BIOCHEMICAL_NAME) %>%\n",
    "    dplyr::select(AnalyteID, Dataset, ChemID, ChemName, KEGG, HMDB)"
   ]
  },
  {
   "cell_type": "code",
   "execution_count": null,
   "id": "ba5983b1-2c75-485e-8a9e-4b7cf2073199",
   "metadata": {
    "vscode": {
     "languageId": "r"
    }
   },
   "outputs": [],
   "source": [
    "analyte_tbl_chem <- tibble(AnalyteID = cat.clin, Dataset=\"Chemistry\")"
   ]
  },
  {
   "cell_type": "code",
   "execution_count": null,
   "id": "8ba4b6a8-7fb1-46b6-b97e-0ac0146fe04b",
   "metadata": {
    "vscode": {
     "languageId": "r"
    }
   },
   "outputs": [],
   "source": [
    "analyte_tbl_multi <- dplyr::bind_rows(analyte_tbl_prot, analyte_tbl_met)"
   ]
  },
  {
   "cell_type": "code",
   "execution_count": null,
   "id": "748bca3f-0e70-48f3-938c-985daa483ad9",
   "metadata": {
    "vscode": {
     "languageId": "r"
    }
   },
   "outputs": [],
   "source": [
    "#Prepare the module assignment table\n",
    "module_tbl <- tibble(AnalyteID=colnames(all_df),\n",
    "                     ModuleID=str_to_title(moduleColors))\n",
    "print(\"Module assignment table (temp)\")\n",
    "print(str_c(\"- nrow: \", nrow(module_tbl)))\n",
    "head(module_tbl)"
   ]
  },
  {
   "cell_type": "code",
   "execution_count": null,
   "id": "1e004425-88d5-4ad0-922f-bdc54abbc393",
   "metadata": {
    "vscode": {
     "languageId": "r"
    }
   },
   "outputs": [],
   "source": [
    "module_tbl <- merge(module_tbl, analyte_tbl_multi, by=\"AnalyteID\")"
   ]
  },
  {
   "cell_type": "code",
   "execution_count": null,
   "id": "a684e4c7-c220-40e8-9dda-5aba80c1396b",
   "metadata": {
    "vscode": {
     "languageId": "r"
    }
   },
   "outputs": [],
   "source": [
    "head(module_tbl)"
   ]
  },
  {
   "cell_type": "code",
   "execution_count": null,
   "id": "44544987",
   "metadata": {
    "vscode": {
     "languageId": "r"
    }
   },
   "outputs": [],
   "source": [
    "turq_module <- module_tbl %>%\n",
    "    dplyr::filter(ModuleID %in% \"Turquoise\")"
   ]
  },
  {
   "cell_type": "code",
   "execution_count": null,
   "id": "cad26867",
   "metadata": {
    "vscode": {
     "languageId": "r"
    }
   },
   "outputs": [],
   "source": [
    "table(turq_module$Dataset)"
   ]
  }
 ],
 "metadata": {
  "kernelspec": {
   "display_name": "R",
   "language": "R",
   "name": "ir"
  },
  "language_info": {
   "codemirror_mode": "r",
   "file_extension": ".r",
   "mimetype": "text/x-r-source",
   "name": "R",
   "pygments_lexer": "r",
   "version": "4.3.3"
  }
 },
 "nbformat": 4,
 "nbformat_minor": 5
}
