{
 "cells": [
  {
   "cell_type": "markdown",
   "id": "7e25be93-3783-4417-89db-9988e48caba0",
   "metadata": {},
   "source": [
    "# Session 1-2 Notebook for System Biology of Aging \n",
    "This notebook is part of the first session of the 2024 Systems Biology of Aging Workshop. But don't worry about setup, all of the files and R packages should be installed in the the Sagemaker environment.\n",
    "\n",
    "This Notebook will use the \"R\" kernel. Double check that this is correct by looking in the top right corner.\n",
    "\n",
    "> * Multi-Omic WGCNA\n",
    "> ** Integrate Omics\n",
    "> ** Correlate with frailty\n",
    "> ** Explore results"
   ]
  },
  {
   "cell_type": "markdown",
   "id": "b3fe0630-2a39-4551-b590-bc76192f5285",
   "metadata": {
    "tags": [],
    "toc-hr-collapsed": true
   },
   "source": [
    "## Setup\n",
    "The next couple blocks of code will load the R packages into our environment and set some options for nicer visualizaions."
   ]
  },
  {
   "cell_type": "code",
   "execution_count": null,
   "id": "b75ea494-6ec2-429b-968f-3d20934a44c1",
   "metadata": {
    "vscode": {
     "languageId": "r"
    }
   },
   "outputs": [],
   "source": [
    "# Load packages, one per line for clarity\n",
    "suppressMessages(library(\"tidyverse\", quietly = TRUE, warn.conflicts=FALSE))\n",
    "suppressMessages(library(\"ggplot2\", quietly = TRUE, warn.conflicts=FALSE))\n",
    "suppressMessages(library(\"WGCNA\", quietly = TRUE, warn.conflicts=FALSE))\n",
    "suppressMessages(library(\"org.Hs.eg.db\", quietly = TRUE, warn.conflicts=FALSE))\n",
    "suppressMessages(library(\"clusterProfiler\", quietly = TRUE, warn.conflicts=FALSE))\n",
    "suppressMessages(library(\"gplots\", quietly = TRUE, warn.conflicts=FALSE))\n",
    "suppressMessages(library(\"scales\", quietly = TRUE, warn.conflicts=FALSE))\n",
    "suppressMessages(library(\"Matrix\", quietly = TRUE, warn.conflicts=FALSE))\n",
    "suppressMessages(library(\"colorspace\", quietly = TRUE, warn.conflicts=FALSE))\n",
    "\n",
    "# Other options\n",
    "source(\"Scripts/Workshop_scripts.R\") # Functions for plotting\n",
    "options(stringsAsFactors=FALSE)#Required for WGCNA\n",
    "#enableWGCNAThreads(nThreads=2) # \n",
    "options(repr.plot.width=12, repr.plot.height=12)#Default=7x7\n",
    "options(repr.matrix.max.rows=75, repr.matrix.max.cols=20)\n",
    "options(warn=-1)"
   ]
  },
  {
   "cell_type": "code",
   "execution_count": null,
   "id": "bf3c37cf-f44a-49a7-9f9c-b214441a4696",
   "metadata": {
    "vscode": {
     "languageId": "r"
    }
   },
   "outputs": [],
   "source": [
    "mets <- read_delim(\"./Session1_files/metabolites_baseline.tsv\", show_col_types = FALSE)\n",
    "prots <- read_delim(\"./Session1_files/proteins_baseline.tsv\", show_col_types = FALSE)\n",
    "clin <- read_delim(\"./Session1_files/chemistries_baseline.tsv\", show_col_types = FALSE)\n",
    "\n",
    "# Load meta data\n",
    "meta_protein = read_delim(\"../data/arivale_snapshot_ISB_2019-05-10_0053/proteomics_metadata.tsv\", skip=13, delim='\\t', show_col_types = FALSE)\n",
    "# Metabolites\n",
    "meta_metabolites = read_delim(\"../data/arivale_snapshot_ISB_2019-05-10_0053/metabolomics_metadata.tsv\", skip=13, delim='\\t', show_col_types = FALSE)\n",
    "# Frailty\n",
    "fr_measures = read_delim(\"../data/frailty/combination_fi_040124.csv\", show_col_types = FALSE)\n",
    "fr_measures_key = read_delim(\"../Useful_Files/FI_Features.txt\", show_col_types = FALSE, delim=\"\\t\")"
   ]
  },
  {
   "cell_type": "markdown",
   "id": "318b8f52-3fc9-4cdf-be57-3ed52cda446e",
   "metadata": {},
   "source": [
    "Merge each dataframe together to create a multiomics dataframe that contains all shared participants. "
   ]
  },
  {
   "cell_type": "code",
   "execution_count": null,
   "id": "71f7d4ff-f230-4164-8856-f2692ce67abf",
   "metadata": {
    "vscode": {
     "languageId": "r"
    }
   },
   "outputs": [],
   "source": [
    "# Drop clinical lab tests that were used to generate lab_fi.\n",
    "clin_no_frail <- clin[!colnames(clin) %in% fr_measures_key$Feature]\n",
    "\n",
    "#Take participants having all data types\n",
    "cm_df <- merge(clin_no_frail, mets, by=\"public_client_id\")\n",
    "pf_df <- merge(prots, fr_measures, by=\"public_client_id\")\n",
    "in_df <- merge(cm_df, pf_df, by=\"public_client_id\")\n",
    "print(\"Clinical labs\")\n",
    "dim(clin)\n",
    "print(\"-> w/o tests that were used to generate lab_fi\")\n",
    "dim(clin_no_frail)\n",
    "print(\"Metabolites\")\n",
    "dim(mets)\n",
    "print(\"Proteins\")\n",
    "dim(prots)\n",
    "print(\"FI measures\")\n",
    "dim(fr_measures)\n",
    "print(\"Merged all\")\n",
    "dim(in_df)\n",
    "\n",
    "# Drop id column and get features (for easily applying to the WGCNA functions)\n",
    "num_df <- in_df %>%\n",
    "    dplyr::select(unique(c(colnames(clin_no_frail), colnames(mets), colnames(prots)))) %>%\n",
    "    column_to_rownames(var=\"public_client_id\")\n",
    "print(\"Final DF used in this analysis\")\n",
    "dim(num_df)\n",
    "head(num_df)"
   ]
  },
  {
   "cell_type": "markdown",
   "id": "1ff4e0e8-0185-4dbc-947d-a62348fa2dc2",
   "metadata": {},
   "source": [
    "## Data cleaning"
   ]
  },
  {
   "cell_type": "code",
   "execution_count": null,
   "id": "f8e55271-358c-43fe-8dd0-88c6ca8c3512",
   "metadata": {
    "vscode": {
     "languageId": "r"
    }
   },
   "outputs": [],
   "source": [
    "## Filter samples and features based on WGCNA NA criteria (50%)\n",
    "\n",
    "gsg = goodSamplesGenes(num_df, verbose = 1);\n",
    "gsg$allOK\n",
    "if (!gsg$allOK)\n",
    "{\n",
    "  # Optionally, print the gene and sample names that were removed:\n",
    "  if (sum(!gsg$goodGenes)>0) \n",
    "     printFlush(paste(\"Removing genes:\", paste(names(num_df)[!gsg$goodGenes], collapse = \", \")));\n",
    "  if (sum(!gsg$goodSamples)>0) \n",
    "     printFlush(paste(\"Removing samples:\", paste(rownames(num_df)[!gsg$goodSamples], collapse = \", \")));\n",
    "  # Remove the offending genes and samples from the data:\n",
    "  num_df = num_df[gsg$goodSamples, gsg$goodGenes]\n",
    "}\n",
    "\n",
    "dim(num_df)"
   ]
  },
  {
   "cell_type": "markdown",
   "id": "7c309f1d-dca2-491e-aac9-19b682244492",
   "metadata": {},
   "source": [
    "# Clustering combined 'omics data\n",
    "\n",
    "The abundance of two arbitrarily chosen proteins in proteomics data is typically positively correlated, as are arbitrarily chosen genes in transcriptome data. We can therefore choose to use the power functions typically used in WGCNA analyses, or the more general sigmoid functions, to convert correlations into adjacencies (or distances) for clustering proteins in WGCNA."
   ]
  },
  {
   "cell_type": "markdown",
   "id": "be5d4b26-2a0f-4bcc-b233-87867c65d886",
   "metadata": {},
   "source": [
    "## Correlations\n",
    "\n"
   ]
  },
  {
   "cell_type": "code",
   "execution_count": null,
   "id": "799462d6-8772-41d7-94b1-4f7ee47133af",
   "metadata": {
    "vscode": {
     "languageId": "r"
    }
   },
   "outputs": [],
   "source": [
    "# Get the names of remaining analytes overall (all.analytes) by category\n",
    "cat.prots <- intersect(colnames(prots),colnames(num_df))\n",
    "cat.mets  <- intersect(colnames(mets),colnames(num_df))\n",
    "cat.clin  <- intersect(colnames(clin),colnames(num_df))\n",
    "all.analytes <- c(cat.prots,cat.mets,cat.clin)\n",
    "print(\"Proteins\")\n",
    "print(length(cat.prots))\n",
    "print(\"Metabolites\")\n",
    "print(length(cat.mets))\n",
    "print(\"Clinical labs\")\n",
    "print(length(cat.clin))\n",
    "print(\"All analytes\")\n",
    "print(length(all.analytes))\n",
    "n.analytes <- length(all.analytes)\n",
    "\n",
    "# To compute correlations, features must be numeric. We will use Spearman\n",
    "all_df <- num_df[,all.analytes]"
   ]
  },
  {
   "cell_type": "code",
   "execution_count": null,
   "id": "e0d2849b-cb27-422d-a5ca-a693e24d6c89",
   "metadata": {
    "vscode": {
     "languageId": "r"
    }
   },
   "outputs": [],
   "source": [
    "# Running correlations is slow. We will load the data for now. The code to run the correlations is below-\n",
    "\n",
    "omic_cor <- readRDS(\"../Useful_Files/Omics_Cor.Rds\")\n",
    "Z.pp <- omic_cor$Prot_Prot\n",
    "Z.mm <- omic_cor$Met_Met\n",
    "Z.cc <- omic_cor$Clin_Clin\n",
    "\n",
    "Z.pm <- omic_cor$Prot_Met\n",
    "Z.pc <- omic_cor$Prot_Clin\n",
    "Z.mc <- omic_cor$Met_Clin\n",
    "\n",
    "# # # Within-category correlations\n",
    "# Z.pp <- cor(all_df[,cat.prots], method = \"s\", use = 'pairwise.complete.obs')\n",
    "# Z.mm <- cor(all_df[,cat.mets], method = \"s\", use = 'pairwise.complete.obs')\n",
    "# Z.cc <- cor(all_df[,cat.clin], method = \"s\", use = 'pairwise.complete.obs')\n",
    "\n",
    "# # Cross-category correlations\n",
    "# Z.pm <- cor(all_df[,cat.prots], all_df[,cat.mets], method = \"s\", use = 'pairwise.complete.obs')\n",
    "# Z.pc <- cor(all_df[,cat.prots], all_df[,cat.clin], method = \"s\", use = 'pairwise.complete.obs')\n",
    "# Z.mc <- cor(all_df[,cat.mets], all_df[,cat.clin], method = \"s\", use = 'pairwise.complete.obs')\n",
    "# #The error message indicates that at least one analyte pair did not have at least 2 samples\n",
    "# # with values for both analytes, resulting in an NA correlation. We replace this NA with a 0.\n",
    "# length(which(is.na(Z.pm)))\n",
    "# length(which(is.na(Z.pc)))\n",
    "# length(which(is.na(Z.mc)))\n",
    "# Z.mc[is.na(Z.mc)] <- 0\n",
    "# length(which(is.na(Z.mc)))"
   ]
  },
  {
   "cell_type": "markdown",
   "id": "53262bba-047e-4386-899c-5d33b6019829",
   "metadata": {},
   "source": [
    "### Modeling protein-protein correlations\n"
   ]
  },
  {
   "cell_type": "code",
   "execution_count": null,
   "id": "8edc51bf-2474-4fde-b234-c382bff75520",
   "metadata": {
    "vscode": {
     "languageId": "r"
    }
   },
   "outputs": [],
   "source": [
    "# Estimate coefficients for a Beta distribution by the method of moments\n",
    "# i.e. by computing parameters that match the mean and variance of the \"background\" model (initially: all observed correlations)\n",
    "Z.unique <- Z.pp[row(Z.pp) < col(Z.pp)] # unique, non-self correlations\n",
    "x <- (1+Z.unique)/2\n",
    "mZ <- mean(x)\n",
    "s2Z <- var(x)\n",
    "v.pp <- mZ*(mZ*(1-mZ)/s2Z - 1)\n",
    "w.pp <- (1-mZ)*(mZ*(1-mZ)/s2Z - 1)\n",
    "print(paste(\"Protein-protein: rho_ij ~ Beta(v =\",round(v.pp,3),\",w =\",round(w.pp,3),\")\"))"
   ]
  },
  {
   "cell_type": "code",
   "execution_count": null,
   "id": "373277c2-7a00-439d-8b62-7aa637d8fdd2",
   "metadata": {
    "vscode": {
     "languageId": "r"
    }
   },
   "outputs": [],
   "source": [
    "# Evaluate how well the model fits the background distribution\n",
    "fine <- 40\n",
    "Bs <- (c(-fine:(1+fine))-0.5)/fine\n",
    "hist(Z.unique, breaks=Bs, xlab=\"Correlation\", ylab=\"Density\",\n",
    "     main=\"Pairwise protein correlations\", prob=TRUE)\n",
    "box()\n",
    "abline(v=c(-1:1),lty=3)\n",
    "r <- c(-fine:fine)/fine\n",
    "lines(r, dbeta((1+r)/2, v.pp, w.pp)/2, lwd=3, col=\"MediumBlue\")"
   ]
  },
  {
   "cell_type": "markdown",
   "id": "8986fb1d-97ee-469e-a9a4-04f2149d3b18",
   "metadata": {},
   "source": [
    "The model doesn't fit the background distribution well enough (by eye). We will adjust the parameters until the model fits."
   ]
  },
  {
   "cell_type": "code",
   "execution_count": null,
   "id": "a91f550f-e79b-4856-905e-3f0a8cbbe5aa",
   "metadata": {
    "vscode": {
     "languageId": "r"
    }
   },
   "outputs": [],
   "source": [
    "v.pp <- 38\n",
    "w.pp <- 30\n",
    "print(paste(\"Protein pairs: rho_ij ~ Beta(v =\",round(v.pp,3),\",w =\",round(w.pp,3),\")\"))\n",
    "\n",
    "fine <- 40\n",
    "Bs <- (c(-fine:(1+fine))-0.5)/fine\n",
    "hist(Z.unique, breaks=Bs, xlab=\"Correlation\", ylab=\"Density\", ylim=c(0,3.5),\n",
    "     main=\"Pairwise protein correlations\", prob=TRUE)\n",
    "box()\n",
    "abline(v=c(-1:1),lty=3)\n",
    "\n",
    "r <- c(-fine:fine)/fine\n",
    "lines(r, dbeta((1+r)/2, v.pp, w.pp)/2, lwd=3, col=\"MediumBlue\")"
   ]
  },
  {
   "cell_type": "markdown",
   "id": "d7c32111-864a-4ea8-878b-20b32de01a2b",
   "metadata": {},
   "source": [
    "### Modeling by category: metabolite-metabolite"
   ]
  },
  {
   "cell_type": "code",
   "execution_count": null,
   "id": "0fa3445a-9148-4564-aea4-aec3c87766e3",
   "metadata": {
    "vscode": {
     "languageId": "r"
    }
   },
   "outputs": [],
   "source": [
    "Z.unique <- as.vector(Z.mm[row(Z.mm) < col(Z.mm)]) # unique, non-self correlations\n",
    "\n",
    "v.mm <- 59.31\n",
    "w.mm <- 56.38\n",
    "print(paste(\"Metabolite pairs: rho_ij ~ Beta(v =\",round(v.mm,3),\",w =\",round(w.mm,3),\")\"))"
   ]
  },
  {
   "cell_type": "code",
   "execution_count": null,
   "id": "781e9d91-b188-4b18-a3c5-d2bd2b05f102",
   "metadata": {
    "vscode": {
     "languageId": "r"
    }
   },
   "outputs": [],
   "source": [
    "# Metabolite pair correlations\n",
    "\n",
    "fine <- 40\n",
    "Bs <- (c(-fine:(1+fine))-0.5)/fine\n",
    "hist(Z.unique, breaks=Bs, xlab=\"Correlation\", ylab=\"Density\", ylim=c(0,4.5),\n",
    "     main=\"Pairwise metabolite correlations\", prob=TRUE)\n",
    "box()\n",
    "abline(v=c(-1:1),lty=3)\n",
    "\n",
    "r <- c(-fine:fine)/fine\n",
    "lines(r, dbeta((1+r)/2, v.mm, w.mm)/2, lwd=3, col=\"MediumBlue\")"
   ]
  },
  {
   "cell_type": "markdown",
   "id": "fb579a25-fa53-4938-9f5a-38b6bc708f30",
   "metadata": {},
   "source": [
    "### Modeling by category: Clin-Clin"
   ]
  },
  {
   "cell_type": "code",
   "execution_count": null,
   "id": "c2e2f4dc-b54f-4592-a247-825f8d19126a",
   "metadata": {
    "vscode": {
     "languageId": "r"
    }
   },
   "outputs": [],
   "source": [
    "Z.unique <- as.vector(Z.cc[row(Z.cc) < col(Z.cc)]) # unique, non-self correlations\n",
    "\n",
    "v.cc <- 38\n",
    "w.cc <- 37\n",
    "print(paste(\"Metabolite pairs: rho_ij ~ Beta(v =\",round(v.cc,3),\",w =\",round(w.cc,3),\")\"))\n",
    "\n",
    "fine <- 20\n",
    "Bs <- (c(-fine:(1+fine))-0.5)/fine\n",
    "hist(Z.unique, breaks=Bs, xlab=\"Correlation\", ylab=\"Density\", ylim=c(0,4),\n",
    "     main=\"Pairwise clinical chemistry correlations\", prob=TRUE)\n",
    "box()\n",
    "abline(v=c(-1:1),lty=3)\n",
    "\n",
    "r <- c(-fine:fine)/fine\n",
    "lines(r, dbeta((1+r)/2, v.cc, w.cc)/2, lwd=3, col=\"MediumBlue\")"
   ]
  },
  {
   "cell_type": "markdown",
   "id": "70fd1966-eb20-4564-b951-62b8be9a5f21",
   "metadata": {},
   "source": [
    "## Modeling cross-category correlations\n"
   ]
  },
  {
   "cell_type": "markdown",
   "id": "994cdb0b-1906-41e5-8f4e-8298b80804ad",
   "metadata": {},
   "source": [
    "### Modeling cross-category correlations: protein-metabolite"
   ]
  },
  {
   "cell_type": "code",
   "execution_count": null,
   "id": "3224b4fd-b6b0-4fc4-8698-ba46536f174d",
   "metadata": {
    "vscode": {
     "languageId": "r"
    }
   },
   "outputs": [],
   "source": [
    "# Construct a background model by:\n",
    "# 1. Find the mean and variance of the observed correlations\n",
    "# 2. Estimate parameters and compare the background model to the histogram of observed correlations\n",
    "# 3. Revise the mean and variance, recompute parameters, and compare again until satisfied with the fit to the background\n",
    "#\n",
    "dim(Z.pm)\n",
    "Z.unique <- as.vector(Z.pm) # there are no self-comparisons, nor are there repeats due to symmetry\n",
    "v.pm <- 88\n",
    "w.pm <- 85 \n",
    "print(paste(\"Protein-metabolite: rho_ij ~ Beta(v =\",round(v.pm,3),\",w =\",round(w.pm,3),\")\"))\n",
    "\n",
    "# The distribution of these cross-correlations is\n",
    "# markedly narrower than either of the contributing 'omics\n",
    "\n",
    "fine <- 40\n",
    "Bs <- (c(-fine:(1+fine))-0.5)/fine\n",
    "hist(Z.unique, breaks=Bs, xlab=\"Correlation\", ylab=\"Density\", ylim=c(0,6),\n",
    "     main=\"Protein-metabolite correlations\", prob=TRUE)\n",
    "box()\n",
    "abline(v=c(-1:1),lty=3)\n",
    "\n",
    "r <- c(-fine:fine)/fine\n",
    "lines(r, dbeta((1+r)/2, v.pm, w.pm)/2, lwd=3, col=\"MediumBlue\")\n"
   ]
  },
  {
   "cell_type": "markdown",
   "id": "6c754b33-012f-4314-b01e-8a9c6cd403a1",
   "metadata": {},
   "source": [
    "### Modeling cross-category correlations: protein-clinical"
   ]
  },
  {
   "cell_type": "code",
   "execution_count": null,
   "id": "25058ef5-6fa4-4b95-8acb-b728869bface",
   "metadata": {
    "vscode": {
     "languageId": "r"
    }
   },
   "outputs": [],
   "source": [
    "Z.unique <- as.vector(Z.pc) # unique, non-self correlations\n",
    "\n",
    "v.pc <- 59\n",
    "w.pc <- 57 \n",
    "print(paste(\"Protein-clinical: rho_ij ~ Beta(v =\",round(v.pc,3),\",w =\",round(w.pc,3),\")\"))\n",
    "\n",
    "fine <- 30\n",
    "\n",
    "Bs <- (c(-fine:(1+fine))-0.5)/fine\n",
    "hist(Z.unique, breaks=Bs, xlab=\"Correlation\", ylab=\"Density\", ylim=c(0,5),\n",
    "     main=\"Protein-clinical chemistry correlations\", prob=TRUE)\n",
    "box()\n",
    "abline(v=c(-1:1),lty=3)\n",
    "\n",
    "r <- c(-fine:fine)/fine\n",
    "lines(r, dbeta((1+r)/2, v.pc, w.pc)/2, lwd=3, col=\"MediumBlue\")"
   ]
  },
  {
   "cell_type": "markdown",
   "id": "4365dec2-24bb-49bb-b167-22111282da1c",
   "metadata": {},
   "source": [
    "### Modeling cross-category correlations: metabolite-clinical"
   ]
  },
  {
   "cell_type": "code",
   "execution_count": null,
   "id": "32b5218e-bc84-4eb7-a897-2f052e0f39de",
   "metadata": {
    "vscode": {
     "languageId": "r"
    }
   },
   "outputs": [],
   "source": [
    "Z.unique <- as.vector(Z.mc) # unique, non-self correlations\n",
    "\n",
    "v.mc <- 62\n",
    "w.mc <- 61\n",
    "print(paste(\"Signed: rho_ij ~ Beta(v =\",round(v.mc,3),\",w =\",round(w.mc,3),\")\"))\n",
    "\n",
    "fine <- 30\n",
    "Bs <- (c(-fine:(1+fine))-0.5)/fine\n",
    "hist(Z.unique, breaks=Bs, xlab=\"Correlation\", ylab=\"Density\", ylim=c(0,5),\n",
    "     main=\"Protein-clinical chemistry correlations\", prob=TRUE)\n",
    "box()\n",
    "abline(v=c(-1:1),lty=3)\n",
    "\n",
    "r <- c(-fine:fine)/fine\n",
    "lines(r, dbeta((1+r)/2, v.mc, w.mc)/2, lwd=3, col=\"MediumBlue\")\n"
   ]
  },
  {
   "cell_type": "markdown",
   "id": "9d5ca46b-051b-4f26-9350-c2772e8e05ad",
   "metadata": {},
   "source": [
    "## Merging correlations from disparate data subsets\n"
   ]
  },
  {
   "cell_type": "code",
   "execution_count": null,
   "id": "a9446dbb-13f0-48a2-a5f8-f2b76054e198",
   "metadata": {
    "vscode": {
     "languageId": "r"
    }
   },
   "outputs": [],
   "source": [
    "# Centering the protein, metabolite, and clinical chemistry correlations\n",
    "#\n",
    "# The null distribution model is r ~ 2 Beta(v,w) - 1\n",
    "# The centering (target) distribution is r_centered ~ 2 Beta(nu, nu) - 1\n",
    "#\n",
    "center.beta <- function(r, v, w, nu) {\n",
    "    return(2*qbeta(pbeta((1 + r)/2, v, w), nu, nu) - 1)\n",
    "}\n",
    "\n",
    "nu.std <- 32 # A little wider than the actual distributions, and centered at 0\n",
    "\n",
    "Zc.pp <- center.beta(Z.pp, v.pp, w.pp, nu.std)\n",
    "Zc.mm <- center.beta(Z.mm, v.mm, w.mm, nu.std)\n",
    "Zc.cc <- center.beta(Z.cc, v.cc, w.cc, nu.std)\n",
    "Zc.pm <- center.beta(Z.pm, v.pm, w.pm, nu.std)\n",
    "Zc.pc <- center.beta(Z.pc, v.pc, w.pc, nu.std)\n",
    "Zc.mc <- center.beta(Z.mc, v.mc, w.mc, nu.std)"
   ]
  },
  {
   "cell_type": "markdown",
   "id": "f79e84e1-12fa-49a3-9cd4-a945c736ccee",
   "metadata": {
    "vscode": {
     "languageId": "r"
    }
   },
   "source": [
    "## Construct a complete, centered correlation matrix"
   ]
  },
  {
   "cell_type": "code",
   "execution_count": null,
   "id": "6618ad58-eec6-410d-8574-7996dc5ecda4",
   "metadata": {
    "vscode": {
     "languageId": "r"
    }
   },
   "outputs": [],
   "source": [
    "# Combined, centered correlations\n",
    "\n",
    "all.analytes <- c(cat.prots,cat.mets,cat.clin)\n",
    "Zc <- matrix(0, nrow = length(all.analytes),\n",
    "                ncol = length(all.analytes))\n",
    "rownames(Zc) <- all.analytes\n",
    "colnames(Zc) <- all.analytes\n",
    "\n",
    "###\n",
    "# Block-structured correlation matrix\n",
    "# Zc = [ PP     PM   PC |\n",
    "#      | PM^T   MM   MC |\n",
    "#      | PC^T  MC^T  CC ]\n",
    "###\n",
    "Zc[cat.prots, cat.prots] <- Zc.pp\n",
    "Zc[cat.mets,  cat.mets]  <- Zc.mm\n",
    "Zc[cat.clin,  cat.clin]  <- Zc.cc\n",
    "\n",
    "Zc[cat.prots, cat.mets]  <- Zc.pm\n",
    "Zc[cat.mets, cat.prots]  <- t(Zc.pm)\n",
    "\n",
    "Zc[cat.prots, cat.clin]  <- Zc.pc\n",
    "Zc[cat.clin, cat.prots]  <- t(Zc.pc)\n",
    "\n",
    "Zc[cat.mets, cat.clin]  <- Zc.mc\n",
    "Zc[cat.clin, cat.mets]  <- t(Zc.mc)\n",
    "\n",
    "Z.unique <- Zc[row(Zc) < col(Zc)]\n",
    "print(paste(\"Target: rho_ij ~ Beta(v =\",round(nu.std,3),\",w =\",round(nu.std,3),\")\"))\n",
    "\n",
    "x <- (1+Z.unique)/2\n",
    "mZ <- mean(x)\n",
    "s2Z <- var(x)\n",
    "v.c <- mZ*(mZ*(1-mZ)/s2Z - 1)\n",
    "w.c <- (1-mZ)*(mZ*(1-mZ)/s2Z - 1)\n",
    "print(paste(\"Method of moments: rho_ij ~ Beta(v =\",round(v.c,3),\",w =\",round(w.c,3),\")\"))\n",
    "\n",
    "\n",
    "fine <- 100\n",
    "Zc.unique <- as.vector(Zc[row(Zc) < col(Zc)])\n",
    "Bs <- (c(-fine:(1+fine))-0.5)/fine\n",
    "hist(Zc.unique, breaks=Bs, xlab=\"Correlation\", ylab=\"Density\", ylim=c(0,5),\n",
    "     main=\"All pairwise correlations, centered\", prob=TRUE)\n",
    "box()\n",
    "abline(v=c(-1:1),lty=3)\n",
    "\n",
    "r <- c(-fine:fine)/fine\n",
    "lines(r, dbeta((1+r)/2, nu.std, nu.std)/2, lwd=3, col=\"orangered\")\n",
    "lines(r, dbeta((1+r)/2, v.c, w.c)/2, lwd=3, col=\"MediumBlue\")\n"
   ]
  },
  {
   "cell_type": "markdown",
   "id": "d4c02a84-7ebe-4bb9-9811-cfcc620788b8",
   "metadata": {},
   "source": [
    "These are now standardized correlations. The mean and variance of this distribution suggest a model (shown in blue) that fits less well than the standardizing model (in orange); this is a consequence of the differences between the models we fitted and the empirical distributions, and indicates that the enrichment of high correlations we observed in the individual 'omics distributions has been preserved. If we had used quantile normalization, the overabundance of high correlations would have been shifted to lower correlation values, and the fitted blue model would be identical to the standardizing model."
   ]
  },
  {
   "cell_type": "markdown",
   "id": "60eb7b6d-6027-48ac-a565-9dc889044405",
   "metadata": {},
   "source": [
    "## Standard Signed WGCNA analysis (via a power function indicative of a scale-free network)"
   ]
  },
  {
   "cell_type": "code",
   "execution_count": null,
   "id": "f0a35092-1caf-46b5-9515-bee72b497fb4",
   "metadata": {
    "vscode": {
     "languageId": "r"
    }
   },
   "outputs": [],
   "source": [
    "#Manually convert the pairwise correlation DF to the signed network DF\n",
    "Zc_signed <- 0.5 + 0.5 * Zc\n",
    "\n",
    "print(str_c(\"nrow: \", nrow(Zc_signed)))\n",
    "head(Zc_signed)\n",
    "\n",
    "#Choose a set of soft-thresholding powers\n",
    "powers <- c(c(1:10), seq(from=11, to=15, by=1))\n",
    "cutoff <- 0.8\n",
    "\n",
    "#Call the network topology analysis function\n",
    "sft <- pickSoftThreshold.fromSimilarity(Zc_signed, RsquaredCut=cutoff, powerVector=powers, blockSize=NULL, verbose=5)\n",
    "\n",
    "#Plot the results\n",
    "options(repr.plot.width=9, repr.plot.height=5)\n",
    "par(mfrow=c(1,2))\n",
    "cex1 <- 0.8\n",
    "##Scale-free topology fit index as a function of the soft-thresholding power\n",
    "plot(sft$fitIndices[,1], -sign(sft$fitIndices[,3])*sft$fitIndices[,2],\n",
    "     xlab=\"Soft Threshold (power)\", ylab=\"Scale Free Topology Model Fit, signed R^2\", type=\"n\",\n",
    "     main=paste(\"Scale independence\"))\n",
    "text(sft$fitIndices[,1], -sign(sft$fitIndices[,3])*sft$fitIndices[,2],\n",
    "     labels=powers, cex=cex1, col=\"black\")\n",
    "##Line corresponds to using an R^2 cut-off of h\n",
    "abline(h=cutoff, col=\"red\")\n",
    "##Mean connectivity as a function of the soft-thresholding power\n",
    "plot(sft$fitIndices[,1], sft$fitIndices[,5],\n",
    "     xlab=\"Soft Threshold (power)\", ylab=\"Mean Connectivity\", type=\"n\",\n",
    "     main=paste(\"Mean connectivity\"))\n",
    "text(sft$fitIndices[,1], sft$fitIndices[,5], labels=powers, cex=cex1, col=\"black\")\n",
    "\n",
    "print(str_c(\"Estimated soft-thresholding power: \", sft$powerEstimate))"
   ]
  },
  {
   "cell_type": "code",
   "execution_count": null,
   "id": "72c31116-48d0-49c2-b1b3-ce44207443a0",
   "metadata": {
    "vscode": {
     "languageId": "r"
    }
   },
   "outputs": [],
   "source": [
    "#Choose the power that best approximates a scale free topology while still maintaining high level of connectivity in the network\n",
    "softPower <- sft$powerEstimate\n",
    "print(softPower)\n",
    "#Generate the adjacency matrix using the chosen soft-thresholding power\n",
    "adjacency <- adjacency.fromSimilarity(Zc, power=softPower, type=\"signed\")\n",
    "\n",
    "print(str_c(\"nrow: \", nrow(adjacency)))\n",
    "#head(adjacency)\n",
    "\n",
    "#Turn adjacency into topological overlap\n",
    "##You can input whatever matrix you want here!\n",
    "TOM <- TOMsimilarity(adjacency, TOMType=\"signed\")\n",
    "\n",
    "#Turn into distance matrix\n",
    "dissTOM <- 1 - TOM\n",
    "\n",
    "print(str_c(\"nrow: \", nrow(dissTOM)))\n",
    "head(dissTOM)\n",
    "\n",
    "#Call the hierarchical clustering function\n",
    "geneTree <- hclust(as.dist(dissTOM), method=\"average\")\n",
    "\n",
    "#Plot the resulting clustering tree (dendrogram)\n",
    "options(repr.plot.width=12, repr.plot.height=6)\n",
    "plot(geneTree, xlab=\"\", sub=\"\", main=\"Gene clustering on TOM-based dissimilarity\",\n",
    "     labels=FALSE, hang=0.04)"
   ]
  },
  {
   "cell_type": "code",
   "execution_count": null,
   "id": "2ad4656e-539e-4b72-b762-d13fdac01b04",
   "metadata": {
    "vscode": {
     "languageId": "r"
    }
   },
   "outputs": [],
   "source": [
    "#Larger modules can be easier to interpret, so we set the minimum module size relatively high\n",
    "minModuleSize <- max(c(20, round(ncol(all_df)/200, digits=0)))\n",
    "print(str_c(\"minClusterSize = \", minModuleSize))\n",
    "\n",
    "#Module identification using dynamic tree cut\n",
    "dynamicMods <- cutreeDynamic(dendro=geneTree, distM=dissTOM,\n",
    "                             deepSplit=4, pamStage=TRUE, pamRespectsDendro=FALSE,\n",
    "                             minClusterSize=minModuleSize)\n",
    "table(dynamicMods)\n",
    "\n",
    "#Convert numeric lables into colors\n",
    "dynamicColors <- labels2colors(dynamicMods)\n",
    "table(dynamicColors)\n",
    "\n",
    "#Plot the dendrogram and colors underneath\n",
    "options(repr.plot.width=12, repr.plot.height=6)\n",
    "plotDendroAndColors(geneTree, dynamicColors, \"Dynamic Tree Cut\",\n",
    "                    dendroLabels=FALSE, hang=0.03,\n",
    "                    addGuide=TRUE, guideHang=0.05,\n",
    "                    main=\"Gene dendrogram and module colors\")"
   ]
  },
  {
   "cell_type": "code",
   "execution_count": null,
   "id": "dd5bc22e-47a9-4179-8684-a1e8789edb49",
   "metadata": {
    "vscode": {
     "languageId": "r"
    }
   },
   "outputs": [],
   "source": [
    "#Calculate eigengenes\n",
    "MEList <- moduleEigengenes(all_df, colors=dynamicColors, impute=TRUE, nPC=2)\n",
    "MEs <- MEList$eigengenes\n",
    "print(str_c(\"nrow: \", nrow(MEs)))\n",
    "head(MEs)\n",
    "\n",
    "#Calculate dissimilarity of module eigengenes\n",
    "MEDiss <- 1 - cor(MEs, use=\"pairwise.complete.obs\")\n",
    "\n",
    "#Cluster module eigengenes\n",
    "METree <- hclust(as.dist(MEDiss), method=\"average\")\n",
    "\n",
    "#Plot the result\n",
    "options(repr.plot.width=10, repr.plot.height=5)\n",
    "plot(METree, main=\"Clustering of module eigengenes\",\n",
    "     xlab=\"\", sub=\"\")\n",
    "MEDissThres <- 0.3\n",
    "abline(h=MEDissThres, col=\"red\")"
   ]
  },
  {
   "cell_type": "markdown",
   "id": "0239567e-e9b3-4cfa-b513-5ca3273782ba",
   "metadata": {},
   "source": [
    "## Clean data frames"
   ]
  },
  {
   "cell_type": "code",
   "execution_count": null,
   "id": "a884a597-8709-49c5-8b77-a68f72e100d2",
   "metadata": {
    "vscode": {
     "languageId": "r"
    }
   },
   "outputs": [],
   "source": [
    "#Clean the module eigengene table\n",
    "eigengene_df <- MEs %>%\n",
    "    rownames_to_column(var=\"public_client_id\")\n",
    "names(eigengene_df)[2:ncol(eigengene_df)] <- names(eigengene_df)[2:ncol(eigengene_df)] %>%\n",
    "    str_replace(., \"^ME\", \"\") %>%\n",
    "    str_to_title(.)\n",
    "\n",
    "##Sample metadata\n",
    "sample_tbl <- fr_measures %>%\n",
    "    dplyr::filter(public_client_id %in% rownames(MEs)) %>%\n",
    "    dplyr::arrange(public_client_id)#Sort row order\n",
    "print(\"Sample metadata\")\n",
    "print(str_c(\"- nrow: \", nrow(sample_tbl)))\n",
    "\n",
    "#Filter metadata to match columns in filtered data frame\n",
    "sample_tbl <- sample_tbl %>%\n",
    "    dplyr::filter(public_client_id %in% rownames(MEs))\n",
    "print(\"Sample metadata after the filter\")\n",
    "print(str_c(\"- nrow: \", nrow(sample_tbl)))\n",
    "\n",
    "#Code sex and race\n",
    "phenotype_tbl <- sample_tbl %>%\n",
    "    dplyr::mutate(BinarySex=ifelse(sex==\"F\", 0, 1),\n",
    "                  BinaryRace=ifelse(race==\"white\", 0, 1)) %>%\n",
    "    dplyr::mutate(BinaryRace=tidyr::replace_na(.$BinaryRace, 1)) %>%#Due to the existence of NA\n",
    "    dplyr::select(public_client_id, BinarySex, BinaryRace, age, self_fi, lab_fi, merge_fi) %>%\n",
    "    #Transform tibble for easily applying to the WGCNA functions\n",
    "    column_to_rownames(var=\"public_client_id\")\n",
    "\n",
    "#Check phenotypes\n",
    "print(\"Sample metadata\")\n",
    "print(str_c(\"- nrow: \", nrow(phenotype_tbl)))\n",
    "print(\"- Contingency of BinarySex\")\n",
    "table(phenotype_tbl$BinarySex)\n",
    "print(\"- Contingency of BinaryRace\")\n",
    "table(phenotype_tbl$BinaryRace)"
   ]
  },
  {
   "cell_type": "markdown",
   "id": "0c5f1aad-71ed-4350-83fd-5c1a4fe1a4a6",
   "metadata": {},
   "source": [
    "## Module-trait relationship"
   ]
  },
  {
   "cell_type": "code",
   "execution_count": null,
   "id": "325c0504-5e86-41ab-8a3d-2bb0f8d4b909",
   "metadata": {
    "vscode": {
     "languageId": "r"
    }
   },
   "outputs": [],
   "source": [
    "#Calculate the numbers of modules and samples\n",
    "#nModules <- ncol(MEs)\n",
    "nSamples <- nrow(phenotype_tbl)\n",
    "\n",
    "#Names (colors) of the modules\n",
    "modNames = substring(names(MEs), 3)\n",
    "\n",
    "##Check ID order before the cor() function\n",
    "print(str_c(\"Matched IDs?: \", all(rownames(MEs)==rownames(phenotype_tbl))))\n",
    "\n",
    "#Calculate module–trait relationship\n",
    "moduleTraitCor <- as.data.frame(cor(MEs, phenotype_tbl, use=\"p\"))\n",
    "rownames(moduleTraitCor) <- str_to_title(modNames)\n",
    "print(\"Module–trait relationship table\")\n",
    "print(str_c(\"nrow: \", nrow(moduleTraitCor)))\n",
    "\n",
    "#Calculate statisitcal significance of module–trait relationship\n",
    "MTRpval <- as.data.frame(corPvalueStudent(as.matrix(moduleTraitCor), nSamples))\n",
    "rownames(MTRpval) <- str_to_title(modNames)\n",
    "print(\"Module–trait relationship p-value table\")\n",
    "print(str_c(\"- nrow: \", nrow(MTRpval)))\n",
    "\n",
    "#Eliminate the dummy module (Grey)\n",
    "moduleTraitCor <- moduleTraitCor[rownames(moduleTraitCor)!=\"Grey\",]\n",
    "MTRpval <- MTRpval[rownames(MTRpval)!=\"Grey\",]\n",
    "\n",
    "#P-value adjustment across modules (per trait) using Benjamini–Hochberg method\n",
    "MTRpval_adj <- as.data.frame(apply(MTRpval, 2, function(x){p.adjust(x, length(x), method=\"BH\")}))\n",
    "print(\"Module–trait relationship adjusted p-value table\")\n",
    "print(str_c(\"- nrow: \", nrow(MTRpval_adj)))\n",
    "\n",
    "#Prepare text labels as matrix\n",
    "textMatrix <- paste(\"r = \",signif(as.matrix(moduleTraitCor), 3),\"\\n(P = \",\n",
    "                    signif(as.matrix(MTRpval_adj), 2),\")\", sep=\"\")\n",
    "dim(textMatrix) <- dim(moduleTraitCor)\n",
    "#Revert module names back to apply color conversion\n",
    "temp_c <- rownames(moduleTraitCor) %>%\n",
    "    str_to_lower(.) %>%\n",
    "    str_c(\"ME\",.)\n",
    "\n",
    "#Visualize\n",
    "options(repr.plot.width=10, repr.plot.height=10)\n",
    "par(mar=c(5, 5, 3, 2))\n",
    "labeledHeatmap(Matrix=moduleTraitCor,\n",
    "               xLabels=colnames(moduleTraitCor),\n",
    "               yLabels=temp_c,\n",
    "               #ySymbols=rownames(moduleTraitCor),\n",
    "               colorLabels=FALSE,\n",
    "               colors=blueWhiteRed(50),\n",
    "               textMatrix=textMatrix,\n",
    "               setStdMargins=FALSE,\n",
    "               cex.text=1,\n",
    "               zlim=c(-1,1),\n",
    "               main=paste(\"Module–trait relationships\"))"
   ]
  },
  {
   "cell_type": "code",
   "execution_count": null,
   "id": "3573f7a4-33d9-45e9-ae2d-8d6f546161e0",
   "metadata": {
    "vscode": {
     "languageId": "r"
    }
   },
   "outputs": [],
   "source": [
    "analyte_tbl_prot <- meta_protein %>%\n",
    "    #Prepare the same analyte IDs within the data table\n",
    "    dplyr::mutate(AnalyteID=str_c(name,\"(\",gene_name,\")\"), Dataset=\"Protein\") %>%\n",
    "    #Clean\n",
    "    dplyr::rename(AnalyteID_original=name, UniProtID=uniprot, GeneSymbol=gene_name) %>%\n",
    "    dplyr::select(AnalyteID, Dataset, AnalyteID_original, UniProtID, GeneSymbol)\n",
    "\n",
    "analyte_tbl_met <- meta_metabolites %>%\n",
    "    #Prepare the same analyte IDs within the data table\n",
    "    dplyr::mutate(AnalyteID=str_c(CHEMICAL_ID,\"(\",BIOCHEMICAL_NAME,\")\"), Dataset=\"Metabolite\") %>%\n",
    "    #Clean\n",
    "    dplyr::rename(ChemID=CHEMICAL_ID, ChemName=BIOCHEMICAL_NAME) %>%\n",
    "    dplyr::select(AnalyteID, Dataset, ChemID, ChemName, KEGG, HMDB)\n",
    "\n",
    "analyte_tbl_chem <- tibble(AnalyteID = cat.clin, Dataset=\"Chemistry\")\n",
    "analyte_tbl_multi <- dplyr::bind_rows(analyte_tbl_prot, analyte_tbl_met)\n",
    "analyte_tbl_multi <- dplyr::bind_rows(analyte_tbl_multi, analyte_tbl_chem)\n",
    "\n",
    "#Prepare the module assignment table\n",
    "module_tbl <- tibble(AnalyteID=colnames(all_df),\n",
    "                     ModuleID=str_to_title(dynamicColors))\n",
    "print(\"Module assignment table (temp)\")\n",
    "print(str_c(\"- nrow: \", nrow(module_tbl)))\n",
    "module_tbl <- merge(module_tbl, analyte_tbl_multi, by=\"AnalyteID\")\n",
    "head(module_tbl)"
   ]
  },
  {
   "cell_type": "code",
   "execution_count": null,
   "id": "76f99c6e-122e-4e13-9a23-63e51ba66a39",
   "metadata": {
    "vscode": {
     "languageId": "r"
    }
   },
   "outputs": [],
   "source": [
    "dim(all_df)\n",
    "dim(MEs)"
   ]
  },
  {
   "cell_type": "markdown",
   "id": "704501e2-36ea-4b54-a642-6559cc08a006",
   "metadata": {},
   "source": [
    "## Intramodular connectivity"
   ]
  },
  {
   "cell_type": "code",
   "execution_count": null,
   "id": "a684e4c7-c220-40e8-9dda-5aba80c1396b",
   "metadata": {
    "vscode": {
     "languageId": "r"
    }
   },
   "outputs": [],
   "source": [
    "#Prepare target modules\n",
    "targets <- modNames[modNames!=\"grey\"]\n",
    "\n",
    "#Repeat for each module\n",
    "temp_tbl <- tibble()\n",
    "for (module in targets) {\n",
    "    #Select module probes\n",
    "    probes <- colnames(all_df)\n",
    "    inModule <- (dynamicColors==module)\n",
    "    modProbes <- probes[inModule]\n",
    "    \n",
    "    #Select the corresponding Topological Overlap\n",
    "    modTOM <- TOM[inModule, inModule]\n",
    "    dimnames(modTOM) <- list(modProbes, modProbes)\n",
    "    \n",
    "    #Calculate intramodular connectivity\n",
    "    IMConn <- intramodularConnectivity(adjacency[modProbes, modProbes], rep(module, length(modProbes)), scaleByMax=FALSE)$kWithin\n",
    "    \n",
    "    #Summary table\n",
    "    connectivity <- tibble(ModuleID=str_to_title(module),\n",
    "                           AnalyteID=modProbes,\n",
    "                           IntramodularConnectivity=IMConn,\n",
    "                           TOMsimilaritySum=rowSums(modTOM))\n",
    "    print(str_c(module,\" module: \", nrow(connectivity)))\n",
    "    #print(head(connectivity))#Explicitly print due to within for-loop\n",
    "    \n",
    "    #Add to the overall table\n",
    "    temp_tbl <- dplyr::bind_rows(temp_tbl, connectivity)\n",
    "}\n",
    "print(str_c(\"-> Total nrow: \", nrow(temp_tbl)))\n",
    "head(temp_tbl)\n",
    "\n",
    "#Update the module assignment table\n",
    "module_tbl <- dplyr::left_join(module_tbl, temp_tbl, by=c(\"AnalyteID\", \"ModuleID\"))\n",
    "print(\"Module assignment table (updated)\")\n",
    "print(str_c(\"- nrow: \", nrow(module_tbl)))\n",
    "head(module_tbl)"
   ]
  },
  {
   "cell_type": "markdown",
   "id": "a9da56e3-c4c7-44c7-b119-12ca597b4cc2",
   "metadata": {
    "vscode": {
     "languageId": "r"
    }
   },
   "source": [
    "## Turquoise module"
   ]
  },
  {
   "cell_type": "code",
   "execution_count": null,
   "id": "11d030cc-f58d-4448-8b66-f5aa06a7568e",
   "metadata": {
    "vscode": {
     "languageId": "r"
    }
   },
   "outputs": [],
   "source": [
    "topQ <- 0.20 #Focus on the top hubs\n",
    "hubs_turquoise <- module_tbl %>%\n",
    "    dplyr::filter(ModuleID==\"Turquoise\") %>%\n",
    "    dplyr::filter(IntramodularConnectivity>=quantile(IntramodularConnectivity, 1-topQ)) %>%\n",
    "    arrange(desc(IntramodularConnectivity))"
   ]
  },
  {
   "cell_type": "code",
   "execution_count": null,
   "id": "8d5fe536-6a26-4b61-8c90-59b382415e88",
   "metadata": {
    "vscode": {
     "languageId": "r"
    }
   },
   "outputs": [],
   "source": [
    "hubs_turquoise"
   ]
  },
  {
   "cell_type": "markdown",
   "id": "f825b9b4-0f36-4cd9-90d2-0414959dd281",
   "metadata": {},
   "source": [
    "## Multiomic functional enrichment"
   ]
  },
  {
   "cell_type": "markdown",
   "id": "b3ec05b9-f8a8-40a1-b7d5-b1c68dbf62e2",
   "metadata": {},
   "source": [
    "### Load and filter functional annotations"
   ]
  },
  {
   "cell_type": "code",
   "execution_count": null,
   "id": "a5a9e50e-5b75-4c69-b7e5-db753fc4f979",
   "metadata": {
    "vscode": {
     "languageId": "r"
    }
   },
   "outputs": [],
   "source": [
    "#Load the pre-cleaned annotations\n",
    "pathways <- readRDS(\"../Useful_Files/KEGG_REACTOME_pathways.rds\")\n",
    "##Check the first 2 examples\n",
    "temp_l <- lapply(names(pathways),\n",
    "                 function(name) {head(pathways[[name]], 2)})\n",
    "names(temp_l) <- names(pathways)\n",
    "temp_l\n",
    "print(\"Original nAnnotations:\")\n",
    "print(str_c(\"- Protein:\", length(names(pathways$proteome))))\n",
    "print(str_c(\"- Metabolite:\", length(names(pathways$metabolome))))\n",
    "temp_vec <- unique(names(pathways$proteome), names(pathways$metabolome))\n",
    "print(str_c(\"-> Unique:\", length(temp_vec)))\n",
    "print(\"\")\n",
    "\n",
    "#Collapse the list object while combining protein and metabolite database IDs (UniProt and HMDB) per annotation\n",
    "annotation_tbl <- tibble()\n",
    "for (annotation in temp_vec) {\n",
    "    temp_tbl1 <- tibble(AnnotationID=annotation,\n",
    "                        AnnotationName=str_replace(annotation, \"^\\\\(.+\\\\) \", \"\"),\n",
    "                        Dataset=\"Protein\",\n",
    "                        AnalyteDatabaseID=as.character(pathways$proteome[[annotation]]))\n",
    "    temp_tbl2 <- tibble(AnnotationID=annotation,\n",
    "                        AnnotationName=str_replace(annotation, \"^\\\\(.+\\\\) \", \"\"),\n",
    "                        Dataset=\"Metabolite\",\n",
    "                        AnalyteDatabaseID=as.character(pathways$metabolome[[annotation]]))\n",
    "    temp_tbl <- dplyr::bind_rows(temp_tbl1, temp_tbl2)\n",
    "    annotation_tbl <- dplyr::bind_rows(annotation_tbl, temp_tbl)\n",
    "}\n",
    "print(\"Annotation DF\")\n",
    "print(str_c(\"- nrow: \", nrow(annotation_tbl)))\n",
    "print(str_c(\"- nAnnotations: \", length(unique(annotation_tbl$AnnotationID))))\n",
    "annotation_tbl %>%\n",
    "    dplyr::group_by(Dataset) %>%\n",
    "    dplyr::summarize(Count=n(), Unique=length(unique(AnalyteDatabaseID)))\n",
    "\n",
    "#Prepare analytes that were included in the WGCNA input\n",
    "temp_tbl1 <- module_tbl %>%\n",
    "    dplyr::filter(!is.na(UniProtID)) %>%\n",
    "    dplyr::rename(AnalyteDatabaseID=UniProtID) %>%\n",
    "    dplyr::select(AnalyteDatabaseID, AnalyteID)\n",
    "temp_tbl2 <- module_tbl %>%\n",
    "    dplyr::filter(!is.na(HMDB)) %>%\n",
    "    dplyr::rename(AnalyteDatabaseID=HMDB) %>%\n",
    "    dplyr::select(AnalyteDatabaseID, AnalyteID)\n",
    "temp_tbl <- dplyr::bind_rows(temp_tbl1, temp_tbl2)\n",
    "\n",
    "#Take the analytes that were included in the WGCNA input\n",
    "annotation_tbl <- dplyr::left_join(annotation_tbl, temp_tbl, by=\"AnalyteDatabaseID\") %>%\n",
    "    dplyr::filter(!is.na(AnalyteID))\n",
    "print(\"Annotation DF (filtered)\")\n",
    "print(str_c(\"- nrow: \", nrow(annotation_tbl)))\n",
    "print(str_c(\"- nAnnotations: \", length(unique(annotation_tbl$AnnotationID))))\n",
    "annotation_tbl %>%\n",
    "    dplyr::group_by(Dataset) %>%\n",
    "    dplyr::summarize(Count=n(), Unique=length(unique(AnalyteDatabaseID)))\n",
    "head(annotation_tbl)"
   ]
  },
  {
   "cell_type": "markdown",
   "id": "8311c576-01fe-4a34-b8d5-9ff372d1b38e",
   "metadata": {},
   "source": [
    "#### Turquoise module"
   ]
  },
  {
   "cell_type": "code",
   "execution_count": null,
   "id": "6c3d6708-f2ce-4c7d-8957-97446d74341b",
   "metadata": {
    "vscode": {
     "languageId": "r"
    }
   },
   "outputs": [],
   "source": [
    "topQ <- 0.1#Focus on the top hubs\n",
    "topX <- 30 #Number to display\n",
    "#Summarize results per WGCNA module\n",
    "module <- \"Turquoise\"\n",
    "\n",
    "hubs <- module_tbl %>%\n",
    "    dplyr::filter(ModuleID==module) %>%\n",
    "    dplyr::filter(IntramodularConnectivity>=quantile(IntramodularConnectivity, 1-topQ)) %>%\n",
    ".$AnalyteID\n",
    "backgrounds <- annotation_tbl %>%\n",
    "    dplyr::select(AnnotationID, AnalyteID)\n",
    "labels <- annotation_tbl %>%\n",
    "    dplyr::select(AnnotationID, AnnotationName) %>%\n",
    "    dplyr::distinct()\n",
    "print(str_c(module,\": \",length(hubs),\" hubs\"))\n",
    "##Save count info\n",
    "\n",
    "#Enrichment analysis\n",
    "obj <- enricher(gene=hubs,\n",
    "                #universe=backgrounds,#Already managed in annotation metadata\n",
    "                pvalueCutoff=1.0,#To export all\n",
    "                pAdjustMethod=\"BH\",\n",
    "                qvalueCutoff=1.0,#To export all\n",
    "                minGSSize=1,#Already managed in annotation metadata\n",
    "                maxGSSize=1000,#Already managed in annotation metadata\n",
    "                TERM2GENE=backgrounds,\n",
    "                TERM2NAME=labels)\n",
    "\n",
    "temp_tbl <- tibble(obj[]) %>%\n",
    "    dplyr::rename(AnnotationID=ID, AnnotationName=Description, Ratio2Hubs=GeneRatio, Ratio2BGs=BgRatio,\n",
    "                  Pval=pvalue, AdjPval=p.adjust, Qval=qvalue, MappedHub=geneID, nMappedHubs=Count)\n",
    "\n",
    "#Retrieve nominal P-value < 0.05 (for display)\n",
    "temp_tbl <- temp_tbl %>%\n",
    "    dplyr::filter(Pval<0.05)\n",
    "print(str_c(\"- # of annotations with nominal P-value < 0.05: \",as.character(nrow(temp_tbl))))\n",
    "print(str_c(\" -> Top \",topX,\":\"))\n",
    "head(temp_tbl, topX)\n",
    "#Retrieve adjusted P-value < 0.05\n",
    "temp_tbl <- temp_tbl %>%\n",
    "    dplyr::filter(AdjPval<0.05)\n",
    "print(str_c(\"- # of annotations with adjusted P-value < 0.05: \",as.character(nrow(temp_tbl))))\n",
    "\n",
    "\n",
    "#Visualization\n",
    "if (is.data.frame(obj[])) {\n",
    "    display <- tibble(obj[]) %>%\n",
    "        dplyr::filter(pvalue<0.05) %>%\n",
    "        nrow() %>%\n",
    "        min(., topX)#Limit the maximum number of presentation\n",
    "} else {\n",
    "    display <- 0\n",
    "}\n",
    "if (display>0) {\n",
    "    temp <- obj %>%\n",
    "        dplyr::filter(pvalue<0.05) %>%#Display only nominal P-value < 0.05\n",
    "        dplyr::mutate(PvalLabel=str_c(\"AdjPval = \",scales::scientific(p.adjust, digits=2)),\n",
    "                      AdjSignif=ifelse(p.adjust<0.05, \"True\", \"False\")) %>%\n",
    "        barplot(., x=\"Count\", color=\"p.adjust\", showCategory=display) +\n",
    "        geom_text(aes(label=PvalLabel, color=AdjSignif), nudge_x=0.5, hjust=0) +\n",
    "        coord_cartesian(clip=\"off\") +\n",
    "        scale_x_continuous(limits=c(0, 25.5), breaks=seq(0, 25, by=5), expand=c(0, 0)) +\n",
    "        scale_y_discrete(labels=function(x) {str_wrap(x, width=60)}) +\n",
    "        scale_fill_viridis_c(begin=0, end=1, direction=1, option=\"plasma\",\n",
    "                             limits=c(0, 0.2), breaks=seq(0, 0.2, by=0.05), oob=scales::squish,\n",
    "                             name=\"AdjPval\") +\n",
    "        scale_color_manual(values=c(\"True\"=\"#990000\", \"False\"=\"gray40\"), ) +\n",
    "        guides(fill=guide_colorbar(reverse=TRUE), color=\"none\") +\n",
    "        labs(x=\"Count of hubs\",\n",
    "             y=\"\", title=str_c(\"Enriched GOBP in the top \",topQ*100,\"% hubs of \",module,\" module\")) +\n",
    "        theme_classic(base_size=16, base_family=\"Helvetica\") +\n",
    "        theme(text=element_text(face=\"plain\", color=\"black\", family=\"Helvetica\")) +\n",
    "        theme(axis.text.x=element_text(face=\"plain\", color=\"black\", family=\"Helvetica\"),\n",
    "              axis.text.y=element_text(face=\"plain\", color=\"black\", family=\"Helvetica\", lineheight=0.75),\n",
    "              axis.title=element_text(face=\"plain\", color=\"black\", family=\"Helvetica\")) +\n",
    "        theme(plot.title=element_text(size=18, hjust=1.0)) +\n",
    "        theme(legend.direction=\"vertical\", legend.box=\"horizontal\",\n",
    "              legend.background=element_blank())\n",
    "    options(repr.plot.width=9, repr.plot.height=max(c(1+display*0.25, 2.5)))\n",
    "    plot(temp)\n",
    "}\n"
   ]
  },
  {
   "cell_type": "markdown",
   "id": "c217df2a-0b83-410e-9a67-4a0b45f3a253",
   "metadata": {},
   "source": [
    "#### Green module"
   ]
  },
  {
   "cell_type": "code",
   "execution_count": null,
   "id": "7eaaf3ae-9ccb-4fe6-bd3f-8f4b3b208749",
   "metadata": {
    "vscode": {
     "languageId": "r"
    }
   },
   "outputs": [],
   "source": [
    "topQ <- 0.1#Focus on the top hubs\n",
    "topX <- 30 #Number to display\n",
    "#Get Module\n",
    "module <- \"Green\"\n",
    "\n",
    "hubs <- module_tbl %>%\n",
    "    dplyr::filter(ModuleID==module) %>%\n",
    "    dplyr::filter(IntramodularConnectivity>=quantile(IntramodularConnectivity, 1-topQ)) %>%\n",
    ".$AnalyteID\n",
    "backgrounds <- annotation_tbl %>%\n",
    "    dplyr::select(AnnotationID, AnalyteID)\n",
    "labels <- annotation_tbl %>%\n",
    "    dplyr::select(AnnotationID, AnnotationName) %>%\n",
    "    dplyr::distinct()\n",
    "print(str_c(module,\": \",length(hubs),\" hubs\"))\n",
    "##Save count info\n",
    "\n",
    "#Enrichment analysis\n",
    "obj <- enricher(gene=hubs,\n",
    "                #universe=backgrounds,#Already managed in annotation metadata\n",
    "                pvalueCutoff=1.0,#To export all\n",
    "                pAdjustMethod=\"BH\",\n",
    "                qvalueCutoff=1.0,#To export all\n",
    "                minGSSize=1,#Already managed in annotation metadata\n",
    "                maxGSSize=1000,#Already managed in annotation metadata\n",
    "                TERM2GENE=backgrounds,\n",
    "                TERM2NAME=labels)\n",
    "\n",
    "temp_tbl <- tibble(obj[]) %>%\n",
    "    dplyr::rename(AnnotationID=ID, AnnotationName=Description, Ratio2Hubs=GeneRatio, Ratio2BGs=BgRatio,\n",
    "                  Pval=pvalue, AdjPval=p.adjust, Qval=qvalue, MappedHub=geneID, nMappedHubs=Count)\n",
    "\n",
    "#Retrieve nominal P-value < 0.05 (for display)\n",
    "temp_tbl <- temp_tbl %>%\n",
    "    dplyr::filter(Pval<0.05)\n",
    "print(str_c(\"- # of annotations with nominal P-value < 0.05: \",as.character(nrow(temp_tbl))))\n",
    "print(str_c(\" -> Top \",topX,\":\"))\n",
    "head(temp_tbl, topX)\n",
    "#Retrieve adjusted P-value < 0.05\n",
    "temp_tbl <- temp_tbl %>%\n",
    "    dplyr::filter(AdjPval<0.05)\n",
    "print(str_c(\"- # of annotations with adjusted P-value < 0.05: \",as.character(nrow(temp_tbl))))\n",
    "\n",
    "\n",
    "#Visualization\n",
    "if (is.data.frame(obj[])) {\n",
    "    display <- tibble(obj[]) %>%\n",
    "        dplyr::filter(pvalue<0.05) %>%\n",
    "        nrow() %>%\n",
    "        min(., topX)#Limit the maximum number of presentation\n",
    "} else {\n",
    "    display <- 0\n",
    "}\n",
    "if (display>0) {\n",
    "    temp <- obj %>%\n",
    "        dplyr::filter(pvalue<0.05) %>%#Display only nominal P-value < 0.05\n",
    "        dplyr::mutate(PvalLabel=str_c(\"AdjPval = \",scales::scientific(p.adjust, digits=2)),\n",
    "                      AdjSignif=ifelse(p.adjust<0.05, \"True\", \"False\")) %>%\n",
    "        barplot(., x=\"Count\", color=\"p.adjust\", showCategory=display) +\n",
    "        geom_text(aes(label=PvalLabel, color=AdjSignif), nudge_x=0.5, hjust=0) +\n",
    "        coord_cartesian(clip=\"off\") +\n",
    "        scale_x_continuous(limits=c(0, 25.5), breaks=seq(0, 25, by=5), expand=c(0, 0)) +\n",
    "        scale_y_discrete(labels=function(x) {str_wrap(x, width=60)}) +\n",
    "        scale_fill_viridis_c(begin=0, end=1, direction=1, option=\"plasma\",\n",
    "                             limits=c(0, 0.2), breaks=seq(0, 0.2, by=0.05), oob=scales::squish,\n",
    "                             name=\"AdjPval\") +\n",
    "        scale_color_manual(values=c(\"True\"=\"#990000\", \"False\"=\"gray40\"), ) +\n",
    "        guides(fill=guide_colorbar(reverse=TRUE), color=\"none\") +\n",
    "        labs(x=\"Count of hubs\",\n",
    "             y=\"\", title=str_c(\"Enriched GOBP in the top \",topQ*100,\"% hubs of \",module,\" module\")) +\n",
    "        theme_classic(base_size=16, base_family=\"Helvetica\") +\n",
    "        theme(text=element_text(face=\"plain\", color=\"black\", family=\"Helvetica\")) +\n",
    "        theme(axis.text.x=element_text(face=\"plain\", color=\"black\", family=\"Helvetica\"),\n",
    "              axis.text.y=element_text(face=\"plain\", color=\"black\", family=\"Helvetica\", lineheight=0.75),\n",
    "              axis.title=element_text(face=\"plain\", color=\"black\", family=\"Helvetica\")) +\n",
    "        theme(plot.title=element_text(size=18, hjust=1.0)) +\n",
    "        theme(legend.direction=\"vertical\", legend.box=\"horizontal\",\n",
    "              legend.background=element_blank())\n",
    "    options(repr.plot.width=9, repr.plot.height=max(c(1+display*0.25, 2.5)))\n",
    "    plot(temp)\n",
    "}\n"
   ]
  }
 ],
 "metadata": {
  "kernelspec": {
   "display_name": "R",
   "language": "R",
   "name": "ir"
  },
  "language_info": {
   "codemirror_mode": "r",
   "file_extension": ".r",
   "mimetype": "text/x-r-source",
   "name": "R",
   "pygments_lexer": "r",
   "version": "4.3.3"
  }
 },
 "nbformat": 4,
 "nbformat_minor": 5
}
