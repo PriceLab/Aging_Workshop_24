{
 "cells": [
  {
   "cell_type": "code",
   "execution_count": null,
   "id": "fdba227a-2c13-4113-b433-457298802fcf",
   "metadata": {},
   "outputs": [],
   "source": [
    "import pandas as pd\n",
    "pd.set_option('display.max_columns', None)\n",
    "from functools import reduce\n",
    "\n",
    "from IPython.display import display\n",
    "\n",
    "# from statsmodels.stats.outliers_influence import variance_inflation_factor\n",
    "\n",
    "import matplotlib.pyplot as plt\n",
    "import seaborn as sns"
   ]
  },
  {
   "cell_type": "code",
   "execution_count": null,
   "id": "681199ed-a235-4236-b4bc-baaf0b000272",
   "metadata": {},
   "outputs": [],
   "source": [
    "#Drop rows or columns with >20% missingness\n",
    "def clean_df(df):\n",
    "    for x in df.columns:\n",
    "        if (df[x].isnull().sum(axis=0)) > len(df) * 0.2:\n",
    "            df.drop(columns=[x], inplace=True)\n",
    "    for x in df.index:\n",
    "        if df.loc[x, :].isnull().sum() > df.shape[1] * 0.2:\n",
    "            df.drop(index=x, inplace=True)\n",
    "    return df"
   ]
  },
  {
   "cell_type": "code",
   "execution_count": null,
   "id": "43cab6f6-f804-4b53-88a2-f056b60fedbb",
   "metadata": {},
   "outputs": [],
   "source": [
    "## Client Info\n"
   ]
  },
  {
   "cell_type": "code",
   "execution_count": null,
   "id": "c79ca4dc-cf91-486e-a3d5-6ab85390a0a8",
   "metadata": {},
   "outputs": [],
   "source": [
    "clients = pd.read_csv(\"../data/arivale_snapshot_ISB_2019-05-10_0053/clients.tsv\", skiprows=13, sep='\\t', converters={'public_client_id': str})\n",
    "print(clients.shape)\n",
    "clients.head()"
   ]
  },
  {
   "cell_type": "code",
   "execution_count": null,
   "id": "dd4c9b34-f1a0-4eb7-a52c-7dc061e86adc",
   "metadata": {},
   "outputs": [],
   "source": [
    "clients = clients[['public_client_id','sex','race','age']]"
   ]
  },
  {
   "cell_type": "code",
   "execution_count": null,
   "id": "2e2f07f8-1264-4da1-9d32-62d93666e5fc",
   "metadata": {},
   "outputs": [],
   "source": [
    "clients_clean = clean_df(clients)\n",
    "print(clients_clean.shape)\n",
    "clients_clean.head()"
   ]
  },
  {
   "cell_type": "code",
   "execution_count": null,
   "id": "9d3d0888-979e-451c-b004-5f580cb6124a",
   "metadata": {},
   "outputs": [],
   "source": [
    "## Frailty Measures"
   ]
  },
  {
   "cell_type": "code",
   "execution_count": null,
   "id": "cdd9032a-53b9-4f91-9926-c9c2c64da2ba",
   "metadata": {},
   "outputs": [],
   "source": [
    "fr_measures = pd.read_csv(\"../data/frailty/combination_fi_040124.csv\")\n",
    "print(fr_measures.shape)\n",
    "fr_measures.head()"
   ]
  },
  {
   "cell_type": "code",
   "execution_count": null,
   "id": "02d1b966-5105-405b-996d-6d0c2de2b388",
   "metadata": {},
   "outputs": [],
   "source": [
    "fr_sub = fr_measures[['public_client_id','merge_fi']]"
   ]
  },
  {
   "cell_type": "code",
   "execution_count": null,
   "id": "c642c037-6f25-425b-9064-f5049533b2db",
   "metadata": {},
   "outputs": [],
   "source": [
    "fr_clean = clean_df(fr_sub)\n",
    "print (fr_clean.shape)\n",
    "fr_clean.head()"
   ]
  },
  {
   "cell_type": "code",
   "execution_count": null,
   "id": "a18316c5-7d7d-4ade-a10a-a5ea963a8c45",
   "metadata": {},
   "outputs": [],
   "source": [
    "## Metabolomics"
   ]
  },
  {
   "cell_type": "code",
   "execution_count": null,
   "id": "417dca04-2f4d-467c-93c1-41fb22d6d2dc",
   "metadata": {},
   "outputs": [],
   "source": [
    "# mets = pd.read_csv(\"Metabolite_module_eigenvalues.tsv\", sep='\\t', converters={'public_client_id': str, 'MElightcyan': float, 'MEgreenyellow': float, 'MEpurple': float, 'MEblue': float, 'MEbrown': float, 'MEgreen': float,'MEmidnightblue': float, 'MEcyan': float, 'MEtan': float, 'MEyellow': float, 'MEblack': float, 'MEmagenta': float, 'MEred': float, 'MEsalmon': float, 'MEpink': float, 'MEturquoise': float, 'MEgrey': float})\n",
    "mets = pd.read_csv(\"../Useful_Files/Metabolite_module_eigenvalues.tsv\", sep='\\t', converters={'public_client_id': str})\n",
    "print(mets.shape)\n",
    "mets.head()"
   ]
  },
  {
   "cell_type": "code",
   "execution_count": null,
   "id": "aaecf3b7-9ac9-4c5a-bcb1-2d2ff3b7fbea",
   "metadata": {},
   "outputs": [],
   "source": [
    "col_names = ['MElightcyan', 'MEgreenyellow', 'MEpurple', 'MEblue', 'MEbrown', 'MEgreen','MEmidnightblue','MEcyan','MEtan','MEyellow','MEblack','MEmagenta','MEred','MEsalmon','MEpink','MEturquoise','MEgrey']\n",
    "\n",
    "mets[col_names] = mets[col_names].apply(pd.to_numeric, errors='coerce')"
   ]
  },
  {
   "cell_type": "code",
   "execution_count": null,
   "id": "6c0061bb-336b-4ff1-af1b-3755f3022266",
   "metadata": {},
   "outputs": [],
   "source": [
    "print(mets.shape)"
   ]
  },
  {
   "cell_type": "code",
   "execution_count": null,
   "id": "3d1b9668-9db7-47b4-bae4-9a6032031daa",
   "metadata": {},
   "outputs": [],
   "source": [
    "missing_values = mets.isnull().sum()\n",
    "\n",
    "# Calculate total number of entries in the DataFrame\n",
    "total_entries = mets.shape[0] * mets.shape[1]\n",
    "\n",
    "# Calculate percentage of missing values for each column\n",
    "percentage_missing_values = (missing_values / total_entries) * 100\n",
    "\n",
    "print(\"Percentage of missing values in each column:\")\n",
    "print(percentage_missing_values)"
   ]
  },
  {
   "cell_type": "code",
   "execution_count": null,
   "id": "c18d2e85-399a-40b8-8eec-e45f9ef1249f",
   "metadata": {},
   "outputs": [],
   "source": [
    "mets_clean = clean_df(mets)\n",
    "print(mets_clean.shape)\n",
    "mets_clean.head()"
   ]
  },
  {
   "cell_type": "code",
   "execution_count": null,
   "id": "ff4fb818-842b-4c9b-a9de-44850271fd2c",
   "metadata": {},
   "outputs": [],
   "source": [
    "## Proteomics"
   ]
  },
  {
   "cell_type": "code",
   "execution_count": null,
   "id": "534268ac-11b1-46e2-9f50-39b536322488",
   "metadata": {},
   "outputs": [],
   "source": [
    "prots = pd.read_csv(\"../Useful_Files/Protein_module_eigenvalues.tsv\", sep='\\t', converters={'public_client_id': str, 'MEturquoise': float, 'MEblue': float, 'MEbrown': float, 'MEgrey': float})\n",
    "print(prots.shape)\n",
    "prots.head()"
   ]
  },
  {
   "cell_type": "code",
   "execution_count": null,
   "id": "acad5a19-cd88-46a3-b1a7-71eb3e15f890",
   "metadata": {},
   "outputs": [],
   "source": [
    "col_names = ['MEturquoise', 'MEblue', 'MEbrown', 'MEgrey']\n",
    "new_names = {col: col + '_prots' for col in col_names}\n",
    "prots = prots.rename(columns=new_names)\n",
    "print(prots.shape)\n",
    "prots.head()"
   ]
  },
  {
   "cell_type": "code",
   "execution_count": null,
   "id": "f1fb1aa7-d5d4-44d9-8858-5d3468ab70cb",
   "metadata": {},
   "outputs": [],
   "source": [
    "## Labs"
   ]
  },
  {
   "cell_type": "code",
   "execution_count": null,
   "id": "0d885c82-66d4-483d-a7ee-085dccdc7c01",
   "metadata": {},
   "outputs": [],
   "source": [
    "labs = pd.read_csv(\"../data/arivale_snapshot_ISB_2019-05-10_0053/chemistries.tsv\", skiprows=13, sep='\\t', converters={'public_client_id': str})\n",
    "print(labs.shape)\n",
    "labs.head()"
   ]
  },
  {
   "cell_type": "code",
   "execution_count": null,
   "id": "1ecec27e-dcc4-42df-b0be-65a1168fdc9b",
   "metadata": {},
   "outputs": [],
   "source": [
    "# Get lab data at baseline\n",
    "labs_baseline = labs[labs.days_since_first_draw <= 60]\n",
    "labs_baseline.head()"
   ]
  },
  {
   "cell_type": "code",
   "execution_count": null,
   "id": "0321f8c2-2cb9-4f9f-8a96-66d7b4866a7b",
   "metadata": {},
   "outputs": [],
   "source": [
    "labs_fast_values = labs_baseline['fasting'].value_counts()\n",
    "print(labs_fast_values)"
   ]
  },
  {
   "cell_type": "code",
   "execution_count": null,
   "id": "ea936a2b-053b-4506-a3a3-98e739985b9e",
   "metadata": {},
   "outputs": [],
   "source": [
    "labs_fast = labs_baseline[labs_baseline['fasting'] == True]"
   ]
  },
  {
   "cell_type": "code",
   "execution_count": null,
   "id": "52558800-4e88-42c4-9fc7-975ef3898071",
   "metadata": {},
   "outputs": [],
   "source": [
    "labs_fast_values = labs_fast['fasting'].value_counts()\n",
    "print(labs_fast_values)"
   ]
  },
  {
   "cell_type": "code",
   "execution_count": null,
   "id": "0147a72d-dca2-4013-81a1-8d425c442643",
   "metadata": {},
   "outputs": [],
   "source": [
    "labs_drop = labs_fast[labs_fast.vendor == 'LCA'].drop(['vendor_observation_id','fasting','observation_id','days_since_first_call','days_in_program',\n",
    "                                                                     'days_since_first_draw','month','weekday', 'season', 'vendor','reflexive'],\n",
    "                                                                   axis=1)\n",
    "print(labs_drop.shape)\n",
    "labs_drop.head()"
   ]
  },
  {
   "cell_type": "code",
   "execution_count": null,
   "id": "f9cea284-087d-4fc7-91f5-b4cafecbf25c",
   "metadata": {},
   "outputs": [],
   "source": [
    "labs_clean = clean_df(labs_drop)\n",
    "print(labs_clean.shape)\n",
    "labs_clean.head()"
   ]
  },
  {
   "cell_type": "code",
   "execution_count": null,
   "id": "b3564187-6691-4c85-b338-685a732bf5c9",
   "metadata": {},
   "outputs": [],
   "source": [
    "dfs_to_merge = [clients_clean, fr_clean, mets_clean, prots, labs_clean]\n",
    "\n",
    "merged_df = reduce(lambda left, right: pd.merge(left, right, on='public_client_id'), dfs_to_merge)\n",
    "merged_df = merged_df.drop_duplicates(subset=['public_client_id'])\n",
    "\n",
    "print(merged_df.shape)\n",
    "merged_df.head()"
   ]
  },
  {
   "cell_type": "code",
   "execution_count": null,
   "id": "a0edb10f-f689-41b5-9c37-4e54118cf993",
   "metadata": {},
   "outputs": [],
   "source": [
    "cat_cols = merged_df.select_dtypes(include='object').columns.tolist()\n",
    "print(cat_cols)"
   ]
  },
  {
   "cell_type": "code",
   "execution_count": null,
   "id": "ef90866e-d7ce-4103-b802-1d0c14ca3261",
   "metadata": {},
   "outputs": [],
   "source": [
    "sex_cats = merged_df['sex'].value_counts()\n",
    "print(sex_cats)"
   ]
  },
  {
   "cell_type": "code",
   "execution_count": null,
   "id": "e1409b9c-4a13-4eb9-bf9f-801ea3b894e3",
   "metadata": {},
   "outputs": [],
   "source": [
    "merged_df['sex'].replace('F', 0,inplace=True)\n",
    "merged_df['sex'].replace('M', 1,inplace=True)"
   ]
  },
  {
   "cell_type": "code",
   "execution_count": null,
   "id": "067cebec-6edc-400d-8891-2cb7a9e3c3e2",
   "metadata": {},
   "outputs": [],
   "source": [
    "race_cats = merged_df['race'].value_counts()\n",
    "print(race_cats)"
   ]
  },
  {
   "cell_type": "code",
   "execution_count": null,
   "id": "7efe9b36-5575-4aaf-a4c5-9ca769e15919",
   "metadata": {},
   "outputs": [],
   "source": [
    "low_count_categories = race_cats[race_cats <= 20].index.tolist()\n",
    "print(low_count_categories)"
   ]
  },
  {
   "cell_type": "code",
   "execution_count": null,
   "id": "1dd9b04c-dda2-4301-aa5c-02618d0be2b3",
   "metadata": {},
   "outputs": [],
   "source": [
    "merged_df.loc[merged_df['race'].isin(low_count_categories), 'race'] = 'other'\n",
    "race_cats = merged_df['race'].value_counts()\n",
    "print(race_cats)"
   ]
  },
  {
   "cell_type": "code",
   "execution_count": null,
   "id": "961ec0fb-28c9-4708-8abf-0926b09a4b4c",
   "metadata": {},
   "outputs": [],
   "source": [
    "merged_df = pd.get_dummies(merged_df, columns=['race'])"
   ]
  },
  {
   "cell_type": "code",
   "execution_count": null,
   "id": "bd970e3b-62f1-4255-b324-19bca728caa8",
   "metadata": {},
   "outputs": [],
   "source": [
    "print(merged_df.shape)\n",
    "merged_df.head()"
   ]
  },
  {
   "cell_type": "code",
   "execution_count": null,
   "id": "bbc95bee-0f9c-4931-a6d0-c2fef3cafb9a",
   "metadata": {},
   "outputs": [],
   "source": [
    "clients_removed = merged_df.merge(fd, how='left', on='public_client_id')\n",
    "print(clients_removed.shape)"
   ]
  },
  {
   "cell_type": "code",
   "execution_count": null,
   "id": "f87dfc94-60e8-417a-bc5b-a916314d2bb7",
   "metadata": {},
   "outputs": [],
   "source": [
    "merged_clean.to_csv('AR_cleaned_ISB_aging_new_merge_fi_wgcna.csv', index=False)"
   ]
  },
  {
   "cell_type": "code",
   "execution_count": null,
   "id": "93e127d7-0e54-46db-8e96-6cc32d56bb58",
   "metadata": {},
   "outputs": [],
   "source": [
    "df = pd.read_csv(\"AR_cleaned_ISB_aging_new_merge_fi_wgcna.csv\")\n",
    "print(df.shape)"
   ]
  },
  {
   "cell_type": "code",
   "execution_count": null,
   "id": "cd78b369-15b8-4a2e-a801-c88ecc809e26",
   "metadata": {},
   "outputs": [],
   "source": []
  }
 ],
 "metadata": {
  "kernelspec": {
   "display_name": "arivale-py3 - Python",
   "language": "python",
   "name": "conda-env-arivale-py3-py"
  },
  "language_info": {
   "codemirror_mode": {
    "name": "ipython",
    "version": 3
   },
   "file_extension": ".py",
   "mimetype": "text/x-python",
   "name": "python",
   "nbconvert_exporter": "python",
   "pygments_lexer": "ipython3",
   "version": "3.9.7"
  }
 },
 "nbformat": 4,
 "nbformat_minor": 5
}
