{
 "cells": [
  {
   "cell_type": "markdown",
   "id": "be6c3c86-8dbf-4d8c-b701-dbafe62dbb2c",
   "metadata": {},
   "source": [
    "# Session 2.2 Longitudinal Data Analysis"
   ]
  },
  {
   "cell_type": "code",
   "execution_count": null,
   "id": "d4d5da34-f0f3-416a-a82d-1a344b714363",
   "metadata": {
    "vscode": {
     "languageId": "r"
    }
   },
   "outputs": [],
   "source": [
    "#load pacakges\n",
    "suppressPackageStartupMessages(library(dplyr))\n",
    "suppressPackageStartupMessages(library(splines))\n",
    "suppressPackageStartupMessages(library(ggplot2))\n",
    "suppressPackageStartupMessages(library(ggfortify))\n",
    "suppressPackageStartupMessages(library(lme4))\n",
    "suppressPackageStartupMessages(library(nlme))\n",
    "suppressPackageStartupMessages(library(mixOmics))\n",
    "suppressPackageStartupMessages(library(plyr))\n",
    "suppressPackageStartupMessages(library(caTools))\n",
    "suppressPackageStartupMessages(library(caret))\n",
    "suppressPackageStartupMessages(library(\"BiocParallel\"))"
   ]
  },
  {
   "cell_type": "code",
   "execution_count": null,
   "id": "b7257b5a-0557-4501-970a-dbb0719a0f41",
   "metadata": {
    "vscode": {
     "languageId": "r"
    }
   },
   "outputs": [],
   "source": [
    "# import data\n",
    "# client_information, sex, age\n",
    "platform <- \"SageMaker\"\n",
    "if (\"SageMaker\" == platform) {\n",
    "    arivaleDir <- \"../data/arivale_snapshot_ISB_2019-05-10_0053\"\n",
    "    frailtyDir <- \"../data/frailty\"\n",
    "    UsefulFiles <- \"../Useful_Files\"\n",
    "} else {\n",
    "    arivaleDir <- \"/shared-data/snapshots/arivale_snapshot_ISB_2019-05-10_0053/\"\n",
    "    frailtyDir <- \"/shared-libs/useful-files/frailty_measures_kanelab/FI_workshop_040124\"\n",
    "    UsefulFiles <- \".\"\n",
    "}\n",
    "client_info = read.csv(file.path(arivaleDir,\"clients.tsv\"), sep = \"\\t\", skip = 13) %>%\n",
    "              dplyr::select(public_client_id, age)\n",
    "# genetic principal components\n",
    "genetic_pc = read.csv(file.path(arivaleDir,\"genetics_ancestry.tsv\"), sep = \"\\t\", skip = 13) %>%\n",
    "              dplyr::select(public_client_id, paste0(\"PC\", 1:4))\n",
    "# frailty index longitudinal, inlcuding days_since_first_draw\n",
    "lab_fi_longitudinal = read.csv(file.path(frailtyDir,\"lab_fi_longitudinal_040124.csv\"))\n",
    "#unique(lab_fi_longitudinal$public_client_id) %>% length() 4874"
   ]
  },
  {
   "cell_type": "code",
   "execution_count": null,
   "id": "6b2923db-8241-457e-bba0-371de74c85cd",
   "metadata": {
    "vscode": {
     "languageId": "r"
    }
   },
   "outputs": [],
   "source": [
    "# initial assessment of the data by visualization \n",
    "# distribution of days since first draw\n",
    "options(jupyter.plot_scale=1,\n",
    "        width=200,\n",
    "        repr.matrix.max.cols=200,\n",
    "        repr.matrix.max.rows=Inf)\n",
    "ggplot2::theme_set(theme_bw() + \n",
    "  theme(panel.grid.major = element_blank(), panel.grid.minor = element_blank(),\n",
    "        plot.title = element_text(hjust = 0.5), text = element_text(size = 16), \n",
    "        panel.border = element_rect(colour = \"black\", fill = NA, size = 1.2),\n",
    "        axis.text.y = element_text(face = \"bold\", color = \"black\"),\n",
    "        axis.text.x = element_text(face = \"bold\", color = \"black\")))\n",
    "ggplot(data = lab_fi_longitudinal,\n",
    "       aes(x = as.numeric(days_since_first_draw))) +\n",
    "    geom_density() +\n",
    "    labs(x = \"Days Since First Draw\",\n",
    "        y = \"Density\") +\n",
    "    geom_vline(xintercept = 365.25/12*18, lty = 4)"
   ]
  },
  {
   "cell_type": "code",
   "execution_count": null,
   "id": "2a0ef110-9b47-4b75-8a4c-6d96ffd18b49",
   "metadata": {
    "vscode": {
     "languageId": "r"
    }
   },
   "outputs": [],
   "source": [
    "#\n",
    "# Identify \"simple\" clients, who have data for the baseline, 6 months after baseline, and 12 months after baseline, with no subsequent redraws\n",
    "#\n",
    "sixMonths <- 365/2\n",
    "lab_fi_longitudinal$draw <- round(lab_fi_longitudinal$days_since_first_draw / sixMonths)\n",
    "drawsByClient <- table(lab_fi_longitudinal$public_client_id, lab_fi_longitudinal$draw)\n",
    "firstThree <- drawsByClient[,'0'] == 1 & drawsByClient[,'1'] == 1 & drawsByClient[,'2'] == 1\n",
    "simpleClient <- names(firstThree)[firstThree]\n",
    "cat(noquote(paste(\"Of\",dim(drawsByClient)[1],\"Arivale clients,\",length(simpleClient),\"have three consecutive simple draws starting with their first draw.\\n\")))"
   ]
  },
  {
   "cell_type": "code",
   "execution_count": null,
   "id": "eee9f643-8b36-4565-b26c-88f62f355334",
   "metadata": {
    "vscode": {
     "languageId": "r"
    }
   },
   "outputs": [],
   "source": [
    "# collect data for the first three visits for all simple clients \n",
    "month_threshold = lab_fi_longitudinal %>%\n",
    "                  filter(as.numeric(days_since_first_draw) <= 365.25/12*18)\n",
    "freq_above3 = table(month_threshold$public_client_id) %>% \n",
    "              as.data.frame() %>%\n",
    "              filter(Freq >= 3) #nrow(freq_above3) 1605 participants remain\n",
    "first3_visit_dat = month_threshold %>%\n",
    "                   filter(public_client_id %in% freq_above3$Var1) %>%\n",
    "                   group_by(public_client_id) %>%\n",
    "                   arrange(days_since_first_draw) %>%\n",
    "                   filter(row_number() %in% c(1, 2, 3)) %>%\n",
    "                   filter(public_client_id %in% simpleClient)"
   ]
  },
  {
   "cell_type": "code",
   "execution_count": null,
   "id": "3bc30247-2c50-4bd4-95e2-de1112322aaa",
   "metadata": {
    "vscode": {
     "languageId": "r"
    }
   },
   "outputs": [],
   "source": [
    "# Extract the baseline (first draw) Clinical Laboratory Test-derived Frailty Index\n",
    "bl_fi_dat = first3_visit_dat %>%\n",
    "        group_by(public_client_id) %>%\n",
    "               arrange(days_since_first_draw) %>%\n",
    "               filter(row_number() == 1) %>% \n",
    "               mutate(bl_fi = lab_fi) %>%\n",
    "               dplyr::select(public_client_id, bl_fi)"
   ]
  },
  {
   "cell_type": "code",
   "execution_count": null,
   "id": "ee591690-2d6b-4ded-b65b-6d29d0a95180",
   "metadata": {
    "vscode": {
     "languageId": "r"
    }
   },
   "outputs": [],
   "source": [
    "# Stratify by sex\n",
    "female_bl_fi_dat = first3_visit_dat %>%\n",
    "                   filter(sex == \"F\") %>%\n",
    "                   merge(., bl_fi_dat, by = \"public_client_id\") %>%\n",
    "                   merge(., client_info, by = \"public_client_id\") %>%\n",
    "                   merge(., genetic_pc, by = \"public_client_id\") %>%\n",
    "                   arrange(public_client_id, days_since_first_draw)\n",
    "#nrow 2757, length(unique(female_bl_fi_dat$public_client_id)) 919\n",
    "\n",
    "male_bl_fi_dat = first3_visit_dat %>%\n",
    "                   filter(sex == \"M\") %>%\n",
    "                   merge(., bl_fi_dat, by = \"public_client_id\") %>%\n",
    "                   merge(., client_info, by = \"public_client_id\") %>%\n",
    "                   merge(., genetic_pc, by = \"public_client_id\") %>%\n",
    "                   arrange(public_client_id, days_since_first_draw)\n",
    "#nrow 2055, length(unique(male_bl_fi_dat$public_client_id)) 685\n",
    "\n",
    "mix_bl_fi_dat = rbind(female_bl_fi_dat, male_bl_fi_dat) %>% as.data.frame()\n",
    "mix_bl_fi_dat_base = mix_bl_fi_dat %>%\n",
    "                    group_by(public_client_id) %>% \n",
    "                    arrange(days_since_first_draw) %>%\n",
    "                    filter(row_number() == 1)"
   ]
  },
  {
   "cell_type": "code",
   "execution_count": null,
   "id": "16b4f8c2-453c-441b-9913-c9c8616a2679",
   "metadata": {
    "vscode": {
     "languageId": "r"
    }
   },
   "outputs": [],
   "source": [
    "ggplot(data = mix_bl_fi_dat_base,\n",
    "       aes(x = sex,\n",
    "           y = lab_fi,\n",
    "           color = sex)) +\n",
    "   geom_boxplot() +\n",
    "   labs(x = \"\",\n",
    "        y = \"baseline FI\")"
   ]
  },
  {
   "cell_type": "raw",
   "id": "4f106157-0dcc-4ae8-b35f-5a6f2c8cff4c",
   "metadata": {
    "vscode": {
     "languageId": "r"
    }
   },
   "source": [
    "groupWidth <- 10\n",
    "ageGroup <- groupWidth*round(mix_bl_fi_dat$age.x/groupWidth)\n",
    "ggplot(data = mix_bl_fi_dat,\n",
    "       aes(x    = as.factor(ageGroup),\n",
    "           y    = bl_fi,\n",
    "           fill = as.factor(sex))) +\n",
    "       ylim(0.00, 0.60) + \n",
    "       geom_boxplot() +\n",
    "       labs(x    = \"Age\", \n",
    "            y    = \"Frailty Index\") +\n",
    "       facet_wrap(~ as.factor(sex)) +\n",
    "       geom_smooth(aes(group = as.factor(sex)),\n",
    "                   method = \"lm\",\n",
    "                   se = FALSE,\n",
    "                   linewidth = 1/2,\n",
    "                   color = 'black') + \n",
    "       geom_hline(yintercept = 0) +\n",
    "       labs(fill = \"Sex\",\n",
    "            color = \"Trend\",\n",
    "            title = \"Frailty Index, Age, and Sex\")\n"
   ]
  },
  {
   "cell_type": "code",
   "execution_count": null,
   "id": "06190115-ef83-433b-a0e1-ab2facf0848c",
   "metadata": {
    "vscode": {
     "languageId": "r"
    }
   },
   "outputs": [],
   "source": [
    "ggplot(data = mix_bl_fi_dat_base,\n",
    "       aes(x = age.x,\n",
    "           color = sex)) +\n",
    "   geom_density(linewidth = 2) +\n",
    "   labs(x = \"baseline age\")"
   ]
  },
  {
   "cell_type": "code",
   "execution_count": null,
   "id": "0a9f2449-639d-4f3b-819a-45edbf458265",
   "metadata": {
    "vscode": {
     "languageId": "r"
    }
   },
   "outputs": [],
   "source": [
    "#\n",
    "# Split data into two age groups, up to 55 and over 55\n",
    "# Our hypothesis is that the observed difference in frailty index is due to\n",
    "# a difference in the age distribution between men and women in the cohort\n",
    "# This plot confirms that within the two age groups, males and females \n",
    "# have much more similar frailty distributions.\n",
    "#\n",
    "mix_bl_fi_dat_base = mix_bl_fi_dat_base %>%\n",
    "                mutate(age_bin = ifelse(age.x > 55, 1, 0))\n",
    "\n",
    "ggplot(data = mix_bl_fi_dat_base,\n",
    "       aes(x = as.factor(age_bin),\n",
    "           y = bl_fi,\n",
    "          color = as.factor(sex))) +\n",
    "   geom_boxplot() + \n",
    "   scale_x_discrete(labels = c(\"0\" = \"(, 55]\",\n",
    "                               \"1\" = \"(55, )\")) +\n",
    "   labs(x = \"Age groups\", \n",
    "        y = \"Baseline FI\",\n",
    "        color = \"Sex\")"
   ]
  },
  {
   "cell_type": "code",
   "execution_count": null,
   "id": "4d43c337-9511-4d68-b7a8-6c1f817fcf41",
   "metadata": {
    "vscode": {
     "languageId": "r"
    }
   },
   "outputs": [],
   "source": [
    "# fi plots, density\n",
    "ggplot(data = mix_bl_fi_dat,\n",
    "       aes(x = lab_fi)) +\n",
    "   geom_density(aes(group = as.factor(sex),\n",
    "                   color = as.factor(sex)),\n",
    "               linewidth = 2) +\n",
    "   labs(x = \"Frailty index\",\n",
    "       color = \"Sex\") +\n",
    "   coord_flip()"
   ]
  },
  {
   "cell_type": "code",
   "execution_count": null,
   "id": "3e21d631-3e84-4b49-8bc4-17b150427d20",
   "metadata": {
    "vscode": {
     "languageId": "r"
    }
   },
   "outputs": [],
   "source": [
    "# fi plots, dynamics \n",
    "ggplot(data = mix_bl_fi_dat,\n",
    "       aes(x = days_since_first_draw,\n",
    "           y = lab_fi,\n",
    "           color = as.factor(sex))) +\n",
    "   geom_line(aes(group = as.factor(public_client_id)), alpha = 0.2) +\n",
    "   labs(x = \"Days Since First Draw\",\n",
    "        y = \"Frailty Index\",\n",
    "       color = \"Sex\")"
   ]
  },
  {
   "cell_type": "code",
   "execution_count": null,
   "id": "3005c6ba-e8ff-4014-a639-f9631dad1c12",
   "metadata": {
    "vscode": {
     "languageId": "r"
    }
   },
   "outputs": [],
   "source": [
    "# get time knots (df = 3), attached to df, scale numeric variables\n",
    "time_knots_female = splines::ns(female_bl_fi_dat$days_since_first_draw, knots = c(182.625, 365.25), df = 3)\n",
    "time_knots_male = splines::ns(male_bl_fi_dat$days_since_first_draw, knots = c(182.625, 365.25), df = 3)\n",
    "female_bl_fi_dat_all = female_bl_fi_dat %>%\n",
    "                      mutate(t1 = time_knots_female[, 1],\n",
    "                             t2 = time_knots_female[, 2],\n",
    "                             t3 = time_knots_female[, 3]) %>%\n",
    "                      mutate(base_age = age.x) %>%\n",
    "                      mutate_at(c(\"PC1\", \"PC2\", \"PC3\", \"PC4\", \n",
    "                                  \"t1\", \"t2\", \"t3\", \"base_age\"), ~scale(.)[, 1])\n",
    "male_bl_fi_dat_all = male_bl_fi_dat %>%\n",
    "                      mutate(t1 = time_knots_male[, 1],\n",
    "                             t2 = time_knots_male[, 2],\n",
    "                             t3 = time_knots_male[, 3]) %>%\n",
    "                      mutate(base_age = age.x) %>%\n",
    "                      mutate_at(c(\"PC1\", \"PC2\", \"PC3\", \"PC4\",\n",
    "                                  \"t1\", \"t2\", \"t3\", \"base_age\"), ~scale(.)[, 1])"
   ]
  },
  {
   "cell_type": "code",
   "execution_count": null,
   "id": "0f2b63bd-e352-4777-b97e-66d57e469a4e",
   "metadata": {
    "vscode": {
     "languageId": "r"
    }
   },
   "outputs": [],
   "source": [
    "colnames(female_bl_fi_dat_all)"
   ]
  },
  {
   "cell_type": "code",
   "execution_count": null,
   "id": "63110fcb-cb99-48fa-afd1-402d39a943e4",
   "metadata": {
    "vscode": {
     "languageId": "r"
    }
   },
   "outputs": [],
   "source": [
    "colnames(male_bl_fi_dat_all)"
   ]
  },
  {
   "cell_type": "code",
   "execution_count": null,
   "id": "22a2114e-966a-4193-a0b8-74197b2b55ce",
   "metadata": {
    "vscode": {
     "languageId": "r"
    }
   },
   "outputs": [],
   "source": [
    "female_clients <- unique(female_bl_fi_dat_all$public_client_id)\n",
    "nth <- female_bl_fi_dat_all[,c('public_client_id','days_since_first_draw')]\n",
    "nth$seq <- rep(0,dim(nth)[1])\n",
    "for (id in female_clients) {\n",
    "    s <- which(nth$public_client_id == id)\n",
    "    nth$seq[s] <- c(1:length(s))    \n",
    "}"
   ]
  },
  {
   "cell_type": "code",
   "execution_count": null,
   "id": "c2bf5cbd-0891-43d2-815c-60a73e37d15b",
   "metadata": {
    "vscode": {
     "languageId": "r"
    }
   },
   "outputs": [],
   "source": [
    "# boxplot(split(nth$days_since_first_draw,nth$seq))\n",
    "quarterYear <- 365/4\n",
    "halfYear <- 2*quarterYear\n",
    "nl <- function() { cat(noquote(\"\\n\")) }"
   ]
  },
  {
   "cell_type": "code",
   "execution_count": null,
   "id": "3b3147c0-c4f7-4511-89d8-3b320b9c6c4b",
   "metadata": {
    "vscode": {
     "languageId": "r"
    }
   },
   "outputs": [],
   "source": [
    "firsts <- nth$days_since_first_draw[nth$seq == 1]\n",
    "u1 <- median(firsts)\n",
    "deltas <- firsts - u1\n",
    "outs <- which(abs(deltas) > quarterYear)\n",
    "nl() ; nl()\n",
    "cat(noquote(paste(\"Median\", u1, \"days, \", length(outs),\"outliers among\",length(firsts), \"female clients\"))) ; nl()\n",
    "dMonths <- round(deltas / (365.25/12))\n",
    "xtabs(~ dMonths)\n",
    "\n",
    "seconds <- nth$days_since_first_draw[nth$seq == 2]\n",
    "u2 <- median(seconds)\n",
    "deltas <- seconds - u2\n",
    "outs <- which(abs(deltas) > quarterYear)\n",
    "nl() ; nl()\n",
    "cat(noquote(paste(\"Median\", u2, \"days, \", length(outs),\"outliers among\",length(seconds), \"female clients\")))  ; nl()\n",
    "dMonths <- round(deltas / (365.25/12))\n",
    "xtabs(~ dMonths)\n",
    "\n",
    "thirds <- nth$days_since_first_draw[nth$seq == 3]\n",
    "u3 <- median(thirds)\n",
    "deltas <- thirds - u3\n",
    "outs <- which(abs(deltas) > quarterYear)\n",
    "nl() ; nl()\n",
    "cat(noquote(paste(\"Median\", u3, \"days, \", length(outs),\"outliers among\",length(thirds), \"female clients\"))) ; nl()\n",
    "dMonths <- round(deltas / (365.25/12))\n",
    "xtabs(~ dMonths)"
   ]
  },
  {
   "cell_type": "code",
   "execution_count": null,
   "id": "6dbe6910-8fef-4974-8619-74b6119886bd",
   "metadata": {
    "vscode": {
     "languageId": "r"
    }
   },
   "outputs": [],
   "source": [
    "male_clients <- unique(male_bl_fi_dat_all$public_client_id)\n",
    "nth <- male_bl_fi_dat_all[,c('public_client_id','days_since_first_draw')]\n",
    "nth$seq <- rep(0,dim(nth)[1])\n",
    "for (id in male_clients) {\n",
    "    s <- which(nth$public_client_id == id)\n",
    "    nth$seq[s] <- c(1:length(s))    \n",
    "}"
   ]
  },
  {
   "cell_type": "code",
   "execution_count": null,
   "id": "5ee14533-7297-42ff-9a2f-9b9de85a022e",
   "metadata": {
    "vscode": {
     "languageId": "r"
    }
   },
   "outputs": [],
   "source": [
    "# boxplot(split(nth$days_since_first_draw,nth$seq))\n",
    "firsts <- nth$days_since_first_draw[nth$seq == 1]\n",
    "u1 <- median(firsts)\n",
    "deltas <- firsts - u1\n",
    "outs <- which(abs(deltas) > quarterYear)\n",
    "nl() ; nl()\n",
    "cat(noquote(paste(\"Median\", u1, \"days, \", length(outs),\"outliers among\",length(firsts), \"male clients\"))) ; nl()\n",
    "dMonths <- sign(deltas)*trunc(deltas / (365.25/12))\n",
    "xtabs(~ dMonths)\n",
    "\n",
    "seconds <- nth$days_since_first_draw[nth$seq == 2]\n",
    "u2 <- median(seconds)\n",
    "deltas <- seconds - u2\n",
    "outs <- which(abs(deltas) > quarterYear)\n",
    "nl() ; nl()\n",
    "cat(noquote(paste(\"Median\", u2, \"days, \", length(outs),\"outliers among\",length(seconds), \"male clients\"))) ; nl()\n",
    "dMonths <- round(deltas / (365.25/12))\n",
    "xtabs(~ dMonths)\n",
    "\n",
    "thirds <- nth$days_since_first_draw[nth$seq == 3]\n",
    "u3 <- median(thirds)\n",
    "deltas <- thirds - u3\n",
    "outs <- which(abs(deltas) > quarterYear)\n",
    "nl() ; nl()\n",
    "print(noquote(paste(\"Median\", u3, \"days, \", length(outs),\"outliers among\",length(thirds), \"male clients\"))) ; nl()\n",
    "dMonths <- round(deltas / (365.25/12))\n",
    "xtabs(~ dMonths)\n"
   ]
  },
  {
   "cell_type": "code",
   "execution_count": null,
   "id": "86e7c69b-6229-4261-ade3-67704dafb395",
   "metadata": {
    "vscode": {
     "languageId": "r"
    }
   },
   "outputs": [],
   "source": [
    "# multiple lmm comparison \n",
    "lmm_f1 = lmer(lab_fi ~ t1 + t2 + t3 + base_age + PC1 + PC2 + PC3 + PC4 + (t1 |`public_client_id`),\n",
    "                 data = female_bl_fi_dat_all)\n",
    "lmm_f2 = glmer(lab_fi ~ t1 + t2 + t3 + base_age + PC1 + PC2 + PC3 + PC4 + (1 + t1 |`public_client_id`), \n",
    "                 family = Gamma(link = \"log\"), \n",
    "                 data = female_bl_fi_dat_all)\n",
    "lmm_f3 = glmer(lab_fi ~ t1 + t2 + t3 + base_age + PC1 + PC2 + PC3 + PC4 + (1 |`public_client_id`), \n",
    "                 family = Gamma(link = \"log\"), \n",
    "                 data = female_bl_fi_dat_all) # cannot perform link = \"identity\"\n",
    "\n",
    "AIC(lmm_f1, lmm_f2, lmm_f3) # choose the least AIC\n",
    "BIC(lmm_f1, lmm_f2, lmm_f3) # BIC and AIC only differ in how they account for model size (df)"
   ]
  },
  {
   "cell_type": "code",
   "execution_count": null,
   "id": "13130658-df3c-45df-a5ae-e8224adaa9f5",
   "metadata": {
    "vscode": {
     "languageId": "r"
    }
   },
   "outputs": [],
   "source": [
    "# lmm \n",
    "set.seed(2024)\n",
    "lmer_res_f = glmer(lab_fi ~ t1 + t2 + t3 + base_age + PC1 + PC2 + PC3 + PC4 + (1 + t1 |`public_client_id`), \n",
    "                 family = Gamma(link = \"log\"), \n",
    "                 data = female_bl_fi_dat_all)\n",
    "set.seed(2024)\n",
    "lmer_res_m = glmer(lab_fi ~ t1 + t2 + t3 + base_age + PC1 + PC2 + PC3 + PC4 + (1 + t1 |`public_client_id`), \n",
    "                 family = Gamma(link = \"log\"), \n",
    "                 data = male_bl_fi_dat_all)"
   ]
  },
  {
   "cell_type": "code",
   "execution_count": null,
   "id": "791ebf63-b95e-4a2d-b070-2328bf0182de",
   "metadata": {
    "vscode": {
     "languageId": "r"
    }
   },
   "outputs": [],
   "source": [
    "# for each id, we estimate the a series of days (new_time) with base_age and PCs\n",
    "# get mean for each (days_since_first_draw) and plot\n",
    "new_time = female_bl_fi_dat_all %>%\n",
    "           dplyr::select(days_since_first_draw, t1, t2, t3) %>%\n",
    "           distinct() %>%\n",
    "           arrange(days_since_first_draw)\n",
    "female_id_distinct = female_bl_fi_dat_all %>%\n",
    "                     dplyr::select(public_client_id, base_age, PC1, PC2, PC3, PC4) %>%\n",
    "                     distinct()\n",
    "# creat new df to fit the model\n",
    "female_id_forpred = female_id_distinct %>% \n",
    "                    dplyr::slice(rep(1:n(), each = nrow(new_time))) %>%\n",
    "                    cbind(., new_time[rep(1:nrow(new_time), length(unique(female_id_distinct$public_client_id))), ]) %>%\n",
    "                    as.data.frame()\n",
    "male_id_distinct = male_bl_fi_dat_all %>%\n",
    "                   dplyr::select(public_client_id, base_age, PC1, PC2, PC3, PC4) %>%\n",
    "                     distinct()\n",
    "male_id_forpred = male_id_distinct %>% \n",
    "                    dplyr::slice(rep(1:n(), each = nrow(new_time))) %>%\n",
    "                    cbind(., new_time[rep(1:nrow(new_time), length(unique(male_id_distinct$public_client_id))), ]) %>%\n",
    "                    as.data.frame()"
   ]
  },
  {
   "cell_type": "code",
   "execution_count": null,
   "id": "71264696-a6aa-4f2b-968e-af29c4185289",
   "metadata": {
    "vscode": {
     "languageId": "r"
    }
   },
   "outputs": [],
   "source": [
    "# add estimate fi and merge female and males\n",
    "female_id_forpred_est = female_id_forpred %>%\n",
    "                        mutate(est = exp(predict(lmer_res_f, newdata = female_id_forpred[, -7])), #exclude column 'days_since...'\n",
    "                              sex = rep(\"F\", nrow(.)))\n",
    "male_id_forpred_est = male_id_forpred %>%\n",
    "                        mutate(est = exp(predict(lmer_res_m, newdata = male_id_forpred[, -7])),\n",
    "                              sex = rep(\"M\", nrow(.)))\n",
    "mix_id_pred = rbind(female_id_forpred_est, male_id_forpred_est) %>% as.data.frame()"
   ]
  },
  {
   "cell_type": "code",
   "execution_count": null,
   "id": "5d3151af-57b8-4ec9-8ace-044fbf3d2e14",
   "metadata": {
    "vscode": {
     "languageId": "r"
    }
   },
   "outputs": [],
   "source": [
    "ggplot(data = mix_id_pred,\n",
    "       aes(x = days_since_first_draw,\n",
    "           y = as.numeric(est))) +\n",
    "        geom_smooth(aes(group = sex,\n",
    "                       color = as.factor(sex))) +\n",
    "        coord_cartesian(ylim = c(0.17,0.24)) +\n",
    "       geom_vline(xintercept = c(0:2)*halfYear, linetype = \"dotted\") +\n",
    "    labs(x = \"Days Since First Draw\",\n",
    "        y = \"Frailty Index (est. mean)\",\n",
    "        color = \"sex\")"
   ]
  },
  {
   "cell_type": "code",
   "execution_count": null,
   "id": "dccd94ae-1df2-48df-9155-e2216815bf52",
   "metadata": {
    "vscode": {
     "languageId": "r"
    }
   },
   "outputs": [],
   "source": [
    "## age group separate models\n",
    "female_below55_dat = female_bl_fi_dat_all %>%  filter(age.x <= 55) \n",
    "female_above55_dat = female_bl_fi_dat_all %>% filter(age.x > 55) \n",
    "male_below55_dat = male_bl_fi_dat_all %>% filter(age.x <= 55) \n",
    "male_above55_dat = male_bl_fi_dat_all %>% filter(age.x > 55) "
   ]
  },
  {
   "cell_type": "code",
   "execution_count": null,
   "id": "5a635d43-f0ac-4790-972b-eef352a2f578",
   "metadata": {
    "vscode": {
     "languageId": "r"
    }
   },
   "outputs": [],
   "source": [
    "length(unique(female_below55_dat$public_client_id))\n",
    "length(unique(female_above55_dat$public_client_id))\n",
    "length(unique(male_below55_dat$public_client_id))\n",
    "length(unique(male_above55_dat$public_client_id))\n"
   ]
  },
  {
   "cell_type": "code",
   "execution_count": null,
   "id": "b9caee50-b403-472c-945b-e539ac1b1866",
   "metadata": {
    "vscode": {
     "languageId": "r"
    }
   },
   "outputs": [],
   "source": [
    "lmer_res_fbelow55 = glmer(lab_fi ~ t1 + t2 + t3 + base_age + PC1 + PC2 + PC3 + PC4 + (1 + t1 |`public_client_id`), \n",
    "                 family = Gamma(link = \"log\"), \n",
    "                 data = female_below55_dat)"
   ]
  },
  {
   "cell_type": "code",
   "execution_count": null,
   "id": "89b7e8d8-9dd0-4324-9c1b-3770b7433598",
   "metadata": {
    "vscode": {
     "languageId": "r"
    }
   },
   "outputs": [],
   "source": [
    "lmer_res_fabove55 = glmer(lab_fi ~ t1 + t2 + t3 + base_age + PC1 + PC2 + PC3 + PC4 + (1 + t1 |`public_client_id`), \n",
    "                 family = Gamma(link = \"log\"), \n",
    "                 data = female_above55_dat)"
   ]
  },
  {
   "cell_type": "code",
   "execution_count": null,
   "id": "476aba39-3d4e-4e9e-a19a-26047428635a",
   "metadata": {
    "vscode": {
     "languageId": "r"
    }
   },
   "outputs": [],
   "source": [
    "lmer_res_mbelow55 = glmer(lab_fi ~ t1 + t2 + t3 + base_age + PC1 + PC2 + PC3 + PC4 + (1 + t1 |`public_client_id`), \n",
    "                 family = Gamma(link = \"log\"), \n",
    "                 data = male_below55_dat)"
   ]
  },
  {
   "cell_type": "code",
   "execution_count": null,
   "id": "4e702084-1581-48ac-a692-b94afa9fd4a9",
   "metadata": {
    "vscode": {
     "languageId": "r"
    }
   },
   "outputs": [],
   "source": [
    "lmer_res_mabove55 = glmer(lab_fi ~ t1 + t2 + t3 + base_age + PC1 + PC2 + PC3 + PC4 + (1 + t1 |`public_client_id`), \n",
    "                 family = Gamma(link = \"log\"), \n",
    "                 data = male_above55_dat)"
   ]
  },
  {
   "cell_type": "code",
   "execution_count": null,
   "id": "0a6009d6-14af-4e1e-b28f-719e988344c7",
   "metadata": {
    "vscode": {
     "languageId": "r"
    }
   },
   "outputs": [],
   "source": [
    "#type_lst = c(\"Female (, 55]\", \"Female (55, )\", \"Male (, 55]\", \"Male (55, )\")\n",
    "\n",
    "female_id_forpred_below55 = female_id_forpred %>% \n",
    "                    filter(public_client_id %in% unique(female_below55_dat$'public_client_id'))\n",
    "female_id_forpred_above55 = female_id_forpred %>% \n",
    "                    filter(public_client_id %in% unique(female_above55_dat$'public_client_id'))\n",
    "\n",
    "female_below55_forpred_est = female_id_forpred_below55 %>%\n",
    "                        mutate(est = exp(predict(lmer_res_fbelow55, newdata = female_id_forpred_below55[, -7])), #exclude column 'days_since...'\n",
    "                               sex = \"F\",\n",
    "                              type = rep(\"55-\", nrow(.)))\n",
    "female_above55_forpred_est = female_id_forpred_above55 %>%\n",
    "                        mutate(est = exp(predict(lmer_res_fabove55, newdata = female_id_forpred_above55[, -7])),\n",
    "                               sex = \"F\",\n",
    "                              type = rep(\"56+\", nrow(.)))\n"
   ]
  },
  {
   "cell_type": "code",
   "execution_count": null,
   "id": "6bee6162-c9fa-4dcc-aaf3-15b792ad9c08",
   "metadata": {
    "vscode": {
     "languageId": "r"
    }
   },
   "outputs": [],
   "source": [
    "male_id_forpred_below55 = male_id_forpred %>% \n",
    "                    filter(public_client_id %in% unique(male_below55_dat$'public_client_id'))\n",
    "male_id_forpred_above55 = male_id_forpred %>% \n",
    "                    filter(public_client_id %in% unique(male_above55_dat$'public_client_id'))\n",
    "male_below55_forpred_est = male_id_forpred_below55 %>%\n",
    "                        mutate(est = exp(predict(lmer_res_mbelow55,\n",
    "                                                 newdata = male_id_forpred_below55[, -7])), #exclude column 'days_since...'\n",
    "                               sex = \"M\",\n",
    "                              type = rep(\"55-\", nrow(.)))\n",
    "male_above55_forpred_est = male_id_forpred_above55 %>%\n",
    "                        mutate(est = exp(predict(lmer_res_mabove55,\n",
    "                                                 newdata = male_id_forpred_above55[, -7])),\n",
    "                               sex = \"M\",\n",
    "                              type = rep(\"56+\", nrow(.)))\n",
    "mix_id_pred = Reduce(rbind, list(female_below55_forpred_est, \n",
    "                                 female_above55_forpred_est,\n",
    "                                 male_below55_forpred_est,\n",
    "                                 male_above55_forpred_est)) %>% as.data.frame()"
   ]
  },
  {
   "cell_type": "code",
   "execution_count": null,
   "id": "9be1dba4-71c1-4804-bea9-0d022ac179fa",
   "metadata": {
    "vscode": {
     "languageId": "r"
    }
   },
   "outputs": [],
   "source": [
    "ggplot( data = mix_id_pred,\n",
    "        aes(x = days_since_first_draw,\n",
    "           y = est)) +\n",
    "        geom_smooth(aes(group = as.factor(type),\n",
    "                       color = as.factor(type))) +\n",
    "        coord_cartesian(ylim = c(0.17,0.24)) +\n",
    "        geom_vline(xintercept = c(0:2)*halfYear, linetype = \"dotted\") +\n",
    "        facet_wrap(~ as.factor(sex)) +\n",
    "        labs(x = \"Days Since First Draw\",\n",
    "             y = \"Frailty Index (estimated mean)\",\n",
    "             color = \"\")"
   ]
  },
  {
   "cell_type": "code",
   "execution_count": null,
   "id": "b471bea6-c6ce-4e08-a4e3-129936fcefce",
   "metadata": {
    "vscode": {
     "languageId": "r"
    }
   },
   "outputs": [],
   "source": [
    "prs_res = read.table(file.path(arivaleDir,\"arivale.wgs.PLS2.prs.out\"), header = TRUE)\n",
    "id_match = read.table(file.path(arivaleDir,\"allGenomeIDs.txt\"), header = TRUE)\n",
    "dl90cs_prs = merge(id_match, prs_res, by.x = \"genome_id\", by.y = \"id\") %>%\n",
    "           dplyr::select(public_client_id, dl90_cs)\n",
    "\n",
    "mix_bl_fi_dat_prs = merge(mix_bl_fi_dat, dl90cs_prs, by = \"public_client_id\") %>% as.data.frame() %>%\n",
    "                    dplyr::select(public_client_id, sex, bl_fi, age.x, dl90_cs) %>%\n",
    "                    unique()"
   ]
  },
  {
   "cell_type": "code",
   "execution_count": null,
   "id": "1750a816-2e0a-425f-b8e8-87bde6e54238",
   "metadata": {
    "vscode": {
     "languageId": "r"
    }
   },
   "outputs": [],
   "source": [
    "# PRS distribution by sex\n",
    "prsQuartiles <- quantile(mix_bl_fi_dat_prs$dl90_cs,prob=c(1:3)/4)\n",
    "ggplot(data = mix_bl_fi_dat_prs,\n",
    "       aes(x = dl90_cs,\n",
    "           color = sex)) +\n",
    "       geom_density(linewidth = 1.5) +\n",
    "       geom_vline(xintercept = prsQuartiles, linetype = \"dotted\") +\n",
    "       geom_hline(yintercept = 0) +\n",
    "    labs(x = \"dl90_cs_PRS\",\n",
    "         y = \"Density\")"
   ]
  },
  {
   "cell_type": "code",
   "execution_count": null,
   "id": "5ecccb17-bc17-4148-9e28-fb609c28cabf",
   "metadata": {
    "vscode": {
     "languageId": "r"
    }
   },
   "outputs": [],
   "source": [
    "groupWidth <- 10\n",
    "ageGroup <- groupWidth*round(mix_bl_fi_dat_prs$age/groupWidth)\n",
    "# PRS distribution by sex\n",
    "#ggplot(data = mix_bl_fi_dat_prs,\n",
    "#      aes(x = dl90_cs,\n",
    "#         color = ageGroup)) +\n",
    "#        geom_boxplot() +\n",
    "#    labs(x = \"dl90_cs_PRS\",\n",
    "#        y = \"Density\")\n",
    "ggplot(data = mix_bl_fi_dat_prs,\n",
    "       aes(x    = as.factor(ageGroup),\n",
    "           y    = dl90_cs,\n",
    "           fill = as.factor(sex))) +\n",
    "       geom_boxplot() +\n",
    "       labs(x    = \"baseline Age\", \n",
    "            y    = \"Longevity PRS (dl90_cs_PRS)\") +\n",
    "       facet_wrap(~ as.factor(sex)) +\n",
    "       geom_hline(yintercept = 0) +\n",
    "       geom_hline(yintercept = prsQuartiles, linetype = \"dotted\") +\n",
    "       labs(fill = \"Sex\",\n",
    "            title = \"Longevity PRS, Age, and Sex\")\n"
   ]
  },
  {
   "cell_type": "code",
   "execution_count": null,
   "id": "af7ceaf0-a35c-4e52-b22d-72bbe22246d7",
   "metadata": {
    "vscode": {
     "languageId": "r"
    }
   },
   "outputs": [],
   "source": [
    "# PRS against baseline FI\n",
    "ggplot(data = mix_bl_fi_dat_prs,\n",
    "      aes(x = bl_fi,\n",
    "          y = dl90_cs,\n",
    "         color = sex)) +\n",
    "        geom_point() +\n",
    "        geom_smooth(method='lm', formula = y ~ x, se = FALSE) +\n",
    "       geom_hline(yintercept = 0) +\n",
    "       geom_hline(yintercept = prsQuartiles, linetype = \"dotted\") +\n",
    "        labs(x = \"baseline Frailty Index\")"
   ]
  },
  {
   "cell_type": "code",
   "execution_count": null,
   "id": "4119eaff-9fd4-40d9-8eb0-8d90005ea5ef",
   "metadata": {
    "vscode": {
     "languageId": "r"
    }
   },
   "outputs": [],
   "source": [
    "ggplot(data = mix_bl_fi_dat_prs,\n",
    "      aes(x = sex,\n",
    "          y = dl90_cs,\n",
    "          fill = sex)) +\n",
    "        geom_boxplot() +\n",
    "       geom_hline(yintercept = 0) +\n",
    "       geom_hline(yintercept = prsQuartiles, linetype = \"dotted\") +\n",
    "    labs(x = \"\",\n",
    "        y = \"dl90_cs_PRS\") ## use quartile cutoffs"
   ]
  },
  {
   "cell_type": "code",
   "execution_count": null,
   "id": "4ff3a439-3fc0-4fda-a492-2d5d447165b9",
   "metadata": {
    "vscode": {
     "languageId": "r"
    }
   },
   "outputs": [],
   "source": [
    "# stratification by PRS quantile and sex, including right end (0, 25]\n",
    "female_prs_quartile = merge(mix_bl_fi_dat, dl90cs_prs, by = \"public_client_id\") %>%\n",
    "                    dplyr::select(public_client_id, dl90_cs, sex) %>%\n",
    "                    filter(sex == \"F\") %>%\n",
    "                    distinct() %>%\n",
    "                    mutate(quartile = case_when(\n",
    "                        dl90_cs <= quantile(.$dl90_cs, prob = 0.25) ~ \"Q1\",\n",
    "                        dl90_cs <= quantile(.$dl90_cs, prob = 0.5) ~ \"Q2\",\n",
    "                        dl90_cs <= quantile(.$dl90_cs, prob = 0.75) ~ \"Q3\",\n",
    "                        TRUE ~ \"Q4\",\n",
    "                    )) # %>%\n",
    "                    # mutate(sex_quartile = paste0(sex, \"_\", quartile))\n",
    "\n",
    "male_prs_quartile = merge(mix_bl_fi_dat, dl90cs_prs, by = \"public_client_id\") %>%\n",
    "                    dplyr::select(public_client_id, dl90_cs, sex) %>%\n",
    "                    filter(sex == \"M\") %>%\n",
    "                    distinct() %>%\n",
    "                    mutate(quartile = case_when(\n",
    "                        dl90_cs <= quantile(.$dl90_cs, prob = 0.25) ~ \"Q1\",\n",
    "                        dl90_cs <= quantile(.$dl90_cs, prob = 0.5) ~ \"Q2\",\n",
    "                        dl90_cs <= quantile(.$dl90_cs, prob = 0.75) ~ \"Q3\",\n",
    "                        TRUE ~ \"Q4\",\n",
    "                    )) # %>%\n",
    "                    # mutate(sex_quartile = paste0(sex, \"_\", quartile))\n",
    "mix_prs_quartile = rbind(female_prs_quartile, male_prs_quartile) %>% as.data.frame() %>%\n",
    "                   dplyr::select(public_client_id, quartile, sex)\n",
    "\n",
    "mix_prs_for_est = merge(mix_id_pred, mix_prs_quartile, by = \"public_client_id\") %>% \n",
    "                  as.data.frame() \n",
    "# female, n = 804; male, n = 580"
   ]
  },
  {
   "cell_type": "raw",
   "id": "b8bde67b-8899-4a7e-b18d-f91adf76ea79",
   "metadata": {
    "vscode": {
     "languageId": "r"
    }
   },
   "source": [
    "options(jupyter.plot_scale=1,\n",
    "        width=200,\n",
    "        repr.matrix.max.cols=200,\n",
    "        repr.matrix.max.rows=Inf)\n",
    "ggplot(data = mix_prs_for_est,\n",
    "       aes(x = days_since_first_draw,\n",
    "           y = as.numeric(est))) +\n",
    "        scale_color_manual(values=c(\"Red\",\"Gold\",\"ForestGreen\",\"MediumBlue\")) +\n",
    "        geom_smooth(aes(group = as.factor(quartile),\n",
    "                        color = as.factor(quartile)),\n",
    "                    method=\"gam\") +\n",
    "        coord_cartesian(ylim = c(0.17,0.24)) +\n",
    "        facet_wrap(.~ sex, scale = \"free\") +\n",
    "        geom_vline(xintercept = c(0:2)*halfYear, linetype = \"dotted\") +\n",
    "        labs(x = \"Days Since First Draw\",\n",
    "             y = \"Frailty Index (est. mean)\",\n",
    "             color = \"PRS\") ## change to percentage change\n",
    "\n",
    "## ldl PRS from snapshot"
   ]
  },
  {
   "cell_type": "markdown",
   "id": "7adb8e83-8365-44ce-a005-094a9be7d5d3",
   "metadata": {
    "tags": []
   },
   "source": [
    "### Longitudinal association of proteins/metabolites (baseline) with lab FI"
   ]
  },
  {
   "cell_type": "code",
   "execution_count": null,
   "id": "12d2b02c-162a-469e-9e01-cf5485c35861",
   "metadata": {
    "vscode": {
     "languageId": "r"
    }
   },
   "outputs": [],
   "source": [
    "# import eigenvalue\n",
    "#prot_ev = read.csv(file.path(UsefulFiles,\"./Protein_module_eigenvalues.tsv\"), sep = \"\\t\")\n",
    "#metab_ev = read.csv(file.path(UsefulFiles,\"./Metabolite_module_eigenvalues.tsv\"), sep = \"\\t\")\n",
    "multiomics_ev = read.csv(file.path(UsefulFiles,\"Multiomic_module_eigenvalues.tsv\"), sep = \"\\t\")"
   ]
  },
  {
   "cell_type": "code",
   "execution_count": null,
   "id": "3827c00b-e263-43a2-be35-d4ccfe0ab301",
   "metadata": {
    "vscode": {
     "languageId": "r"
    }
   },
   "outputs": [],
   "source": [
    "# merge longitudinal fi with eigenvalue; scale\n",
    "selected_colnames = c(\"PC1\", \"PC2\", \"PC3\", \"PC4\", \n",
    "                      \"t1\", \"t2\", \"t3\", \"base_age\", colnames(multiomics_ev)[-1]) \n",
    "glmm_formula = \"lab_fi ~\"\n",
    "for (i in selected_colnames) {glmm_formula = paste(glmm_formula, i, \"+\")}\n",
    "glmm_formula = paste0(glmm_formula, \"(1 + t1 |`public_client_id`)\")\n",
    "mix_bl_fi_dat = rbind(female_bl_fi_dat_all, male_bl_fi_dat_all) %>% as.data.frame()\n",
    "mix_bl_fi_multi_dat = merge(mix_bl_fi_dat, multiomics_ev, by = \"public_client_id\") %>%\n",
    "                      dplyr::mutate_at(colnames(multiomics_ev)[-1], ~scale(.)[, 1])"
   ]
  },
  {
   "cell_type": "code",
   "execution_count": null,
   "id": "9a2a4eb0-d1e8-4c76-8e36-7994fffd5f48",
   "metadata": {
    "vscode": {
     "languageId": "r"
    }
   },
   "outputs": [],
   "source": [
    "id_lst = list(unique(female_below55_dat$'public_client_id'),\n",
    "           unique(female_above55_dat$'public_client_id'),\n",
    "           unique(male_below55_dat$'public_client_id'),\n",
    "           unique(male_above55_dat$'public_client_id'))\n",
    "longit_FI_multi_models = lapply(c(1:4), function(x) {\n",
    "    dat = mix_bl_fi_multi_dat %>% \n",
    "          filter(`public_client_id` %in% id_lst[[x]])\n",
    "    lmm_res = glmer(as.formula(glmm_formula), family = Gamma(link = \"log\"), \n",
    "                 data = dat, glmerControl(nAGQ0initStep = FALSE))\n",
    "    return(lmm_res)\n",
    "})"
   ]
  },
  {
   "cell_type": "code",
   "execution_count": null,
   "id": "b8247b23-e1db-4866-8bee-7af33979d6cf",
   "metadata": {
    "vscode": {
     "languageId": "r"
    }
   },
   "outputs": [],
   "source": [
    "new_time_multi = rbind(female_below55_dat) %>%\n",
    "           as.data.frame() %>%\n",
    "           dplyr::select(days_since_first_draw, t1, t2, t3) %>%\n",
    "           distinct() %>%\n",
    "           arrange(days_since_first_draw)\n",
    "\n",
    "id_included_model = lapply(longit_FI_multi_models, function(x){\n",
    "    unique(rownames(ranef(x)$public_client_id))\n",
    "})\n",
    "\n",
    "id_pred_dat = lapply(1:4, function(x) {\n",
    "    distinct = mix_bl_fi_multi_dat %>%\n",
    "               filter(public_client_id %in% id_included_model[[x]]) %>%\n",
    "               dplyr::select(public_client_id, base_age, PC1, PC2, PC3, PC4, colnames(multiomics_ev)[-1]) %>%\n",
    "                     distinct()\n",
    "    forpred = distinct %>%\n",
    "              dplyr::slice(rep(1:n(), each = nrow(new_time_multi))) %>%\n",
    "              cbind(., new_time_multi[rep(1:nrow(new_time_multi), length(id_included_model[[x]])), ]) %>%\n",
    "              as.data.frame()\n",
    "    return(forpred)\n",
    "})"
   ]
  },
  {
   "cell_type": "code",
   "execution_count": null,
   "id": "0e646e84-d4c1-4245-bda7-826b9987ace2",
   "metadata": {
    "vscode": {
     "languageId": "r"
    }
   },
   "outputs": [],
   "source": [
    "type_lst = c(\"F_below55\", \"F_above55\", \"M_below55\", \"M_above55\")\n",
    "each_dat_est = lapply(1:4, function(x) {\n",
    "    dat_est = id_pred_dat[[x]] %>%\n",
    "            mutate(est = exp(predict(longit_FI_multi_models[[x]], newdata = id_pred_dat[[x]][, -46])),\n",
    "                  type = rep(type_lst[[x]], nrow(.)))\n",
    "})\n",
    "mix_multi_est = Reduce(rbind, each_dat_est) %>% as.data.frame()\n",
    "ggplot(data = mix_multi_est,\n",
    "       aes(x = days_since_first_draw,\n",
    "           y = as.numeric(est))) +\n",
    "        geom_smooth(aes(group = as.factor(type),\n",
    "                       color = as.factor(type)),\n",
    "                    linewidth = 2) +\n",
    "        geom_vline(xintercept = c(0:2)*halfYear, linetype = \"dotted\") +\n",
    "    labs(x = \"Days Since First Draw\",\n",
    "        y = \"FI estimation\",\n",
    "        color = \"\") +\n",
    "    ggtitle(\"FI model from baseline proteomics\")"
   ]
  },
  {
   "cell_type": "code",
   "execution_count": null,
   "id": "53d0037b-d3f4-4fa1-9da2-3334ca88fab3",
   "metadata": {
    "vscode": {
     "languageId": "r"
    }
   },
   "outputs": [],
   "source": []
  }
 ],
 "metadata": {
  "kernelspec": {
   "display_name": "R",
   "language": "R",
   "name": "ir"
  },
  "language_info": {
   "codemirror_mode": "r",
   "file_extension": ".r",
   "mimetype": "text/x-r-source",
   "name": "R",
   "pygments_lexer": "r",
   "version": "4.2.1"
  }
 },
 "nbformat": 4,
 "nbformat_minor": 5
}
