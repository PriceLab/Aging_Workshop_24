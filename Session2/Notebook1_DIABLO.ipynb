{
 "cells": [
  {
   "cell_type": "markdown",
   "id": "706a52e5-e720-4e9b-97e5-7d3307da8f4f",
   "metadata": {
    "tags": []
   },
   "source": [
    "# DIABLO, Integration of multi-omics data\n",
    "\n",
    "This is an adaptation of this vignette: https://bioconductor.org/packages/release/bioc/vignettes/mixOmics/inst/doc/vignette.html\n",
    "mixOmics package tutorials here: http://mixomics.org/\n",
    "\n",
    "Data were preprocessed for participants first measurement of each omic. \n",
    "\n",
    "There is a lot of fine tuning that could be done if we want to showcase this analysis.\n"
   ]
  },
  {
   "cell_type": "code",
   "execution_count": null,
   "id": "72615d46-a65a-4023-a5f2-31b7b9212da5",
   "metadata": {},
   "outputs": [],
   "source": [
    "suppressPackageStartupMessages(library(tidyverse))\n",
    "suppressPackageStartupMessages(library(mixOmics))\n",
    "suppressPackageStartupMessages(library(plyr))\n",
    "suppressPackageStartupMessages(library(caTools))\n",
    "suppressPackageStartupMessages(library(caret))\n",
    "suppressPackageStartupMessages(library(\"BiocParallel\"))\n",
    "\n",
    "set.seed(99)"
   ]
  },
  {
   "cell_type": "code",
   "execution_count": null,
   "id": "5a25eb32-7e90-437b-8ec8-c2d998c83a0b",
   "metadata": {},
   "outputs": [],
   "source": [
    "options(jupyter.plot_scale=1,\n",
    "        width=200,\n",
    "        repr.matrix.max.cols=200,\n",
    "        repr.matrix.max.rows=Inf)"
   ]
  },
  {
   "cell_type": "code",
   "execution_count": null,
   "id": "108e4901-e30a-42b2-a7b2-5eef8563ced6",
   "metadata": {},
   "outputs": [],
   "source": [
    "# Read in baseline measures\n",
    "### NOTE DIABLO can be run with repeated measures\n",
    "platform <- \"SageMaker\"\n",
    "if (\"SageMaker\" == platform) {\n",
    "    omicsDir  <- \"/home/sagemaker-user/Aging_Workshop_24/data\"\n",
    "    frailtyDir <- \"/home/sagemaker-user/Aging_Workshop_24/data/frailty\"\n",
    "} else {\n",
    "    omicsDir <- \"../WGCNA/\"\n",
    "    frailtyDir <- \"/shared-libs/useful-files/frailty_measures_kanelab/FI_workshop_040124\"\n",
    "}\n",
    "prots <- read_delim(file.path(omicsDir,\"prot_baseline.csv\"), delim=\",\")\n",
    "mets <- read_delim(file.path(omicsDir,\"mets_baseline.csv\"), delim=\",\")\n",
    "clin <- read_delim(file.path(omicsDir,\"clinical_baseline.csv\"), delim=\",\")\n",
    "\n",
    "print(dim(mets))\n",
    "print(dim(prots))\n",
    "print(dim(clin))\n",
    "\n",
    "frailty <- read_delim(file.path(frailtyDir,\"combination_fi_040124.csv\"), delim=\",\")"
   ]
  },
  {
   "cell_type": "code",
   "execution_count": null,
   "id": "cc230630-aae5-4b8a-bd2d-bb93032b3d83",
   "metadata": {},
   "outputs": [],
   "source": [
    "# Light filtering of missing values per row/colum\n",
    "\n",
    "mets_filt <- mets[, colMeans(is.na(mets)) <= .15]\n",
    "prots_filt <- prots[, colMeans(is.na(prots)) <= .15]\n",
    "clin_filt <- clin[, colMeans(is.na(clin)) <= .15]\n",
    "print(dim(mets_filt))\n",
    "print(dim(prots_filt))\n",
    "print(dim(clin_filt))\n",
    "\n",
    "mets_filt <- mets_filt[rowMeans(is.na(mets_filt)) <= .15,]\n",
    "prots_filt <- prots_filt[rowMeans(is.na(prots_filt)) <= .15,]\n",
    "clin_filt <- clin_filt[rowMeans(is.na(clin_filt)) <= .15,]\n",
    "print(dim(mets_filt))\n",
    "print(dim(prots_filt))\n",
    "print(dim(clin_filt))\n",
    "\n",
    "\n",
    "## Diablo uses NIPALS for imputation.\n",
    "## Diablo centers and scaled data."
   ]
  },
  {
   "cell_type": "code",
   "execution_count": null,
   "id": "9684f3d4-e3cb-4925-a353-0dad81a4ac3d",
   "metadata": {},
   "outputs": [],
   "source": [
    "# Merge to get participants with all measures\n",
    "#put all data frames into list\n",
    "df_list <- list(frailty, mets_filt, prots_filt, clin_filt)\n",
    "\n",
    "#merge all data frames in list\n",
    "combined_df <- df_list %>% reduce(inner_join, by = \"public_client_id\")\n",
    "\n",
    "dim(combined_df)"
   ]
  },
  {
   "cell_type": "code",
   "execution_count": null,
   "id": "cbd9cc71-e56b-4560-8fad-778105e5e42b",
   "metadata": {},
   "outputs": [],
   "source": [
    "# Split into \"blocks\" for DIABLO\n",
    "metabolites <- combined_df[,colnames(combined_df) %in% colnames(mets_filt)]\n",
    "proteins <- combined_df[,colnames(combined_df) %in% colnames(prots_filt)]\n",
    "clinical <- combined_df[,colnames(combined_df) %in% colnames(clin_filt)]\n",
    "frailty <- combined_df[, c(\"public_client_id\", \"sex\", \"age\", \"race\", \"self_fi\", \"lab_fi\", \"merge_fi\")]\n",
    "# DIABLO can only be run with categorical variables \n",
    "# Split frailty measures into quintiles\n",
    "frailty <- frailty %>%\n",
    "  dplyr::mutate(lab_quantile = dplyr::ntile(lab_fi, 5),\n",
    "                self_quantile = dplyr::ntile(self_fi, 5),\n",
    "                merge_quantile = dplyr::ntile(merge_fi, 5))"
   ]
  },
  {
   "cell_type": "code",
   "execution_count": null,
   "id": "edb357ed-80ae-4198-9f5e-a434c861aee6",
   "metadata": {},
   "outputs": [],
   "source": [
    "round(cor(frailty$self_quantile, frailty$lab_quantile, method='s'),3)\n",
    "table(frailty$self_quantile, frailty$lab_quantile)"
   ]
  },
  {
   "cell_type": "code",
   "execution_count": null,
   "id": "68edf3fc-3bec-4894-a938-3c8d4ee616b1",
   "metadata": {},
   "outputs": [],
   "source": [
    "round(cor(frailty$merge_quantile, frailty$self_quantile, method='s'),3)\n",
    "table(frailty$merge_quantile, frailty$self_quantile)"
   ]
  },
  {
   "cell_type": "code",
   "execution_count": null,
   "id": "3fd83736-70c1-4eca-b5fc-85641da886b9",
   "metadata": {},
   "outputs": [],
   "source": [
    "round(cor(frailty$merge_quantile, frailty$lab_quantile, method='s'),3)\n",
    "table(frailty$merge_quantile, frailty$lab_quantile)"
   ]
  },
  {
   "cell_type": "code",
   "execution_count": null,
   "id": "35ab7061-ab8f-4bb0-a3ba-b3fdb37ba9fc",
   "metadata": {},
   "outputs": [],
   "source": [
    "table(frailty$sex)"
   ]
  },
  {
   "cell_type": "code",
   "execution_count": null,
   "id": "85930df8-ecd0-43dc-a2e8-5003a523e142",
   "metadata": {},
   "outputs": [],
   "source": [
    "hist(frailty$age, breaks=40)"
   ]
  },
  {
   "cell_type": "code",
   "execution_count": null,
   "id": "3f0a6052-e71b-4c0e-a304-134ffe641f61",
   "metadata": {},
   "outputs": [],
   "source": [
    "# Check rows are in the same order\n",
    "all(frailty$public_client_id == metabolites$public_client_id)\n",
    "all(frailty$public_client_id == proteins$public_client_id)\n",
    "all(frailty$public_client_id == clinical$public_client_id)"
   ]
  },
  {
   "cell_type": "markdown",
   "id": "0ce24d83-a5d6-49b9-97e7-4854f93c93b1",
   "metadata": {},
   "source": [
    "# Single 'Omics PCA analysis\n",
    "\n",
    "Using full data for the exploratory analysis. We could consider breaking into test/train to get out-of-sample predictions, but the goal here is just to take a quick look at the data so we know what to expect. These PCA plots show that self-reported Frailty Index is hard to predict on the basis of this data; achieving good performance will be difficult."
   ]
  },
  {
   "cell_type": "code",
   "execution_count": null,
   "id": "5cdb79c9-6ff6-42cc-8d41-2018239f9dc2",
   "metadata": {},
   "outputs": [],
   "source": [
    "Outcome <- as.factor(frailty$self_quantile)\n",
    "mets_mat <- as.matrix(metabolites[,2:ncol(metabolites)])\n",
    "prots_mat <- as.matrix(proteins[,2:ncol(proteins)])\n",
    "clin_mat <- as.matrix(clinical[,2:ncol(clinical)])\n"
   ]
  },
  {
   "cell_type": "code",
   "execution_count": null,
   "id": "2f67db4e-bddb-494f-bef3-4bdcd3156d5a",
   "metadata": {},
   "outputs": [],
   "source": [
    "pca.mets <- pca(mets_mat, ncomp = 2, scale = TRUE)\n",
    "\n",
    "plotIndiv(pca.mets, group = Outcome, ind.names = FALSE,\n",
    "          legend = TRUE, \n",
    "          title = 'Metabolites, PCA comp 1 - 2')"
   ]
  },
  {
   "cell_type": "code",
   "execution_count": null,
   "id": "c2e06a4d-465f-4264-8294-85235e6a4586",
   "metadata": {},
   "outputs": [],
   "source": [
    "par(mfrow=c(1,2))\n",
    "boxplot(split(pca.mets$variates$X[,'PC1'], Outcome),\n",
    "        ylab=\"PC1\",xlab=\"Frailty (Quintile)\",\n",
    "        col=c('deepskyblue2','gold2','gray80','seagreen','pink3'))\n",
    "abline(v=0,lty=2,lwd=3)\n",
    "\n",
    "boxplot(split(pca.mets$variates$X[,'PC2'], Outcome),\n",
    "        ylab=\"PC2\",xlab=\"Frailty (Quintile)\",\n",
    "        col=c('deepskyblue2','gold2','gray80','seagreen','pink3'))\n",
    "abline(h=0,lty=2,lwd=3)"
   ]
  },
  {
   "cell_type": "code",
   "execution_count": null,
   "id": "1616acec-7b5b-482c-973a-309d0b6ca59e",
   "metadata": {},
   "outputs": [],
   "source": [
    "pca.prots <- pca(prots_mat, ncomp = 2, scale = TRUE)\n",
    "\n",
    "plotIndiv(pca.prots, group = Outcome, ind.names = FALSE,\n",
    "          legend = TRUE, \n",
    "          title = 'Proteins, PCA comp 1 - 2')"
   ]
  },
  {
   "cell_type": "code",
   "execution_count": null,
   "id": "ce47181a-cf79-431e-b0e2-57a37d66021f",
   "metadata": {},
   "outputs": [],
   "source": [
    "par(mfrow=c(1,2))\n",
    "boxplot(split(pca.prots$variates$X[,'PC1'], Outcome),\n",
    "        ylab=\"PC1\",xlab=\"Frailty (Quintile)\",\n",
    "        col=c('deepskyblue2','gold2','gray80','seagreen','pink3'))\n",
    "abline(v=0,lty=2,lwd=3)\n",
    "\n",
    "boxplot(split(pca.prots$variates$X[,'PC2'], Outcome),\n",
    "        ylab=\"PC2\",xlab=\"Frailty (Quintile)\",\n",
    "        col=c('deepskyblue2','gold2','gray80','seagreen','pink3'))\n",
    "abline(h=0,lty=2,lwd=3)"
   ]
  },
  {
   "cell_type": "code",
   "execution_count": null,
   "id": "7d5aa1b5-1934-478c-b759-0d921c0a8012",
   "metadata": {},
   "outputs": [],
   "source": [
    "pca.clin <- pca(clin_mat, ncomp = 2, scale = TRUE)\n",
    "\n",
    "plotIndiv(pca.clin, group = Outcome, ind.names = FALSE,\n",
    "          legend = TRUE, \n",
    "          title = 'Clinical Tests, PCA comp 1 - 2')"
   ]
  },
  {
   "cell_type": "code",
   "execution_count": null,
   "id": "bbff3815-12eb-40ab-8a58-66fa3b0fd607",
   "metadata": {},
   "outputs": [],
   "source": [
    "par(mfrow=c(1,2))\n",
    "boxplot(split(pca.clin$variates$X[,'PC1'], Outcome),\n",
    "        ylab=\"PC1\",xlab=\"Frailty (Quintile)\",\n",
    "        col=c('deepskyblue2','gold2','gray80','seagreen','pink3'))\n",
    "abline(v=0,lty=2,lwd=3)\n",
    "\n",
    "boxplot(split(pca.clin$variates$X[,'PC2'], Outcome),\n",
    "        ylab=\"PC2\",xlab=\"Frailty (Quintile)\",\n",
    "        col=c('deepskyblue2','gold2','gray80','seagreen','pink3'))\n",
    "abline(h=0,lty=2,lwd=3)"
   ]
  },
  {
   "cell_type": "markdown",
   "id": "139774d9-1b13-4420-a6dd-11cdba82bb06",
   "metadata": {},
   "source": [
    "# Single 'Omics PLS-DA\n",
    "\n",
    "Exploratory data analysis with PCA (above) finds the axes on which the data is most spread out; it allows us to look at the spatial pattern of the data. The outcome labeling each point (quintiles of self-reported Frailty Index, shown by color and marker), however, is not used in PCA; we look at how the outcome correlates (visually) with the spatial pattern.\n",
    "\n",
    "PLS-DA is similar to PCA, except that it is explicitly trying to spread the spatial pattern of the outcome, rather than the predictive features. The outcome is used to supervise which axis is chosen first, second, etc. This is a first look at how well each of the individual 'omics datasets informs us about the outcome. When we integrate the 'omics data together, we will be looking to take advantage of any differences in what each type of data tells us about the outcome."
   ]
  },
  {
   "cell_type": "markdown",
   "id": "9464779b-ea4c-491a-8a7f-69022fbeba0b",
   "metadata": {},
   "source": [
    "## Metabolomics PLS-DA"
   ]
  },
  {
   "cell_type": "code",
   "execution_count": null,
   "id": "20ef3917-72ab-4400-8cf6-2d4a91665975",
   "metadata": {},
   "outputs": [],
   "source": [
    "plsda.met <- mixOmics::plsda(mets_mat, Outcome, ncomp = 5)\n",
    "\n",
    "perf.plsda.met  <- mixOmics::perf(plsda.met, validation = 'Mfold', folds = 3, \n",
    "                  progressBar = TRUE,  \n",
    "                  nrepeat = 10)   ### This is a low number of repeats that should be increased for a better analysis. Its slow. \n",
    "\n",
    "plot(perf.plsda.met, sd = TRUE, legend.position = 'horizontal')"
   ]
  },
  {
   "cell_type": "code",
   "execution_count": null,
   "id": "ee30f923-c8a8-4bee-a1d7-daef6ba3eaaf",
   "metadata": {},
   "outputs": [],
   "source": [
    "# Not great BER\n",
    "perf.plsda.met"
   ]
  },
  {
   "cell_type": "code",
   "execution_count": null,
   "id": "7d0b80b5-fce5-4994-a3e3-e67e03969a9a",
   "metadata": {},
   "outputs": [],
   "source": [
    "print(perf.plsda.met$error.rate.class,digits=3) "
   ]
  },
  {
   "cell_type": "code",
   "execution_count": null,
   "id": "ac5146fa-1b5c-42da-ace5-e3d8a7eab0d9",
   "metadata": {},
   "outputs": [],
   "source": [
    "plotIndiv(plsda.met, comp = c(1,2), # plot samples from final model\n",
    "          group = Outcome, ind.names = FALSE, # colour by class label\n",
    "          ellipse = TRUE, legend = TRUE, # include 95% confidence ellipse\n",
    "          title = 'Metabolite sPLS-DA, comp 1 & 2')"
   ]
  },
  {
   "cell_type": "code",
   "execution_count": null,
   "id": "de063bfb-b30a-4e6f-8bc3-85fa34f4da38",
   "metadata": {},
   "outputs": [],
   "source": [
    "plotIndiv(plsda.met, comp = c(1,3), # plot samples from final model\n",
    "          group = Outcome, ind.names = FALSE, # colour by class label\n",
    "          ellipse = TRUE, legend = TRUE, # include 95% confidence ellipse\n",
    "          title = 'Metabolite sPLS-DA, comp 1 & 3')"
   ]
  },
  {
   "cell_type": "code",
   "execution_count": null,
   "id": "cc495b3d-2545-419c-a11c-702a9162ecbf",
   "metadata": {},
   "outputs": [],
   "source": [
    "plotIndiv(plsda.met, comp = c(1,4), # plot samples from final model\n",
    "          group = Outcome, ind.names = FALSE, # colour by class label\n",
    "          ellipse = TRUE, legend = TRUE, # include 95% confidence ellipse\n",
    "          title = 'Metabolite sPLS-DA, comp 1 & 4')"
   ]
  },
  {
   "cell_type": "code",
   "execution_count": null,
   "id": "ddf0a7b1-f57a-4785-a3c8-0fe470dc49ba",
   "metadata": {},
   "outputs": [],
   "source": [
    "plotIndiv(plsda.met, comp = c(1,5), # plot samples from final model\n",
    "          group = Outcome, ind.names = FALSE, # colour by class label\n",
    "          ellipse = TRUE, legend = TRUE, # include 95% confidence ellipse\n",
    "          title = 'Metabolite sPLS-DA, comp 1 & 5')"
   ]
  },
  {
   "cell_type": "code",
   "execution_count": null,
   "id": "85887ece-86d1-43d9-be16-a8cbf1834bc1",
   "metadata": {},
   "outputs": [],
   "source": [
    "# Component 4 appears to add to the ability to separate Q4 from Q3 and Q5; the value of Component 5 is less clear\n",
    "met.auroc <- auroc(plsda.met, roc.comp = 4, print = FALSE)"
   ]
  },
  {
   "cell_type": "markdown",
   "id": "c23b7df3-1fad-4bd7-98d6-057cfe0edcfd",
   "metadata": {},
   "source": [
    "## Proteomics PLS-DA"
   ]
  },
  {
   "cell_type": "code",
   "execution_count": null,
   "id": "1c7fdb62-6032-422e-8de9-6c0f65752e86",
   "metadata": {},
   "outputs": [],
   "source": [
    "plsda.prots <- mixOmics::plsda(prots_mat, Outcome, ncomp = 5)\n",
    "\n",
    "perf.plsda.prots  <- mixOmics::perf(plsda.prots, validation = 'Mfold', folds = 3, \n",
    "                  progressBar = TRUE,  \n",
    "                  nrepeat = 10)   ### This is a low number of repeats that should be increased for a better analysis. Its slow. \n",
    "\n",
    "plot(perf.plsda.prots, sd = TRUE, legend.position = 'horizontal')"
   ]
  },
  {
   "cell_type": "markdown",
   "id": "15e200ab-6a24-4121-a363-edf171eb523d",
   "metadata": {},
   "source": [
    "###  Exercise\n",
    "\n",
    "Evaluate the relationship of the proteomics data to self-reported frailty index as we did for the metabolomics data above."
   ]
  },
  {
   "cell_type": "code",
   "execution_count": null,
   "id": "77d3c438-eedb-4349-8a79-184017cfc8d9",
   "metadata": {},
   "outputs": [],
   "source": [
    "plotIndiv(plsda.prots, comp = c(1,2), # plot samples from final model\n",
    "          group = Outcome, ind.names = FALSE, # colour by class label\n",
    "          ellipse = TRUE, legend = TRUE, # include 95% confidence ellipse\n",
    "          title = 'Protein sPLS-DA, comp 1 & 2')"
   ]
  },
  {
   "cell_type": "code",
   "execution_count": null,
   "id": "0c345611-b62c-44e7-9eb4-82e0ceb716f2",
   "metadata": {},
   "outputs": [],
   "source": [
    "plotIndiv(plsda.prots, comp = c(1,3), # plot samples from final model\n",
    "          group = Outcome, ind.names = FALSE, # colour by class label\n",
    "          ellipse = TRUE, legend = TRUE, # include 95% confidence ellipse\n",
    "          title = 'Protein sPLS-DA, comp 1 & 3')"
   ]
  },
  {
   "cell_type": "code",
   "execution_count": null,
   "id": "810c8292-8acf-4ff5-b110-2297da898505",
   "metadata": {},
   "outputs": [],
   "source": [
    "plotIndiv(plsda.prots, comp = c(1,4), # plot samples from final model\n",
    "          group = Outcome, ind.names = FALSE, # colour by class label\n",
    "          ellipse = TRUE, legend = TRUE, # include 95% confidence ellipse\n",
    "          title = 'Protein sPLS-DA, comp 1 & 4')"
   ]
  },
  {
   "cell_type": "code",
   "execution_count": null,
   "id": "db07016c-b451-4154-8783-bbf42b44954b",
   "metadata": {},
   "outputs": [],
   "source": [
    "plotIndiv(plsda.prots, comp = c(1,5), # plot samples from final model\n",
    "          group = Outcome, ind.names = FALSE, # colour by class label\n",
    "          ellipse = TRUE, legend = TRUE, # include 95% confidence ellipse\n",
    "          title = 'Protein sPLS-DA, comp 1 & 5')"
   ]
  },
  {
   "cell_type": "code",
   "execution_count": null,
   "id": "b241ddc7-a25e-46a9-83d7-cfb5952066d0",
   "metadata": {},
   "outputs": [],
   "source": [
    "prots.auroc <- auroc(plsda.prots, roc.comp = 2, print = FALSE)"
   ]
  },
  {
   "cell_type": "markdown",
   "id": "bb46db17-5845-4001-a324-4c6ebb39280a",
   "metadata": {},
   "source": [
    "### End of exercise"
   ]
  },
  {
   "cell_type": "markdown",
   "id": "7a807737-510a-4df3-b95c-016b9461a08c",
   "metadata": {},
   "source": [
    "## Clinical Tests PLS-DA"
   ]
  },
  {
   "cell_type": "code",
   "execution_count": null,
   "id": "c1c35370-1345-4b90-9619-2120336e8059",
   "metadata": {},
   "outputs": [],
   "source": [
    "plsda.clin <- mixOmics::plsda(clin_mat, Outcome, ncomp = 5)\n",
    "\n",
    "perf.plsda.clin  <- mixOmics::perf(plsda.clin, validation = 'Mfold', folds = 3, \n",
    "                  progressBar = TRUE,  \n",
    "                  nrepeat = 10)   ### This is a low number of repeats that should be increased for a better analysis. Its slow. \n",
    "\n",
    "plot(perf.plsda.clin, sd = TRUE, legend.position = 'horizontal')"
   ]
  },
  {
   "cell_type": "markdown",
   "id": "9c28f712-7a5d-4d89-ae10-a6d52504606e",
   "metadata": {},
   "source": [
    "###  Exercise\n",
    "\n",
    "Evaluate the relationship of the clinical test data to self-reported frailty index as we did for the metabolomics data above."
   ]
  },
  {
   "cell_type": "code",
   "execution_count": null,
   "id": "f1116dce-efe8-4f58-92ba-d136a9dbcc3c",
   "metadata": {},
   "outputs": [],
   "source": [
    "plotIndiv(plsda.clin, comp = c(1,2), # plot samples from final model\n",
    "          group = Outcome, ind.names = FALSE, # colour by class label\n",
    "          ellipse = TRUE, legend = TRUE, # include 95% confidence ellipse\n",
    "          title = 'Clinical sPLS-DA, comp 1 & 2')"
   ]
  },
  {
   "cell_type": "code",
   "execution_count": null,
   "id": "257de4f4-ac7c-4c05-acbf-2b3f6d332a72",
   "metadata": {},
   "outputs": [],
   "source": [
    "plotIndiv(plsda.clin, comp = c(1,3), # plot samples from final model\n",
    "          group = Outcome, ind.names = FALSE, # colour by class label\n",
    "          ellipse = TRUE, legend = TRUE, # include 95% confidence ellipse\n",
    "          title = 'Clinical sPLS-DA, comp 1 & 3')"
   ]
  },
  {
   "cell_type": "code",
   "execution_count": null,
   "id": "3a80f46d-4e74-4027-b5cf-39c69f8f3539",
   "metadata": {},
   "outputs": [],
   "source": [
    "plotIndiv(plsda.clin, comp = c(1,4), # plot samples from final model\n",
    "          group = Outcome, ind.names = FALSE, # colour by class label\n",
    "          ellipse = TRUE, legend = TRUE, # include 95% confidence ellipse\n",
    "          title = 'Clinical sPLS-DA, comp 1 & 4')"
   ]
  },
  {
   "cell_type": "code",
   "execution_count": null,
   "id": "30c264e6-30fe-422f-9bb4-cb24bc462a2b",
   "metadata": {},
   "outputs": [],
   "source": [
    "plotIndiv(plsda.clin, comp = c(1,5), # plot samples from final model\n",
    "          group = Outcome, ind.names = FALSE, # colour by class label\n",
    "          ellipse = TRUE, legend = TRUE, # include 95% confidence ellipse\n",
    "          title = 'Clinical sPLS-DA, comp 1 & 5')"
   ]
  },
  {
   "cell_type": "code",
   "execution_count": null,
   "id": "6f6da537-19f2-4418-a5c3-8daf22e08526",
   "metadata": {},
   "outputs": [],
   "source": [
    "clin.auroc <- auroc(plsda.clin, roc.comp = 4, print = FALSE)"
   ]
  },
  {
   "cell_type": "markdown",
   "id": "99e0fee8-8915-434e-941d-5053533bc969",
   "metadata": {},
   "source": [
    "### End of exercise"
   ]
  },
  {
   "cell_type": "code",
   "execution_count": null,
   "id": "24816ea1-810a-4c5c-97ed-1f1db3a8444a",
   "metadata": {},
   "outputs": [],
   "source": [
    "# Summary of the ability of each 'omic type to classify each quintile of Self-Reported Frailty Index\n",
    "auroc.table <- cbind(\n",
    "    met.auroc[['Comp4']][,'AUC'],\n",
    "    prots.auroc[['Comp2']][,'AUC'],\n",
    "    clin.auroc[['Comp3']][,'AUC'])\n",
    "dimnames(auroc.table) <- list(SelfFI = c('Q1','Q2','Q3','Q4','Q5'),\n",
    "             Block = c(\"Metabolites\",\"Proteins\",\"Clinical\"))\n",
    "cat(noquote(\"Area Under ROC, predicting each quintile\\n\"))\n",
    "print(auroc.table)"
   ]
  },
  {
   "cell_type": "markdown",
   "id": "4001f102-afc1-4178-bae1-56f7f162e269",
   "metadata": {},
   "source": [
    "# Full-strength DIABLO: Multiblock sPLS-DA"
   ]
  },
  {
   "cell_type": "code",
   "execution_count": null,
   "id": "30485558-dc4f-4992-b68d-e33523ffd497",
   "metadata": {},
   "outputs": [],
   "source": [
    "X <- list(metabolite = mets_mat, \n",
    "          protein = prots_mat, \n",
    "          clinical = clin_mat)"
   ]
  },
  {
   "cell_type": "code",
   "execution_count": null,
   "id": "8fafb557-c9ed-460f-9a08-d4c687ee5b0f",
   "metadata": {},
   "outputs": [],
   "source": [
    "# Initial design with correlatin of .10\n",
    "design <- matrix(0.1, ncol = length(X), nrow = length(X), \n",
    "                dimnames = list(names(X), names(X)))\n",
    "diag(design) <- 0\n",
    "design "
   ]
  },
  {
   "cell_type": "code",
   "execution_count": null,
   "id": "cba3b7a0-39d6-4c62-806c-e76aec7566bf",
   "metadata": {},
   "outputs": [],
   "source": [
    "# For reference this is a highly correlated data set\n",
    "# Requiring lower correlation in the design leads to higher prediction\n",
    "res1.pls <- pls(mets_mat, prots_mat, ncomp = 1)\n",
    "cat(noquote(paste(\"cor(PLS.Metabolomics, PLS.Proteomics) =\",round(cor(res1.pls$variates$X, res1.pls$variates$Y)[1,1], 3),\"\\n\")))\n",
    "\n",
    "res2.pls <- pls(mets_mat, clin_mat, ncomp = 1)\n",
    "cat(noquote(paste(\"cor(PLS.Metabolomics, PLS.Clinical)   =\",round(cor(res2.pls$variates$X, res2.pls$variates$Y)[1,1], 3),\"\\n\")))\n",
    "\n",
    "res3.pls<- pls(prots_mat, clin_mat, ncomp = 1)\n",
    "cat(noquote(paste(\"cor(PLS.Proteomics,   PLS.Clinical)   =\",round(cor(res3.pls$variates$X, res3.pls$variates$Y)[1,1],3),\"\\n\")))"
   ]
  },
  {
   "cell_type": "code",
   "execution_count": null,
   "id": "9dc47152-f46b-4b9d-a1a5-4766281b1929",
   "metadata": {},
   "outputs": [],
   "source": [
    "# This takes a 20 min to run!\n",
    "diablo.selfFI <- block.plsda(X, Outcome, ncomp = 5, design = design)\n",
    "\n",
    "perf.diablo.selfFI = mixOmics::perf(diablo.selfFI, validation = 'Mfold', \n",
    "                                     progressBar = TRUE,\n",
    "                                     folds = 10, nrepeat = 10)\n",
    "\n",
    "# Plot of the error rates based on weighted vote\n",
    "plot(perf.diablo.selfFI)"
   ]
  },
  {
   "cell_type": "code",
   "execution_count": null,
   "id": "e33fd824-0c48-48af-8283-c1f847899ab5",
   "metadata": {},
   "outputs": [],
   "source": [
    "perf.diablo.selfFI$choice.ncomp$WeightedVote"
   ]
  },
  {
   "cell_type": "code",
   "execution_count": null,
   "id": "6b48c391-e897-48c5-9714-8eb280f00226",
   "metadata": {},
   "outputs": [],
   "source": [
    "# ncomp <- perf.diablo.selfFI$choice.ncomp$WeightedVote[\"Overall.BER\", \"centroids.dist\"]\n",
    "ncomp <- 4"
   ]
  },
  {
   "cell_type": "code",
   "execution_count": null,
   "id": "5fbd1b5a-2e88-473a-a31c-5c169911fef9",
   "metadata": {},
   "outputs": [],
   "source": [
    "## Tuning the sparsity of the components"
   ]
  },
  {
   "cell_type": "code",
   "execution_count": null,
   "id": "fb36b8cf-38ce-4f6e-ae7b-590dddbaa3e0",
   "metadata": {},
   "outputs": [],
   "source": [
    "# Variable tuning - the number of features to include in each component\n",
    "# Set the search grid with value of 5 and reduce later\n",
    "\n",
    "startTime <- Sys.time() \n",
    "test.keepX <- list(metabolite = c(seq(3, 12, 3)),\n",
    "                   protein = c(seq(3, 12, 3)),\n",
    "                   clinical = c(seq(3, 9, 5)))\n",
    "\n",
    "tune.diablo.selfFI <- tune.block.splsda(X, Outcome, ncomp = 2, \n",
    "                              test.keepX = test.keepX, design = design,\n",
    "                              validation = 'Mfold', folds = 10, nrepeat = 1, ### Should update nrepeats with a final model\n",
    "                              BPPARAM = BiocParallel::SnowParam(workers = 16),\n",
    "                              dist = \"centroids.dist\")\n",
    "\n",
    "list.keepX <- tune.diablo.selfFI$choice.keepX\n",
    "\n",
    "endTime <- Sys.time() \n",
    "print(endTime - startTime)"
   ]
  },
  {
   "cell_type": "code",
   "execution_count": null,
   "id": "75f18232-61d2-44fe-ae38-c507c3d0734c",
   "metadata": {},
   "outputs": [],
   "source": [
    "print(list.keepX)"
   ]
  },
  {
   "cell_type": "markdown",
   "id": "3b95a1e4-bf49-4f75-b689-db4177a97475",
   "metadata": {},
   "source": [
    "### Final model"
   ]
  },
  {
   "cell_type": "code",
   "execution_count": null,
   "id": "0d0a4d8d-c9a8-4927-9358-5ef26daaea98",
   "metadata": {},
   "outputs": [],
   "source": [
    "diablo.selfFI.final <- block.splsda(X, Outcome, ncomp = ncomp, \n",
    "                            keepX = list.keepX, design = design)"
   ]
  },
  {
   "cell_type": "code",
   "execution_count": null,
   "id": "986e4c8f-4125-4039-98af-0c0f8b3ee130",
   "metadata": {},
   "outputs": [],
   "source": [
    "plotIndiv(diablo.selfFI.final, comp = c(1,2), # plot samples from final model\n",
    "          group = Outcome, ind.names = FALSE, \n",
    "          ellipse = TRUE, legend = TRUE, \n",
    "          title = 'Multiomic sPLS-DA, comp 1 & 2')"
   ]
  },
  {
   "cell_type": "code",
   "execution_count": null,
   "id": "a7f75cdc-7272-41be-9b95-f450fb30d74d",
   "metadata": {},
   "outputs": [],
   "source": [
    "plotIndiv(diablo.selfFI.final, comp = c(1,3), # plot samples from final model\n",
    "          group = Outcome, ind.names = FALSE, \n",
    "          ellipse = TRUE, legend = TRUE, \n",
    "          title = 'Multiomic sPLS-DA, comp 1 & 3')"
   ]
  },
  {
   "cell_type": "code",
   "execution_count": null,
   "id": "7ddab9be-e358-4d2e-a735-aeb1681ab217",
   "metadata": {},
   "outputs": [],
   "source": [
    "plotIndiv(diablo.selfFI.final, comp = c(1,4), # plot samples from final model\n",
    "          group = Outcome, ind.names = FALSE, \n",
    "          ellipse = TRUE, legend = TRUE, \n",
    "          title = 'Multiomic sPLS-DA, comp 1 & 4')"
   ]
  },
  {
   "cell_type": "code",
   "execution_count": null,
   "id": "f99519de-daed-48b8-bea1-58ff1f06d91d",
   "metadata": {},
   "outputs": [],
   "source": [
    "auc.diablo.prots <- auroc(diablo.selfFI.final, roc.block = \"protein\", roc.comp = 4, print = FALSE)"
   ]
  },
  {
   "cell_type": "code",
   "execution_count": null,
   "id": "de74ccb8-ad07-4499-a719-14aa2e91db50",
   "metadata": {},
   "outputs": [],
   "source": [
    "auc.diablo.met <- auroc(diablo.selfFI.final, roc.block = \"metabolite\", roc.comp = 4, print = FALSE)"
   ]
  },
  {
   "cell_type": "code",
   "execution_count": null,
   "id": "bdd2d1c4-d75d-4d2a-88b0-2ddf2e86d95a",
   "metadata": {},
   "outputs": [],
   "source": [
    "auc.diablo.clin <- auroc(diablo.selfFI.final, roc.block = \"clinical\", roc.comp = 4, print = FALSE)"
   ]
  },
  {
   "cell_type": "code",
   "execution_count": null,
   "id": "f10518ad-b34f-4a25-b77c-f965ae46ea76",
   "metadata": {},
   "outputs": [],
   "source": [
    "plotDiablo(diablo.selfFI.final, ncomp = 1)"
   ]
  },
  {
   "cell_type": "code",
   "execution_count": null,
   "id": "ca0cd11e-4183-4f9d-8cc1-ebcc28937236",
   "metadata": {},
   "outputs": [],
   "source": [
    "plotDiablo(diablo.selfFI.final, ncomp = 2)"
   ]
  },
  {
   "cell_type": "code",
   "execution_count": null,
   "id": "48ca99bc-cf76-4405-9ca3-5730a84119a9",
   "metadata": {},
   "outputs": [],
   "source": [
    "plotDiablo(diablo.selfFI.final, ncomp = 3)"
   ]
  },
  {
   "cell_type": "code",
   "execution_count": null,
   "id": "f6b4e9ed-6f9b-4545-b387-3338ae754c1d",
   "metadata": {},
   "outputs": [],
   "source": [
    "plotDiablo(diablo.selfFI.final, ncomp = 4)"
   ]
  },
  {
   "cell_type": "code",
   "execution_count": null,
   "id": "98ff9c54-9bee-4bf0-a7ba-58611bd6b315",
   "metadata": {},
   "outputs": [],
   "source": [
    "plotVar(diablo.selfFI.final, var.names = FALSE, style = 'graphics', legend = TRUE, \n",
    "        pch = c(16, 17, 15), cex = c(2,2,2),  comp=c(1,2),\n",
    "        col = c('darkorchid', 'brown1', 'lightgreen'),\n",
    "        title = 'Self-reported Frailty Index, DIABLO comp 1 - 2')"
   ]
  },
  {
   "cell_type": "code",
   "execution_count": null,
   "id": "e87a74dc-6a92-4cbd-ae35-e1c5d2ab2d37",
   "metadata": {},
   "outputs": [],
   "source": [
    "plotVar(diablo.selfFI.final, var.names = FALSE, style = 'graphics', legend = TRUE, \n",
    "        pch = c(16, 17, 15), cex = c(2,2,2), comp=c(3,4),\n",
    "        col = c('darkorchid', 'brown1', 'lightgreen'),\n",
    "        title = 'Self-reported Frailty Index, DIABLO comp 3 - 4')"
   ]
  },
  {
   "cell_type": "code",
   "execution_count": null,
   "id": "60018ea1-a61e-48a4-86c8-a7005189f077",
   "metadata": {},
   "outputs": [],
   "source": [
    "norm <- function(v) { sqrt(sum(v*v)) }\n",
    "threshold <- 0.25\n",
    "for (omic in names(diablo.selfFI.final$loadings)[1:3]) {\n",
    "    r <- unlist(apply(diablo.selfFI.final$loadings[[omic]], 1, norm))\n",
    "    print(diablo.selfFI.final$loadings[[omic]][r > threshold,],digits=3)\n",
    "    cat(noquote(\"\\n\"))\n",
    "}"
   ]
  },
  {
   "cell_type": "code",
   "execution_count": null,
   "id": "467cbda0-d570-4bdb-b338-6a8ab1d50085",
   "metadata": {},
   "outputs": [],
   "source": [
    "cimDiablo(diablo.selfFI.final, color.blocks = c('darkorchid', 'brown1', 'lightgreen'),\n",
    "          comp = 1, margin=c(8,20), legend.position = \"right\")"
   ]
  },
  {
   "cell_type": "code",
   "execution_count": null,
   "id": "8d26382a-154e-4672-9e9e-ae2a995c437d",
   "metadata": {},
   "outputs": [],
   "source": [
    "perf.diablo.selfFI.final <- perf(diablo.selfFI.final,  validation = 'Mfold', folds = 10, \n",
    "                         nrepeat = 10, dist = 'centroids.dist')"
   ]
  }
 ],
 "metadata": {
  "kernelspec": {
   "display_name": "R",
   "language": "R",
   "name": "ir"
  },
  "language_info": {
   "codemirror_mode": "r",
   "file_extension": ".r",
   "mimetype": "text/x-r-source",
   "name": "R",
   "pygments_lexer": "r",
   "version": "4.2.1"
  }
 },
 "nbformat": 4,
 "nbformat_minor": 5
}
